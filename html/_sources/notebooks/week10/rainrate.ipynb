{
 "cells": [
  {
   "cell_type": "markdown",
   "id": "1ed87109",
   "metadata": {
    "user_expressions": []
   },
   "source": [
    "(week10:radar_micro)=\n",
    "# Cloudsat: liquid and ice precipitation and rain rate\n",
    "\n",
    "It's useful to be able to combine multiple datasets into a single netcdf file to build a case study that makes it easy to track a data analysis.  In this notebook we'll do this for the Texas storm we've been looking at.\n",
    "Below we combine the temperature perturbatio and reflectivity dataset from {ref}`week10:temperature_perturb` with\n",
    "new radar cloud variables (surface rain rate and ice and liquid water concentrations) taken from the 2C-RAIN-PROFILE hdffile. \n",
    "\n",
    "New concepts: \n",
    "\n",
    "1) clipping all data arrays in a dataset to the same time slice using [xarray.isel](https://docs.xarray.dev/en/stable/generated/xarray.Dataset.isel.html)\n",
    "\n",
    "2) dealing with coordinate differences when combining different datasets"
   ]
  },
  {
   "cell_type": "code",
   "execution_count": null,
   "id": "e68266b2",
   "metadata": {},
   "outputs": [],
   "source": [
    "import numpy as np\n",
    "import datetime as dt\n",
    "from datetime import timezone as tz\n",
    "from matplotlib import pyplot as plt\n",
    "import a301_lib\n",
    "from sat_lib.cloudsat import read_cloudsat_var\n",
    "import seaborn as sns\n",
    "import xarray as xr\n",
    "from sat_lib.cloudsat import add_storm_distance"
   ]
  },
  {
   "cell_type": "markdown",
   "id": "9a7f724f",
   "metadata": {
    "user_expressions": []
   },
   "source": [
    "## Read in the dataArrays"
   ]
  },
  {
   "cell_type": "markdown",
   "id": "9a30866b",
   "metadata": {
    "user_expressions": []
   },
   "source": [
    "### Read in the storm we saved in week9\n",
    "\n",
    "I've added an output cell at the bottom of  {ref}`week10:temperature_perturb` to produce the `week10_wind_temps.nc` file.  You'll need to \n",
    "rerun that notebook so we can read in the temperature perturbation data from Monday."
   ]
  },
  {
   "cell_type": "code",
   "execution_count": null,
   "id": "a198b697",
   "metadata": {},
   "outputs": [],
   "source": [
    "#\n",
    "# we'll need  the storm reflectivities and temperatures we created the `temp_perturbation` notebook\n",
    "#\n",
    "infile_zvals = a301_lib.data_share / \"pha/cloudsat/storm_zvals.nc\"\n",
    "storm_zvals = xr.open_dataset(infile_zvals)\n",
    "infile_temp = a301_lib.data_share / \"pha/cloudsat/week10_wind_temps.nc\"\n",
    "temp_ds = xr.open_dataset(infile_temp)"
   ]
  },
  {
   "cell_type": "markdown",
   "id": "37700cfb",
   "metadata": {
    "user_expressions": []
   },
   "source": [
    "### Read in the radar rain rate, precipitation ice and liquid water content and the cloud liquid water\n",
    "\n",
    "Since reflectivity goes as $D^6$, cloudsast gets a much stronger signal from 1000 micron rain drops than\n",
    "10 micron cloud drops."
   ]
  },
  {
   "cell_type": "code",
   "execution_count": null,
   "id": "f0671ed9",
   "metadata": {},
   "outputs": [],
   "source": [
    "radar_dir = a301_lib.data_share / \"pha/cloudsat\"\n",
    "rain_file = list(radar_dir.glob(\"20080820*RAIN*hdf\"))[0].resolve()\n",
    "print(f\"{rain_file=}\")\n",
    "rain_ds = read_cloudsat_var('rain_rate',rain_file)\n",
    "liquid_ds = read_cloudsat_var('precip_liquid_water',rain_file)\n",
    "ice_ds = read_cloudsat_var('precip_ice_water',rain_file)\n",
    "cloud_ds = read_cloudsat_var('cloud_liquid_water',rain_file)\n",
    "#\n",
    "# we'll need  the storm reflectivities and temperatures we created the `temp_perturbation` notebook\n",
    "#\n",
    "infile_zvals = a301_lib.data_share / \"pha/cloudsat/storm_zvals.nc\"\n",
    "storm_zvals = xr.open_dataset(infile_zvals)\n",
    "infile_temp = a301_lib.data_share / \"pha/cloudsat/week10_wind_temps.nc\"\n",
    "temp_ds = xr.open_dataset(infile_temp)"
   ]
  },
  {
   "cell_type": "code",
   "execution_count": null,
   "id": "185459a6",
   "metadata": {},
   "outputs": [],
   "source": [
    "cloud_ds"
   ]
  },
  {
   "cell_type": "markdown",
   "id": "d76655e4",
   "metadata": {
    "user_expressions": []
   },
   "source": [
    "## add the new RΑΙΝ cloud variables to the rain_ds rainrate dataset\n",
    "\n",
    "Since all the variables from the 2C-RAIN file are on the same time and height axes, we can merge them together with\n",
    "a simple copy"
   ]
  },
  {
   "cell_type": "code",
   "execution_count": null,
   "id": "af218ce5",
   "metadata": {},
   "outputs": [],
   "source": [
    "rain_ds['precip_liquid_water'] = liquid_ds['precip_liquid_water']\n",
    "rain_ds['precip_ice_water'] = ice_ds['precip_ice_water']\n",
    "rain_ds['cloud_liquid_water'] = cloud_ds['cloud_liquid_water']\n",
    "rain_ds"
   ]
  },
  {
   "cell_type": "markdown",
   "id": "e5254e3a",
   "metadata": {
    "user_expressions": []
   },
   "source": [
    "## Clip to the storm times using an xarray indexer\n",
    "\n",
    "The [xarray.sel](https://docs.xarray.dev/en/stable/generated/xarray.DataArray.sel.html) gives a 1-step way\n",
    "to clip every dataArray in a dataset.  First decall how we clipped to the storm start and end using indexing in the {ref}`week9:cloudsat_ecmwf` notebook:\n",
    "\n",
    "\n",
    "```python\n",
    "#\n",
    "# find the storm times\n",
    "#\n",
    "time_hit = np.logical_and(orbit_times > storm_start,orbit_times < storm_stop)\n",
    "#\n",
    "# use it to clip the data\n",
    "# \n",
    "storm_lats = radar_ds['latitude'][time_hit]\n",
    "storm_lons=radar_ds['longitude'][time_hit]\n",
    "storm_prof_times=radar_ds.coords['profile_time'][time_hit]\n",
    "storm_zvals=radar_ds['Radar_Reflectivity'][time_hit,:]\n",
    "distance_km = radar_ds['distance_km'][time_hit]\n",
    "storm_date_times=orbit_times[time_hit]\n",
    "```\n",
    "\n",
    "That's a lot of repetitive work to subset the data.  Below we write a couple of helper functions\n",
    "to automate this using tthe [xarray.sel](https://docs.xarray.dev/en/stable/generated/xarray.DataArray.sel.html) method."
   ]
  },
  {
   "cell_type": "markdown",
   "id": "8aaafb6e",
   "metadata": {
    "user_expressions": []
   },
   "source": [
    "We can do this in three steps\n",
    "\n",
    "1) Get the start and end times from the `storm_zvals` dataset that's already been clipped, and  get the full orbit\n",
    "   times from the rain_ds dataset\n",
    "\n",
    "2) construct a logical vector which is true during the storm, and false otherwise\n",
    "\n",
    "3) slice the storm using the logical vector and the [xarray.isel](https://docs.xarray.dev/en/stable/generated/xarray.Dataset.isel.html)\n",
    "\n",
    "This will slice every varible in the dataset that has a time dimension.  The resulting arrays will all have 1125 time values for their\n",
    "first coordinate"
   ]
  },
  {
   "cell_type": "code",
   "execution_count": null,
   "id": "44ce85fe",
   "metadata": {},
   "outputs": [],
   "source": [
    "#\n",
    "# start and end times for the storm \n",
    "#\n",
    "start_time = storm_zvals.time[0]\n",
    "end_time = storm_zvals.time[-1]\n",
    "#\n",
    "#  all orbit times from rain_ds\n",
    "#\n",
    "all_times = rain_ds.time\n",
    "#\n",
    "# create  the new dataset storm_slice using the isel methond\n",
    "#\n",
    "time_hit = np.logical_and(all_times >= start_time, all_times <= end_time)\n",
    "storm_slice = rain_ds.isel(indexers = {'time':time_hit})\n",
    "storm_slice"
   ]
  },
  {
   "cell_type": "markdown",
   "id": "388b5472",
   "metadata": {
    "user_expressions": []
   },
   "source": [
    "## Problem: make the two height dimensions agree\n",
    "\n",
    "We want to add the radar reflectivity and temperature to the `storm_slice` dataset, but there's a problem,\n",
    "the heights differ by about 18-20 meters at each level.  It's not clear why the level 2C (RAIN)\n",
    "and 2B (GEOPROF) files have this difference (perhaps the difference between bin centers and bin edges), \n",
    "In the same way, the heights, taken from `temp_ds` differ from `rain_ds` by about -19 meters.\n",
    "It's not crucial to the analysis, so we'll \n",
    "just overwrite the storm_zvals height dimension to force them to be equal.  If the difference was important,\n",
    "I'd either have to interpolate the arrays onto a common grid, or maintain two separate height dimensions, at\n",
    "the cost of not being able to subtract/add the arrays."
   ]
  },
  {
   "cell_type": "markdown",
   "id": "8affd577",
   "metadata": {
    "user_expressions": []
   },
   "source": [
    "### The two radar field heights differ from each other by about 18 meters"
   ]
  },
  {
   "cell_type": "code",
   "execution_count": null,
   "id": "6a7b0a32",
   "metadata": {},
   "outputs": [],
   "source": [
    "#\n",
    "# heights differ by 18 meters\n",
    "#\n",
    "np.array(storm_slice.height) - np.array(storm_zvals.height)"
   ]
  },
  {
   "cell_type": "markdown",
   "id": "474bd50f",
   "metadata": {
    "user_expressions": []
   },
   "source": [
    "### The model heights differ from the radar by about 19 meters"
   ]
  },
  {
   "cell_type": "code",
   "execution_count": null,
   "id": "ce379788",
   "metadata": {},
   "outputs": [],
   "source": [
    "np.array(rain_ds.height) - np.array(temp_ds.height)"
   ]
  },
  {
   "cell_type": "markdown",
   "id": "01aab73a",
   "metadata": {
    "user_expressions": []
   },
   "source": [
    "## Question -- In the cell below plot a slice along the time axis ([:,100]) for rain_ds.full_heights at height index 100\n",
    "\n",
    "How much variation in there in the radar height from timestep to timestep?"
   ]
  },
  {
   "cell_type": "markdown",
   "id": "7cbea819",
   "metadata": {
    "user_expressions": []
   },
   "source": [
    "### Brute force solution -- give every dataset the same height vector\n",
    "\n",
    "Again, since 20 meters isn't much of a difference, force agreement by overwriting the coordinate"
   ]
  },
  {
   "cell_type": "code",
   "execution_count": null,
   "id": "2e8c1172",
   "metadata": {},
   "outputs": [],
   "source": [
    "#\n",
    "# overwrite storm_zvals heights with the ones from storm_slice\n",
    "#\n",
    "storm_zvals = storm_zvals.assign_coords(coords={'height':('height',storm_slice.height.data)})\n",
    "temp_ds = temp_ds.assign_coords(coords={'height':('height',storm_slice.height.data)})"
   ]
  },
  {
   "cell_type": "code",
   "execution_count": null,
   "id": "4543c9b5",
   "metadata": {},
   "outputs": [],
   "source": [
    "#\n",
    "# fixed\n",
    "#\n",
    "np.array(storm_slice.height) - np.array(storm_zvals.height)"
   ]
  },
  {
   "cell_type": "markdown",
   "id": "c15b7086",
   "metadata": {
    "user_expressions": []
   },
   "source": [
    "Now that they have the same coordinates, we can add the radar reflectivity and temperature perturbation to the storm_slice dataset"
   ]
  },
  {
   "cell_type": "code",
   "execution_count": null,
   "id": "b73d9a7d",
   "metadata": {},
   "outputs": [],
   "source": [
    "#\n",
    "# add the Radar_Reflectivity to the slice\n",
    "# \n",
    "storm_slice['Radar_Reflectivity'] = storm_zvals['Radar_Reflectivity']\n",
    "storm_slice['Temperature'] = temp_ds['Temperature']\n",
    "storm_slice"
   ]
  },
  {
   "cell_type": "markdown",
   "id": "d4d888c2",
   "metadata": {
    "user_expressions": []
   },
   "source": [
    "### add the storm distance coordinate\n",
    "\n",
    "As in {ref}`week10:temperature_perturb` we want to plot along storm distance, so add that coordinate to `storm_slice`"
   ]
  },
  {
   "cell_type": "code",
   "execution_count": null,
   "id": "a6f2a51d",
   "metadata": {},
   "outputs": [],
   "source": [
    "storm_slice = add_storm_distance(storm_slice)\n",
    "temp_ds = add_storm_distance(temp_ds)\n",
    "storm_slice.storm_distance"
   ]
  },
  {
   "cell_type": "markdown",
   "id": "ce8f98dd",
   "metadata": {
    "user_expressions": []
   },
   "source": [
    "## Make some plots\n",
    "\n",
    "Now that we have all the data in one place, see how the various radar fields compare with the model temperatures\n",
    "\n",
    "### Radar Reflectivity\n",
    "\n",
    "Replot the reflectivity to get the storm structure.  We use a palette that shows the difference between missing data (red) and very low values (blue).\n",
    "We'll be looking below to see whether what the structure of the precipitation is inside the storm.\n",
    "\n",
    "Make a convenience function to return the colormap with normalization"
   ]
  },
  {
   "cell_type": "code",
   "execution_count": null,
   "id": "ae5d8a5f",
   "metadata": {},
   "outputs": [],
   "source": [
    "import copy\n",
    "from matplotlib import cm\n",
    "from matplotlib.colors import Normalize\n",
    "def make_cmap(vmin, vmax, cmap = cm.viridis):\n",
    "    the_norm=Normalize(vmin=vmin,vmax=vmax,clip=False)\n",
    "    cmap=copy.copy(cmap)\n",
    "    cmap.set_over('w')\n",
    "    cmap.set_under('b')\n",
    "    cmap.set_bad('r') # grey\n",
    "    return the_norm, cmap"
   ]
  },
  {
   "cell_type": "code",
   "execution_count": null,
   "id": "6e71642a",
   "metadata": {},
   "outputs": [],
   "source": [
    "vmin=-25\n",
    "vmax=20\n",
    "the_norm, cmap_ref = make_cmap(vmin, vmax)\n",
    "fig, ax = plt.subplots(1,1,figsize=(14,4))\n",
    "radar_z = storm_slice['Radar_Reflectivity']\n",
    "radar_z.T.plot.pcolormesh(x='storm_distance',y='height_km',\n",
    "                   ax=ax,cmap = cmap_ref, norm=the_norm)\n",
    "ax.set(ylim=[0,17],xlabel = \"distance (km)\",ylabel=\"height (km)\",\n",
    "       title = f\"radar reflectivity (dbZ) on {storm_zvals.day}, granule {storm_zvals.granule_id}\");"
   ]
  },
  {
   "cell_type": "markdown",
   "id": "831334fd",
   "metadata": {
    "user_expressions": []
   },
   "source": [
    "### Model Temperature"
   ]
  },
  {
   "cell_type": "code",
   "execution_count": null,
   "id": "425cbcb5",
   "metadata": {},
   "outputs": [],
   "source": [
    "vmin=-2\n",
    "vmax=2\n",
    "the_norm, cmap = make_cmap(vmin, vmax,cmap = cm.coolwarm)\n",
    "fig2, ax2 = plt.subplots(1,1,figsize=(14,4))\n",
    "col = storm_slice['Temperature'].T.plot.pcolormesh(x='storm_distance',y='height_km',ax=ax2, cmap = cmap, norm=the_norm)\n",
    "ax2.set(ylim = [0,17], xlabel = \"distance (km)\", ylabel = \"height (km)\",\n",
    "         title = f\"model temperature perturbation (K) on {storm_zvals.day}, granule {storm_zvals.granule_id}\");"
   ]
  },
  {
   "cell_type": "markdown",
   "id": "a4576c80",
   "metadata": {
    "user_expressions": []
   },
   "source": [
    "### Radar Rain rate\n",
    "\n",
    "\n",
    "Note some problems with the radar rainrates -- those\n",
    "negative values are definitely unphysical.  The record for heaviest 1 hour rainfall is 30 cm, so 6 cm/hour is  definitely possible for a large storm.\n",
    "The precipitation spikes line up with the highest reflectivity regions of the radar image."
   ]
  },
  {
   "cell_type": "code",
   "execution_count": null,
   "id": "3e01e93e",
   "metadata": {},
   "outputs": [],
   "source": [
    "rain_rate = storm_slice['rain_rate']\n",
    "fig1, ax1 = plt.subplots(1,1,figsize=(11,4))\n",
    "rain_rate.plot(x=\"storm_distance\", ax=ax1)\n",
    "ax1.set_title(f'rain rate (mm/hour)  on {storm_zvals.day}, granule {storm_zvals.granule_id}');"
   ]
  },
  {
   "cell_type": "markdown",
   "id": "5f44e361",
   "metadata": {
    "user_expressions": []
   },
   "source": [
    "### Radar Liquid water precipitation\n",
    "\n",
    "\n",
    "The model carries cloud water (droplets too small to precipitate) and liquid precipitation (falling rain drops). If you\n",
    "compare the figure below with the temperature pertubation plot it looks like the \n",
    "the cool perturbations may be lining up with  evaporating precipitation below the freezing level.\n",
    "\n",
    "The red bands are missing data where the radar algorithm couldn't infer a precipitation content.  That makes the\n",
    "spike at 450 km a little suspect."
   ]
  },
  {
   "cell_type": "code",
   "execution_count": null,
   "id": "07e6ff02",
   "metadata": {},
   "outputs": [],
   "source": [
    "vmin=0\n",
    "vmax=0.4\n",
    "the_norm, cmap_ref = make_cmap(vmin, vmax)\n",
    "fig, ax = plt.subplots(1,1,figsize=(14,4))\n",
    "liquid_precip = storm_slice['precip_liquid_water']\n",
    "liquid_precip.T.plot.pcolormesh(x='storm_distance',y='height_km',\n",
    "                   ax=ax,cmap = cmap_ref, norm=the_norm)\n",
    "ax.set(ylim=[0,10],xlabel = \"distance (km)\",ylabel=\"height (km)\",\n",
    "       title = f\"liquid water precip (g/m^3) on {storm_zvals.day}, granule {storm_zvals.granule_id}\");"
   ]
  },
  {
   "cell_type": "markdown",
   "id": "504a37a3",
   "metadata": {
    "user_expressions": []
   },
   "source": [
    "In the two cells below, the radar is showing ice in the convective updrafts above the freezing level\n",
    "and cloud water down to the ground.  Inside the cloud itself, it can only see the larger precipitation drops."
   ]
  },
  {
   "cell_type": "code",
   "execution_count": null,
   "id": "a59609cd",
   "metadata": {},
   "outputs": [],
   "source": [
    "vmin=0\n",
    "vmax=0.4\n",
    "the_norm, cmap_ref = make_cmap(vmin, vmax)\n",
    "fig, ax = plt.subplots(1,1,figsize=(14,4))\n",
    "ice_precip = storm_slice['precip_ice_water']\n",
    "ice_precip.T.plot.pcolormesh(x='storm_distance',y='height_km',\n",
    "                   ax=ax,cmap = cmap_ref, norm=the_norm)\n",
    "ax.set(ylim=[0,10],xlabel = \"distance (km)\",ylabel=\"height (km)\",\n",
    "       title = f\"Radar ice water precip (g/m^3) on {storm_zvals.day}, granule {storm_zvals.granule_id}\");"
   ]
  },
  {
   "cell_type": "code",
   "execution_count": null,
   "id": "c9378696",
   "metadata": {},
   "outputs": [],
   "source": [
    "vmin=0\n",
    "vmax=0.05\n",
    "the_norm, cmap_ref = make_cmap(vmin, vmax)\n",
    "fig, ax = plt.subplots(1,1,figsize=(14,4))\n",
    "ice_precip = storm_slice['cloud_liquid_water']\n",
    "ice_precip.T.plot.pcolormesh(x='storm_distance',y='height_km',\n",
    "                   ax=ax,cmap = cmap_ref, norm=the_norm)\n",
    "ax.set(ylim=[0,10],xlabel = \"distance (km)\",ylabel=\"height (km)\",\n",
    "       title = f\"Radar cloud_liquid_water (g/m^3) on {storm_zvals.day}, granule {storm_zvals.granule_id}\");"
   ]
  },
  {
   "cell_type": "markdown",
   "id": "3ed350b7",
   "metadata": {
    "user_expressions": []
   },
   "source": [
    "## save the file to disk"
   ]
  },
  {
   "cell_type": "code",
   "execution_count": null,
   "id": "c1d8f2a6",
   "metadata": {},
   "outputs": [],
   "source": [
    "do_write = False\n",
    "if do_write:\n",
    "    outfile = a301_lib.data_share / \"pha/cloudsat/week10_cloudsat_case_study.nc\"\n",
    "    storm_slice.to_netcdf(outfile)"
   ]
  },
  {
   "cell_type": "markdown",
   "id": "894eb4a2",
   "metadata": {
    "user_expressions": []
   },
   "source": [
    "## Summary"
   ]
  },
  {
   "cell_type": "markdown",
   "id": "7b452e42",
   "metadata": {
    "user_expressions": []
   },
   "source": [
    "In general, the precipitation structure looks reasonable, and evaporating precipitation may be driving the cooling\n",
    "perturbations in the model.  Some next steps:\n",
    "\n",
    "1) add the surface temperature and 10 meter wind fields\n",
    "\n",
    "2) add the rain rate uncertainty to see how confident the algorithm is in the spike values"
   ]
  }
 ],
 "metadata": {
  "anaconda-cloud": {},
  "jupytext": {
   "notebook_metadata_filter": "all,-language_info,-toc,-latex_envs",
   "text_representation": {
    "extension": ".md",
    "format_name": "myst",
    "format_version": 0.13,
    "jupytext_version": "1.14.5"
   }
  },
  "kernelspec": {
   "display_name": "Python 3 (ipykernel)",
   "language": "python",
   "name": "python3"
  },
  "source_map": [
   16,
   31,
   43,
   47,
   54,
   64,
   71,
   88,
   92,
   99,
   106,
   133,
   147,
   165,
   178,
   182,
   189,
   193,
   197,
   203,
   209,
   217,
   224,
   228,
   237,
   243,
   249,
   262,
   275,
   287,
   291,
   301,
   310,
   317,
   329,
   341,
   346,
   358,
   370,
   374,
   381,
   385
  ]
 },
 "nbformat": 4,
 "nbformat_minor": 5
}