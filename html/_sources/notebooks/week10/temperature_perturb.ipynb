{
 "cells": [
  {
   "cell_type": "markdown",
   "id": "026543a7",
   "metadata": {
    "user_expressions": []
   },
   "source": [
    "(week10:temperature_perturb)=\n",
    "# Cloudsat: Plotting ECMWF temperature and wind speed\n",
    "\n",
    "In this notebook we extend the {ref}`week9:cloudsat_ecmwf` notebook by plotting the temperature perturbation and wind speed\n",
    "to see if we can spot the effect of the storm.\n",
    "\n",
    "To run this notebook you'll first need to rerun {ref}`week9:cloudsat_ecmwf` to write out netcdf files to save your clipped hurricane.\n",
    "\n",
    "In section {ref}`sec:perturb` we remove the horizontal mean temperature profile and look at the temperature fluctuations in the model field.\n",
    "This section shows how to add a new horizontal coordinate (`storm_distance`) to the dataset so we can simplify plotting\n",
    "distance-height cross sections for the storm.\n",
    "\n",
    "In section {ref}`sec:wind` we bring in the horizontal wind components, clip to the storm times, and plot a windspeed cross section for the storm."
   ]
  },
  {
   "cell_type": "markdown",
   "id": "405682b0",
   "metadata": {
    "user_expressions": []
   },
   "source": [
    "## Step 1: Read in the week 9 reflectivity and temperature\n",
    "\n",
    "We save the 1125 x 125 temperature and reflectivity datasets at the bottom of the `cloudsat_ecmwf.md` notebook.\n",
    "Read those back in using `xarray.open_dataset`"
   ]
  },
  {
   "cell_type": "code",
   "execution_count": null,
   "id": "9deb4f6f",
   "metadata": {},
   "outputs": [],
   "source": [
    "import numpy as np\n",
    "import datetime as dt\n",
    "from datetime import timezone as tz\n",
    "from matplotlib import pyplot as plt\n",
    "import a301_lib\n",
    "from sat_lib.cloudsat import read_cloudsat_var\n",
    "import seaborn as sns\n",
    "import xarray as xr\n",
    "from sat_lib.cloudsat import add_storm_distance"
   ]
  },
  {
   "cell_type": "code",
   "execution_count": null,
   "id": "14432ab2",
   "metadata": {},
   "outputs": [],
   "source": [
    "infile_zvals = a301_lib.data_share / \"pha/cloudsat/storm_zvals.nc\"\n",
    "storm_zvals = xr.open_dataset(infile_zvals)\n",
    "infile_temp = a301_lib.data_share / \"pha/cloudsat/temperature.nc\"\n",
    "temperature = xr.open_dataset(infile_temp)"
   ]
  },
  {
   "cell_type": "code",
   "execution_count": null,
   "id": "1198a419",
   "metadata": {},
   "outputs": [],
   "source": [
    "temperature"
   ]
  },
  {
   "cell_type": "markdown",
   "id": "f1a7ae7e",
   "metadata": {
    "user_expressions": []
   },
   "source": [
    "### Write a new function to add the \"storm distance\" as a coordinate\n",
    "\n",
    "We're going to want to make several plots with the distance from the start of the storm as the x coordinate.  \n",
    "In this case, we've already clipped the dataset to the storm start.  For new dataset, we'd like to\n",
    "avoid having to make a new storm time axis every time we make a plot.\n",
    "\n",
    "We can put the calculation in a function that makes a new coordinate by subtracting\n",
    "the starting distance from every time value, so the \"storm_distance\" starts at 0 km."
   ]
  },
  {
   "cell_type": "code",
   "execution_count": null,
   "id": "eb401e66",
   "metadata": {},
   "outputs": [],
   "source": [
    "def add_storm_distance(the_ds):\n",
    "    \"\"\"Add a new coordinate called \"storm_distance\" to the dataset the_ds that is the distance in\n",
    "       km from the start of the storm\n",
    "       \n",
    "       Parameters\n",
    "       ----------\n",
    "       \n",
    "       the_ds: xarray dataset\n",
    "          dataset with a coordinate named \"distance_km\"\n",
    "          \n",
    "       Returns\n",
    "       -------\n",
    "       \n",
    "       the_ds: xarray dataset\n",
    "          same dataset with a new coordinate \"storm_distance\"\n",
    "    \"\"\"\n",
    "    storm_distance = the_ds.distance_km - the_ds.distance_km[0]\n",
    "    the_ds = the_ds.assign_coords(coords={'storm_distance':('time',storm_distance.data)})\n",
    "    return the_ds \n",
    "\n",
    "storm_zvals = add_storm_distance(storm_zvals)"
   ]
  },
  {
   "cell_type": "code",
   "execution_count": null,
   "id": "e19cda53",
   "metadata": {},
   "outputs": [],
   "source": [
    "storm_zvals"
   ]
  },
  {
   "cell_type": "markdown",
   "id": "ad2af9be",
   "metadata": {
    "user_expressions": []
   },
   "source": [
    "### Plotting using xarray.plot\n",
    "\n",
    "Now that we've added the storm_distance coordinate, we can use it in the plotting command.\n",
    "Compare this plot with the one we did in {ref}`week9:cloudsat_ecmwf` to see how this\n",
    "simplifies the plot"
   ]
  },
  {
   "cell_type": "code",
   "execution_count": null,
   "id": "82ae083c",
   "metadata": {},
   "outputs": [],
   "source": [
    "import copy\n",
    "\n",
    "from matplotlib import cm\n",
    "from matplotlib.colors import Normalize\n",
    "vmin=-25\n",
    "vmax=20\n",
    "the_norm=Normalize(vmin=vmin,vmax=vmax,clip=False)\n",
    "cmap_ref=copy.copy(cm.viridis)\n",
    "cmap_ref.set_over('w')\n",
    "cmap_ref.set_under('0.5')\n",
    "cmap_ref.set_bad('0.75') #75% grey\n",
    "fig, ax = plt.subplots(1,1,figsize=(14,4))\n",
    "radar_z = storm_zvals['Radar_Reflectivity']\n",
    "radar_z.T.plot.pcolormesh(x='storm_distance',y='height_km',\n",
    "                   ax=ax,cmap = cmap_ref, norm=the_norm)\n",
    "ax.set(ylim=[0,17],xlabel = \"distance (km)\",ylabel=\"height (km)\",\n",
    "       title = f\"radar reflectivity (dbZ) on {storm_zvals.day}, granule {storm_zvals.granule_id}\");"
   ]
  },
  {
   "cell_type": "markdown",
   "id": "ac27052d",
   "metadata": {
    "user_expressions": []
   },
   "source": [
    "(sec:perturb)=\n",
    "## Plot the temperature perturbation\n",
    "\n",
    "\n",
    "In the {ref}`week9:cloudsat_ecmwf` we found the 0 degree isotherm from the model temperature field.  To see\n",
    "whether the storm is affecting the temperature of the environment, we need to subtract the time-averaged mean\n",
    "temperature to get the perturbation.  To find that average, just give the mean function the dimension\n",
    "you want to averge over:"
   ]
  },
  {
   "cell_type": "code",
   "execution_count": null,
   "id": "d42684e1",
   "metadata": {},
   "outputs": [],
   "source": [
    "temp_profile=temperature.mean(dim='time')\n",
    "temp_perturb = temperature - temp_profile\n",
    "temp_perturb = add_storm_distance(temp_perturb)"
   ]
  },
  {
   "cell_type": "code",
   "execution_count": null,
   "id": "84975460",
   "metadata": {},
   "outputs": [],
   "source": [
    "vmin=-2\n",
    "vmax=2\n",
    "cmap = copy.copy(cm.coolwarm)\n",
    "the_norm=Normalize(vmin=vmin,vmax=vmax,clip=False)\n",
    "fig2, ax2 = plt.subplots(1,1,figsize=(14,4))\n",
    "col = temp_perturb['Temperature'].T.plot.pcolormesh(x='storm_distance',y='height_km',ax=ax2, cmap = cmap, norm=the_norm)\n",
    "ax2.set(ylim = [0,17], xlabel = \"distance (km)\", ylabel = \"height (km)\",\n",
    "         title = f\"temperature perturbation (K) on {storm_zvals.day}, granule {storm_zvals.granule_id}\");"
   ]
  },
  {
   "cell_type": "markdown",
   "id": "a2f1e9d1",
   "metadata": {
    "user_expressions": []
   },
   "source": [
    "Comparing the radar plot and the region of warmer temperatures, it look like the model has the storm about 300 km to the\n",
    "right of the radar location"
   ]
  },
  {
   "cell_type": "markdown",
   "id": "9614dfeb",
   "metadata": {
    "user_expressions": []
   },
   "source": [
    "(sec:wind)=\n",
    "## Plot the wind speed\n",
    "\n",
    "To see the wind speed for this storm, we need to get the horizontal velocity components from the ECMWF hdf\n",
    "and find their magnitude"
   ]
  },
  {
   "cell_type": "code",
   "execution_count": null,
   "id": "83740247",
   "metadata": {},
   "outputs": [],
   "source": [
    "ecmwf_file=(a301_lib.data_share / 'pha/cloudsat').glob('20080820*ECMWF-AUX*_GRANULE_*.hdf')\n",
    "ecmwf_file = list(ecmwf_file)[0]"
   ]
  },
  {
   "cell_type": "code",
   "execution_count": null,
   "id": "d9820424",
   "metadata": {},
   "outputs": [],
   "source": [
    "u_ds = read_cloudsat_var('U_velocity',ecmwf_file)\n",
    "v_ds = read_cloudsat_var('V_velocity',ecmwf_file)"
   ]
  },
  {
   "cell_type": "markdown",
   "id": "1b55ef05",
   "metadata": {
    "user_expressions": []
   },
   "source": [
    "### Clip the orbit to the storm times\n",
    "\n",
    "The velocity datasets cover the full orbit.  We need to clip them to the storm start and end \n",
    "times, which we can get from the temperture (or radar) datasets."
   ]
  },
  {
   "cell_type": "code",
   "execution_count": null,
   "id": "7b0191c1",
   "metadata": {},
   "outputs": [],
   "source": [
    "time_hit = np.logical_and(u_ds.time >= temperature.time[0],u_ds.time <= temperature.time[-1])"
   ]
  },
  {
   "cell_type": "code",
   "execution_count": null,
   "id": "550e56bf",
   "metadata": {},
   "outputs": [],
   "source": [
    "uvel = u_ds['U_velocity'][time_hit,:]\n",
    "vvel = v_ds['V_velocity'][time_hit,:]"
   ]
  },
  {
   "cell_type": "markdown",
   "id": "abd70220",
   "metadata": {
    "user_expressions": []
   },
   "source": [
    "### Add the storm distance\n",
    "\n",
    "Use our new function to add the storm_distance coordinate"
   ]
  },
  {
   "cell_type": "code",
   "execution_count": null,
   "id": "9f2d074b",
   "metadata": {},
   "outputs": [],
   "source": [
    "uvel = add_storm_distance(uvel)\n",
    "vvel = add_storm_distance(vvel)"
   ]
  },
  {
   "cell_type": "markdown",
   "id": "b2f15abc",
   "metadata": {
    "user_expressions": []
   },
   "source": [
    "### Find the wind speed\n",
    "\n",
    "Here's the magnitude of the horizontal wind vector"
   ]
  },
  {
   "cell_type": "code",
   "execution_count": null,
   "id": "644b0b84",
   "metadata": {},
   "outputs": [],
   "source": [
    "wind_speed = np.sqrt(uvel**2. + vvel**2.)\n",
    "wind_speed"
   ]
  },
  {
   "cell_type": "markdown",
   "id": "1d11ddf3",
   "metadata": {
    "user_expressions": []
   },
   "source": [
    "### make the plot\n",
    "\n",
    "The wind's not too dramatic for this storm"
   ]
  },
  {
   "cell_type": "code",
   "execution_count": null,
   "id": "f9bb2065",
   "metadata": {},
   "outputs": [],
   "source": [
    "vmin=0\n",
    "vmax=15\n",
    "the_norm=Normalize(vmin=vmin,vmax=vmax,clip=False)\n",
    "#\n",
    "# use a seaborn palette with blue-green colors\n",
    "#\n",
    "fig3, ax3 = plt.subplots(1,1,figsize=(14,4))\n",
    "col = wind_speed.T.plot.pcolormesh(x='storm_distance',y='height_km',ax=ax3, norm=the_norm,\n",
    "                                  cbar_kwargs={\"label\":\"wind speed (m/s)\"})\n",
    "ax3.set(ylim=[0,17],\n",
    "       xlabel='distance (km)',ylabel='height (km)',\n",
    "       title=f\"ECMWF wind speed (m/s) for granule {u_ds.granule_id} on {u_ds.day}\");"
   ]
  },
  {
   "cell_type": "markdown",
   "id": "676c5390",
   "metadata": {
    "user_expressions": []
   },
   "source": [
    "## Save the tempeture perturbation and wind speed\n",
    "\n",
    "To save these for future work, we can combine them and write them out as a single dataset"
   ]
  },
  {
   "cell_type": "code",
   "execution_count": null,
   "id": "81c3ac3e",
   "metadata": {},
   "outputs": [],
   "source": [
    "temp_perturb['wind_speed'] = wind_speed\n",
    "temp_perturb['u_vel'] = u_ds['U_velocity']\n",
    "temp_perturb['v_vel'] = v_ds['V_velocity']\n",
    "temp_perturb['Temperature'].data"
   ]
  },
  {
   "cell_type": "code",
   "execution_count": null,
   "id": "06a0fad2",
   "metadata": {},
   "outputs": [],
   "source": [
    "outfile = a301_lib.data_share / \"pha/cloudsat/week10_wind_temps.nc\"\n",
    "do_write = False\n",
    "if do_write:\n",
    "    temp_perturb.to_netcdf(outfile)"
   ]
  }
 ],
 "metadata": {
  "anaconda-cloud": {},
  "jupytext": {
   "notebook_metadata_filter": "all,-language_info,-toc,-latex_envs",
   "text_representation": {
    "extension": ".md",
    "format_name": "myst",
    "format_version": 0.13,
    "jupytext_version": "1.14.5"
   }
  },
  "kernelspec": {
   "display_name": "Python 3 (ipykernel)",
   "language": "python",
   "name": "python3"
  },
  "source_map": [
   16,
   32,
   39,
   51,
   58,
   62,
   73,
   97,
   101,
   109,
   129,
   140,
   146,
   157,
   162,
   170,
   175,
   180,
   187,
   191,
   196,
   202,
   207,
   213,
   218,
   224,
   239,
   245,
   252
  ]
 },
 "nbformat": 4,
 "nbformat_minor": 5
}