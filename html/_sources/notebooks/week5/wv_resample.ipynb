{
 "cells": [
  {
   "cell_type": "markdown",
   "id": "55a67414",
   "metadata": {},
   "source": [
    "(week5:wv_resample)=\n",
    "# Resampling the water vapor"
   ]
  },
  {
   "cell_type": "markdown",
   "id": "b54319f7",
   "metadata": {},
   "source": [
    "Thi notebook resamples the 5 km water vapor datasets onto a 5km area_def. Note how I adapted code from \n",
    "week5/cartopy_resample_ch30.md"
   ]
  },
  {
   "cell_type": "code",
   "execution_count": null,
   "id": "9e912cbc",
   "metadata": {},
   "outputs": [],
   "source": [
    "import warnings\n",
    "\n",
    "from matplotlib import pyplot as plt\n",
    "import numpy as np\n",
    "import cartopy.crs as ccrs\n",
    "import cartopy\n",
    "import json\n",
    "import pprint\n",
    "pp = pprint.PrettyPrinter(indent=4)\n",
    "from pyresample import kd_tree, SwathDefinition\n",
    "\n",
    "from sat_lib.modischan_read import sd_open_file, read_plainvar\n",
    "#\n",
    "# new get_proj_params function\n",
    "#\n",
    "from sat_lib.mapping import get_proj_params, area_def_to_dict\n",
    "from sat_lib.modismeta_read import parseMeta\n",
    "import a301_lib\n",
    "\n",
    "warnings.filterwarnings('ignore')\n",
    "hdf4_dir = a301_lib.sat_data / \"pha\"\n",
    "granules = list(hdf4_dir.glob(\"MYD05*2105*hdf\"))\n",
    "the_file = granules[0]\n",
    "print(the_file)"
   ]
  },
  {
   "cell_type": "markdown",
   "id": "33f3cc80",
   "metadata": {},
   "source": [
    "## get the metadata"
   ]
  },
  {
   "cell_type": "code",
   "execution_count": null,
   "id": "eefff1d0",
   "metadata": {},
   "outputs": [],
   "source": [
    "meta_dict = parseMeta(the_file)\n",
    "meta_dict"
   ]
  },
  {
   "cell_type": "markdown",
   "id": "dc9f2154",
   "metadata": {},
   "source": [
    "## new function to calibrate the wv dataset"
   ]
  },
  {
   "cell_type": "code",
   "execution_count": null,
   "id": "a75dc677",
   "metadata": {},
   "outputs": [],
   "source": [
    "def readband_wv(the_file, band_name):\n",
    "    \"\"\"\n",
    "    see: https://atmosphere-imager.gsfc.nasa.gov/sites/default/files/ModAtmo/MYD05_L2.C6.CDL.fs\n",
    "       for file format\n",
    "       \n",
    "    read and calibrate a MODIS level 2 water vapor file\n",
    "    \n",
    "    Parameters\n",
    "    ----------\n",
    "    \n",
    "       the_file: str\n",
    "           path to the hdf file\n",
    "       band_name: str\n",
    "           either 'Water_Vapor_Near_Infrared` or `Water_Vapor_Infrared` \n",
    "           \n",
    "    Returns\n",
    "    -------\n",
    "       the_chan_calibrated: ndarray\n",
    "           column water vapor in cm\n",
    "    \"\"\"\n",
    "    sd_file = sd_open_file(the_file)\n",
    "    wv_data = sd_file.select(band_name)  # select sds\n",
    "    wv_image = wv_data.get()\n",
    "    #\n",
    "    # convert from int16 to float64\n",
    "    #\n",
    "    wv_image = wv_image.astype('float64')\n",
    "    wv_scale = wv_data.attributes()['scale_factor']\n",
    "    wv_offset = wv_data.attributes()['add_offset']\n",
    "    fill_value = wv_data.attributes()['_FillValue']\n",
    "    #\n",
    "    # convert fill values = -9999 to np.nan\n",
    "    #\n",
    "    wv_image[wv_image == fill_value] = np.nan\n",
    "    wv_calibrated = (wv_image * wv_scale) + wv_offset\n",
    "    sd_file.end()\n",
    "    return wv_calibrated"
   ]
  },
  {
   "cell_type": "markdown",
   "id": "151c4734",
   "metadata": {},
   "source": [
    "## check the values and make a raw image"
   ]
  },
  {
   "cell_type": "code",
   "execution_count": null,
   "id": "2a9a3062",
   "metadata": {},
   "outputs": [],
   "source": [
    "wv_data = readband_wv(the_file,'Water_Vapor_Infrared')\n",
    "fig, ax = plt.subplots(1,1)\n",
    "ax.hist(wv_data.flat);"
   ]
  },
  {
   "cell_type": "code",
   "execution_count": null,
   "id": "1b08c4d3",
   "metadata": {},
   "outputs": [],
   "source": [
    "fig, ax = plt.subplots(1,1)\n",
    "ax.imshow(wv_data);"
   ]
  },
  {
   "cell_type": "markdown",
   "id": "19769e0d",
   "metadata": {},
   "source": [
    "## Check the lats and lons"
   ]
  },
  {
   "cell_type": "code",
   "execution_count": null,
   "id": "7789ac30",
   "metadata": {},
   "outputs": [],
   "source": [
    "lons = read_plainvar(the_file, 'Longitude')\n",
    "lats = read_plainvar(the_file, 'Latitude')\n",
    "fig, ax = plt.subplots(1,1)\n",
    "ax.plot(lons,lats,'r+');"
   ]
  },
  {
   "cell_type": "markdown",
   "id": "a4f8a7f4",
   "metadata": {},
   "source": [
    "## Create the swath and area definitoins"
   ]
  },
  {
   "cell_type": "code",
   "execution_count": null,
   "id": "231c3bb3",
   "metadata": {},
   "outputs": [],
   "source": [
    "projection = get_proj_params(meta_dict)\n",
    "proj_params =  projection.proj4_params\n",
    "swath_def = SwathDefinition(lons, lats)\n",
    "area_def = swath_def.compute_optimal_bb_area(proj_dict=proj_params)"
   ]
  },
  {
   "cell_type": "code",
   "execution_count": null,
   "id": "ab507aed",
   "metadata": {},
   "outputs": [],
   "source": [
    "print(\n",
    "    (\n",
    "        f\"\\nx and y pixel dimensions in meters:\"\n",
    "        f\"\\n{area_def.pixel_size_x}\\n{area_def.pixel_size_y}\\n\"\n",
    "    )\n",
    ")"
   ]
  },
  {
   "cell_type": "markdown",
   "id": "99a26e13",
   "metadata": {},
   "source": [
    "## resample the image"
   ]
  },
  {
   "cell_type": "code",
   "execution_count": null,
   "id": "249204cb",
   "metadata": {},
   "outputs": [],
   "source": [
    "fill_value = -9999.0\n",
    "image_wv = kd_tree.resample_nearest(\n",
    "    swath_def,\n",
    "    wv_data.ravel(),\n",
    "    area_def,\n",
    "    radius_of_influence=5000,\n",
    "    nprocs=2,\n",
    "    fill_value=fill_value,\n",
    ")\n",
    "image_wv[image_wv < -9000] = np.nan"
   ]
  },
  {
   "cell_type": "markdown",
   "id": "f9823e46",
   "metadata": {},
   "source": [
    "## make a plot"
   ]
  },
  {
   "cell_type": "code",
   "execution_count": null,
   "id": "9f4504f6",
   "metadata": {},
   "outputs": [],
   "source": [
    "pal = plt.get_cmap(\"plasma\")\n",
    "pal.set_bad(\"0.75\")  # 75% grey for out-of-map cells\n",
    "pal.set_over(\"r\")  # color cells > vmax red\n",
    "pal.set_under(\"k\")  # color cells < vmin black\n",
    "vmin = 0.0  #anything under this is colored black\n",
    "vmax = 4.0  #anything over this is colored red\n",
    "from matplotlib.colors import Normalize\n",
    "the_norm = Normalize(vmin=vmin, vmax=vmax, clip=False)"
   ]
  },
  {
   "cell_type": "code",
   "execution_count": null,
   "id": "bdf719c0",
   "metadata": {},
   "outputs": [],
   "source": [
    "crs = area_def.to_cartopy_crs()\n",
    "fig, ax = plt.subplots(1, 1, figsize=(10, 10), subplot_kw={\"projection\": crs})\n",
    "ax.gridlines(linewidth=2)\n",
    "ax.add_feature(cartopy.feature.GSHHSFeature(scale=\"coarse\", levels=[1, 2, 3]))\n",
    "ax.set_extent(crs.bounds, crs)\n",
    "cs = ax.imshow(\n",
    "    image_wv,\n",
    "    transform=crs,\n",
    "    extent=crs.bounds,\n",
    "    origin=\"upper\",\n",
    "    alpha=0.8,\n",
    "    cmap=pal,\n",
    "    norm=the_norm,\n",
    ")\n",
    "ax.set(title=\"wv ir 5km resolution for 2013.222.2105\")\n",
    "fig.colorbar(cs, extend=\"both\");\n",
    "outfile = a301_lib.data_share / \"pha/wv_ir_5km.png\"\n",
    "fig.savefig(outfile)"
   ]
  },
  {
   "cell_type": "markdown",
   "id": "e4e50b2f",
   "metadata": {},
   "source": [
    "## write the `area_def` out for reuse\n",
    "\n",
    "This will write out the file `~/shared_files/pha/area_dict.json`"
   ]
  },
  {
   "cell_type": "code",
   "execution_count": null,
   "id": "3dca4fd6",
   "metadata": {},
   "outputs": [],
   "source": [
    "area_dict = area_def_to_dict(area_def)\n",
    "outfile = a301_lib.data_share / \"pha/area_dict.json\"\n",
    "with open(outfile,\"w\") as out:\n",
    "    json.dump(area_dict,out,indent=4)\n",
    "    \n",
    "pp.pprint(area_dict)"
   ]
  },
  {
   "cell_type": "markdown",
   "id": "3226391b",
   "metadata": {},
   "source": [
    "## Save the resampled image as an npz file\n",
    "\n",
    "This will write out the file `~/shared_files/pha/wv_5km_resampled.npz`"
   ]
  },
  {
   "cell_type": "code",
   "execution_count": null,
   "id": "0696661a",
   "metadata": {},
   "outputs": [],
   "source": [
    "outfile = a301_lib.data_share / \"pha/wv_5km_resampled.npz\"\n",
    "np.savez(outfile,image_wv)"
   ]
  },
  {
   "cell_type": "code",
   "execution_count": null,
   "id": "c527e308",
   "metadata": {},
   "outputs": [],
   "source": [
    "a301_lib.data_share"
   ]
  },
  {
   "cell_type": "code",
   "execution_count": null,
   "id": "bd2540a7",
   "metadata": {},
   "outputs": [],
   "source": [
    "infile = a301_lib.data_share / \"pha/wv_5km_resampled.npz\"\n",
    "the_npz = np.load(infile)\n",
    "print(f\"{list(the_npz.keys())=}\")\n",
    "the_raster = the_npz['arr_0']\n",
    "print(f\"{the_raster.shape=}\")"
   ]
  }
 ],
 "metadata": {
  "jupytext": {
   "cell_metadata_filter": "all",
   "notebook_metadata_filter": "all,-language_info,-toc,-latex_envs",
   "text_representation": {
    "extension": ".md",
    "format_name": "myst",
    "format_version": 0.13,
    "jupytext_version": "1.14.5"
   }
  },
  "kernelspec": {
   "display_name": "Python 3 (ipykernel)",
   "language": "python",
   "name": "python3"
  },
  "source_map": [
   17,
   22,
   27,
   54,
   58,
   63,
   67,
   107,
   111,
   119,
   124,
   128,
   135,
   139,
   148,
   157,
   161,
   174,
   178,
   191,
   212,
   218,
   227,
   233,
   240,
   246
  ],
  "toc-autonumbering": true,
  "toc-showmarkdowntxt": false,
  "toc-showtags": true
 },
 "nbformat": 4,
 "nbformat_minor": 5
}