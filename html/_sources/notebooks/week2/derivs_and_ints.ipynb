{
 "cells": [
  {
   "cell_type": "markdown",
   "id": "8fdc5b5d",
   "metadata": {},
   "source": [
    "(sec:numpy)=\n",
    "# working with numpy arrays\n",
    "\n",
    "This notebook demonstrates how to use differences and sums to calculate derivatives and integrals and make some simple plots using the matplotlib module.\n",
    "\n",
    "Coverage:  [Kazrinoff Chapter 6](\n",
    "https://phaustin.github.io/Problem-Solving-with-Python/)"
   ]
  },
  {
   "cell_type": "code",
   "execution_count": null,
   "id": "49a21138",
   "metadata": {},
   "outputs": [],
   "source": [
    "import numpy as np\n",
    "from matplotlib import pyplot as plt\n",
    "\n",
    "\n",
    "def cubeit(x, a, b):\n",
    "    \"\"\"\n",
    "    construct cubic polynomial of the form\n",
    "      y = ax^3 + b\n",
    "    \n",
    "    Parameters\n",
    "    ----------\n",
    "    \n",
    "    x: vector or float\n",
    "      x values \n",
    "      \n",
    "    a: float\n",
    "      coefficient to multiply\n",
    "      \n",
    "    b: float\n",
    "       coefficient to add\n",
    "    \"\"\"\n",
    "    return a * x ** 3 + b"
   ]
  },
  {
   "cell_type": "markdown",
   "id": "8671ca24",
   "metadata": {},
   "source": [
    "## 1) Take the derivative of this function with python\n",
    "\n",
    "Find the first derivative of $y = 6x^3 + 5$\n",
    "\n",
    "\n",
    "Answer: $\\frac{dy}{dx} = 18x^2$\n",
    "\n",
    "In first year you learned that the first derivative was:\n",
    "\n",
    "$$\\frac{dy}{dx} = \\lim_{\\Delta x \\to 0} \\frac{\\Delta y}{\\Delta x}$$(eq:deriv)\n",
    "\n",
    "So calculate $\\Delta y$ and $\\Delta x$ in python using [numpy.diff](http://docs.scipy.org/doc/numpy/reference/generated/numpy.diff.html) and divide, does it agree with the calculus answer?"
   ]
  },
  {
   "cell_type": "code",
   "execution_count": null,
   "id": "889b8577",
   "metadata": {},
   "outputs": [],
   "source": [
    "%matplotlib inline\n",
    "#\n",
    "# create 1000 x values from -5 to 5\n",
    "#\n",
    "spacing = 0.01\n",
    "x = np.arange(-5, 5, spacing)\n",
    "#\n",
    "# find dx and dy\n",
    "#\n",
    "dx = np.diff(x)\n",
    "y = cubeit(x, 6, 5)\n",
    "dy = np.diff(y)\n",
    "deriv = dy / dx\n",
    "#\n",
    "# compare to the exact answer\n",
    "# note that deriv is one element shorter than x or y, so find\n",
    "# the average value for each interval so they line up\n",
    "#\n",
    "exact = 18 * x ** 2.0\n",
    "exact = (exact[1:] + exact[:-1]) / 2.0\n",
    "avgx = (x[1:] + x[:-1]) / 2.0\n",
    "fig, (ax1, ax2) = plt.subplots(1, 2, figsize=(12, 6))\n",
    "ax1.plot(avgx, deriv, linewidth=4, alpha=0.6, label=\"python\")\n",
    "ax1.plot(avgx, exact, linestyle=\":\", linewidth=4, label=\"calculus\")\n",
    "ax1.legend()\n",
    "ax1.set(xlabel=\"x\", ylabel=\"dy/dx\", title=\"approx and exact\")\n",
    "ax2.plot(avgx, (deriv - exact) / exact)\n",
    "_ = ax2.set(ylabel=\"(approx - exact)/exact\", xlabel=\"x\", title=\"relative error\")"
   ]
  },
  {
   "cell_type": "markdown",
   "id": "08aabe2a",
   "metadata": {},
   "source": [
    "### What's going on above at x=0?"
   ]
  },
  {
   "cell_type": "markdown",
   "id": "652ed492",
   "metadata": {
    "tags": [],
    "user_expressions": []
   },
   "source": [
    "(week2:numint)=\n",
    "## 2) Find the definite integral of this function with python\n",
    "\n",
    "In first year you learned that if you start with this sum:\n",
    "\n",
    "$\\sum\\limits_{x= -5}^{x=+5} \\left ( 6x^3 + 5 \\right ) \\Delta x$\n",
    "\n",
    "and take $\\lim_{\\Delta x \\to 0}$  you get the definite integral $I =\\int_{-5}^5 \\left ( 6 x^3 + 5 \\right ) dx$\n",
    "\n",
    "which Newton and Liebniz figured out resulted in $I=50$:\n",
    "\n",
    "$\\int_{-5}^5 6 x^3 + 5 dx = \\left .\\left (  (6/4)x^4 + 5x \\right ) \\right |_{-5}^5 = (6/4)*(5^4 - (-5)^4) + ((5\\times 5) - ((-5)\\times 5)) = 50$\n",
    "\n",
    "So to do this integral in python, just use numpy.sum(I*dx).  The only trick is that np.diff(x) creates a vector that is 1 shorter than x.  So replace y with the average value of y in each dx inteval so that you can multiply vectors of the same length."
   ]
  },
  {
   "cell_type": "code",
   "execution_count": null,
   "id": "a088dc06",
   "metadata": {},
   "outputs": [],
   "source": [
    "yavg = (y[1:] + y[:-1]) / 2.0\n",
    "np.sum(yavg * dx)"
   ]
  },
  {
   "cell_type": "markdown",
   "id": "960dd34f",
   "metadata": {},
   "source": [
    "This isn't very close to the right answer, even though we are using 1000 x values when spacing=0.01.  Why is python struggling?"
   ]
  },
  {
   "cell_type": "code",
   "execution_count": null,
   "id": "a3710021",
   "metadata": {},
   "outputs": [],
   "source": []
  }
 ],
 "metadata": {
  "jupytext": {
   "text_representation": {
    "extension": ".md",
    "format_name": "myst",
    "format_version": 0.13,
    "jupytext_version": "1.14.0"
   }
  },
  "kernelspec": {
   "display_name": "Python 3 (ipykernel)",
   "language": "python",
   "name": "python3"
  },
  "source_map": [
   12,
   22,
   45,
   60,
   89,
   93,
   110,
   113,
   117
  ]
 },
 "nbformat": 4,
 "nbformat_minor": 5
}