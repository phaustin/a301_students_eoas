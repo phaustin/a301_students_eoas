{
 "cells": [
  {
   "cell_type": "markdown",
   "id": "f8fe6cf8",
   "metadata": {},
   "source": [
    "(week6:weighting_funs)=\n",
    "# Weighting functions for temperature retrieval\n",
    "\n",
    "\n",
    "Recall [Stull Chapter 8](https://www.eoas.ubc.ca/books/Practical_Meteorology/prmet102/Ch08-satellite_radar-v102b.pdf) Figure 8.4c (shown below).  As Stull explains a bunch of satellites use the 15 $\\mu m$ CO2 absorption band\n",
    "to look at the temperature at different heights in the atmosphere.  The key idea is that the changing density of\n",
    "the atmosphere means that at any particular wavelength there is some level where most of the emittied atmospheric\n",
    "photons originate from. If we know the vertical profile of dry air density and CO2 concentration, and the surface\n",
    "temperature, we can measure those photons and back out an estimate of the air temperature for the emitting layer.\n",
    "\n",
    "Key ideas:\n",
    "\n",
    "1.  The Schwartzchild equation allows us to calculate the photon flux for a particular atmosphere and surface.  This\n",
    "    is called the \"forward model\".\n",
    "\n",
    "1.  CO2 is the ideal absorbing gas for this calculation, because its concentration is very well known, and it\n",
    "    does not vary much with geographical location (because it takes so long to remove CO2 from the atmosphere, it\n",
    "    is \"well mixed\"\n",
    "\n",
    "1.  In theory, if we make 15 different radiance measurements at 15 different wavelengths in the CO2 absorption band,\n",
    "    we should be able to invert the Schwartzchild equation for the temperature at 15 different heights.  In reality\n",
    "    this is not possible, because the weighting functions for each wavelength overlap with height."
   ]
  },
  {
   "cell_type": "markdown",
   "id": "22077e72",
   "metadata": {},
   "source": [
    "## Satellite radiance measured in the CO2 absorption band"
   ]
  },
  {
   "cell_type": "markdown",
   "id": "f13de185",
   "metadata": {},
   "source": [
    "### Transmittance -- Stull Figure 8.4c"
   ]
  },
  {
   "cell_type": "markdown",
   "id": "c567a244",
   "metadata": {},
   "source": [
    "<img src=\"figures/stull_8_4c.png\" width=700>"
   ]
  },
  {
   "cell_type": "markdown",
   "id": "81fece13",
   "metadata": {},
   "source": [
    "It's a little hard to see in the figure, but there are 8 channels crunched between 13-15 microns, along the \"shoulder\" of the the main CO2 absorption band."
   ]
  },
  {
   "cell_type": "markdown",
   "id": "cd80b819",
   "metadata": {},
   "source": [
    "### Radiance and brightness temperature"
   ]
  },
  {
   "cell_type": "markdown",
   "id": "19ea9a31",
   "metadata": {},
   "source": [
    "The figure below is similar to Figure 8.4c, with the following differences:\n",
    "\n",
    "1. The channel numbers are for an instrument called the VTPR (vertical temperature profiling radiometer), which has six channels indicated in the figure.\n",
    "\n",
    "1. The horizontal axis is wavenumber = 1/wavelength.  That means that the plot goes from 500 $cm^{-1}$ (wavelength= 20 $\\mu m$) on the left to 850 $cm^{-1}$ (wavelength = 12 $\\mu m$) on the right, with the center at the center of the absorption band at wavenumber 666 $cm^{-1}$ (wavelength = 15 $\\mu m$).\n",
    "\n",
    "2. The y axis is the radiance (which they call intensity) reaching the satellite, also plotted as brightness temperature on the right axis.  While the transmission at 15 $\\mu m$ (channel 1) is zero (black atmosphere) the emission is high in channel 1 because the emissivity is 1, and the stratosphere is hot.\n",
    "That is, Channel 1 is at the center of the band -- it has the lowest transmissivity and is measuring photons coming from 45 km at the top of the stratosphere (See [Stull Chapter 1, Figure 1.10](https://www.eoas.ubc.ca/books/Practical_Meteorology/prmet101/Ch01-Atmos-v101.pdf)).\n",
    "\n",
    "As the channel number increases from 2-6 the transmissivity also increases, and the photons originate from increasingly lower levels of the atmosphere with increasing kinetic temperatures.  Note the different heights for the peaks in each of the weighting functions."
   ]
  },
  {
   "cell_type": "markdown",
   "id": "1bdf0aaa",
   "metadata": {},
   "source": [
    "<img src=\"figures/wallace4_33.png\" width=500>"
   ]
  },
  {
   "cell_type": "markdown",
   "id": "fa186d93",
   "metadata": {},
   "source": [
    "### Weighting functions from Stull"
   ]
  },
  {
   "cell_type": "markdown",
   "id": "c617187b",
   "metadata": {},
   "source": [
    "<img src=\"figures/stull_8_9.png\" width=800>"
   ]
  },
  {
   "cell_type": "markdown",
   "id": "3568559d",
   "metadata": {},
   "source": [
    "## Calculating the weighting functions in the $CO_2$ 15 $\\mu m$ absorption band"
   ]
  },
  {
   "cell_type": "markdown",
   "id": "8ccb535a",
   "metadata": {},
   "source": [
    "Recall that we've got two versions of the Schwartzchild equation in Schwartzchild notes:\n",
    "\n",
    "Stull 8.4:\n",
    "\n",
    "$$\n",
    "         \\begin{gathered}\n",
    "           L_\\lambda = B_\\lambda(T_{skin}) \\hat{t}_{\\lambda,tot} + \\sum_{j=1}^n\n",
    "           B_\\lambda(T_j) \\Delta \\hat{t}_{\\lambda,j}\n",
    "         \\end{gathered}\n",
    "$$\n",
    "\n",
    "The calculus version derived in the notes:\n",
    "\n",
    "$$\n",
    "    L_\\lambda(\\tau_T)= B_\\lambda(T_{skin}) \\exp(-\\tau_T) +    \\int_0^{\\tau_T} B_\\lambda(T)\\, d\\hat{t}\n",
    "$$\n",
    "\n",
    "In either case, the crucial term is the differential transmissivity, $\\Delta \\hat{t}$ or $d \\hat{t}$  which \"weights\"\n",
    "the blackbody emission $B_\\lambda(T)$ at a particular height.  The bigger the value of $d \\hat{t}$, the bigger\n",
    "the fraction of $B_\\lambda(T)$ that is going to reach the satellite.\n",
    "\n",
    "Below I show how to calculate the weight function in python."
   ]
  },
  {
   "cell_type": "markdown",
   "id": "d1630349",
   "metadata": {},
   "source": [
    "### First get the optical depth from a sounding\n",
    "\n",
    "This notebook uses the five standard atmospheres from  [hydrostatic_balance.ipynb](http://clouds.eos.ubc.ca/~phil/courses/atsc301/html/hydrostatic_balance.html) to show how to use Stull eq. 8.4 to calculate radiance at the top of the atmosphere for wavelengths similar to the 6 sounder channels shown in the above figure.  I define a new function **find_tau** to calculate the optical thickness for a $CO_2$-like absorbing gas, and get the weighting functions at 7 wavelengths from the transmission.   I then  plot the brightness temperatures at each wavelength for each of the five standard atmospheres.\n",
    "\n",
    "We're going to need the air density as a function of height, so we'll require the **calcDensHeight**\n",
    "function from the hydrostatic balance notebook, which I've moved to the a301.thermo library:"
   ]
  },
  {
   "cell_type": "code",
   "execution_count": null,
   "id": "54f845d6",
   "metadata": {},
   "outputs": [],
   "source": [
    "import numpy as np\n",
    "import matplotlib.pyplot as plt\n",
    "import matplotlib.ticker as ticks\n",
    "from pathlib import Path\n",
    "import pprint\n",
    "import pandas as pd\n",
    "\n",
    "#\n",
    "# from the hydrostatic_balance notebook\n",
    "#\n",
    "import a301_lib\n",
    "from sat_lib.thermo import calcDensHeight"
   ]
  },
  {
   "cell_type": "code",
   "execution_count": null,
   "id": "ee1ace71",
   "metadata": {},
   "outputs": [],
   "source": [
    "soundings_folder=  Path('./soundings')\n",
    "sounding_files = list(soundings_folder.glob(\"*csv\"))\n",
    "print(sounding_files)\n",
    "\n",
    "name_dict=dict()\n",
    "sound_dict=dict()\n",
    "for item in sounding_files:\n",
    "    name_dict[item.stem]=item\n",
    "pprint.pprint(name_dict)\n",
    "\n",
    "for item in sounding_files:\n",
    "    sound_dict[item.stem]=pd.read_csv(item)"
   ]
  },
  {
   "cell_type": "markdown",
   "id": "0011343d",
   "metadata": {},
   "source": [
    "### Defining $k_\\lambda$ and $\\tau_\\lambda$ for $CO_2$\n",
    "\n",
    "I need values for the **mass absorption coefficient** $k_\\lambda$ ($m^2/kg\\ CO2$) defined in [Stull Chaper 2](https://www.eoas.ubc.ca/books/Practical_Meteorology/prmet102/Ch02-radiation-v102b.pdf) equation 2.31b.\n",
    "\n",
    "$$\n",
    "\\hat{t} = \\frac{E_{transmitted}}{E_{incident}} = -k_\\lambda \\rho_{co2} \\Delta s\n",
    "$$\n",
    "where $\\rho_{co2}$ is the density of CO2 and $\\Delta s$ \"slant path\" i.e the distance the photons travel in the layer.  We can also\n",
    "define the **mixing ratio** for CO2, which relates the CO2 density and the air density:\n",
    "\n",
    "$$\n",
    "r_{co2} = \\frac{\\rho_{co2}}{\\rho_{air}}\n",
    "$$\n",
    "\n",
    "So that the transmissivity $\\hat{t}$ can then be written:\n",
    "\n",
    "$$\n",
    "\\hat{t} = \\frac{E_{transmitted}}{E_{incident}} = -k_\\lambda \\rho_{co2} \\Delta s = -k_\\lambda r_{co2} \\rho_{air} \\Delta s\n",
    "$$\n",
    "\n",
    "Why is this a win?  Because for CO2 $r_{co2}$ is roughly constant with height -- the CO2 mixing ratio is about\n",
    "$400 \\times 10^{-6}$ CO2 molecules/air molecules almost everywhere.  That means that we just need to know\n",
    "the air density $\\rho_{air}$, which we can figure out from the ideal gas law as long as we have the pressure and temperature.\n",
    "\n",
    "The  vertical optical depth is a special case where, instead of the **slant path** s through the atmosphere\n",
    "we head straight up or down in the z direction.\n",
    "\n",
    "In this case  $\\tau$ is then defined by  (see the Beer's law notes):\n",
    "\n",
    "$$\n",
    "\\frac{dE}{E} = -k_\\lambda r_{co2} \\rho_{air} dz = -d \\tau_\\lambda\n",
    "$$\n",
    "\n",
    "$$\n",
    "\\int_{E_{in}}^{E} \\frac{dE^\\prime}{E^\\prime} = \\int_0^z -k_\\lambda r_{co2} \\rho_{air} dz^\\prime = \\int_0^{\\tau_\\lambda} -d \\tau_\\lambda^\\prime\n",
    "$$\n",
    "\n",
    "$$\n",
    "\\ln \\frac{E}{E_{in}} = \\int_0^z -k_\\lambda r_{co2} \\rho_{air} dz = - \\tau_\\lambda\n",
    "$$\n",
    "\n",
    "$$\n",
    "E = E_{in} \\exp( -\\tau )\n",
    "$$\n",
    "\n",
    "where\n",
    "\n",
    "$$\\tau_\\lambda = \\int_0^z  r_{co2}\\, \\rho_{air}\\, k_\\lambda dz$$\n",
    "\n",
    "Why is this an improvement?  We now have an absorption coefficient $k_\\lambda$ and mixing ratio $r_{co2}$ that are roughly constant with height and can be taken out of the integral.  Everything is tied up neatly in the optical\n",
    "depth $\\tau_\\lambda$, which is a kind of universal measure for the effect of absorption/scattering on the\n",
    "incident radiation.  A pair of atmospheres can have completely different profiles of  density and mixing\n",
    "ratio, but if those things integrate to the same optical depth, the effect on the absorption of radiation\n",
    "will be the same.\n",
    "\n",
    "\n",
    "To keep things simple I'm going to make up a set of 7 absorption coefficients and a mixing ratio that will give weighting functions that look something like the VPTR.  The next cell shows how to calculate the optical depth\n",
    "given a mixing ratio, absorption coefficient and a standard sounding:"
   ]
  },
  {
   "cell_type": "code",
   "execution_count": null,
   "id": "4e8c34dd",
   "metadata": {},
   "outputs": [],
   "source": [
    "Rd = 287.0\n",
    "\n",
    "\n",
    "def find_tau(r_gas, k_lambda, df):\n",
    "    \"\"\"\n",
    "    given a data frame df with a standard sounding, return the optical depth assuming an\n",
    "    absorbing gas with a constant mixing ration r_gas and absorption coefficient k_lambda\n",
    "    \n",
    "    Parameters\n",
    "    ----------\n",
    "    \n",
    "    r_gas: float\n",
    "       absorber mixing ratio, kg/kg\n",
    "       \n",
    "    k_lambda: float\n",
    "       mass absorption coefficient, m^2/kg\n",
    "       \n",
    "    df:  dataframe\n",
    "       sounding with height levels as rows, columns 'temp': temperature in K\n",
    "       'press': pressure in Pa\n",
    "       \n",
    "    Returns\n",
    "    -------\n",
    "    tau: vector (float)\n",
    "      optical depth measured from the surface at each height in df\n",
    "    \"\"\"\n",
    "    #\n",
    "    # density scale height\n",
    "    #\n",
    "    T, z = df[\"temp\"].values, df[\"z\"].values\n",
    "    Hdens = calcDensHeight(df)\n",
    "    #\n",
    "    # surface density\n",
    "    #\n",
    "    rho0 = df[\"press\"] / (Rd * df[\"temp\"])\n",
    "    rho = rho0 * np.exp(-df[\"z\"] / Hdens)\n",
    "    height = df[\"z\"].values\n",
    "    tau = np.empty_like(rho)\n",
    "    #\n",
    "    # start from the surface and integrate upward\n",
    "    #\n",
    "    tau[0] = 0\n",
    "    num_levels = len(rho)\n",
    "    num_layers = num_levels - 1\n",
    "    for index in range(num_layers):\n",
    "        delta_z = height[index + 1] - height[index]\n",
    "        delta_tau = r_gas * rho[index] * k_lambda * delta_z\n",
    "        tau[index + 1] = tau[index] + delta_tau\n",
    "    return tau"
   ]
  },
  {
   "cell_type": "markdown",
   "id": "8414c77e",
   "metadata": {},
   "source": [
    "### Plotting the optical depth\n",
    "\n",
    "This cell calls find_tau and plots $\\tau_\\lambda$ for one wavelength as a function\n",
    "of height and pressure in a tropical atmosphere."
   ]
  },
  {
   "cell_type": "code",
   "execution_count": null,
   "id": "d4b1b76e",
   "metadata": {},
   "outputs": [],
   "source": [
    "%matplotlib inline\n",
    "plt.style.use(\"ggplot\")\n",
    "r_gas = 0.01  # kg/kg\n",
    "k_lambda = 0.01  # m^2/kg\n",
    "df = sound_dict[\"tropics\"]\n",
    "top = 20.0e3\n",
    "df = df.loc[df[\"z\"] < top]\n",
    "height = df[\"z\"]\n",
    "press = df[\"press\"]\n",
    "tau = find_tau(r_gas, k_lambda, df)\n",
    "fig1, (axis1, axis2) = plt.subplots(1, 2, figsize=(10, 5))\n",
    "axis1.plot(tau, height * 1.0e-3)\n",
    "axis1.set_title(\"vertical optical depth vs. height\")\n",
    "axis1.set_ylabel(\"height (km)\")\n",
    "axis1.set_xlabel(\"optical depth (no units)\")\n",
    "axis2.plot(tau, press * 1.0e-3)\n",
    "axis2.invert_yaxis()\n",
    "axis2.set_title(\"vertical optical depth vs. pressure\")\n",
    "axis2.set_ylabel(\"pressure (kPa)\")\n",
    "axis2.set_xlabel(\"optical depth (no units)\");"
   ]
  },
  {
   "cell_type": "markdown",
   "id": "bf66e0d0",
   "metadata": {},
   "source": [
    "## Plotting the weighting functions\n",
    "\n",
    "Now we're ready to calculate the weighting functions $\\Delta \\hat{t}$ for different values of $k_\\lambda$\n",
    "\n",
    "This cell defines 7 wavenumbers ($1/\\lambda$) in the CO2 absorption band between 666 and 766 $cm^{-1}$\n",
    "It makes a list of both the wavenumbers and the $k_\\lambda$ for each wavenumber, as well\n",
    "as legend labels to use in plotting."
   ]
  },
  {
   "cell_type": "code",
   "execution_count": null,
   "id": "cf639bf4",
   "metadata": {},
   "outputs": [],
   "source": [
    "r_gas = 0.01  # kg/kg\n",
    "#\n",
    "# assign the 7 k_lambdas to 7 CO2 absorption band wavelengths\n",
    "# (see Wallace and Hobbs figure 4.33)\n",
    "#\n",
    "wavenums = np.linspace(666, 766, 7)  # wavenumbers in cm^{-1}\n",
    "wavelengths = 1 / wavenums * 1.0e-2  # wavelength in m\n",
    "wavelengths_um = wavelengths * 1.0e6  # in microns\n",
    "print(\"channel wavelengths (microns) \", wavelengths_um)  # microns\n",
    "df = sound_dict[\"tropics\"]\n",
    "top = 20.0e3  # stop at 20 km\n",
    "df = df.loc[df[\"z\"] < top]\n",
    "height = df[\"z\"].values\n",
    "mid_height = (height[1:] - height[:-1]) / 2.0\n",
    "#\n",
    "# here are the mass absorption coefficients for each of the 7 wavelengths\n",
    "# in m^2/kg\n",
    "#\n",
    "k_lambda_list = np.array([0.175, 0.15, 0.125, 0.1, 0.075, 0.05, 0.025])\n",
    "legend_string = [f\"{item:5.3f}\" for item in k_lambda_list]"
   ]
  },
  {
   "cell_type": "markdown",
   "id": "f0be6b69",
   "metadata": {},
   "source": [
    "**The next cell finds the transmissivity $\\hat{t}$ from $\\tau$ (line 28) and calculates the\n",
    "weighting function $\\Delta \\hat{t}$ using np.diff (line 30)**\n",
    "\n",
    "Note that on line 28 we are defining the transmittance from the satellite to the surface, that is,\n",
    "the transmittance = 1 at the top of the atmosphere where tau=tau_tot"
   ]
  },
  {
   "cell_type": "code",
   "execution_count": null,
   "id": "1166997e",
   "metadata": {},
   "outputs": [],
   "source": [
    "#\n",
    "# make a list of tuples of k_lambda and its label\n",
    "# using zip\n",
    "#\n",
    "k_vals = zip(k_lambda_list, legend_string)\n",
    "#\n",
    "#  find the height at mid-layer\n",
    "#\n",
    "mid_height = (height[1:] + height[:-1]) / 2.0\n",
    "fig1, axis_list = plt.subplots(2, 2, figsize=(14, 14))\n",
    "#\n",
    "# turn axis_list from 2 x 2 to 4 x 1\n",
    "#\n",
    "axis_list = np.array(axis_list).ravel()\n",
    "#\n",
    "# throw away the 4th plot using delaxes -- only plotting 3 graphs\n",
    "#\n",
    "fig1.delaxes(axis_list[3])\n",
    "axis_list = axis_list[:3]\n",
    "for the_ax in axis_list:\n",
    "    the_ax.grid(True)\n",
    "heightkm = height * 1.0e-3\n",
    "mid_heightkm = mid_height * 1.0e-3\n",
    "for k_lambda, k_label in k_vals:\n",
    "    tau = find_tau(r_gas, k_lambda, df)\n",
    "    tau_tot = tau[-1]\n",
    "    axis_list[0].plot(tau, heightkm, label=k_label)\n",
    "    trans = np.exp(-(tau_tot - tau))\n",
    "    axis_list[1].plot(trans, heightkm, label=k_label)\n",
    "    del_trans = np.diff(trans)\n",
    "    axis_list[2].plot(del_trans, mid_heightkm, label=k_label)\n",
    "\n",
    "titles = [\n",
    "    r\"optical depth $\\tau_{\\lambda}$ for 7 values of $k_\\lambda$\",\n",
    "    \"transmittance $\\hat{t_\\lambda}$ for 7 values of $k_\\lambda$\",\n",
    "    \"weighting function $\\Delta \\hat{t_\\lambda}$ for 7 values of $k_\\lambda$\",\n",
    "]\n",
    "xlabels = [\"optical depth\", \"transmittance\", \"weighting function\"]\n",
    "for axis, title, xlabel in zip(axis_list, titles, xlabels):\n",
    "    axis.set(title=title, xlabel=xlabel)\n",
    "[axis.set_ylabel(\"height (km)\") for axis in axis_list]\n",
    "[axis.legend(loc=\"best\") for axis in axis_list]\n",
    "fig1.savefig(\"trans_plots.png\")"
   ]
  },
  {
   "cell_type": "markdown",
   "id": "3ed2a2da",
   "metadata": {},
   "source": [
    "## Integrating the Schwartzchild equation\n",
    "\n",
    "This final cell uses the weighting functions to integrate the Schwartchild equation (Stull 8.4)\n",
    "\n",
    "The weighting function is calculated at line 14, and the integral is done at line 15\n",
    "\n",
    "For plotting the radiances are turned into brightness temperatures at line 17"
   ]
  },
  {
   "cell_type": "code",
   "execution_count": null,
   "id": "ba600350",
   "metadata": {},
   "outputs": [],
   "source": [
    "from collections import defaultdict\n",
    "from sat_lib.radiation import calc_radiance, planck_invert\n",
    "\n",
    "Tbright = defaultdict(list)\n",
    "for the_sound, the_df in sound_dict.items():\n",
    "    for the_wave_m, the_k in zip(wavelengths, k_lambda_list):\n",
    "        #pdb.set_trace()\n",
    "        tau = find_tau(r_gas, the_k, the_df)\n",
    "        tau_tot = tau[-1]\n",
    "        temps = the_df[\"temp\"].values\n",
    "        Bsfc = calc_radiance(the_wave_m, temps[0])\n",
    "        sfc_contrib = Bsfc * np.exp(-tau_tot)\n",
    "        mid_temps = (temps[1:] + temps[:-1]) / 2.0\n",
    "        Batm = calc_radiance(the_wave_m, mid_temps)\n",
    "        trans = np.exp(-(tau_tot - tau))\n",
    "        weights = np.diff(trans)\n",
    "        atm_contrib = np.sum(Batm * weights)\n",
    "        Lsat = sfc_contrib + atm_contrib\n",
    "        the_temp = planck_invert(the_wave_m, Lsat)\n",
    "        Tbright[the_sound].append(the_temp)\n",
    "    Tbright[the_sound] = np.array(Tbright[the_sound])\n",
    "\n",
    "plt.style.use(\"ggplot\")\n",
    "fig, ax = plt.subplots(1, 1, figsize=(8, 8))\n",
    "the_wave_um = wavelengths * 1.0e6\n",
    "for the_sound, the_temps in Tbright.items():\n",
    "    ax.plot(the_wave_um, the_temps, label=the_sound)\n",
    "ax.legend(loc=\"best\")\n",
    "ax.set(ylabel=\"Tbright (K)\", xlabel=\"wavelength (microns)\")\n",
    "print(the_wave_um)"
   ]
  },
  {
   "cell_type": "code",
   "execution_count": null,
   "id": "b457e2b4",
   "metadata": {},
   "outputs": [],
   "source": []
  }
 ],
 "metadata": {
  "jupytext": {
   "text_representation": {
    "extension": ".md",
    "format_name": "myst",
    "format_version": 0.13,
    "jupytext_version": "1.14.0"
   }
  },
  "kernelspec": {
   "display_name": "Python 3 (ipykernel)",
   "language": "python",
   "name": "python3"
  },
  "source_map": [
   12,
   37,
   41,
   45,
   49,
   53,
   57,
   70,
   74,
   78,
   82,
   86,
   111,
   120,
   135,
   148,
   209,
   259,
   266,
   287,
   297,
   318,
   326,
   370,
   380,
   413
  ]
 },
 "nbformat": 4,
 "nbformat_minor": 5
}