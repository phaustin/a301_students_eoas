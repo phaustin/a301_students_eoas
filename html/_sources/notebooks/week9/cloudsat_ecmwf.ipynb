{
 "cells": [
  {
   "cell_type": "markdown",
   "id": "1dd4476d",
   "metadata": {
    "user_expressions": []
   },
   "source": [
    "(week9:cloudsat_ecmwf)=\n",
    "# Working with cloudsat data\n",
    "\n",
    "In this notebook we'll combine the cloudsat reflectivity with the ECMWF modeled temperatures to see whether\n",
    "the bright band measured by cloudsat matches the 0-degree isotherm in the model.\n",
    "\n",
    "I step 1 we select radar reflectivities for a tropical cloud, and in step 2 we overlay the forecast model\n",
    "isotherm on top of the reflectivities.\n",
    "\n",
    "I'll use the [seaborn color palette module](https://seaborn.pydata.org/tutorial/color_palettes.html) to pick a palette that\n",
    "emphasizes the freezing level in the temperature plot"
   ]
  },
  {
   "cell_type": "markdown",
   "id": "ed78177e",
   "metadata": {
    "user_expressions": []
   },
   "source": [
    "## Step 1: Plot the radar reflectivity for a storm"
   ]
  },
  {
   "cell_type": "markdown",
   "id": "37fd671e",
   "metadata": {
    "user_expressions": []
   },
   "source": [
    "### Read in the radar reflectivity using `read_cloudsat_var`"
   ]
  },
  {
   "cell_type": "code",
   "execution_count": null,
   "id": "04f3c67a",
   "metadata": {},
   "outputs": [],
   "source": [
    "import numpy as np\n",
    "import datetime as dt\n",
    "from datetime import timezone as tz\n",
    "from matplotlib import pyplot as plt\n",
    "import pyproj\n",
    "from numpy import ma\n",
    "import a301_lib\n",
    "from sat_lib.cloudsat import read_cloudsat_var\n",
    "import seaborn as sns\n",
    "\n",
    "z_file=(a301_lib.data_share / 'pha/cloudsat').glob('20080820*CS_2B*GEOPROF*hdf')\n",
    "z_file = list(z_file)[0]\n",
    "meters2km=1.e3\n",
    "print(z_file)\n",
    "\n",
    "radar_ds = read_cloudsat_var('Radar_Reflectivity',z_file)\n",
    "    \n",
    "radar_ds"
   ]
  },
  {
   "cell_type": "code",
   "execution_count": null,
   "id": "cc98ca0d",
   "metadata": {},
   "outputs": [],
   "source": [
    "radar_ds.time.data"
   ]
  },
  {
   "cell_type": "code",
   "execution_count": null,
   "id": "5558c475",
   "metadata": {},
   "outputs": [],
   "source": [
    "radar_ds.orbit_end_time"
   ]
  },
  {
   "cell_type": "markdown",
   "id": "961b5147",
   "metadata": {
    "user_expressions": []
   },
   "source": [
    "#### I know the storm covers 3 minutes of data starting at 6:45 UTC\n",
    "\n",
    "From the quicklook plot for granule 10105 on 2008-03-22 I know there's a storm starting at 6:45 UTC near Indonesia. To get \n",
    "the correct section of cloudsat data, I'll bracket the 3 minutes from 6:45-6:48.\n",
    "\n",
    "There are about 1125 measurements in those 3 minutes.  We use the logical index \"time_hit\"\n",
    "clip the data from the full dataset."
   ]
  },
  {
   "cell_type": "code",
   "execution_count": null,
   "id": "a3ca81e2",
   "metadata": {},
   "outputs": [],
   "source": [
    "import pandas as pd\n",
    "#\n",
    "# use pandas to convert the timestamp (a 64 bit number) to datetime objects\n",
    "#\n",
    "orbit_times=pd.to_datetime(radar_ds.coords['time'])\n",
    "first_time = orbit_times[0]\n",
    "print(f'orbit start: {first_time}')\n",
    "#\n",
    "# clipping index 6:45 - 6:48\n",
    "#\n",
    "start_hour=6\n",
    "start_minute=45\n",
    "storm_start=starttime=dt.datetime(first_time.year,first_time.month,first_time.day,\n",
    "                                        start_hour,start_minute,0)\n",
    "#\n",
    "# get 3 minutes of data from the storm_start\n",
    "#\n",
    "storm_stop=storm_start + dt.timedelta(minutes=3)\n",
    "print('storm start: {}'.format(storm_start))\n",
    "#\n",
    "# create a logical index that has the right time interval\n",
    "#\n",
    "time_hit = np.logical_and(orbit_times > storm_start,orbit_times < storm_stop)\n",
    "#\n",
    "# use it to clip the data\n",
    "# \n",
    "storm_lats = radar_ds['latitude'][time_hit]\n",
    "storm_lons=radar_ds['longitude'][time_hit]\n",
    "storm_prof_times=radar_ds.coords['profile_time'][time_hit]\n",
    "storm_zvals=radar_ds['Radar_Reflectivity'][time_hit,:]\n",
    "distance_km = radar_ds['distance_km'][time_hit]\n",
    "storm_date_times=orbit_times[time_hit]"
   ]
  },
  {
   "cell_type": "code",
   "execution_count": null,
   "id": "b2290031",
   "metadata": {},
   "outputs": [],
   "source": [
    "storm_start.isoformat()"
   ]
  },
  {
   "cell_type": "markdown",
   "id": "64ec71d6",
   "metadata": {
    "user_expressions": []
   },
   "source": [
    "#### Use pcolormeash to plot the reflectivity image\n",
    "\n",
    "[pseudo color mesh](https://matplotlib.org/stable/gallery/images_contours_and_fields/pcolor_demo.html) is a plotting routine that can be used to plot either regular or irregularly gridded\n",
    "images using a color palette\n",
    "\n",
    "Notice the bright band visible at a height of 5 km"
   ]
  },
  {
   "cell_type": "code",
   "execution_count": null,
   "id": "e88ffaab",
   "metadata": {},
   "outputs": [],
   "source": [
    "import copy\n",
    "\n",
    "from matplotlib import cm\n",
    "from matplotlib.colors import Normalize\n",
    "vmin=-25\n",
    "vmax=20\n",
    "the_norm=Normalize(vmin=vmin,vmax=vmax,clip=False)\n",
    "cmap_ref=copy.copy(cm.viridis)\n",
    "cmap_ref.set_over('w')\n",
    "cmap_ref.set_under('0.5')\n",
    "cmap_ref.set_bad('0.75') #75% grey\n",
    "day = orbit_times[0].date()\n",
    "cloud_height_km=storm_zvals.coords['height']/meters2km\n",
    "distance_km = storm_zvals.coords['distance_km']\n",
    "distance_km = distance_km - distance_km[0]\n",
    "fig, ax = plt.subplots(1,1,figsize=(14,4))\n",
    "col = ax.pcolormesh(distance_km,cloud_height_km,storm_zvals.T,\n",
    "                   cmap = cmap_ref, norm=the_norm)\n",
    "ax.set(ylim=[0,17],xlabel = \"distance (km)\",ylabel=\"height (km)\",\n",
    "       title = f\"radar reflectivity (dbZ) on {day}, granule {radar_ds.granule_id}\")\n",
    "fig.colorbar(col,extend='both',ax=ax);"
   ]
  },
  {
   "cell_type": "markdown",
   "id": "0f3b7f98",
   "metadata": {
    "user_expressions": []
   },
   "source": [
    "## Step 2: Compare cloudsat and the ECMWF model\n",
    "\n",
    "The `ECMWF-AUX` file holds the model data from the European Centre for Medium Range Forecasting, interpolated\n",
    "to the cloudsat radar grid.  Below we read the temperature field and convert to centigrade.  We also clip\n",
    "it to the storm time values."
   ]
  },
  {
   "cell_type": "code",
   "execution_count": null,
   "id": "ab7f1719",
   "metadata": {},
   "outputs": [],
   "source": [
    "ecmwf_file=(a301_lib.data_share / 'pha/cloudsat').glob('20080820*ECMWF-AUX*_GRANULE_*.hdf')\n",
    "ecmwf_file = list(ecmwf_file)[0]\n",
    "temperature_ds = read_cloudsat_var('Temperature',ecmwf_file)\n",
    "temperature = temperature_ds['Temperature'][time_hit,:]\n",
    "temperature = temperature - 273.15\n",
    "temperature"
   ]
  },
  {
   "cell_type": "markdown",
   "id": "bc7370cc",
   "metadata": {
    "user_expressions": []
   },
   "source": [
    "### Plot the temperature\n",
    "\n",
    "The palette we'll use goes through white at zero, which makes it easy to see the isotherm.\n",
    "This is called a \"diverging palette\""
   ]
  },
  {
   "cell_type": "code",
   "execution_count": null,
   "id": "e463d81c",
   "metadata": {},
   "outputs": [],
   "source": [
    "vmin=-30\n",
    "vmax=30\n",
    "the_norm=Normalize(vmin=vmin,vmax=vmax,clip=False)\n",
    "#\n",
    "# use a seaborn palette with blue-green colors\n",
    "#\n",
    "cmap_ec=sns.diverging_palette(261, 153,sep=6, s=85, l=66,as_cmap=True)\n",
    "cmap_ec.set_over('w')\n",
    "cmap_ec.set_under('b',alpha=0.2)\n",
    "cmap_ec.set_bad('0.75') #75% grey\n",
    "fig2, ax2 = plt.subplots(1,1,figsize=(14,4))\n",
    "height_km=temperature.height/meters2km\n",
    "distance_km = temperature.distance_km\n",
    "distance_km = distance_km - distance_km[0]\n",
    "col = ax2.pcolormesh(distance_km,cloud_height_km,temperature.T,\n",
    "                   cmap = cmap_ec, norm=the_norm)\n",
    "fig2.colorbar(col,extend='both',ax=ax2);\n",
    "ax2.set(ylim=[0,10],xlim=(0,1200),\n",
    "       xlabel='distance (km)',ylabel='height (km)',\n",
    "       title=\"ECMWF temperture (deg C)\")"
   ]
  },
  {
   "cell_type": "markdown",
   "id": "5dcb53c1",
   "metadata": {
    "user_expressions": []
   },
   "source": [
    "## Find the 0 degree isotherm\n",
    "\n",
    "A trick to find the index where the temperature changes sign is to take the absolute value of the temperature\n",
    "then find the index of the minimum value, which will be zero.  We need to use the numpy nanargmin function for this\n",
    "since the model temperature field has nan values above 10 km"
   ]
  },
  {
   "cell_type": "code",
   "execution_count": null,
   "id": "e4720c8d",
   "metadata": {},
   "outputs": [],
   "source": [
    "#\n",
    "#  find the vertical index where the ECMWF temperature field is closest to zero\n",
    "#  we want to draw a line on the radar reflectivity at this height\n",
    "#\n",
    "abs_temps=np.abs(temperature.data)\n",
    "abs_temps.shape\n",
    "index_vals=np.nanargmin(abs_temps,axis=1)\n",
    "height_vec=[height_km.data[index] for index in index_vals]"
   ]
  },
  {
   "cell_type": "markdown",
   "id": "22237965",
   "metadata": {
    "user_expressions": []
   },
   "source": [
    "### Redraw figure 1 with the isotherm\n",
    "\n",
    "It looks like the model and the radar agree on the freezing level for this storm"
   ]
  },
  {
   "cell_type": "code",
   "execution_count": null,
   "id": "1a486807",
   "metadata": {},
   "outputs": [],
   "source": [
    "ax.plot(distance_km,height_vec,'r')\n",
    "display(fig)"
   ]
  },
  {
   "cell_type": "code",
   "execution_count": null,
   "id": "b9418e24",
   "metadata": {},
   "outputs": [],
   "source": [
    "storm_zvals.time"
   ]
  },
  {
   "cell_type": "markdown",
   "id": "9b6f17e2",
   "metadata": {
    "user_expressions": []
   },
   "source": [
    "## Save the datasets\n",
    "\n",
    "Save these datasets for week10 -- write them out as netcdf files\n",
    "\n",
    "### First, select just the storm times\n",
    "\n",
    "We can clip along the time axis by using the `sel` method -- see [https://docs.xarray.dev/en/stable/user-guide/indexing.html](https://docs.xarray.dev/en/stable/user-guide/indexing.html)"
   ]
  },
  {
   "cell_type": "code",
   "execution_count": null,
   "id": "d635ce45",
   "metadata": {},
   "outputs": [],
   "source": [
    "storm_zvals = radar_ds.sel(time=time_hit)\n",
    "temperature = temperature_ds.sel(time=time_hit)"
   ]
  },
  {
   "cell_type": "markdown",
   "id": "fc908a10",
   "metadata": {
    "user_expressions": []
   },
   "source": [
    "### Now write to netcdf files\n",
    "\n",
    "Change the output directory and make `do_write=True` to write out your storm checkpoint files"
   ]
  },
  {
   "cell_type": "code",
   "execution_count": null,
   "id": "8ba2a661",
   "metadata": {},
   "outputs": [],
   "source": [
    "do_write=False\n",
    "if do_write:   \n",
    "    outfile_zvals = a301_lib.data_share / \"pha/cloudsat/storm_zvals.nc\"\n",
    "    storm_zvals.to_netcdf(outfile_zvals,mode='w')\n",
    "    outfile_temp = a301_lib.data_share / \"pha/cloudsat/temperature.nc\"\n",
    "    temperature.to_netcdf(outfile_temp,mode='w')"
   ]
  }
 ],
 "metadata": {
  "anaconda-cloud": {},
  "jupytext": {
   "notebook_metadata_filter": "all,-language_info,-toc,-latex_envs",
   "text_representation": {
    "extension": ".md",
    "format_name": "myst",
    "format_version": 0.13,
    "jupytext_version": "1.14.5"
   }
  },
  "kernelspec": {
   "display_name": "Python 3 (ipykernel)",
   "language": "python",
   "name": "python3"
  },
  "source_map": [
   16,
   30,
   34,
   38,
   59,
   63,
   67,
   77,
   112,
   116,
   125,
   149,
   157,
   166,
   173,
   196,
   204,
   215,
   221,
   226,
   230,
   240,
   245,
   251
  ]
 },
 "nbformat": 4,
 "nbformat_minor": 5
}