{
 "cells": [
  {
   "cell_type": "markdown",
   "id": "72c1a243",
   "metadata": {},
   "source": [
    "(week3:coords)=\n",
    "# Mapping Vancouver with cartopy\n",
    "\n",
    "The pamphlet:\n",
    "\n",
    "[Understanding map projections](https://drive.google.com/file/d/1araPnZwMui9tBTPyLO_UHVC2DDEIdZ0p/view?usp=sharing)\n",
    "\n",
    "Introduces geographic coordinate systems in Chapter 1.  They solve the problem of how to locate yourself on the earth's surface in three dimensions.  They specify an angular measure of units, a prime meridian, a spheroid and a datam (see chapter 1).\n",
    "\n",
    "## Basic points\n",
    "\n",
    "We need to define two fundamental things:\n",
    "\n",
    "1.  A \"[datum](https://www.maptools.com/tutorials/map_datum)\"  (called a \"globe\" in cartopy) that gives the three dimensional shape of the earth (and other things)\n",
    "\n",
    "1.  A \"[projection](https://en.wikipedia.org/wiki/List_of_map_projections)\" that maps a point on the earth's surface onto an x-y coordinate system to make a 2-dimensional plot.\n",
    "\n",
    "1.  Our mapping module is called [cartopy](http://scitools.org.uk/cartopy/docs/latest/index.html).  Internally, it uses projection code in [pyproj](https://github.com/jswhit/pyproj), which in turn is a wrapper around C code called\n",
    "[proj4](https://proj4.org/usage/projections.html)\n",
    "\n",
    "## An example\n",
    "\n",
    "The [Equal Area Scalable Earth Grid](https://nsidc.org/data/ease)\n",
    "\n",
    "1. Datum: The original EASE grid assumed a spherical earth with a radius of 6371.228 km.  [EASE-2](https://nsidc.org/data/ease/versions.html) uses a datum called [WGS 84](https://en.wikipedia.org/wiki/World_Geodetic_System)\n",
    "\n",
    "1. Both EASE and EASE-2 use the [Lambert Azimuthal Equal Area](https://en.wikipedia.org/wiki/Lambert_azimuthal_equal-area_projection) or LAEA\n",
    "\n",
    "$# Map projections\n",
    "\n",
    "Chapter 2 describes map projections.  We will generally be using the LAEA projection for individual Modis granules.\n",
    "\n",
    "### plotting Vancouver on a map\n",
    "\n",
    "\n",
    "* Step 1: Use [cartopy](http://scitools.org.uk/cartopy/docs/latest/index.html) to make a LAEA map of BC including Vancouver."
   ]
  },
  {
   "cell_type": "code",
   "execution_count": null,
   "id": "77de2f24",
   "metadata": {
    "execution": {
     "iopub.execute_input": "2023-02-01T19:22:07.612882Z",
     "iopub.status.busy": "2023-02-01T19:22:07.612370Z",
     "iopub.status.idle": "2023-02-01T19:22:07.630766Z",
     "shell.execute_reply": "2023-02-01T19:22:07.629152Z"
    }
   },
   "outputs": [],
   "source": [
    "import a301_lib\n",
    "import warnings\n",
    "warnings.filterwarnings('ignore')\n",
    "hdf4_dir = a301_lib.sat_data / \"pha\"\n",
    "granules = list(hdf4_dir.glob(\"MYD02*2105*hdf\"))\n",
    "print(granules[0])"
   ]
  },
  {
   "cell_type": "code",
   "execution_count": null,
   "id": "59fdf30a",
   "metadata": {
    "execution": {
     "iopub.execute_input": "2023-02-01T19:22:07.634441Z",
     "iopub.status.busy": "2023-02-01T19:22:07.634131Z",
     "iopub.status.idle": "2023-02-01T19:22:07.913237Z",
     "shell.execute_reply": "2023-02-01T19:22:07.911920Z"
    }
   },
   "outputs": [],
   "source": [
    "from sat_lib.modismeta_read import parseMeta\n",
    "granules =list(hdf4_dir.glob(\"MYD02*2105*hdf\"))\n",
    "print(granules[0].is_file())\n",
    "meta_dict = parseMeta(granules[0])\n",
    "meta_dict"
   ]
  },
  {
   "cell_type": "markdown",
   "id": "1bb14b48",
   "metadata": {},
   "source": [
    "*  What's in the file?"
   ]
  },
  {
   "cell_type": "markdown",
   "id": "9375e20f",
   "metadata": {},
   "source": [
    "**This cell sets up the datum and the LAEA projection, with the tangent point at the North Pole and the central meridian at -90 degrees west of Greenwich**"
   ]
  },
  {
   "cell_type": "code",
   "execution_count": null,
   "id": "704f5666",
   "metadata": {
    "execution": {
     "iopub.execute_input": "2023-02-01T19:22:07.918470Z",
     "iopub.status.busy": "2023-02-01T19:22:07.918056Z",
     "iopub.status.idle": "2023-02-01T19:22:08.649679Z",
     "shell.execute_reply": "2023-02-01T19:22:08.648535Z"
    }
   },
   "outputs": [],
   "source": [
    "import cartopy.crs as ccrs\n",
    "import matplotlib.pyplot as plt\n",
    "import cartopy\n",
    "#\n",
    "# Datum: radius of the earth in meters\n",
    "#\n",
    "radius = 6_371_228\n",
    "\n",
    "#\n",
    "# vancouver longitude, latitude indegrees\n",
    "#\n",
    "van_lon, van_lat = [-123.1207, 49.2827]\n",
    "#\n",
    "# use a simple sphere as the datum\n",
    "#\n",
    "globe = ccrs.Globe(ellipse=None, semimajor_axis=radius, semiminor_axis=radius)\n",
    "#\n",
    "# set up\n",
    "#\n",
    "projection = ccrs.LambertAzimuthalEqualArea(\n",
    "    central_latitude=90, central_longitude=-90, globe=globe\n",
    ")\n",
    "print(f\"pro4 program params: {projection.proj4_params}\")"
   ]
  },
  {
   "cell_type": "markdown",
   "id": "70b1aca3",
   "metadata": {},
   "source": [
    "**Use matplotlib to draw the map and add a coastline**"
   ]
  },
  {
   "cell_type": "code",
   "execution_count": null,
   "id": "0bcfa200",
   "metadata": {
    "execution": {
     "iopub.execute_input": "2023-02-01T19:22:08.654027Z",
     "iopub.status.busy": "2023-02-01T19:22:08.653679Z",
     "iopub.status.idle": "2023-02-01T19:22:13.885299Z",
     "shell.execute_reply": "2023-02-01T19:22:13.884125Z"
    }
   },
   "outputs": [],
   "source": [
    "fig, ax = plt.subplots(1, 1, figsize=(10, 10), subplot_kw={\"projection\": projection})\n",
    "ax.gridlines(linewidth=2)\n",
    "ax.add_feature(cartopy.feature.GSHHSFeature(scale=\"coarse\", levels=[1, 2, 3]))"
   ]
  },
  {
   "cell_type": "markdown",
   "id": "a4fd0549",
   "metadata": {},
   "source": [
    "*  zoom in on vancouver\n",
    "\n",
    "The next step is to pick an bounding box in map coordinates (the \"extent\") to limit the map area\n",
    "\n",
    "The idea is to reduce the extent of the map to a region that is only a fraction\n",
    "of the original full globe.  The strategy is to find a point in your swath and\n",
    "get it's x,y coords, then use that to set the corners of the map so that\n",
    "you have your region of interest"
   ]
  },
  {
   "cell_type": "code",
   "execution_count": null,
   "id": "25c60c2b",
   "metadata": {
    "execution": {
     "iopub.execute_input": "2023-02-01T19:22:13.892869Z",
     "iopub.status.busy": "2023-02-01T19:22:13.892529Z",
     "iopub.status.idle": "2023-02-01T19:22:13.898981Z",
     "shell.execute_reply": "2023-02-01T19:22:13.897697Z"
    }
   },
   "outputs": [],
   "source": [
    "#\n",
    "# pick a bounding box in map coordinates\n",
    "# (we know from the next cell that vancouver is located\n",
    "# at x,y = -2_422_235, -3_721_768  so pick a bounding box\n",
    "# based on that\n",
    "#\n",
    "xleft, xright = -4_000_000, -800_000\n",
    "ybot, ytop = -4_700_000, -3_100_000"
   ]
  },
  {
   "cell_type": "markdown",
   "id": "852c0121",
   "metadata": {},
   "source": [
    "* Use the transform_point method to get x,y on this projection\n",
    "\n",
    "This is how we put Vancouver (in lon,lat coords) on the map (in LAEA x,y coords)\n",
    "\n",
    "We use the `projection.transform_point` method to get the lat/lon of Vancouver into map coordinates"
   ]
  },
  {
   "cell_type": "code",
   "execution_count": null,
   "id": "84f3cd3a",
   "metadata": {
    "execution": {
     "iopub.execute_input": "2023-02-01T19:22:13.902860Z",
     "iopub.status.busy": "2023-02-01T19:22:13.902480Z",
     "iopub.status.idle": "2023-02-01T19:22:14.226224Z",
     "shell.execute_reply": "2023-02-01T19:22:14.225313Z"
    }
   },
   "outputs": [],
   "source": [
    "fig, ax = plt.subplots(1, 1, figsize=(10, 10), subplot_kw={\"projection\": projection})\n",
    "#\n",
    "# clip with 0,0 in the center:  [xleft, xright, ybot, ytop]\n",
    "#\n",
    "new_extent = [xleft, xright, ybot, ytop]\n",
    "ax.set_extent(new_extent, projection)\n",
    "#\n",
    "# the simple lon,lat projection is called \"geodetic\"\n",
    "#\n",
    "geodetic = ccrs.Geodetic()\n",
    "van_x, van_y = projection.transform_point(van_lon, van_lat, geodetic)\n",
    "ax.plot(van_x, van_y, \"ro\", markersize=10)\n",
    "ax.gridlines(linewidth=2)\n",
    "ax.add_feature(cartopy.feature.GSHHSFeature(scale=\"coarse\", levels=[1, 2, 3]))\n",
    "print(van_x, van_y);"
   ]
  },
  {
   "cell_type": "markdown",
   "id": "5a8e184e",
   "metadata": {},
   "source": [
    "* saving the figure\n",
    "\n",
    "Since we have created a figure object, we can use that to save the png file\n",
    "using the same syntax as [Kazarinoff 7.4](https://atsc_web.eoas.ubc.ca/Plotting-with-Matplotlib/Saving-Plots.html)"
   ]
  },
  {
   "cell_type": "code",
   "execution_count": null,
   "id": "5a4bb050",
   "metadata": {
    "execution": {
     "iopub.execute_input": "2023-02-01T19:22:14.229850Z",
     "iopub.status.busy": "2023-02-01T19:22:14.229126Z",
     "iopub.status.idle": "2023-02-01T19:22:14.352910Z",
     "shell.execute_reply": "2023-02-01T19:22:14.351697Z"
    }
   },
   "outputs": [],
   "source": [
    "png_file = a301_lib.data_share / 'pha/pha_map.png'\n",
    "fig.savefig(png_file)"
   ]
  }
 ],
 "metadata": {
  "jupytext": {
   "cell_metadata_filter": "all",
   "notebook_metadata_filter": "all,-language_info,-toc,-latex_envs",
   "text_representation": {
    "extension": ".md",
    "format_name": "myst",
    "format_version": 0.13,
    "jupytext_version": "1.14.4"
   }
  },
  "kernelspec": {
   "display_name": "Python 3 (ipykernel)",
   "language": "python",
   "name": "python3"
  },
  "source_map": [
   14,
   53,
   70,
   84,
   88,
   92,
   124,
   128,
   140,
   151,
   168,
   176,
   200,
   207
  ]
 },
 "nbformat": 4,
 "nbformat_minor": 5
}