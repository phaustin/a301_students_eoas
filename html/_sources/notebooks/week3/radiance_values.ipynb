{
 "cells": [
  {
   "cell_type": "markdown",
   "id": "164b552d",
   "metadata": {},
   "source": [
    "(week3:radiance_check)=\n",
    "# Sanity checking radiance vaules\n",
    "\n",
    "This notebook compares radiances from channel 30 (9.73 $\\mu m$) and channel 31 (11.03 $\\mu m$)"
   ]
  },
  {
   "cell_type": "code",
   "execution_count": null,
   "id": "e3c05676",
   "metadata": {},
   "outputs": [],
   "source": [
    "import pprint\n",
    "from pathlib import Path\n",
    "\n",
    "import a301_lib\n",
    "import numpy as np\n",
    "from matplotlib import pyplot as plt\n",
    "from pyhdf.SD import SD\n",
    "from pyhdf.SD import SDC\n",
    "from matplotlib.colors import Normalize"
   ]
  },
  {
   "cell_type": "markdown",
   "id": "e24b1f17",
   "metadata": {},
   "source": [
    "## two useful functions\n",
    "\n",
    "Extra these from week2/radiation.py and week1/modis_level1b_read.md"
   ]
  },
  {
   "cell_type": "code",
   "execution_count": null,
   "id": "bf24bf99",
   "metadata": {},
   "outputs": [],
   "source": [
    "#\n",
    "# get Stull's c_1 and c_2 from fundamental constants\n",
    "#\n",
    "# c=2.99792458e+08  #m/s -- speed of light in vacuum\n",
    "# h=6.62606876e-34  #J s  -- Planck's constant\n",
    "# k=1.3806503e-23  # J/K  -- Boltzman's constant\n",
    "\n",
    "c, h, k = 299_792_458.0, 6.626_070_04e-34, 1.380_648_52e-23\n",
    "c1 = 2.0 * h * c ** 2.0\n",
    "c2 = h * c / k\n",
    "sigma = 2.0 * np.pi ** 5.0 * k ** 4.0 / (15 * h ** 3.0 * c ** 2.0)\n",
    "\n",
    "\n",
    "\n",
    "def Llambda(wavel, Temp):\n",
    "    \"\"\"\n",
    "    Calculate the blackbody radiance starting with(Stull 2.13)\n",
    "\n",
    "    Parameters\n",
    "    ----------\n",
    "\n",
    "      wavel: float or array\n",
    "           wavelength (meters)\n",
    "\n",
    "      Temp: float\n",
    "           temperature (K)\n",
    "\n",
    "    Returns\n",
    "    -------\n",
    "\n",
    "    Llambda:  float or arr\n",
    "           monochromatic blackbody radiance (W/m^2/m/sr)\n",
    "    \"\"\"\n",
    "    # Stull: Elambda_val = c1 * np.pi / (wavel ** 5.0 * (np.exp(c2 / (wavel * Temp)) - 1))\n",
    "    Llambda_val = c1  / (wavel ** 5.0 * (np.exp(c2 / (wavel * Temp)) - 1))\n",
    "    return Llambda_val\n",
    "\n",
    "def readband(the_file,the_band):\n",
    "    \"\"\"\n",
    "    read and calibrate a MODIS band from an open hdf4 SD dataset\n",
    "    \n",
    "    Parameters\n",
    "    ----------\n",
    "    \n",
    "       the_file:pyhdf.SD object\n",
    "           the dataset open for reading\n",
    "       the_band: int\n",
    "           band number for MODIS (1-36)\n",
    "           \n",
    "    Returns\n",
    "    -------\n",
    "       the_chan_calibrated: ndarray\n",
    "           the pixel radiances in W/m^2/sr/micron\n",
    "    \"\"\"\n",
    "    longwave_data = the_file.select(\"EV_1KM_Emissive\")  # select sds\n",
    "    longwave_bands = the_file.select(\"Band_1KM_Emissive\")\n",
    "    band_nums = longwave_bands.get()\n",
    "    thechan_index = int(np.searchsorted(band_nums, the_band))\n",
    "    print(f\"channel index for band {the_band} is {thechan_index}\")\n",
    "    thechan_data = longwave_data[thechan_index, :, :]\n",
    "    scales = longwave_data.attributes()[\"radiance_scales\"]\n",
    "    offsets = longwave_data.attributes()[\"radiance_offsets\"]\n",
    "    thechan_scale = scales[thechan_index]\n",
    "    thechan_offset = offsets[thechan_index]\n",
    "    thechan_calibrated = (thechan_data - thechan_offset) * thechan_scale\n",
    "    return thechan_calibrated"
   ]
  },
  {
   "cell_type": "markdown",
   "id": "c1fc58bb",
   "metadata": {},
   "source": [
    "## plot some channel 30/31 radiances"
   ]
  },
  {
   "cell_type": "code",
   "execution_count": null,
   "id": "16d16412",
   "metadata": {},
   "outputs": [],
   "source": [
    "hdf4_dir = a301_lib.sat_data / \"pha\"\n",
    "all_files = list(hdf4_dir.glob(\"MYD021KM*2013222*hdf\"))\n",
    "print(all_files)\n",
    "file_name = str(all_files[0])\n",
    "print(f\"reading {file_name}\")\n",
    "the_file = SD(file_name, SDC.READ)\n",
    "\n",
    "the_band=30\n",
    "ch30_radiance = readband(the_file,the_band)\n",
    "from matplotlib import pyplot as plt\n",
    "fig, (ax1,ax2) = plt.subplots(1, 2, figsize=(8, 4))\n",
    "ax1.hist(ch30_radiance.flat[0:5000])\n",
    "ax1.set_ylabel('pixel count (unitless)')\n",
    "ax1.set_title(f'Radiance for band {the_band}')\n",
    "ax1.set_xlabel(\"radiance ($W\\,m^{-2}\\mu m^{-1}\\,sr^{-1}$)\")\n",
    "the_band=31\n",
    "ch31_radiance = readband(the_file,the_band)\n",
    "ax2.hist(ch31_radiance.flat[0:5000])\n",
    "ax2.set_ylabel('pixel count (unitless)')\n",
    "ax2.set_title(f'Radiance for band {the_band}')\n",
    "ax2.set_xlabel(\"radiance ($W\\,m^{-2}\\mu m^{-1}\\,sr^{-1}$)\")\n",
    "the_file.end()"
   ]
  },
  {
   "cell_type": "markdown",
   "id": "4828130a",
   "metadata": {},
   "source": [
    "## Plot a planck function for a 280 K blackbody\n",
    "\n",
    "Use code from week2/planck_function.md"
   ]
  },
  {
   "cell_type": "code",
   "execution_count": null,
   "id": "43791188",
   "metadata": {},
   "outputs": [],
   "source": [
    "Temp = 280  # K\n",
    "npoints=10000\n",
    "wavelengths = np.linspace(0.1, 500.0, npoints) * 1.0e-6  # meters\n",
    "Lstar = Llambda(wavelengths, Temp)  #W/m^2/m/sr\n",
    "fig, ax = plt.subplots(1, 1, figsize=(5,5))\n",
    "ax.plot(wavelengths * 1.0e6, Lstar * 1.0e-6)\n",
    "ax.set(xlim=[0, 50])\n",
    "ax.grid(True)\n",
    "ax.set(\n",
    "    xlabel=\"wavelength (m)\",\n",
    "    ylabel=\"$L_\\lambda^*\\ (W\\,m^{-2}\\,\\mu^{-1}$)\",\n",
    "    title=f\"Monochromatic blackbody radiance at Temp={Temp} K\",\n",
    ");"
   ]
  },
  {
   "cell_type": "markdown",
   "id": "2a909969",
   "metadata": {},
   "source": [
    "## close the file"
   ]
  },
  {
   "cell_type": "code",
   "execution_count": null,
   "id": "4db5a7e2",
   "metadata": {},
   "outputs": [],
   "source": []
  }
 ],
 "metadata": {
  "jupytext": {
   "cell_metadata_filter": "all",
   "notebook_metadata_filter": "all,-language_info,-toc",
   "text_representation": {
    "extension": ".md",
    "format_name": "myst",
    "format_version": 0.13,
    "jupytext_version": "1.14.0"
   }
  },
  "kernelspec": {
   "display_name": "Python 3 (ipykernel)",
   "language": "python",
   "name": "python3"
  },
  "source_map": [
   14,
   21,
   33,
   39,
   109,
   113,
   138,
   144,
   160,
   164
  ]
 },
 "nbformat": 4,
 "nbformat_minor": 5
}