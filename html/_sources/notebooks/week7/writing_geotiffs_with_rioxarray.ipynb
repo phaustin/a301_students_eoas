{
 "cells": [
  {
   "cell_type": "markdown",
   "id": "98049d60",
   "metadata": {},
   "source": [
    "(week7:geotiff_xarray)=\n",
    "# Using xarray to work with geotiffs\n",
    "\n",
    "In the week6 {ref}`week6:geotiffs` notebook we wrote a geotiff file for the 5km water vapor data resampled at 5500 x 5500 m on a Lambert aziumthal crs.  Suppose we want to\n",
    "crop that dataset, or use it in a machine learning pipeline, or combine it with other data?  How do we work with the raster in python without losing all of the\n",
    "extra information about the affine transform, crs, etc?  The most useful tool for this is an [xarray DataArray](https://docs.xarray.dev/en/stable/generated/xarray.DataArray.html#xarray.DataArray), which extends numpy arrays by adding coordinates, named dimensions and attributes.\n",
    "In this notebook, we'll first create an xarray using the `wv_ir_5km.tif` and use it to show a slice of the data.  Then we'll create an xarray from scratch given\n",
    "the numpy array, affine transform, and crs.\n",
    "\n",
    "The module that we'll use for this is called [the rasterio xarray extension](https://corteva.github.io/rioxarray/html/readme.html) or rioxarray.  It provides a natural\n",
    "way to read and write geotiffs, and to clip, merge and reproject rasters.  Using rioxarray, we can eliminate about 80% of the boilerplate of working with raster data.  \n",
    "\n",
    "In this notebook we:\n",
    "\n",
    "1) Go over the components of an xarray container (a DataArray)\n",
    "2) Read in a water vapor geotiff and plot it with cartopy\n",
    "3) Write the DataArray back out as a geotiff\n",
    "\n",
    "You'll need to do `mamba install rioxarray` to bring in the rioxarray extension"
   ]
  },
  {
   "cell_type": "markdown",
   "id": "d2cfee2b",
   "metadata": {},
   "source": [
    "{ref}`week7:geotiff_xarray`## xarray introduction\n",
    "\n",
    "An [xarray](https://foundations.projectpythia.org/core/xarray/xarray-intro.html) is a python container that wraps a numpy array.  It adds some additional features:\n",
    "\n",
    "- the_array.data:  the original numpy array (in our case, the raster)\n",
    "- the_array.dims:  named dimensions for the array, for example a 3 dimensional remote sensing DataArray might have dimensions named [\"channel\",\"lons\",\"lats\"] or [\"band\",\"y\",\"x\"]\n",
    "- the_array.coords: the coordinates for each dimension.  In our case the lons and lats coordinates of the center of each pixel, and the band numbers.\n",
    "- the_array.attrs:  a dictionary of keys and values for metadata -- in our case this would be all the geotiff tags"
   ]
  },
  {
   "cell_type": "markdown",
   "id": "78049207",
   "metadata": {},
   "source": [
    "## rioxarray\n",
    "\n",
    "The [rioxarray](https://corteva.github.io/rioxarray/stable/getting_started/getting_started.html) library is an xarray plugin that \n",
    "uses rasterio to handle the gis attributes like the map projection and affine_transform and passes data back and forth\n",
    "between rasterio and xarray.  In the cells below we open the geotiff we wrote in {ref}`week6:geotiffs` and read it in as an\n",
    "xarray.DataArray using rasterio.  We'll print out data, dims, coords, and attrs and gis attributes like the crs and the affine_transform"
   ]
  },
  {
   "cell_type": "code",
   "execution_count": null,
   "id": "3726cf86",
   "metadata": {},
   "outputs": [],
   "source": [
    "from copy import copy\n",
    "import a301_lib\n",
    "import rioxarray\n",
    "import cartopy\n",
    "from matplotlib import pyplot as plt\n",
    "import pyresample\n",
    "\n",
    "\n",
    "the_tif  = a301_lib.data_share / \"pha/wv_ir_5km.tif\"\n",
    "band_xarray = rioxarray.open_rasterio(the_tif)"
   ]
  },
  {
   "cell_type": "markdown",
   "id": "77a937a8",
   "metadata": {},
   "source": [
    "## Anatomy of a rioxarray\n",
    "\n",
    "Here are some of the import attributes of a rioxarray"
   ]
  },
  {
   "cell_type": "markdown",
   "id": "e1fc89ef",
   "metadata": {},
   "source": [
    "### The raster data"
   ]
  },
  {
   "cell_type": "code",
   "execution_count": null,
   "id": "13fd6bf4",
   "metadata": {},
   "outputs": [],
   "source": [
    "band_xarray.data.shape, band_xarray.data.dtype, type(band_xarray.data)"
   ]
  },
  {
   "cell_type": "markdown",
   "id": "fa98892d",
   "metadata": {},
   "source": [
    "### The named dimensions"
   ]
  },
  {
   "cell_type": "code",
   "execution_count": null,
   "id": "e9f71c4a",
   "metadata": {},
   "outputs": [],
   "source": [
    "band_xarray.dims"
   ]
  },
  {
   "cell_type": "markdown",
   "id": "bddc55d6",
   "metadata": {},
   "source": [
    "### The pixel center coordinates\n",
    "\n",
    "These pixel centers are given in the map projection coordinates"
   ]
  },
  {
   "cell_type": "code",
   "execution_count": null,
   "id": "fe269121",
   "metadata": {},
   "outputs": [],
   "source": [
    "band_xarray.coords"
   ]
  },
  {
   "cell_type": "markdown",
   "id": "75763081",
   "metadata": {},
   "source": [
    "### The geotiff tags"
   ]
  },
  {
   "cell_type": "code",
   "execution_count": null,
   "id": "955750a7",
   "metadata": {},
   "outputs": [],
   "source": [
    "print(f\"{type(band_xarray.attrs)=}\\n\\n{band_xarray.attrs=}\")"
   ]
  },
  {
   "cell_type": "markdown",
   "id": "7f818294",
   "metadata": {},
   "source": [
    "### Rasterio specific metadata\n",
    "\n",
    "There are also rasterio specific attributes that can be obtained using `band_xarray.rio`"
   ]
  },
  {
   "cell_type": "markdown",
   "id": "b58e7612",
   "metadata": {},
   "source": [
    "#### The coordinate reference system"
   ]
  },
  {
   "cell_type": "code",
   "execution_count": null,
   "id": "77409777",
   "metadata": {},
   "outputs": [],
   "source": [
    "band_xarray.rio.crs"
   ]
  },
  {
   "cell_type": "markdown",
   "id": "22e3a7a9",
   "metadata": {},
   "source": [
    "#### The affine transform"
   ]
  },
  {
   "cell_type": "code",
   "execution_count": null,
   "id": "53b7c3a6",
   "metadata": {},
   "outputs": [],
   "source": [
    "band_xarray.rio.transform()"
   ]
  },
  {
   "cell_type": "code",
   "execution_count": null,
   "id": "2633c84b",
   "metadata": {},
   "outputs": [],
   "source": [
    "out = band_xarray.rio.transform()\n",
    "out.f"
   ]
  },
  {
   "cell_type": "markdown",
   "id": "690fc48c",
   "metadata": {},
   "source": [
    "#### The raster bounds (or extent)\n",
    "\n",
    "This is ll_x, ur_x, ll_y, ur_y in map coordinates"
   ]
  },
  {
   "cell_type": "code",
   "execution_count": null,
   "id": "0facf46e",
   "metadata": {},
   "outputs": [],
   "source": [
    "band_xarray.rio.bounds()"
   ]
  },
  {
   "cell_type": "markdown",
   "id": "ea5b7ade",
   "metadata": {},
   "source": [
    "#### Image width, height"
   ]
  },
  {
   "cell_type": "code",
   "execution_count": null,
   "id": "15002250",
   "metadata": {},
   "outputs": [],
   "source": [
    "band_xarray.rio.width, band_xarray.rio.height"
   ]
  },
  {
   "cell_type": "markdown",
   "id": "e0cdf8a0",
   "metadata": {},
   "source": [
    "#### x and y dimension names"
   ]
  },
  {
   "cell_type": "code",
   "execution_count": null,
   "id": "8ad4fba1",
   "metadata": {},
   "outputs": [],
   "source": [
    "band_xarray.rio.x_dim, band_xarray.rio.y_dim"
   ]
  },
  {
   "cell_type": "markdown",
   "id": "3c630b57",
   "metadata": {},
   "source": [
    "## Reading the raster\n",
    "\n",
    "Since we only have one channel, it's simpler to just convert the raster to 2 dimensions using numpy's `squeeze` method"
   ]
  },
  {
   "cell_type": "code",
   "execution_count": null,
   "id": "f6272f4e",
   "metadata": {},
   "outputs": [],
   "source": [
    "wv_raster = band_xarray.data\n",
    "print(f\"{wv_raster.shape=}\")\n",
    "#\n",
    "# squeeze out the unneeded dimension\n",
    "#\n",
    "wv_raster = wv_raster.squeeze()\n",
    "print(f\"{wv_raster.shape=}\")"
   ]
  },
  {
   "cell_type": "markdown",
   "id": "a0d91fad",
   "metadata": {
    "tags": []
   },
   "source": [
    "### calculating the image extent for cartopy \n",
    "\n",
    "Recall that cartopy needs the extent of the image, defined as `[ll_x,ur_x,ll_y,ur_y]`.  Here are two ways to get the extent."
   ]
  },
  {
   "cell_type": "markdown",
   "id": "2d511e75",
   "metadata": {},
   "source": [
    "#### The hard way\n",
    "\n",
    "We can use the `affine_transform` by putting in\n",
    "the (column,row) of (column 0, row 0) and (column ncols+1, row nrows+1) for the ll and ur corners.   We need to add one cell to the nrows and ncols because\n",
    "we want the left, bottom, top and right edges of the cells,\n",
    "to get the distance from the ll_x, ll_y edges to the ur_x, ur_y edges."
   ]
  },
  {
   "cell_type": "code",
   "execution_count": null,
   "id": "9e7a3944",
   "metadata": {},
   "outputs": [],
   "source": [
    "nrows, ncols = wv_raster.shape\n",
    "ll_x, ll_y = band_xarray.rio.transform()*(0,nrows+1)\n",
    "ur_x, ur_y = band_xarray.rio.transform()*(ncols+1,0)\n",
    "extent = (ll_x,ur_x, ll_y, ur_y)\n",
    "extent"
   ]
  },
  {
   "cell_type": "markdown",
   "id": "cd51e285",
   "metadata": {
    "jp-MarkdownHeadingCollapsed": true,
    "tags": []
   },
   "source": [
    "#### The easy way\n",
    "\n",
    "This same information is also available from rasterio via the `bounds()` method"
   ]
  },
  {
   "cell_type": "code",
   "execution_count": null,
   "id": "ac90eaf2",
   "metadata": {},
   "outputs": [],
   "source": [
    "band_xarray.rio.bounds()"
   ]
  },
  {
   "cell_type": "markdown",
   "id": "db4a70ff",
   "metadata": {},
   "source": [
    "## Making a cartopy map"
   ]
  },
  {
   "cell_type": "markdown",
   "id": "078e8308",
   "metadata": {},
   "source": [
    "### Convert the rasterio crs to a cartopy crs\n",
    "\n",
    "\n",
    "\n",
    "One friction point is that cartopy has a slightly different form of the crs than rasterio.  Cartopy requires that the\n",
    "bounds (i.e. full raster extent in map coordinates) be included in the crs. In the cell below we use a  pyresample  utility `pyresample.utils.cartopy.Projection` to create\n",
    "the cartopy crs with bounds included."
   ]
  },
  {
   "cell_type": "code",
   "execution_count": null,
   "id": "0182cda8",
   "metadata": {},
   "outputs": [],
   "source": [
    "from pyresample.utils.cartopy import Projection\n",
    "cartopy_crs = Projection(band_xarray.rio.crs, bounds=extent)\n",
    "cartopy_crs.bounds"
   ]
  },
  {
   "cell_type": "code",
   "execution_count": null,
   "id": "0d160198",
   "metadata": {},
   "outputs": [],
   "source": [
    "cartopy_crs"
   ]
  },
  {
   "cell_type": "markdown",
   "id": "c31bf1bb",
   "metadata": {},
   "source": [
    "### Copy code from `week6/wv_resample.md`\n",
    "\n",
    "Below is a straight copy of last week's plotting code.  Note that if we wanted to plot only a part of the scene,\n",
    "we could change the extent argument to imshow to crop the image.  In the next notebook we'll go over the\n",
    "standard way to crop/clip a raster."
   ]
  },
  {
   "cell_type": "code",
   "execution_count": null,
   "id": "0a390e11",
   "metadata": {},
   "outputs": [],
   "source": [
    "pal = copy(plt.get_cmap(\"plasma\"))\n",
    "pal.set_bad(\"0.75\")  # 75% grey for out-of-map cells\n",
    "pal.set_over(\"r\")  # color cells > vmax red\n",
    "pal.set_under(\"k\")  # color cells < vmin black\n",
    "vmin = 0.0  #anything under this is colored black\n",
    "vmax = 4.0  #anything over this is colored red\n",
    "from matplotlib.colors import Normalize\n",
    "the_norm = Normalize(vmin=vmin, vmax=vmax, clip=False)"
   ]
  },
  {
   "cell_type": "code",
   "execution_count": null,
   "id": "bc3312f4",
   "metadata": {},
   "outputs": [],
   "source": [
    "fig, ax = plt.subplots(1, 1, figsize=(10, 10), subplot_kw={\"projection\": cartopy_crs})\n",
    "ax.gridlines(linewidth=2)\n",
    "ax.add_feature(cartopy.feature.GSHHSFeature(scale=\"coarse\", levels=[1, 2, 3]))\n",
    "ax.set_extent(cartopy_crs.bounds, cartopy_crs)\n",
    "cs = ax.imshow(\n",
    "    wv_raster,\n",
    "    transform=cartopy_crs,\n",
    "    extent=extent,\n",
    "    origin=\"upper\",\n",
    "    alpha=0.8,\n",
    "    cmap=pal,\n",
    "    norm=the_norm,\n",
    ")\n",
    "ax.set(title=\"wv ir 5km using cartopy\")\n",
    "fig.colorbar(cs, extend=\"both\");"
   ]
  },
  {
   "cell_type": "markdown",
   "id": "65e7e320",
   "metadata": {},
   "source": [
    "### Quick plots with xarray -- test\n",
    "\n",
    "If you don't need the cartopy map, then xarray can handle the plot setup for you using the `plot` wrapper that calls matplotlib to do the plotting."
   ]
  },
  {
   "cell_type": "code",
   "execution_count": null,
   "id": "8f1da23a",
   "metadata": {},
   "outputs": [],
   "source": [
    "fig, ax = plt.subplots(1,1, figsize=(10,10))\n",
    "band_xarray.plot(ax=ax, norm=the_norm, cmap=pal)\n",
    "ax.set(title=\"wv ir 5km using rioxarray\");"
   ]
  },
  {
   "cell_type": "markdown",
   "id": "f06a6a01",
   "metadata": {},
   "source": [
    "## Writing the geotiff\n",
    "\n",
    "Using rasterio to write the geotiff is just a one-liner, because all of the GIS metadata is available in the `band_xarray` variable. Any new or modified tags we want to add\n",
    "to the file can be included in a dictionary.  All the old tags will remain if not modified."
   ]
  },
  {
   "cell_type": "code",
   "execution_count": null,
   "id": "ef293426",
   "metadata": {},
   "outputs": [],
   "source": [
    "the_tif  = a301_lib.data_share / \"pha/wv_ir_5km_rioxarray.tif\"\n",
    "tags=dict(label = \"ir_wv -- rioxarray (cm/m^2)\")\n",
    "band_xarray.rio.to_raster(the_tif,tags=tags)"
   ]
  },
  {
   "cell_type": "markdown",
   "id": "a4b8ec04",
   "metadata": {},
   "source": [
    "## Writing a quick-look png\n",
    "\n",
    "You can also use matplotlib to save the image as a png file for browsing"
   ]
  },
  {
   "cell_type": "code",
   "execution_count": null,
   "id": "0e105be7",
   "metadata": {},
   "outputs": [],
   "source": [
    "png_file = a301_lib.data_share / \"pha/wv_ir_5km_rioxarray.png\"\n",
    "fig.savefig(png_file)"
   ]
  },
  {
   "cell_type": "code",
   "execution_count": null,
   "id": "006df284",
   "metadata": {},
   "outputs": [],
   "source": [
    "fig.savefig(png_file)"
   ]
  },
  {
   "cell_type": "markdown",
   "id": "233e870e",
   "metadata": {},
   "source": [
    "### Read the geotif back in to check"
   ]
  },
  {
   "cell_type": "code",
   "execution_count": null,
   "id": "a4c39fe8",
   "metadata": {},
   "outputs": [],
   "source": [
    "clipped_xarray = rioxarray.open_rasterio(the_tif)\n",
    "fig2, ax = plt.subplots(1,1, figsize=(10,10))\n",
    "clipped_xarray.plot(ax=ax, norm=the_norm, cmap=pal)\n",
    "ax.set(title=\"wv ir 5km using rioxarray\");"
   ]
  },
  {
   "cell_type": "markdown",
   "id": "765307de",
   "metadata": {},
   "source": [
    "## Summary\n",
    "\n",
    "rioxarray provides a well-designed container that can hold a raster image along with all of the gis attributes and geotiff tags.  It has become\n",
    "a standard way of working with geotiffs, and we'll use it extensively going forward."
   ]
  }
 ],
 "metadata": {
  "jupytext": {
   "text_representation": {
    "extension": ".md",
    "format_name": "myst",
    "format_version": 0.13,
    "jupytext_version": "1.14.0"
   }
  },
  "kernelspec": {
   "display_name": "Python 3 (ipykernel)",
   "language": "python",
   "name": "python3"
  },
  "source_map": [
   12,
   34,
   45,
   54,
   65,
   71,
   75,
   77,
   81,
   83,
   89,
   91,
   95,
   97,
   103,
   107,
   109,
   113,
   117,
   120,
   126,
   128,
   132,
   134,
   138,
   140,
   146,
   156,
   162,
   171,
   179,
   185,
   187,
   191,
   201,
   207,
   209,
   217,
   228,
   244,
   250,
   254,
   261,
   265,
   271,
   276,
   278,
   282,
   287
  ]
 },
 "nbformat": 4,
 "nbformat_minor": 5
}