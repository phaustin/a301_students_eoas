{
 "cells": [
  {
   "cell_type": "markdown",
   "id": "fa2fab05",
   "metadata": {},
   "source": [
    "(modis_level1b)=\n",
    "# Reading modis level1b data\n",
    "\n",
    "## Background\n",
    "\n",
    "* [https://mcst.gsfc.nasa.gov/l1b/software-system-overview](https://mcst.gsfc.nasa.gov/l1b/software-system-overview)\n",
    "\n",
    "* [https://modis.gsfc.nasa.gov/about/specifications.php](https://modis.gsfc.nasa.gov/about/specifications.php)\n",
    "\n",
    "* [hdf4](https://www.earthdatascience.org/courses/use-data-open-source-python/hierarchical-data-formats-hdf/intro-to-hdf4/)\n",
    "\n",
    "* [modis swath info](https://svs.gsfc.nasa.gov/3348)\n",
    "\n",
    "* [modis channel listing](https://modis.gsfc.nasa.gov/about/specifications.php)"
   ]
  },
  {
   "cell_type": "code",
   "execution_count": null,
   "id": "ff7e68ba",
   "metadata": {},
   "outputs": [],
   "source": [
    "import pprint\n",
    "from pathlib import Path\n",
    "\n",
    "import a301_lib\n",
    "import numpy as np\n",
    "from matplotlib import pyplot as plt\n",
    "from pyhdf.SD import SD\n",
    "from pyhdf.SD import SDC\n",
    "from matplotlib.colors import Normalize"
   ]
  },
  {
   "cell_type": "code",
   "execution_count": null,
   "id": "f3b08d24",
   "metadata": {},
   "outputs": [],
   "source": [
    "print(a301_lib.sat_data)\n",
    "type(a301_lib.sat_data)"
   ]
  },
  {
   "cell_type": "markdown",
   "id": "e88c1ec1",
   "metadata": {},
   "source": [
    "## get all files from the data_dir that end in hdf\n",
    "\n",
    "a301_lib.sat_data is a `PosixPath` object, which is the way that python is able to treat all folder paths the same, whether they look like `C:\\Users\\phil` or `/Users/home/phil`\n",
    "\n",
    "My satellite granule date and time is 2013222.2150 so the cell below returns a list of length 1 that includes that file in folder `pha`:"
   ]
  },
  {
   "cell_type": "code",
   "execution_count": null,
   "id": "c983f6ee",
   "metadata": {},
   "outputs": [],
   "source": [
    "hdf4_dir = a301_lib.sat_data / \"pha\"\n",
    "all_files = list(hdf4_dir.glob(\"MYD021KM*2013222*hdf\"))\n",
    "print(all_files)"
   ]
  },
  {
   "cell_type": "markdown",
   "id": "155ade44",
   "metadata": {},
   "source": [
    "Now read that file (converting PosixPath into a string since the pyhdf library is\n",
    "expecting a string).  Use the `.info` method to get the number of datasets and attributes"
   ]
  },
  {
   "cell_type": "code",
   "execution_count": null,
   "id": "03d657f3",
   "metadata": {},
   "outputs": [],
   "source": [
    "file_name = str(all_files[0])\n",
    "print(f\"reading {file_name}\")\n",
    "the_file = SD(file_name, SDC.READ)\n",
    "stars = \"*\" * 50\n",
    "print(\n",
    "    (\n",
    "        f\"\\n{stars}\\n\"\n",
    "        f\"number of datasets, number of attributes\\n\"\n",
    "        f\"={the_file.info()}\\n\"\n",
    "        f\"{stars}\\n\"\n",
    "        f\"\\nHere is the help file for the info funtion:\\n\"\n",
    "    )\n",
    ")\n",
    "#help(SD.info)"
   ]
  },
  {
   "cell_type": "markdown",
   "id": "1efff16e",
   "metadata": {},
   "source": [
    "## Find the dataset and print their indices\n",
    "\n",
    "We know we've got 31 datasets in the file -- what are their names?"
   ]
  },
  {
   "cell_type": "code",
   "execution_count": null,
   "id": "96ff9d56",
   "metadata": {},
   "outputs": [],
   "source": [
    "datasets_dict = the_file.datasets()\n",
    "\n",
    "for idx, sds in enumerate(datasets_dict.keys()):\n",
    "    print(idx, sds)\n",
    "\n",
    "#breakpoint()"
   ]
  },
  {
   "cell_type": "markdown",
   "id": "0e26d327",
   "metadata": {},
   "source": [
    " ## open one of the datasets (number 4, EV_1KM_Emissive) and get its shape and data type\n",
    " \n",
    " The \"Earth View Emissive\" dataset contains all the longwave channels, and all the 2030 rows and 1354 columns for each\n",
    " pixel in each channel"
   ]
  },
  {
   "cell_type": "code",
   "execution_count": null,
   "id": "b5ae8602",
   "metadata": {},
   "outputs": [],
   "source": [
    "longwave_data = the_file.select(\"EV_1KM_Emissive\")  # select sds\n",
    "print(longwave_data.info())"
   ]
  },
  {
   "cell_type": "markdown",
   "id": "b01a8954",
   "metadata": {},
   "source": [
    "## Get the first row of the first channel and find its numpy dtype\n",
    "\n",
    "uint16 is \"unsigned 16 bit integer\", which is how the modis raw counts are stored.  By using\n",
    "2 8-bit words (2 bytes) for each measurement they can represent (2**16)-1 = 65535 radiance values.  This means, however that every measurement has to be converted from uin16 to float32 before it\n",
    "can be used"
   ]
  },
  {
   "cell_type": "code",
   "execution_count": null,
   "id": "dd576253",
   "metadata": {},
   "outputs": [],
   "source": [
    "data_row = longwave_data[0, 0, :]  # get sds data\n",
    "print(data_row.shape, data_row.dtype)"
   ]
  },
  {
   "cell_type": "markdown",
   "id": "87a06360",
   "metadata": {},
   "source": [
    "## get all the rows and columns for the first channel"
   ]
  },
  {
   "cell_type": "code",
   "execution_count": null,
   "id": "d1fec63e",
   "metadata": {},
   "outputs": [],
   "source": [
    "longwave_data[0, :, :]"
   ]
  },
  {
   "cell_type": "markdown",
   "id": "22c4f868",
   "metadata": {},
   "source": [
    "## Find the attributes for EV_1KM_Emissive\n",
    "\n",
    "In order to make the conversion from int to float, we need to\n",
    "multiply by a scale factor and subtract an offset.  These are\n",
    "stored as attributes in the hdf file, and they are different\n",
    "for each of the 16 channels.  Use `pprint` to pretty-print the big\n",
    "dictionary."
   ]
  },
  {
   "cell_type": "code",
   "execution_count": null,
   "id": "88f1e42d",
   "metadata": {},
   "outputs": [],
   "source": [
    "pprint.pprint(longwave_data.attributes())"
   ]
  },
  {
   "cell_type": "markdown",
   "id": "37dda951",
   "metadata": {},
   "source": [
    "## Print the first 1000 characters of the Metadata.0 string\n",
    "\n",
    "Date, orbit number, etc. are stored in a long string attribute called 'StructMetadata.0'.\n",
    "The \\t character is a tab stop so the file is easier to read with an editor."
   ]
  },
  {
   "cell_type": "code",
   "execution_count": null,
   "id": "d751d26a",
   "metadata": {},
   "outputs": [],
   "source": [
    "pprint.pprint(the_file.attributes()[\"StructMetadata.0\"][:1000])"
   ]
  },
  {
   "cell_type": "markdown",
   "id": "c5d6a185",
   "metadata": {},
   "source": [
    "## Now plot the data using imshow\n",
    "\n",
    "Start over again and make a plot.  We need to be\n",
    "able to identify particular bands  -- the channel numbers\n",
    "are stored in the \"Band_1KM_Emissive\" dataset"
   ]
  },
  {
   "cell_type": "code",
   "execution_count": null,
   "id": "99e6c1b7",
   "metadata": {},
   "outputs": [],
   "source": [
    "longwave_bands = the_file.select(\"Band_1KM_Emissive\")\n",
    "#\n",
    "# close the file\n",
    "#\n",
    "longwave_bands.info()"
   ]
  },
  {
   "cell_type": "code",
   "execution_count": null,
   "id": "5992ba8e",
   "metadata": {},
   "outputs": [],
   "source": [
    "band_nums = longwave_bands.get()\n",
    "print(f\"here are the modis channels in the emissive dataset \\n{band_nums}\")"
   ]
  },
  {
   "cell_type": "markdown",
   "id": "f0a14572",
   "metadata": {},
   "source": [
    "Note that only channels 20 to 36 are in the Emissive dataset (see [the Modis channel listing](https://modis.gsfc.nasa.gov/about/specifications.php))"
   ]
  },
  {
   "cell_type": "markdown",
   "id": "7ee96248",
   "metadata": {},
   "source": [
    "Note that only channels 20 to 36 are in the Emissive dataset (see [the Modis channel listing](https://modis.gsfc.nasa.gov/about/specifications.php))"
   ]
  },
  {
   "cell_type": "markdown",
   "id": "eb90a214",
   "metadata": {},
   "source": [
    "## find the index for channel 30\n",
    "\n",
    "Count the items in the vector above and convince yourself that channel 30 is index 9, starting from 0\n",
    "\n",
    "But there's a better way: use numpy.searchsorted to find the index with the closest value\n",
    "to 30:\n",
    "\n",
    "We also need to turn that index (type int64) into a plain python int so it can be used to specify the channel"
   ]
  },
  {
   "cell_type": "code",
   "execution_count": null,
   "id": "a7c748c2",
   "metadata": {},
   "outputs": [],
   "source": [
    "ch30_index = np.searchsorted(band_nums, 30.0)\n",
    "print(f\"make sure our index datatime in int64: {ch30_index.dtype}\")\n",
    "ch30_index = int(ch30_index)\n",
    "print(f\"channel 30 is located at index {ch30_index}\")\n",
    "\n",
    "\n",
    "# ## Read channel 30 at index 9 into a numpy array of type uint16"
   ]
  },
  {
   "cell_type": "markdown",
   "id": "9020946e",
   "metadata": {},
   "source": [
    "(modis_chan30)=\n",
    "## Now get the data for channel 30"
   ]
  },
  {
   "cell_type": "code",
   "execution_count": null,
   "id": "86a3d661",
   "metadata": {},
   "outputs": [],
   "source": [
    "ch30_data = longwave_data[ch30_index, :, :]\n",
    "print(ch30_data.shape)\n",
    "print(ch30_data.dtype)\n",
    "#breakpoint()"
   ]
  },
  {
   "cell_type": "markdown",
   "id": "cb9824da",
   "metadata": {},
   "source": [
    "Plot the channel 30 image\n",
    "\n",
    "Use [imshow with a colorbar](https://matplotlib.org/gallery/color/colorbar_basics.html#sphx-glr-gallery-color-colorbar-basics-py)"
   ]
  },
  {
   "cell_type": "code",
   "execution_count": null,
   "id": "5c939037",
   "metadata": {},
   "outputs": [],
   "source": [
    "fig, ax = plt.subplots(1, 1, figsize=(10, 14))\n",
    "CS = ax.imshow(ch30_data)\n",
    "cax = fig.colorbar(CS)\n",
    "ax.set_title(\"uncalibrated counts\")\n",
    "#\n",
    "# add a label to the colorbar and flip it around 270 degrees\n",
    "# (just my personal preference for labels)\n",
    "#\n",
    "out = cax.ax.set_ylabel(\"Chan 30 raw counts\")\n",
    "out.set_verticalalignment(\"bottom\")\n",
    "out.set_rotation(270)\n",
    "print(ch30_data.shape)"
   ]
  },
  {
   "cell_type": "markdown",
   "id": "0985bbe0",
   "metadata": {},
   "source": [
    "## Now convert the raw counts to radiances\n",
    "\n",
    "We need to find the right scale and offset for channel 30"
   ]
  },
  {
   "cell_type": "markdown",
   "id": "f6e12de4",
   "metadata": {},
   "source": [
    "To turn the raw counts into pixel radiances, you need to apply equation 5.8 on p. 36 of the\n",
    "[modis users guide](https://www.dropbox.com/s/ckd3dv4n7nxc9p0/modis_users_guide.pdf?dl=0):\n",
    "\n",
    "$Radiances = (RawData - offset) \\times scale$\n",
    "\n",
    "We have just read the RawData,  the offset and the scale are stored in two vectors that are attributes of the Emissive dataset.  We'll make a version of the figure above, but plot Channel 30 radiance (in W/m^2/micron/sr), rather than raw counts."
   ]
  },
  {
   "cell_type": "code",
   "execution_count": null,
   "id": "433149fc",
   "metadata": {},
   "outputs": [],
   "source": [
    "scales = longwave_data.attributes()[\"radiance_scales\"]\n",
    "offsets = longwave_data.attributes()[\"radiance_offsets\"]\n",
    "ch30_scale = scales[ch30_index]\n",
    "ch30_offset = offsets[ch30_index]\n",
    "print(f\"scale: {ch30_scale}, offset: {ch30_offset}\")"
   ]
  },
  {
   "cell_type": "code",
   "execution_count": null,
   "id": "99897e4e",
   "metadata": {},
   "outputs": [],
   "source": [
    "ch30_calibrated = (ch30_data - ch30_offset) * ch30_scale"
   ]
  },
  {
   "cell_type": "markdown",
   "id": "aac467dd",
   "metadata": {},
   "source": [
    "(modis_level1b:plot)=\n",
    "## Plot the Channel 30 radiances\n",
    "\n",
    "Do these look right?  How would you tell?"
   ]
  },
  {
   "cell_type": "code",
   "execution_count": null,
   "id": "d1e74a0e",
   "metadata": {},
   "outputs": [],
   "source": [
    "fig, ax = plt.subplots(1, 1, figsize=(10, 14))\n",
    "vmin = 0.0\n",
    "vmax = 10\n",
    "the_norm = Normalize(vmin=vmin, vmax=vmax, clip=False)\n",
    "CS = ax.imshow(ch30_calibrated,norm=the_norm)\n",
    "cax = fig.colorbar(CS)\n",
    "ax.set_title(\"Channel 30 radiance\")\n",
    "#\n",
    "# add a label to the colorbar and flip it around 270 degrees\n",
    "#\n",
    "out = cax.ax.set_ylabel(\"Chan radiance $(W\\,m^{-2}\\,\\mu m^{-1}\\,sr^{-1})$\")\n",
    "out.set_verticalalignment(\"bottom\")\n",
    "out.set_rotation(270)\n",
    "ch30_calibrated.shape"
   ]
  },
  {
   "cell_type": "markdown",
   "id": "1914970f",
   "metadata": {},
   "source": [
    "## Write the radiances out for safekeeping\n",
    "\n",
    "Follow the example here: https://hdfeos.org/software/pyhdf.php"
   ]
  },
  {
   "cell_type": "code",
   "execution_count": null,
   "id": "f12fe574",
   "metadata": {},
   "outputs": [],
   "source": [
    "# Create an HDF file\n",
    "outname = \"ch30_out.hdf\"\n",
    "sd = SD(outname, SDC.CREATE | SDC.WRITE | SDC.TRUNC)\n",
    "\n",
    "# Create a dataset\n",
    "sds = sd.create(\"ch30\", SDC.FLOAT64, ch30_calibrated.shape)\n",
    "\n",
    "# Fill the dataset with a fill value\n",
    "sds.setfillvalue(0)\n",
    "\n",
    "# Set dimension names\n",
    "dim1 = sds.dim(0)\n",
    "dim1.setname(\"row\")\n",
    "dim2 = sds.dim(1)\n",
    "dim2.setname(\"col\")\n",
    "\n",
    "# Assign an attribute to the dataset\n",
    "sds.units = \"W/m^2/micron/sr\"\n",
    "\n",
    "# Write data\n",
    "sds[:, :] = ch30_calibrated\n",
    "\n",
    "# Close the dataset\n",
    "sds.endaccess()\n",
    "\n",
    "# Flush and close the HDF file\n",
    "sd.end()"
   ]
  },
  {
   "cell_type": "markdown",
   "id": "0ddb4712",
   "metadata": {},
   "source": [
    "Did this work?  See if the file exists.  I'll write it into the work folder in the home folder"
   ]
  },
  {
   "cell_type": "code",
   "execution_count": null,
   "id": "e219293c",
   "metadata": {},
   "outputs": [],
   "source": [
    "work_dir = a301_lib.home_dir / \"work\"\n",
    "hdf_files = list(work_dir.glob(\"*hdf\"))\n",
    "print(hdf_files)"
   ]
  },
  {
   "cell_type": "markdown",
   "id": "a7d32b79",
   "metadata": {},
   "source": [
    "(modis_level1b:function)=\n",
    "## move all of this into a function"
   ]
  },
  {
   "cell_type": "code",
   "execution_count": null,
   "id": "9912cd46",
   "metadata": {},
   "outputs": [],
   "source": [
    "file_name = str(all_files[0])\n",
    "print(f\"reading {file_name}\")\n",
    "the_file = SD(file_name, SDC.READ)\n",
    "the_band=30\n",
    "\n",
    "def readband(the_file,the_band):\n",
    "    \"\"\"\n",
    "    read and calibrate a MODIS band from an open hdf4 SD dataset\n",
    "    \n",
    "    Parameters\n",
    "    ----------\n",
    "    \n",
    "       the_file:pyhdf.SD object\n",
    "           the dataset open for reading\n",
    "       the_band: int\n",
    "           band number for MODIS (1-36)\n",
    "           \n",
    "    Returns\n",
    "    -------\n",
    "       the_chan_calibrated: ndarray\n",
    "           the pixel radiances in W/m^2/sr/micron\n",
    "    \"\"\"\n",
    "    longwave_data = the_file.select(\"EV_1KM_Emissive\")  # select sds\n",
    "    longwave_bands = the_file.select(\"Band_1KM_Emissive\")\n",
    "    band_nums = longwave_bands.get()\n",
    "    thechan_index = int(np.searchsorted(band_nums, the_band))\n",
    "    print(f\"channel index for band {the_band} is {thechan_index}\")\n",
    "    thechan_data = longwave_data[thechan_index, :, :]\n",
    "    scales = longwave_data.attributes()[\"radiance_scales\"]\n",
    "    offsets = longwave_data.attributes()[\"radiance_offsets\"]\n",
    "    thechan_scale = scales[thechan_index]\n",
    "    thechan_offset = offsets[thechan_index]\n",
    "    thechan_calibrated = (thechan_data - thechan_offset) * thechan_scale\n",
    "    return thechan_calibrated\n",
    "\n",
    "ch_radiance = readband(the_file,the_band)\n",
    "from matplotlib import pyplot as plt\n",
    "fig, ax = plt.subplots(1, 1, figsize=(10, 8))\n",
    "ax.hist(ch_radiance.flat[0:5000])\n",
    "ax.set_ylabel('pixel count (unitless)')\n",
    "ax.set_title(f'Radiance for band {the_band}')\n",
    "ax.set_xlabel(\"radiance ($W\\,m^{-2}\\mu m^{-1}\\,sr^{-1}$)\");"
   ]
  },
  {
   "cell_type": "markdown",
   "id": "91f900f7",
   "metadata": {},
   "source": [
    "## close the file"
   ]
  },
  {
   "cell_type": "code",
   "execution_count": null,
   "id": "85319632",
   "metadata": {},
   "outputs": [],
   "source": [
    "the_file.end()"
   ]
  }
 ],
 "metadata": {
  "jupytext": {
   "cell_metadata_filter": "all",
   "notebook_metadata_filter": "all,-language_info,-toc",
   "text_representation": {
    "extension": ".md",
    "format_name": "myst",
    "format_version": 0.13,
    "jupytext_version": "1.14.0"
   }
  },
  "kernelspec": {
   "display_name": "Python 3 (ipykernel)",
   "language": "python",
   "name": "python3"
  },
  "source_map": [
   14,
   31,
   45,
   50,
   58,
   64,
   69,
   86,
   92,
   101,
   108,
   113,
   121,
   126,
   130,
   134,
   144,
   148,
   155,
   159,
   167,
   177,
   182,
   186,
   190,
   201,
   211,
   216,
   223,
   229,
   244,
   250,
   259,
   269,
   273,
   280,
   297,
   303,
   333,
   337,
   343,
   348,
   393,
   397
  ]
 },
 "nbformat": 4,
 "nbformat_minor": 5
}