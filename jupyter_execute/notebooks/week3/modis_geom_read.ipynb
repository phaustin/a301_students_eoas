{
 "cells": [
  {
   "cell_type": "markdown",
   "id": "5b7aaf95",
   "metadata": {},
   "source": [
    "(week3:modis_geom)=\n",
    "# Reading modis level1b data\n",
    "\n",
    "## Background\n",
    "\n",
    "[Modis geolocation data](https://ladsweb.modaps.eosdis.nasa.gov/missions-and-measurements/products/MYD03#overview)"
   ]
  },
  {
   "cell_type": "code",
   "execution_count": null,
   "id": "71a7cf80",
   "metadata": {},
   "outputs": [],
   "source": [
    "import pprint\n",
    "from pathlib import Path\n",
    "\n",
    "import a301_lib\n",
    "import numpy as np\n",
    "from matplotlib import pyplot as plt\n",
    "from pyhdf.SD import SD\n",
    "from pyhdf.SD import SDC"
   ]
  },
  {
   "cell_type": "code",
   "execution_count": null,
   "id": "f418dd73",
   "metadata": {},
   "outputs": [],
   "source": [
    "print(a301_lib.sat_data)\n",
    "type(a301_lib.sat_data)"
   ]
  },
  {
   "cell_type": "code",
   "execution_count": null,
   "id": "aa75f1b3",
   "metadata": {
    "tags": []
   },
   "outputs": [],
   "source": [
    "dir(a301_lib)"
   ]
  },
  {
   "cell_type": "markdown",
   "id": "326e6985",
   "metadata": {},
   "source": [
    "## get the geom file in the `sat_data` pha flder\n",
    "\n",
    "a301_lib.sat_data is a `PosixPath` object, which is the way that python is able to treat all folder paths the same, whether they look like `C:\\Users\\phil` or `/Users/home/phil`"
   ]
  },
  {
   "cell_type": "code",
   "execution_count": null,
   "id": "eb388221",
   "metadata": {},
   "outputs": [],
   "source": [
    "hdf4_dir = a301_lib.data_share / \"pha/cloudsat\"\n",
    "all_files = list(hdf4_dir.glob(\"*hdf\"))\n",
    "test = all_files[0]\n",
    "test"
   ]
  },
  {
   "cell_type": "markdown",
   "id": "d27d1848",
   "metadata": {},
   "source": [
    "Now read that file (converting PosixPath into a string since the pyhdf library is\n",
    "expecting a string).  Use the `.info` method to get the number of datasets and attributes"
   ]
  },
  {
   "cell_type": "code",
   "execution_count": null,
   "id": "12402869",
   "metadata": {
    "scrolled": true
   },
   "outputs": [],
   "source": [
    "file_name = str(all_files[0])\n",
    "print(f\"reading {file_name}\")\n",
    "the_file = SD(file_name, SDC.READ)\n",
    "stars = \"*\" * 50\n",
    "print(\n",
    "    (\n",
    "        f\"\\n{stars}\\n\"\n",
    "        f\"number of datasets, number of attributes\\n\"\n",
    "        f\"={the_file.info()}\\n\"\n",
    "        f\"{stars}\\n\"\n",
    "    )\n",
    ")"
   ]
  },
  {
   "cell_type": "code",
   "execution_count": null,
   "id": "2aceb0e0",
   "metadata": {
    "tags": []
   },
   "outputs": [],
   "source": [
    "the_file.attributes()"
   ]
  },
  {
   "cell_type": "markdown",
   "id": "e88b5bff",
   "metadata": {},
   "source": [
    "## Find the datasets and print their indices\n",
    "\n",
    "We know we've got 46 datasets in the file -- what are their names?"
   ]
  },
  {
   "cell_type": "code",
   "execution_count": null,
   "id": "0afa7454",
   "metadata": {},
   "outputs": [],
   "source": [
    "datasets_dict = the_file.datasets()\n",
    "\n",
    "for idx, sds in enumerate(datasets_dict.keys()):\n",
    "    print(idx, sds)\n",
    "\n",
    "#breakpoint()"
   ]
  },
  {
   "cell_type": "code",
   "execution_count": null,
   "id": "37e05dcd",
   "metadata": {
    "tags": []
   },
   "outputs": [],
   "source": [
    "out=the_file.select('precip_liquid_water')\n",
    "out.dimensions()"
   ]
  },
  {
   "cell_type": "markdown",
   "id": "2d7ccff6",
   "metadata": {},
   "source": [
    " ## open the latitude and longitude dataset"
   ]
  },
  {
   "cell_type": "markdown",
   "id": "c3a1e23c",
   "metadata": {},
   "source": [
    "## read the latlon data, save and plot it"
   ]
  },
  {
   "cell_type": "code",
   "execution_count": null,
   "id": "0f8da062",
   "metadata": {},
   "outputs": [],
   "source": [
    "latitude_data = the_file.select(\"Latitude\")\n",
    "longitude_data = the_file.select(\"Longitude\")\n",
    "longitude = longitude_data[:50,:50]\n",
    "latitude = latitude_data[:50,:50]\n",
    "print(\"shapes: \",longitude.shape,latitude.shape)\n",
    "np.savez('pha_2013222.2105.npz',longitude=longitude,latitude=latitude)\n",
    "fig, ax = plt.subplots(1, 1, figsize=(10, 8))\n",
    "ax.plot(longitude,latitude,'k+')\n",
    "ax.set(title=\"lat/lons for first 50 rows and columns\",\n",
    "       xlabel = \"longitude (degrees east)\",ylabel=\"latitude (degrees north)\")\n",
    "fig.savefig(\"first_50.png\")"
   ]
  },
  {
   "cell_type": "markdown",
   "id": "a52c4b2b",
   "metadata": {},
   "source": [
    "## close the file"
   ]
  },
  {
   "cell_type": "code",
   "execution_count": null,
   "id": "acca3b2c",
   "metadata": {},
   "outputs": [],
   "source": [
    "the_file.end()"
   ]
  }
 ],
 "metadata": {
  "jupytext": {
   "cell_metadata_filter": "all",
   "notebook_metadata_filter": "all,-language_info,-toc",
   "text_representation": {
    "extension": ".md",
    "format_name": "myst",
    "format_version": 0.13,
    "jupytext_version": "1.14.5"
   }
  },
  "kernelspec": {
   "display_name": "Python 3 (ipykernel)",
   "language": "python",
   "name": "python3"
  },
  "source_map": [
   14,
   23,
   36,
   43,
   48,
   54,
   61,
   66,
   84,
   89,
   95,
   106,
   112,
   116,
   120,
   134,
   138
  ]
 },
 "nbformat": 4,
 "nbformat_minor": 5
}