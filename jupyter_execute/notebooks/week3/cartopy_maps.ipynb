{
 "cells": [
  {
   "cell_type": "markdown",
   "id": "45a11bb5",
   "metadata": {
    "user_expressions": []
   },
   "source": [
    "```{figure} images/cartopy_logo.png\n",
    ":name: label\n",
    ":width: 40%\n",
    "```"
   ]
  },
  {
   "cell_type": "markdown",
   "id": "df297808",
   "metadata": {
    "user_expressions": []
   },
   "source": [
    "(week3:cartopy)=\n",
    "# Introduction to Cartopy"
   ]
  },
  {
   "cell_type": "markdown",
   "id": "ec883a6b",
   "metadata": {
    "user_expressions": []
   },
   "source": [
    "## Overview\n",
    "\n",
    "1. Basic concepts: map projections and `GeoAxes`\n",
    "2. Explore some of Cartopy's map projections\n",
    "3. Create regional maps\n",
    "\n",
    "This tutorial will lead you through some basics of creating maps with specified projections with Cartopy, and adding geographic features like coastlines and borders.\n",
    "\n",
    "Later tutorials will focus on how to plot data on map projections."
   ]
  },
  {
   "cell_type": "markdown",
   "id": "4d3825a0",
   "metadata": {
    "user_expressions": []
   },
   "source": [
    "## Prerequisites\n",
    "\n",
    "| Concepts | Importance | Notes |\n",
    "| --- | --- | --- |\n",
    "| Matplotlib | Necessary | |\n",
    "\n",
    "- **Time to learn**: 30 minutes"
   ]
  },
  {
   "cell_type": "markdown",
   "id": "58d52ef1",
   "metadata": {
    "user_expressions": []
   },
   "source": [
    "___"
   ]
  },
  {
   "cell_type": "markdown",
   "id": "d64c253e",
   "metadata": {
    "user_expressions": []
   },
   "source": [
    "## Imports"
   ]
  },
  {
   "cell_type": "code",
   "execution_count": null,
   "id": "95d8d154",
   "metadata": {},
   "outputs": [],
   "source": [
    "import warnings\n",
    "\n",
    "import matplotlib.pyplot as plt\n",
    "import numpy as np \n",
    "from cartopy import crs as ccrs, feature as cfeature\n",
    "\n",
    "#  Suppress warnings issued by Cartopy when downloading data files\n",
    "warnings.filterwarnings('ignore')"
   ]
  },
  {
   "cell_type": "markdown",
   "id": "94e80af8",
   "metadata": {
    "user_expressions": []
   },
   "source": [
    "___"
   ]
  },
  {
   "cell_type": "markdown",
   "id": "54cc9969",
   "metadata": {
    "user_expressions": []
   },
   "source": [
    "## Basic concepts: map projections and `GeoAxes`"
   ]
  },
  {
   "cell_type": "markdown",
   "id": "b243df47",
   "metadata": {
    "user_expressions": []
   },
   "source": [
    "### Extend Matplotlib's `axes` into georeferenced `GeoAxes`"
   ]
  },
  {
   "cell_type": "markdown",
   "id": "72fd853e",
   "metadata": {
    "user_expressions": []
   },
   "source": [
    "Recall that in Matplotlib, what we might tradtionally term a *figure* consists of two key components: a `figure` and an associated subplot `axes` instance.\n",
    "\n",
    "By virtue of importing Cartopy, we can now convert the `axes` into a `GeoAxes` by specifying a projection that we have imported from *Cartopy's Coordinate Reference System* class as `ccrs`. This will effectively *georeference* the subplot."
   ]
  },
  {
   "cell_type": "markdown",
   "id": "b4ced18d",
   "metadata": {
    "user_expressions": []
   },
   "source": [
    "### Create a map with a specified projection\n",
    "\n",
    "Here we'll create a GeoAxes that uses the `PlateCarree` projection (basically a global lat-lon map projection, which translates from French to \"flat square\" in English, where each point is equally spaced in terms of degrees)."
   ]
  },
  {
   "cell_type": "code",
   "execution_count": null,
   "id": "e0fb4fd7",
   "metadata": {},
   "outputs": [],
   "source": [
    "fig = plt.figure(figsize=(11, 8.5))\n",
    "ax = plt.subplot(1, 1, 1, projection=ccrs.PlateCarree(central_longitude=-75))\n",
    "ax.set_title(\"A Geo-referenced subplot, Plate Carree projection\");"
   ]
  },
  {
   "cell_type": "markdown",
   "id": "e07e70b4",
   "metadata": {
    "user_expressions": []
   },
   "source": [
    "Although the figure seems empty, it has in fact been georeferenced, using one of Cartopy's map projections that is provided by Cartopy's `crs` (coordinate reference system) class. We can now add in cartographic features, in the form of *shapefiles*, to our subplot. One of them is `coastlines`, which is a callable `GeoAxes` method that can be plotted directly on our subplot."
   ]
  },
  {
   "cell_type": "code",
   "execution_count": null,
   "id": "7e8bd019",
   "metadata": {},
   "outputs": [],
   "source": [
    "ax.coastlines()"
   ]
  },
  {
   "cell_type": "markdown",
   "id": "17ff1837",
   "metadata": {
    "user_expressions": []
   },
   "source": [
    "<div class=\"admonition alert alert-info\">\n",
    "    <p class=\"admonition-title\" style=\"font-weight:bold\">Info</p>\n",
    "    To get the figure to display again with the features that we've added since the original display, just type the name of the Figure object in its own cell.\n",
    "</div>"
   ]
  },
  {
   "cell_type": "code",
   "execution_count": null,
   "id": "26491902",
   "metadata": {},
   "outputs": [],
   "source": [
    "fig"
   ]
  },
  {
   "cell_type": "markdown",
   "id": "4269b5c8",
   "metadata": {
    "user_expressions": []
   },
   "source": [
    "### Add cartographic features to the map"
   ]
  },
  {
   "cell_type": "markdown",
   "id": "b2059a6b",
   "metadata": {
    "user_expressions": []
   },
   "source": [
    "Cartopy provides other cartographic features via its `features` class, which we've imported as `cfeature`. These are also shapefiles, downloaded on initial request from https://www.naturalearthdata.com/. Once downloaded, they \"live\" in your `~/.local/share/cartopy` directory (note the `~` represents your <i>home</i> directory)."
   ]
  },
  {
   "cell_type": "markdown",
   "id": "89ce43d4",
   "metadata": {
    "user_expressions": []
   },
   "source": [
    "We add them to our subplot via the `add_feature` method. We can define attributes for them in a manner similar to Matplotlib's `plot` method. A list of the various Natural Earth shapefiles appears in https://scitools.org.uk/cartopy/docs/latest/matplotlib/feature_interface.html ."
   ]
  },
  {
   "cell_type": "code",
   "execution_count": null,
   "id": "2dcd71ed",
   "metadata": {},
   "outputs": [],
   "source": [
    "ax.add_feature(cfeature.BORDERS, linewidth=0.5, edgecolor='black')\n",
    "ax.add_feature(cfeature.STATES, linewidth=0.3, edgecolor='brown')"
   ]
  },
  {
   "cell_type": "markdown",
   "id": "4f936077",
   "metadata": {
    "user_expressions": []
   },
   "source": [
    "Once again, referencing the `Figure` object will re-render the figure in the notebook, now including the two features."
   ]
  },
  {
   "cell_type": "code",
   "execution_count": null,
   "id": "604bad72",
   "metadata": {},
   "outputs": [],
   "source": [
    "fig"
   ]
  },
  {
   "cell_type": "markdown",
   "id": "a68807cb",
   "metadata": {
    "user_expressions": []
   },
   "source": [
    "## Explore some of Cartopy's map projections"
   ]
  },
  {
   "cell_type": "markdown",
   "id": "f6593d9e",
   "metadata": {
    "user_expressions": []
   },
   "source": [
    "<div class=\"admonition alert alert-info\">\n",
    "    <p class=\"admonition-title\" style=\"font-weight:bold\">Info</p>\n",
    "    You can find a list of supported projections in Cartopy, with examples, at <a href=\"https://scitools.org.uk/cartopy/docs/latest/reference/crs.html\">https://scitools.org.uk/cartopy/docs/latest/reference/crs.html</a>\n",
    "</div>"
   ]
  },
  {
   "cell_type": "markdown",
   "id": "5efd9e56",
   "metadata": {
    "user_expressions": []
   },
   "source": [
    "### Mollweide Projection (often used with global satellite mosaics)\n",
    "\n",
    "This time, we'll define an object to store our projection definition. Any time we wish to use this particular projection later in the notebook, we can use the object name rather than repeating the same call to `ccrs`."
   ]
  },
  {
   "cell_type": "code",
   "execution_count": null,
   "id": "2d4fa6d1",
   "metadata": {},
   "outputs": [],
   "source": [
    "fig = plt.figure(figsize=(11, 8.5))\n",
    "projMoll = ccrs.Mollweide(central_longitude=0)\n",
    "ax = plt.subplot(1, 1, 1, projection=projMoll)\n",
    "ax.set_title(\"Mollweide Projection\")"
   ]
  },
  {
   "cell_type": "markdown",
   "id": "97ddd120",
   "metadata": {
    "user_expressions": []
   },
   "source": [
    "#### Add in the cartographic shapefiles"
   ]
  },
  {
   "cell_type": "code",
   "execution_count": null,
   "id": "511ae5aa",
   "metadata": {},
   "outputs": [],
   "source": [
    "ax.coastlines()\n",
    "ax.add_feature(cfeature.BORDERS, linewidth=0.5, edgecolor='blue')\n",
    "fig"
   ]
  },
  {
   "cell_type": "markdown",
   "id": "d06ea526",
   "metadata": {
    "user_expressions": []
   },
   "source": [
    "#### Add a fancy background image to the map."
   ]
  },
  {
   "cell_type": "code",
   "execution_count": null,
   "id": "0fe11f28",
   "metadata": {},
   "outputs": [],
   "source": [
    "ax.stock_img()\n",
    "fig"
   ]
  },
  {
   "cell_type": "markdown",
   "id": "3bd64ab1",
   "metadata": {
    "user_expressions": []
   },
   "source": [
    "### Lambert Azimuthal Equal Area Projection"
   ]
  },
  {
   "cell_type": "code",
   "execution_count": null,
   "id": "75bd07c9",
   "metadata": {},
   "outputs": [],
   "source": [
    "fig = plt.figure(figsize=(11, 8.5))\n",
    "projLae = ccrs.LambertAzimuthalEqualArea(central_longitude=0.0, central_latitude=0.0)\n",
    "ax = plt.subplot(1, 1, 1, projection=projLae)\n",
    "ax.set_title(\"Lambert Azimuthal Equal Area Projection\")\n",
    "ax.coastlines()\n",
    "ax.add_feature(cfeature.BORDERS, linewidth=0.5, edgecolor='blue');"
   ]
  },
  {
   "cell_type": "markdown",
   "id": "0f080bc1",
   "metadata": {
    "user_expressions": []
   },
   "source": [
    "## Create regional maps"
   ]
  },
  {
   "cell_type": "markdown",
   "id": "a41bb08f",
   "metadata": {
    "user_expressions": []
   },
   "source": [
    "### Cartopy's `set_extent` method\n",
    "\n",
    "Now, let's go back to PlateCarree, but let's use Cartopy's `set_extent` method to restrict the map coverage to a North American view. Let's also choose a lower resolution for coastlines, just to illustrate how one can specify that. Plot lat/lon lines as well."
   ]
  },
  {
   "cell_type": "markdown",
   "id": "c56f6fe1",
   "metadata": {
    "user_expressions": []
   },
   "source": [
    "Reference for Natural Earth's three resolutions (10m, 50m, 110m; higher is coarser): https://www.naturalearthdata.com/downloads/"
   ]
  },
  {
   "cell_type": "code",
   "execution_count": null,
   "id": "d68bcd54",
   "metadata": {},
   "outputs": [],
   "source": [
    "projPC = ccrs.PlateCarree()\n",
    "lonW = -140\n",
    "lonE = -40\n",
    "latS = 15\n",
    "latN = 65\n",
    "cLat = (latN + latS) / 2\n",
    "cLon = (lonW + lonE) / 2\n",
    "res = '110m'"
   ]
  },
  {
   "cell_type": "code",
   "execution_count": null,
   "id": "d79c1a5b",
   "metadata": {},
   "outputs": [],
   "source": [
    "fig = plt.figure(figsize=(11, 8.5))\n",
    "ax = plt.subplot(1, 1, 1, projection=projPC)\n",
    "ax.set_title('Plate Carree')\n",
    "gl = ax.gridlines(\n",
    "    draw_labels=True, linewidth=2, color='gray', alpha=0.5, linestyle='--'\n",
    ")\n",
    "ax.set_extent([lonW, lonE, latS, latN], crs=projPC)\n",
    "ax.coastlines(resolution=res, color='black')\n",
    "ax.add_feature(cfeature.STATES, linewidth=0.3, edgecolor='brown')\n",
    "ax.add_feature(cfeature.BORDERS, linewidth=0.5, edgecolor='blue');"
   ]
  },
  {
   "cell_type": "markdown",
   "id": "19c4bb28",
   "metadata": {
    "user_expressions": []
   },
   "source": [
    "<div class=\"admonition alert alert-info\">\n",
    "    <p class=\"admonition-title\" style=\"font-weight:bold\">Info</p>\n",
    "    Note the in the `set_extent` call, we specified <strong>PlateCarree</strong>. This ensures that the values we passed into `set_extent` will be <i>transformed</i> from degrees into the values appropriate for the projection we use for the map.\n",
    "</div>"
   ]
  },
  {
   "cell_type": "markdown",
   "id": "172ef15d",
   "metadata": {
    "user_expressions": []
   },
   "source": [
    "The PlateCarree projection exaggerates the spatial extent of regions closer to the poles. Let's try a couple different projections."
   ]
  },
  {
   "cell_type": "code",
   "execution_count": null,
   "id": "4f989f85",
   "metadata": {},
   "outputs": [],
   "source": [
    "projStr = ccrs.Stereographic(central_longitude=cLon, central_latitude=cLat)\n",
    "fig = plt.figure(figsize=(11, 8.5))\n",
    "ax = plt.subplot(1, 1, 1, projection=projStr)\n",
    "ax.set_title('Stereographic')\n",
    "gl = ax.gridlines(\n",
    "    draw_labels=True, linewidth=2, color='gray', alpha=0.5, linestyle='--'\n",
    ")\n",
    "ax.set_extent([lonW, lonE, latS, latN], crs=projPC)\n",
    "ax.coastlines(resolution=res, color='black')\n",
    "ax.add_feature(cfeature.STATES, linewidth=0.3, edgecolor='brown')\n",
    "ax.add_feature(cfeature.BORDERS, linewidth=0.5, edgecolor='blue');"
   ]
  },
  {
   "cell_type": "code",
   "execution_count": null,
   "id": "d60fac5d",
   "metadata": {},
   "outputs": [],
   "source": [
    "projLcc = ccrs.LambertConformal(central_longitude=cLon, central_latitude=cLat)\n",
    "fig = plt.figure(figsize=(11, 8.5))\n",
    "ax = plt.subplot(1, 1, 1, projection=projLcc)\n",
    "ax.set_title('Lambert Conformal')\n",
    "gl = ax.gridlines(\n",
    "    draw_labels=True, linewidth=2, color='gray', alpha=0.5, linestyle='--'\n",
    ")\n",
    "ax.set_extent([lonW, lonE, latS, latN], crs=projPC)\n",
    "ax.coastlines(resolution='110m', color='black')\n",
    "ax.add_feature(cfeature.STATES, linewidth=0.3, edgecolor='brown')\n",
    "# End last line with a semicolon to suppress text output to the screen\n",
    "ax.add_feature(cfeature.BORDERS, linewidth=0.5, edgecolor='blue');"
   ]
  },
  {
   "cell_type": "markdown",
   "id": "9234d8a5",
   "metadata": {
    "user_expressions": []
   },
   "source": [
    "<div class=\"admonition alert alert-info\">\n",
    "    <p class=\"admonition-title\" style=\"font-weight:bold\">Info</p>\n",
    "    Lat/lon labeling for projections other than Mercator and PlateCarree is a recent addition to Cartopy. As you can see, work still needs to be done to improve the placement of labels.\n",
    "</div>"
   ]
  },
  {
   "cell_type": "markdown",
   "id": "f7adb207",
   "metadata": {
    "user_expressions": []
   },
   "source": [
    "### Create a regional map centered over New York State"
   ]
  },
  {
   "cell_type": "markdown",
   "id": "79b9a5ab",
   "metadata": {
    "user_expressions": []
   },
   "source": [
    "Set the domain for defining the plot region. We will use this in the `set_extent` line below. Since these coordinates are expressed in degrees, they correspond to the PlateCarree projection."
   ]
  },
  {
   "cell_type": "markdown",
   "id": "0cda9d14",
   "metadata": {
    "user_expressions": []
   },
   "source": [
    "<div class=\"admonition alert alert-warning\">\n",
    "    <p class=\"admonition-title\" style=\"font-weight:bold\">Warning</p>\n",
    "    Be patient: with a limited regional extent as specified here, the highest resolution (10m) shapefiles are used; as a result (as with any `GeoAxes` object that must be transformed from one coordinate system to another, a subject for a subsequent notebook), this will take longer to plot, particularly if you haven't previously retrieved these features from the Natural Earth shapefile server.\n",
    "</div>"
   ]
  },
  {
   "cell_type": "code",
   "execution_count": null,
   "id": "2a28c616",
   "metadata": {},
   "outputs": [],
   "source": [
    "latN = 45.2\n",
    "latS = 40.2\n",
    "lonW = -80.0\n",
    "lonE = -71.5\n",
    "cLat = (latN + latS) / 2\n",
    "cLon = (lonW + lonE) / 2\n",
    "projLccNY = ccrs.LambertConformal(central_longitude=cLon, central_latitude=cLat)"
   ]
  },
  {
   "cell_type": "markdown",
   "id": "50c69bc3",
   "metadata": {
    "user_expressions": []
   },
   "source": [
    "### Add some pre-defined Features\n",
    "\n",
    "Some pre-defined Features exist as `cartopy.feature` constants. The resolution of these pre-defined Features will depend on the areal extent of your map, which you specify via `set_extent`."
   ]
  },
  {
   "cell_type": "code",
   "execution_count": null,
   "id": "22b01a14",
   "metadata": {},
   "outputs": [],
   "source": [
    "fig = plt.figure(figsize=(15, 10))\n",
    "ax = plt.subplot(1, 1, 1, projection=projLccNY)\n",
    "ax.set_extent([lonW, lonE, latS, latN], crs=projPC)\n",
    "ax.set_facecolor(cfeature.COLORS['water'])\n",
    "ax.add_feature(cfeature.LAND)\n",
    "ax.add_feature(cfeature.COASTLINE)\n",
    "ax.add_feature(cfeature.BORDERS, linestyle='--')\n",
    "ax.add_feature(cfeature.LAKES, alpha=0.5)\n",
    "ax.add_feature(cfeature.STATES)\n",
    "ax.add_feature(cfeature.RIVERS)\n",
    "ax.set_title('New York and Vicinity');"
   ]
  },
  {
   "cell_type": "markdown",
   "id": "079b85c1",
   "metadata": {
    "user_expressions": []
   },
   "source": [
    "<div class=\"admonition alert alert-info\">\n",
    "    <p class=\"admonition-title\" style=\"font-weight:bold\">Note:</p>\n",
    "    For high-resolution Natural Earth shapefiles such as this, while we could add Cartopy's <code>OCEAN</code> feature, it currently takes <i>much longer</i> to render on the plot (try it yourself to see!). Instead, we take the strategy of first setting the facecolor of the entire <code>Axes</code> to match that of water bodies in Cartopy. When we then layer on the <code>LAND</code> feature, pixels that are not part of the <code>LAND</code> shapefile remain in the <code>water</code> facecolor, which is the same color as the <code>OCEAN</code> .\n",
    "</div>"
   ]
  },
  {
   "cell_type": "markdown",
   "id": "d5357c2d",
   "metadata": {
    "user_expressions": []
   },
   "source": [
    "### Use lower resolution shapefiles from Natural Earth\n",
    "\n",
    "Let's create a new map, but this time use lower-resolution shapefiles from Natural Earth, and also eliminate plotting the country borders.\n",
    "\n",
    "Notice this is a bit more involved. First we create objects for our lower-resolution shapefiles via the `NaturalEarthFeature` method from Cartopy's `feature` class, and then we add them to the map with `add_feature`."
   ]
  },
  {
   "cell_type": "code",
   "execution_count": null,
   "id": "bac7ddb9",
   "metadata": {},
   "outputs": [],
   "source": [
    "fig = plt.figure(figsize=(15, 10))\n",
    "ax = plt.subplot(1, 1, 1, projection=projLccNY)\n",
    "ax.set_extent((lonW, lonE, latS, latN), crs=projPC)\n",
    "\n",
    "# The features with names such as cfeature.LAND, cfeature.OCEAN, are higher-resolution (10m)\n",
    "# shapefiles from the Naturalearth repository.  Lower resolution shapefiles (50m, 110m) can be\n",
    "# used by using the cfeature.NaturalEarthFeature method as illustrated below.\n",
    "\n",
    "resolution = '110m'\n",
    "\n",
    "land_mask = cfeature.NaturalEarthFeature(\n",
    "    'physical',\n",
    "    'land',\n",
    "    scale=resolution,\n",
    "    edgecolor='face',\n",
    "    facecolor=cfeature.COLORS['land'],\n",
    ")\n",
    "sea_mask = cfeature.NaturalEarthFeature(\n",
    "    'physical',\n",
    "    'ocean',\n",
    "    scale=resolution,\n",
    "    edgecolor='face',\n",
    "    facecolor=cfeature.COLORS['water'],\n",
    ")\n",
    "lake_mask = cfeature.NaturalEarthFeature(\n",
    "    'physical',\n",
    "    'lakes',\n",
    "    scale=resolution,\n",
    "    edgecolor='face',\n",
    "    facecolor=cfeature.COLORS['water'],\n",
    ")\n",
    "state_borders = cfeature.NaturalEarthFeature(\n",
    "    category='cultural',\n",
    "    name='admin_1_states_provinces_lakes',\n",
    "    scale=resolution,\n",
    "    facecolor='none',\n",
    ")\n",
    "\n",
    "ax.add_feature(land_mask)\n",
    "ax.add_feature(sea_mask)\n",
    "ax.add_feature(lake_mask)\n",
    "ax.add_feature(state_borders, linestyle='solid', edgecolor='black')\n",
    "ax.set_title('New York and Vicinity; lower resolution');"
   ]
  },
  {
   "cell_type": "markdown",
   "id": "e5788c5f",
   "metadata": {
    "user_expressions": []
   },
   "source": [
    "### A figure with two different regional maps\n",
    "\n",
    "Finally, let's create a figure with two subplots. On one, we'll repeat our hi-res NYS map; on the second, we'll plot over a different part of the world."
   ]
  },
  {
   "cell_type": "code",
   "execution_count": null,
   "id": "a6cda2f4",
   "metadata": {},
   "outputs": [],
   "source": [
    "# Create the figure object\n",
    "fig = plt.figure(\n",
    "    figsize=(30, 24)\n",
    ")  # Notice we need a bigger \"canvas\" so these two maps will be of a decent size\n",
    "\n",
    "# First subplot\n",
    "ax = plt.subplot(2, 1, 1, projection=projLccNY)\n",
    "ax.set_extent([lonW, lonE, latS, latN], crs=projPC)\n",
    "ax.set_facecolor(cfeature.COLORS['water'])\n",
    "ax.add_feature(cfeature.LAND)\n",
    "ax.add_feature(cfeature.COASTLINE)\n",
    "ax.add_feature(cfeature.BORDERS, linestyle='--')\n",
    "ax.add_feature(cfeature.LAKES, alpha=0.5)\n",
    "ax.add_feature(cfeature.STATES)\n",
    "ax.set_title('New York and Vicinity')\n",
    "\n",
    "# Set the domain for defining the second plot region.\n",
    "latN = 70\n",
    "latS = 30.2\n",
    "lonW = -10\n",
    "lonE = 50\n",
    "cLat = (latN + latS) / 2\n",
    "cLon = (lonW + lonE) / 2\n",
    "\n",
    "projLccEur = ccrs.LambertConformal(central_longitude=cLon, central_latitude=cLat)\n",
    "\n",
    "# Second subplot\n",
    "ax2 = plt.subplot(2, 1, 2, projection=projLccEur)\n",
    "ax2.set_extent([lonW, lonE, latS, latN], crs=projPC)\n",
    "ax2.set_facecolor(cfeature.COLORS['water'])\n",
    "ax2.add_feature(cfeature.LAND)\n",
    "ax2.add_feature(cfeature.COASTLINE)\n",
    "ax2.add_feature(cfeature.BORDERS, linestyle='--')\n",
    "ax2.add_feature(cfeature.LAKES, alpha=0.5)\n",
    "ax2.add_feature(cfeature.STATES)\n",
    "ax2.set_title('Europe');"
   ]
  },
  {
   "cell_type": "markdown",
   "id": "04f1e47d",
   "metadata": {
    "user_expressions": []
   },
   "source": [
    "## An example of plotting data\n",
    "\n",
    "First, we'll create a lat-lon grid and define some data on it."
   ]
  },
  {
   "cell_type": "code",
   "execution_count": null,
   "id": "3f8945aa",
   "metadata": {},
   "outputs": [],
   "source": [
    "lon, lat = np.mgrid[-180:181, -90:91]\n",
    "data = 2 * np.sin(3 * np.deg2rad(lon)) + 3 * np.cos(4 * np.deg2rad(lat))\n",
    "plt.contourf(lon, lat, data)\n",
    "plt.colorbar();"
   ]
  },
  {
   "cell_type": "markdown",
   "id": "1a661cae",
   "metadata": {
    "user_expressions": []
   },
   "source": [
    "Plotting data on a Cartesian grid is equivalent to plotting data in the Plate Carree projection, where meridians and parallels are all straight lines with constant spacing. As a result of this simplicity, the global datasets we use often begin in the Plate Carree projection.\n",
    "\n",
    "Once we create our map again, we can plot this data as a contour map. We also need to specify the projection we are transforming _from_ (i.e. the projection our data is currently in) using the `transform` argument. Let's plot our data in the Mollweide projection to see how shapes change under a transformation."
   ]
  },
  {
   "cell_type": "code",
   "execution_count": null,
   "id": "f28f64be",
   "metadata": {},
   "outputs": [],
   "source": [
    "fig = plt.figure(figsize=(11, 8.5))\n",
    "ax = plt.subplot(1, 1, 1, projection=projMoll)\n",
    "ax.coastlines()\n",
    "dataplot = ax.contourf(lon, lat, data, transform=ccrs.PlateCarree())\n",
    "plt.colorbar(dataplot, orientation='horizontal');"
   ]
  },
  {
   "cell_type": "markdown",
   "id": "ff9af7f3",
   "metadata": {
    "user_expressions": []
   },
   "source": [
    "___"
   ]
  },
  {
   "cell_type": "markdown",
   "id": "d82bcc1b",
   "metadata": {
    "user_expressions": []
   },
   "source": [
    "## Summary"
   ]
  },
  {
   "cell_type": "markdown",
   "id": "a11bced8",
   "metadata": {
    "user_expressions": []
   },
   "source": [
    "- Cartopy allows for georeferencing Matplotlib `axes` objects.\n",
    "- Cartopy's `crs` class supports a variety of map projections.\n",
    "- Cartopy's `feature` class allows for a variety of cartographic features to be overlaid on the figure."
   ]
  },
  {
   "cell_type": "markdown",
   "id": "840bf717",
   "metadata": {
    "user_expressions": []
   },
   "source": [
    "___"
   ]
  },
  {
   "cell_type": "markdown",
   "id": "090bb8c1",
   "metadata": {
    "user_expressions": []
   },
   "source": [
    "## What's Next?"
   ]
  },
  {
   "cell_type": "markdown",
   "id": "7dbf8844",
   "metadata": {
    "user_expressions": []
   },
   "source": [
    "In the next notebook, we will delve further into how one can transform data that is defined in one coordinate reference system (`crs`) so it displays properly on a map that uses a different `crs`."
   ]
  },
  {
   "cell_type": "markdown",
   "id": "269cd68a",
   "metadata": {
    "user_expressions": []
   },
   "source": [
    "## Resources and References\n",
    "\n",
    "1. [Cartopy Documentation](https://scitools.org.uk/cartopy/docs/latest/)\n",
    "2. [Full list of projections in Cartopy](https://scitools.org.uk/cartopy/docs/latest/reference/crs.html) \n",
    "3. [Maps with Cartopy (Ryan Abernathey)](https://rabernat.github.io/research_computing_2018/maps-with-cartopy.html)\n",
    "4. [Map Projections (GeoCAT)](https://geocat-examples.readthedocs.io/en/latest/gallery/index.html#map-projections)\n",
    "5. [NCAR xdev Cartopy Tutorial Video](https://www.youtube.com/watch?v=ivmd3RluMiw)"
   ]
  }
 ],
 "metadata": {
  "jupytext": {
   "notebook_metadata_filter": "all,-language_info,-toc,-latex_envs",
   "text_representation": {
    "extension": ".md",
    "format_name": "myst",
    "format_version": 0.13,
    "jupytext_version": "1.14.5"
   }
  },
  "kernelspec": {
   "display_name": "Python 3 (ipykernel)",
   "language": "python",
   "name": "python3"
  },
  "source_map": [
   15,
   22,
   27,
   39,
   49,
   53,
   57,
   68,
   72,
   76,
   80,
   86,
   92,
   98,
   102,
   106,
   113,
   117,
   121,
   125,
   129,
   134,
   138,
   142,
   146,
   153,
   159,
   166,
   170,
   176,
   180,
   185,
   189,
   198,
   202,
   208,
   212,
   223,
   236,
   243,
   247,
   261,
   276,
   283,
   287,
   291,
   298,
   308,
   314,
   328,
   335,
   343,
   389,
   395,
   434,
   440,
   447,
   453,
   461,
   465,
   469,
   475,
   479,
   483,
   487
  ]
 },
 "nbformat": 4,
 "nbformat_minor": 5
}