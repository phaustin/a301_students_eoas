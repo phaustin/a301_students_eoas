{
 "cells": [
  {
   "cell_type": "markdown",
   "id": "e6ebb7eb",
   "metadata": {
    "tags": [],
    "user_expressions": []
   },
   "source": [
    "(week11:diffuse_flux)=\n",
    "# Calculating the diffuse flux"
   ]
  },
  {
   "cell_type": "code",
   "execution_count": null,
   "id": "6ff4bd92",
   "metadata": {},
   "outputs": [],
   "source": [
    "import matplotlib\n",
    "import matplotlib.pyplot as plt\n",
    "import numpy as np\n",
    "from scipy.special import expn"
   ]
  },
  {
   "cell_type": "markdown",
   "id": "a7209bb6",
   "metadata": {
    "tags": [],
    "user_expressions": []
   },
   "source": [
    "In the {ref}`week11_flux_schwartzchild` notes I claimed\n",
    " that the following approximation was a good one:\n",
    "\n",
    "$$\n",
    " \\hat{t}_f =  2 \\int_0^1 \\mu \\exp \\left (- \\frac{\\tau }{\\mu} \\right ) d\\mu\n",
    "       \\approx  \\exp \\left (-1.66 \\tau \\right )\n",
    "$$(eq:fluxtran)\n",
    "       \n",
    "As I mentioned, we can't calculate this integral analytically, but it's important enough that it has its own special function in python:\n",
    "[scipy.special.expn](https://docs.scipy.org/doc/scipy/reference/generated/scipy.special.expn.html)\n",
    "\n",
    "Below we use this function to compare the approximate version `np.exp(-1.66*tau)` with a brute force integration and the `expn` more exact answer."
   ]
  },
  {
   "cell_type": "markdown",
   "id": "e6b29bfb",
   "metadata": {
    "tags": [],
    "user_expressions": []
   },
   "source": [
    "## Change of variables"
   ]
  },
  {
   "cell_type": "markdown",
   "id": "d6f7c662",
   "metadata": {
    "tags": [],
    "user_expressions": []
   },
   "source": [
    " First we need to show that {eq}`eq:fluxtran` the  is actually the third exponential integral.  This requires doing a change\n",
    " of variables:\n",
    " \n",
    "\n",
    " $$u = \\mu^{-1}$$\n",
    "\n",
    "Use this substitutiion to show that we can rewrite {eq}`eq:fluxtran` as:\n",
    "\n",
    " $$\n",
    " \\hat{t}_f = 2 \\int_1^\\infty \\frac{\\exp(-u \\tau)}{u^3} du\n",
    " $$\n",
    "which is available from scipy as `expn(3.0, tau)`\n",
    "\n",
    "The next cell shows the approximate and exact values vs the vertical (straightup) optical depth $\\tau$"
   ]
  },
  {
   "cell_type": "code",
   "execution_count": null,
   "id": "5827a62c",
   "metadata": {},
   "outputs": [],
   "source": [
    "\"\"\"\n",
    "   plot 2*scipy.special.expn(3,the_tau))\n",
    "   this is the accurate version of the flux transmission function\n",
    "   defined above\n",
    "\"\"\"\n",
    "\n",
    "matplotlib.style.use(\"ggplot\")\n",
    "tau = np.arange(0.1, 5, 0.1)\n",
    "flux_trans = 2 * expn(3.0, tau)\n",
    "fig, ax = plt.subplots(1, 1)\n",
    "ax.plot(tau, flux_trans, label=\"scipy\")\n",
    "ax.plot(tau, np.exp(-1.66 * tau), label=\"approx\")\n",
    "ax.legend()\n",
    "ax.set(ylabel=\"flux_trans\", xlabel=r\"vertical optical depth $\\tau$\")"
   ]
  },
  {
   "cell_type": "markdown",
   "id": "d1c555b9",
   "metadata": {
    "user_expressions": []
   },
   "source": [
    "##  Brute force approx\n",
    "\n",
    "What if scipy hadn't provided the `expn` function?  We can also do a brute-force approximation\n",
    "using rectangle area"
   ]
  },
  {
   "cell_type": "code",
   "execution_count": null,
   "id": "e5dc6cfc",
   "metadata": {
    "deletable": false,
    "nbgrader": {
     "cell_type": "code",
     "checksum": "60325a97c3b77fdfa8af1e71a221d271",
     "grade": true,
     "grade_id": "cell-dc415abb23bb771d",
     "locked": false,
     "points": 5,
     "schema_version": 2,
     "solution": true
    }
   },
   "outputs": [],
   "source": [
    "def trans_fun(tau,mu):\n",
    "    \"\"\"\n",
    "    equation 1 above\n",
    "    \"\"\"\n",
    "    output = 2*mu*np.exp(-tau/mu)\n",
    "    return output\n",
    "\n",
    "def do_int(tau,mu_vec):\n",
    "    \"\"\"\n",
    "    rectangular integration\n",
    "    \"\"\"\n",
    "    \n",
    "    trans_vec=np.empty_like(mu_vec)\n",
    "    \n",
    "    for index, the_mu in enumerate(mu_vec):\n",
    "        trans_vec[index]=trans_fun(tau,the_mu)\n",
    "    dmu=np.diff(mu_vec)\n",
    "    mid_trans = (trans_vec[1:] + trans_vec[:-1])/2.\n",
    "    return np.sum(mid_trans*dmu)       \n",
    "    \n",
    "\n",
    "mu_vec = np.linspace(0.01,1,150)\n",
    "tau_vec=np.arange(0.1,5,0.1)\n",
    "flux_trans = np.empty_like(tau_vec)\n",
    "for index,tau in enumerate(tau_vec):\n",
    "    flux_trans[index] = do_int(tau,mu_vec)\n",
    "    \n",
    "fig, ax = plt.subplots(1,1,figsize=(7,7))\n",
    "ax.plot(tau_vec,flux_trans,'r+',markersize=15,label=\"retangular int\");\n",
    "ax.set_xlabel('vertical optical depth (unitless)')\n",
    "ax.set_ylabel('transmission (unitless)')\n",
    "ax.plot(tau_vec,np.exp(-tau_vec),label='vertical transmission')\n",
    "ax.plot(tau_vec,np.exp(-1.666*tau_vec),label='approx transmission',lw=3)\n",
    "flux_trans = 2 * expn(3.0, tau_vec)\n",
    "ax.plot(tau_vec,flux_trans,label='scipy exact',lw=3)\n",
    "ax.set_title(\"vertical transmission vs. 3 flux transmission approximations\")\n",
    "\n",
    "ax.legend();"
   ]
  }
 ],
 "metadata": {
  "jupytext": {
   "notebook_metadata_filter": "all,-language_info,-toc,-latex_envs",
   "text_representation": {
    "extension": ".md",
    "format_name": "myst",
    "format_version": 0.13,
    "jupytext_version": "1.14.0"
   }
  },
  "kernelspec": {
   "display_name": "Python 3 (ipykernel)",
   "language": "python",
   "name": "python3"
  },
  "source_map": [
   15,
   20,
   27,
   42,
   46,
   64,
   81,
   89
  ]
 },
 "nbformat": 4,
 "nbformat_minor": 5
}