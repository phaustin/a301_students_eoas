{
 "cells": [
  {
   "cell_type": "markdown",
   "id": "3eb2797b",
   "metadata": {
    "tags": [],
    "user_expressions": []
   },
   "source": [
    "(week11:cloudsat_heat)=\n",
    "# Cloudsat heating rate\n",
    "\n",
    "Cloudsat uses radiation models plus the radar and Modis data to estimate the long and shortwave fluxes at each\n",
    "radar height level.  The the datasets are called [2B-FLXHR](https://www.cloudsat.cira.colostate.edu/data-products/2b-flxhr)\n",
    "and [2B-FLXHR-LIDAR](https://www.cloudsat.cira.colostate.edu/data-products/2b-flxhr-lidar) and the heating rate\n",
    "variable `QR` (K/day) is returned as a 3 dimensional array of shape `[2,time,height]`, with `[0,time,height]` holding\n",
    "the longwave heating rates and `[1,time,height]` holding the sortwave heating rates.\n",
    "\n",
    "In this notebook we look at the longwave, shortwave and net=longwave + shortwave heating rates for the Texas storm.\n",
    "The figures show that during the day, there is large cooling at cloudtop, with strong shortwave heating just below the\n",
    "cooling layer and smaller warming through most of the atmosphere.  \n",
    "\n",
    "Note that climate models need to estimate the heating rate with many fewer vertical levels (45 instead of 125) and much\n",
    "coarser horizontal resolution (100 km/gridcell instead of 1 km/pixel)"
   ]
  },
  {
   "cell_type": "code",
   "execution_count": null,
   "id": "d6c22f86",
   "metadata": {},
   "outputs": [],
   "source": [
    "import a301_lib\n",
    "from sat_lib.cloudsat import read_cloudsat_var\n",
    "from pathlib import Path\n",
    "import xarray\n",
    "import datetime as dt\n",
    "import pandas as pd\n",
    "import numpy as np\n",
    "from sat_lib.cloudsat import add_storm_distance\n",
    "from matplotlib import pyplot as plt\n",
    "from matplotlib import cm\n",
    "from matplotlib.colors import Normalize\n",
    "import copy"
   ]
  },
  {
   "cell_type": "code",
   "execution_count": null,
   "id": "f0b4a9cd",
   "metadata": {},
   "outputs": [],
   "source": [
    "cloudsat_dir = a301_lib.data_share / \"pha/cloudsat\"\n",
    "flxhr_file = list(cloudsat_dir.glob(\"*2008*FLXHR*hdf\"))[0]\n",
    "print(flxhr_file)"
   ]
  },
  {
   "cell_type": "code",
   "execution_count": null,
   "id": "5381525a",
   "metadata": {},
   "outputs": [],
   "source": [
    "qr_ds = read_cloudsat_var('QR',flxhr_file)"
   ]
  },
  {
   "cell_type": "markdown",
   "id": "d7eb910a",
   "metadata": {
    "tags": [],
    "user_expressions": []
   },
   "source": [
    "## Clip to the storm"
   ]
  },
  {
   "cell_type": "code",
   "execution_count": null,
   "id": "173b94cf",
   "metadata": {},
   "outputs": [],
   "source": [
    "start_hour=6\n",
    "start_minute=45\n",
    "all_times=pd.to_datetime(qr_ds.time)\n",
    "first_time = all_times[0]\n",
    "storm_start=starttime=dt.datetime(first_time.year,first_time.month,first_time.day,\n",
    "                                        start_hour,start_minute,0)\n",
    "storm_stop=storm_start + dt.timedelta(minutes=3)\n",
    "storm_start, storm_stop"
   ]
  },
  {
   "cell_type": "code",
   "execution_count": null,
   "id": "9e883df5",
   "metadata": {},
   "outputs": [],
   "source": [
    "time_hit = np.logical_and(all_times >= storm_start, all_times <= storm_stop)\n",
    "qr_slice = qr_ds.isel(indexers = {'time':time_hit})"
   ]
  },
  {
   "cell_type": "markdown",
   "id": "c88a3320",
   "metadata": {
    "tags": [],
    "user_expressions": []
   },
   "source": [
    "## Add storm distance\n",
    "\n",
    "using the function we wrote last week"
   ]
  },
  {
   "cell_type": "code",
   "execution_count": null,
   "id": "da31173f",
   "metadata": {},
   "outputs": [],
   "source": [
    "qr_slice = add_storm_distance(qr_slice)"
   ]
  },
  {
   "cell_type": "markdown",
   "id": "aa35c07e",
   "metadata": {
    "tags": [],
    "user_expressions": []
   },
   "source": [
    "## Set up the colormap"
   ]
  },
  {
   "cell_type": "code",
   "execution_count": null,
   "id": "8ab932a9",
   "metadata": {},
   "outputs": [],
   "source": [
    "def make_cmap(vmin, vmax, cmap = cm.viridis,\n",
    "              over = 'w',under='k',missing='0.4'):\n",
    "    \"\"\"\n",
    "    return Normalization and colormap\n",
    "\n",
    "    Parameters\n",
    "    ----------\n",
    "\n",
    "    vmin, vmax: float\n",
    "       colormap max and min values\n",
    "    cmap: cm.colormap\n",
    "       optional, default - cm.viridis\n",
    "    over,under,missing: str\n",
    "       colors for data large, small, missing data\n",
    "       defaults: over = 'w',under='k',missing='0.4'\n",
    "\n",
    "    Returns\n",
    "    -------\n",
    "\n",
    "    the_norm:  Normalization for vmin and vmax\n",
    "    cmap: colormap with over, under and missing \n",
    "    \n",
    "    \"\"\"\n",
    "    the_norm=Normalize(vmin=vmin,vmax=vmax,clip=False)\n",
    "    cmap=copy.copy(cmap)\n",
    "    cmap.set_over(over)\n",
    "    cmap.set_under(under)\n",
    "    cmap.set_bad(missing) # grey\n",
    "    return the_norm, cmap"
   ]
  },
  {
   "cell_type": "markdown",
   "id": "8bcd8be2",
   "metadata": {
    "tags": [],
    "user_expressions": []
   },
   "source": [
    "## Plot the longwave heating rate"
   ]
  },
  {
   "cell_type": "code",
   "execution_count": null,
   "id": "f9ecc7aa",
   "metadata": {},
   "outputs": [],
   "source": [
    "lw_heating = qr_slice['QR'][1,:,:]\n",
    "fig, ax = plt.subplots(1,1,figsize=(14,4))\n",
    "the_norm, cmap  = make_cmap(-4,4, cmap = cm.coolwarm,under = 'c',missing='y')\n",
    "lw_heating.plot.pcolormesh(x='storm_distance',y='height_km',ax=ax, cmap = cmap, norm = the_norm)\n",
    "ax.set(ylim=(0,17),title=\"longwave heating rate (K/day)\");"
   ]
  },
  {
   "cell_type": "markdown",
   "id": "f8bd52d5",
   "metadata": {
    "tags": [],
    "user_expressions": []
   },
   "source": [
    "## Plot the shortwave heating rate"
   ]
  },
  {
   "cell_type": "code",
   "execution_count": null,
   "id": "aba37534",
   "metadata": {},
   "outputs": [],
   "source": [
    "sw_heating = qr_slice['QR'][0,:,:]\n",
    "fig, ax = plt.subplots(1,1,figsize=(14,4))\n",
    "the_norm, cmap  = make_cmap(-4,4, cmap = cm.coolwarm,under = 'c',missing='y')\n",
    "sw_heating.plot.pcolormesh(x='storm_distance',y='height_km',ax=ax, cmap = cmap, norm = the_norm)\n",
    "ax.set(ylim=(0,17),title=\"shortwave heating rate (K/day)\");"
   ]
  },
  {
   "cell_type": "markdown",
   "id": "d195ddcc",
   "metadata": {
    "tags": [],
    "user_expressions": []
   },
   "source": [
    "## Plot the net heating rate"
   ]
  },
  {
   "cell_type": "code",
   "execution_count": null,
   "id": "d80b3dee",
   "metadata": {},
   "outputs": [],
   "source": [
    "net_heating = qr_slice['QR'][0,:,:] + qr_slice['QR'][1,:,:]\n",
    "fig, ax = plt.subplots(1,1,figsize=(14,4))\n",
    "the_norm, cmap  = make_cmap(-4,4, cmap = cm.coolwarm,under = 'c',missing='y')\n",
    "net_heating.plot.pcolormesh(x='storm_distance',y='height_km',ax=ax, cmap = cmap, norm = the_norm)\n",
    "ax.set(ylim=(0,17),title=\"net heating rate (K/day)\");"
   ]
  }
 ],
 "metadata": {
  "jupytext": {
   "text_representation": {
    "extension": ".md",
    "format_name": "myst",
    "format_version": 0.13,
    "jupytext_version": "1.14.0"
   }
  },
  "kernelspec": {
   "display_name": "Python 3 (ipykernel)",
   "language": "python",
   "name": "python3"
  },
  "source_map": [
   14,
   32,
   47,
   53,
   57,
   61,
   72,
   77,
   83,
   87,
   91,
   123,
   127,
   135,
   139,
   147,
   151
  ]
 },
 "nbformat": 4,
 "nbformat_minor": 5
}