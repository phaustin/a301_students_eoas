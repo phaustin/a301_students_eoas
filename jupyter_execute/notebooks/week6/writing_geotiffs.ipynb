{
 "cells": [
  {
   "cell_type": "markdown",
   "id": "76ca8ee4",
   "metadata": {},
   "source": [
    "(week6:geotiffs)=\n",
    "# Writing the 5km water vapor image to a geotiff file\n",
    "\n",
    "The most common data format for satellite data is called geotiff, which is a contraction of \"georeferenced tagged image file format\".  \n",
    "\n",
    "The details are outlined in this [geotiff explainer](https://www.earthdatascience.org/courses/use-data-open-source-python/intro-raster-data-python/fundamentals-raster-data/intro-to-the-geotiff-file-format/). \n",
    "\n",
    "Briefly -- the file format allows us to save the raster images for multiple bands, the crs used by the raster to\n",
    "get back lats/lons for the grid, the extent and grid size of the raster, and possibly a palette to use to present\n",
    "the plotted image in a geographic information system.\n",
    "\n",
    "In this notebook we'll read in the image produced by the {ref}`week5:wv_resample` notebook, resample it once more\n",
    "onto a grid with a uniform pixel size of 5500 x 5500 meters and a grid of 510 rows and 500 columns,\n",
    "and write this out as geotiff."
   ]
  },
  {
   "cell_type": "markdown",
   "id": "cab8027c",
   "metadata": {},
   "source": [
    "## Read in the `area_def` and raster written by `wv_resample.md`"
   ]
  },
  {
   "cell_type": "code",
   "execution_count": null,
   "id": "54481307",
   "metadata": {},
   "outputs": [],
   "source": [
    "import a301_lib\n",
    "import numpy as np\n",
    "import json\n",
    "from copy import copy\n",
    "import pprint\n",
    "pp = pprint.PrettyPrinter(indent=4)\n",
    "\n",
    "from matplotlib import pyplot as plt\n",
    "import cartopy\n",
    "\n",
    "from pyresample import kd_tree, SwathDefinition\n",
    "\n",
    "from sat_lib.mapping import area_def_from_dict"
   ]
  },
  {
   "cell_type": "code",
   "execution_count": null,
   "id": "eeb9a836",
   "metadata": {},
   "outputs": [],
   "source": [
    "infile = a301_lib.data_share / \"pha/wv_5km_resampled.npz\"\n",
    "wv_raster = np.load(infile)\n",
    "print(\"npz array names\",list(wv_raster.keys()))\n",
    "wv_raster = wv_raster['arr_0']\n",
    "print(f\"{wv_raster.shape=}\")"
   ]
  },
  {
   "cell_type": "markdown",
   "id": "24925ed7",
   "metadata": {},
   "source": [
    "## Read in the `area_def`\n",
    "\n",
    "Our `area_def` was calculated \"on the fly\" by pyresample, and it gave us some pretty\n",
    "ragged extents and pixel sizes.  Humans do better when the work with round numbers,\n",
    "so we want to regrid to clean up these decimals."
   ]
  },
  {
   "cell_type": "code",
   "execution_count": null,
   "id": "cb27ac9a",
   "metadata": {},
   "outputs": [],
   "source": [
    "infile = a301_lib.data_share / \"pha/area_dict.json\"\n",
    "with open(infile,'r') as the_in:\n",
    "    old_area_dict = json.load(the_in)\n",
    "old_area_def = area_def_from_dict(old_area_dict)\n",
    "pp.pprint(old_area_dict)"
   ]
  },
  {
   "cell_type": "markdown",
   "id": "84bc49c3",
   "metadata": {},
   "source": [
    "## create a more regular `area_def` for sharing\n",
    "\n",
    "Here's a close approximation to the old `area_def`, produced by a new `sat_lib.mapping` function\n",
    "called `sat_lib.mapping.make_areadef`\n",
    "\n",
    "We'll give the new raster more easily used/uniform coordinates"
   ]
  },
  {
   "cell_type": "code",
   "execution_count": null,
   "id": "9a3af19b",
   "metadata": {},
   "outputs": [],
   "source": [
    "from sat_lib.mapping import make_areadef_dict\n",
    "lat_0 = 39.5\n",
    "lon_0 = -121.5\n",
    "ll_x = -1238500\n",
    "ll_y = -1155500\n",
    "pixel_size_x = 5500\n",
    "pixel_size_y = 5500\n",
    "x_size = 500\n",
    "y_size = 510\n",
    "area_dict = make_areadef_dict(lat_0,lon_0,ll_x, ll_y,pixel_size_x,pixel_size_y,\n",
    "                        x_size, y_size)\n",
    "pp.pprint(area_dict)\n",
    "new_area_def = area_def_from_dict(area_dict)\n",
    "print(f\"\\n\\n{new_area_def=}\")"
   ]
  },
  {
   "cell_type": "markdown",
   "id": "18fc0787",
   "metadata": {},
   "source": [
    "## regrid onto the new `area_def`\n",
    "\n",
    "We need to redo the resample with the SwathDefiniton set to the lons\n",
    "and lats taken from the old grid using the `get_lonlats` method."
   ]
  },
  {
   "cell_type": "markdown",
   "id": "0c510fb1",
   "metadata": {},
   "source": [
    "### get lons and lats to make the SwathDefinition"
   ]
  },
  {
   "cell_type": "code",
   "execution_count": null,
   "id": "45880348",
   "metadata": {},
   "outputs": [],
   "source": [
    "lons, lats =old_area_def.get_lonlats()\n",
    "print(f\"{lons.shape=}, {lats.shape=}\")\n",
    "old_swath = SwathDefinition(lons, lats)"
   ]
  },
  {
   "cell_type": "markdown",
   "id": "5133df6c",
   "metadata": {},
   "source": [
    "### resample from the old raster onto the new more uniform raster"
   ]
  },
  {
   "cell_type": "code",
   "execution_count": null,
   "id": "ad44d329",
   "metadata": {},
   "outputs": [],
   "source": [
    "fill_value = -9999.0\n",
    "new_wv_raster = kd_tree.resample_nearest(\n",
    "    old_swath,\n",
    "    wv_raster.ravel(),\n",
    "    new_area_def,\n",
    "    radius_of_influence=5000,\n",
    "    nprocs=2,\n",
    "    fill_value=fill_value,\n",
    ")\n",
    "new_wv_raster[new_wv_raster < -9000] = np.nan\n",
    "\n",
    "print(f\"{new_wv_raster.shape=}\")"
   ]
  },
  {
   "cell_type": "markdown",
   "id": "6e00ea54",
   "metadata": {},
   "source": [
    "### set up the palette and plot the new raster"
   ]
  },
  {
   "cell_type": "code",
   "execution_count": null,
   "id": "349b8394",
   "metadata": {},
   "outputs": [],
   "source": [
    "pal = copy(plt.get_cmap(\"plasma\"))\n",
    "pal.set_bad(\"0.75\")  # 75% grey for out-of-map cells\n",
    "pal.set_over(\"r\")  # color cells > vmax red\n",
    "pal.set_under(\"k\")  # color cells < vmin black\n",
    "vmin = 0.0  #anything under this is colored black\n",
    "vmax = 4.0  #anything over this is colored red\n",
    "from matplotlib.colors import Normalize\n",
    "the_norm = Normalize(vmin=vmin, vmax=vmax, clip=False)"
   ]
  },
  {
   "cell_type": "code",
   "execution_count": null,
   "id": "b10ec1bb",
   "metadata": {},
   "outputs": [],
   "source": [
    "crs = new_area_def.to_cartopy_crs()\n",
    "fig, ax = plt.subplots(1, 1, figsize=(10, 10), subplot_kw={\"projection\": crs})\n",
    "ax.gridlines(linewidth=2)\n",
    "ax.add_feature(cartopy.feature.GSHHSFeature(scale=\"coarse\", levels=[1, 2, 3]))\n",
    "ax.set_extent(crs.bounds, crs)\n",
    "cs = ax.imshow(\n",
    "    new_wv_raster,\n",
    "    transform=crs,\n",
    "    extent=crs.bounds,\n",
    "    origin=\"upper\",\n",
    "    alpha=0.8,\n",
    "    cmap=pal,\n",
    "    norm=the_norm,\n",
    ")\n",
    "ax.set(title=\"wv ir 5km resolution for 2013.222.2105\")\n",
    "fig.colorbar(cs, extend=\"both\");"
   ]
  },
  {
   "cell_type": "markdown",
   "id": "44084f67",
   "metadata": {},
   "source": [
    "## Write this out as a geotiff using rasterio and read it back in to check\n",
    "\n",
    "We need to use a python module called [rasterio](https://rasterio.readthedocs.io/en/latest/) to write this image out as\n",
    "a geotiff.  We'll do this in three steps:\n",
    "\n",
    "1) Define the [affine transform](http://www.perrygeo.com/python-affine-transforms.html)\n",
    "2) Write out the new_wv_raster \n",
    "3) Read it back in and plot using rasterio"
   ]
  },
  {
   "cell_type": "markdown",
   "id": "192d7714",
   "metadata": {},
   "source": [
    "### The role of the affine transform\n",
    "\n",
    "We can move back and forth from geodetic lons/lats to mapx/mapy using [cartopy's transform_point](https://eoasubc.xyz/a301_2022/notebooks/assignments/assign2b_solution.html).  The affine transform does the next step,\n",
    "which is to move back and forth from mapx/mapy to row/column on the raster.  We need to specify both the crs and the\n",
    "affine transform when we write our raster out as a geotiff."
   ]
  },
  {
   "cell_type": "markdown",
   "id": "b83a94c8",
   "metadata": {},
   "source": [
    "### Defining the affine transform"
   ]
  },
  {
   "cell_type": "markdown",
   "id": "58cfd4de",
   "metadata": {},
   "source": [
    "The affine transform requires the following information:\n",
    "\n",
    "    a = width of a pixel\n",
    "    b = row rotation (typically zero)\n",
    "    c = x-coordinate of the upper-left corner of the upper-left pixel\n",
    "    d = column rotation (typically zero)\n",
    "    e = height of a pixel (typically negative)\n",
    "    f = y-coordinate of the of the upper-left corner of the upper-left pixel\n",
    "\n",
    "Looking at help(new_area_def) shows that these are available as attributes:\n",
    "\n",
    "     |  width : int\n",
    "     |      x dimension in number of pixels, aka number of grid columns\n",
    "     |  height : int\n",
    "     |      y dimension in number of pixels, aka number of grid rows\n",
    "     |  rotation: float\n",
    "     |      rotation in degrees (negative is cw)\n",
    "     |  size : int\n",
    "     |      Number of points in grid\n",
    "     |  area_extent_ll : tuple\n",
    "     |      Area extent in lons lats as a tuple (lower_left_lon, lower_left_lat, upper_right_lon, upper_right_lat)\n",
    "     |  pixel_size_x : float\n",
    "     |      Pixel width in projection units\n",
    "     |      Pixel height in projection units\n",
    "     |  pixel_upper_left : tuple\n",
    "     |      Coordinates (x, y) of center of upper left pixel in projection units"
   ]
  },
  {
   "cell_type": "markdown",
   "id": "8d6f2a0b",
   "metadata": {},
   "source": [
    "### Pull the values from `area_def` to create an Affine instance"
   ]
  },
  {
   "cell_type": "code",
   "execution_count": null,
   "id": "4048761d",
   "metadata": {},
   "outputs": [],
   "source": [
    "from affine import Affine\n",
    "a = new_area_def.pixel_size_x\n",
    "b = 0\n",
    "c, f = new_area_def.pixel_upper_left\n",
    "d = 0\n",
    "#\n",
    "# pixel height is negative, because we are\n",
    "# starting in the ul corner and going down\n",
    "#\n",
    "e = -1*new_area_def.pixel_size_y\n",
    "the_transform = Affine(a,b,c,d,e,f)\n",
    "print(f\"{the_transform=}\")"
   ]
  },
  {
   "cell_type": "markdown",
   "id": "91a63b01",
   "metadata": {},
   "source": [
    "### Write out the geotiff\n",
    "\n",
    "In addition to the raster, the crs, and the affine transform, you can also \n",
    "add comments/history etc. as arbitrary tags using update_tags.  This allows us to\n",
    "write arbitrary metadata (dates, titles, units etc.) into the geotiff file\n",
    "\n",
    "See [rasterio tagging](https://rasterio.readthedocs.io/en/latest/topics/tags.html)"
   ]
  },
  {
   "cell_type": "code",
   "execution_count": null,
   "id": "fe0692e4",
   "metadata": {},
   "outputs": [],
   "source": [
    "new_wv_raster.dtype"
   ]
  },
  {
   "cell_type": "code",
   "execution_count": null,
   "id": "ff7a3ee9",
   "metadata": {},
   "outputs": [],
   "source": [
    "import rasterio\n",
    "import datetime\n",
    "tif_filename = a301_lib.data_share / \"pha/wv_ir_5km.tif\"\n",
    "num_chans = 1\n",
    "with rasterio.open(\n",
    "    tif_filename,\n",
    "    \"w\",\n",
    "    driver=\"GTiff\",\n",
    "    height=new_area_def.height,\n",
    "    width=new_area_def.width,\n",
    "    count=num_chans,\n",
    "    dtype=new_wv_raster.dtype,\n",
    "    crs=crs,\n",
    "    transform=the_transform,\n",
    "    nodata=np.nan\n",
    ") as outtif:\n",
    "    outtif.write(new_wv_raster,1)\n",
    "    outtif.update_tags(\n",
    "        title =\"5 km ir water vapor, Modis Aqua\",\n",
    "        history=\"written by week6/writing_geotiffs.md\",\n",
    "        written_on=str(datetime.date.today()),\n",
    "    )\n",
    "    band_tag = \"ir_wv (cm/m^2)\"\n",
    "    outtif.update_tags(1,label= band_tag)\n",
    "    \n",
    "    \n",
    "    "
   ]
  },
  {
   "cell_type": "markdown",
   "id": "e704f785",
   "metadata": {},
   "source": [
    "## Read the geotiff back in using rasterio\n",
    "\n",
    "In addition to the raster, the crs, and the affine transform, you can also \n",
    "add comments/history etc. as arbitrary tags"
   ]
  },
  {
   "cell_type": "code",
   "execution_count": null,
   "id": "d5b3e59c",
   "metadata": {},
   "outputs": [],
   "source": [
    "tif_filename = a301_lib.data_share / \"pha/wv_ir_5km.tif\"\n",
    "\n",
    "with rasterio.open(tif_filename,'r') as wv_tif:\n",
    "    #\n",
    "    # get tags for entire file\n",
    "    #\n",
    "    file_tags = wv_tif.tags()\n",
    "    #\n",
    "    # get raster and tags for band 1\n",
    "    #\n",
    "    wv_raster = wv_tif.read(1)\n",
    "    band_tags = wv_tif.tags(1)\n",
    "    #\n",
    "    # get the laea crs\n",
    "    #\n",
    "    crs = wv_tif.profile[\"crs\"]\n",
    "    #\n",
    "    # get the affine transform\n",
    "    #\n",
    "    transform = wv_tif.profile[\"transform\"]\n",
    "    \n",
    "print((f\"\\n{file_tags=}\\n\"\n",
    "    f\"\\n{band_tags=}\\n\"\n",
    "    f\"\\n{crs=}\\n\"\n",
    "    f\"\\n{transform=}\"))\n",
    "            \n",
    "        "
   ]
  },
  {
   "cell_type": "markdown",
   "id": "5c42ae29",
   "metadata": {},
   "source": [
    "### Get the pyresample `area_def` from the geotiff\n",
    "\n",
    "We don't need my `area_def_from_dict` function when working with geotiffs, pyresample has\n",
    "a utility for getting the `area_def` from the file in case you want to resample other rasters\n",
    "to the same grid"
   ]
  },
  {
   "cell_type": "code",
   "execution_count": null,
   "id": "8f81fa36",
   "metadata": {},
   "outputs": [],
   "source": [
    "import pyresample\n",
    "with rasterio.open(tif_filename) as wv_tif:\n",
    "    area_def = pyresample.utils.rasterio.get_area_def_from_raster(wv_tif)\n",
    "area_def"
   ]
  },
  {
   "cell_type": "markdown",
   "id": "85d14ff7",
   "metadata": {},
   "source": [
    "### Plot the image using rasterio\n",
    "\n",
    "Rasterio works with matplotlib axes -- you can pass an axis to rasterio's `show_hist` or `show`\n",
    "commands and it will plot into that axis.\n",
    "\n",
    "Below we use the tags we retrieved from the geotiff to set the title and legend label\n",
    "\n",
    "See [rasterio plotting](https://rasterio.readthedocs.io/en/latest/topics/plotting.html)"
   ]
  },
  {
   "cell_type": "code",
   "execution_count": null,
   "id": "ba3b8f75",
   "metadata": {},
   "outputs": [],
   "source": [
    "from rasterio.plot import show_hist, show\n",
    "fig, ax = plt.subplots(1,1)\n",
    "with rasterio.open(tif_filename) as src:\n",
    "    show_hist(src,ax=ax, title = file_tags['title'],\n",
    "              label=band_tags['label'])\n",
    "\n",
    "    "
   ]
  },
  {
   "cell_type": "code",
   "execution_count": null,
   "id": "38d1c2cb",
   "metadata": {},
   "outputs": [],
   "source": [
    "fig, ax = plt.subplots(1,1,figsize=(8,8))\n",
    "with rasterio.open(tif_filename) as src:\n",
    "    show(src, ax=ax, cmap='plasma')"
   ]
  },
  {
   "cell_type": "code",
   "execution_count": null,
   "id": "89fe4634",
   "metadata": {},
   "outputs": [],
   "source": []
  }
 ],
 "metadata": {
  "jupytext": {
   "text_representation": {
    "extension": ".md",
    "format_name": "myst",
    "format_version": 0.13,
    "jupytext_version": "1.14.4"
   }
  },
  "kernelspec": {
   "display_name": "Python 3 (ipykernel)",
   "language": "python",
   "name": "python3"
  },
  "source_map": [
   12,
   29,
   33,
   49,
   55,
   63,
   69,
   78,
   93,
   100,
   104,
   108,
   112,
   125,
   129,
   140,
   157,
   168,
   176,
   180,
   209,
   213,
   226,
   236,
   240,
   268,
   275,
   303,
   311,
   316,
   327,
   337,
   343
  ]
 },
 "nbformat": 4,
 "nbformat_minor": 5
}