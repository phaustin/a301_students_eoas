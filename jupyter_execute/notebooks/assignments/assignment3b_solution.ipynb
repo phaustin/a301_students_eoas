{
 "cells": [
  {
   "cell_type": "markdown",
   "id": "bb13d356",
   "metadata": {},
   "source": [
    "(assign3b_solution)=\n",
    "# Assignment 3b -- Solution\n",
    "\n",
    "1) In the cells below, get channel 32 and resample to the same area_def as channel 31\n",
    "2) Get the brightness temperature for both of the resampled images and the brightness tempereature difference \n",
    "   for ch32 - ch31\n",
    "3) Read in the wv_ir image you get by running the wv_resample notebook, and make a scatter plot of\n",
    "   ch32 - ch31 brightness temperature (in K) on the y axis and the column water vapor in cm on the x axis.  Note that\n",
    "   you will need to mask the brightness temperature pixels so that only pixels which also have column water vapor are\n",
    "   plotted\n",
    "4) comment on the correlation you see, if any"
   ]
  },
  {
   "cell_type": "code",
   "execution_count": null,
   "id": "d438cfb4",
   "metadata": {},
   "outputs": [],
   "source": [
    "import json\n",
    "from pathlib import Path\n",
    "import pprint\n",
    "pp = pprint.PrettyPrinter(indent=4)\n",
    "import warnings\n",
    "warnings.filterwarnings('ignore')\n",
    "import json\n",
    "\n",
    "\n",
    "import matplotlib.pyplot as plt\n",
    "import numpy as np\n",
    "import a301_lib\n",
    "from pyresample import kd_tree, SwathDefinition\n",
    "\n",
    "import sat_lib\n",
    "from sat_lib.modischan_read import readband_lw, read_plainvar\n",
    "from sat_lib import modischan_dict\n",
    "from rad_lib.radiation import radiance_invert\n",
    "\n",
    "from sat_lib.mapping import area_def_from_dict"
   ]
  },
  {
   "cell_type": "markdown",
   "id": "53b15105",
   "metadata": {},
   "source": [
    "## Read in the channel 31 and 32 radiances and the 1 km MYD03 lons/lats"
   ]
  },
  {
   "cell_type": "code",
   "execution_count": null,
   "id": "238a3dba",
   "metadata": {
    "nbgrader": {
     "grade": true,
     "grade_id": "cell-72f81cf1d97e3cf1",
     "locked": false,
     "points": 0,
     "schema_version": 3,
     "solution": true,
     "task": false
    }
   },
   "outputs": [],
   "source": [
    "### BEGIN SOLUTION\n",
    "geom_filelist = list(a301_lib.sat_data.glob(\"pha/MYD03*2105*hdf\"))\n",
    "radiance_filelist = list(a301_lib.sat_data.glob(\"pha/MYD02*2105*hdf\"))\n",
    "geom_file_name = geom_filelist[0]\n",
    "print(geom_file_name)\n",
    "radiance_file_name = radiance_filelist[0]\n",
    "print(radiance_file_name)\n",
    "### END SOLUTION"
   ]
  },
  {
   "cell_type": "markdown",
   "id": "8f44b3ac",
   "metadata": {},
   "source": [
    "## Read in the `wv_image` raster you stored in `wv_5km_resampled.npz`\n",
    "\n",
    "- this is the file you created in week5/wv_resample.md"
   ]
  },
  {
   "cell_type": "code",
   "execution_count": null,
   "id": "19062a66",
   "metadata": {
    "nbgrader": {
     "grade": true,
     "grade_id": "cell-1e0c4a33927abff3",
     "locked": false,
     "points": 0,
     "schema_version": 3,
     "solution": true,
     "task": false
    }
   },
   "outputs": [],
   "source": [
    "### BEGIN SOLUTION\n",
    "infile = a301_lib.data_share / \"pha/wv_5km_resampled.npz\"\n",
    "the_dict = np.load(infile)\n",
    "wv_image = the_dict['arr_0']\n",
    "### END SOLUTION"
   ]
  },
  {
   "cell_type": "markdown",
   "id": "6d8924b6",
   "metadata": {},
   "source": [
    "## Recreate the area_def saved in your area_def json file \n",
    "\n",
    "- use `area_dict.json` for the 5km resample you created in\n",
    "   week5/wv_resample.md and used in week5/longwave_resample.md"
   ]
  },
  {
   "cell_type": "code",
   "execution_count": null,
   "id": "6f9197bf",
   "metadata": {
    "nbgrader": {
     "grade": true,
     "grade_id": "cell-4153b9a1ac404277",
     "locked": false,
     "points": 0,
     "schema_version": 3,
     "solution": true,
     "task": false
    }
   },
   "outputs": [],
   "source": [
    "### BEGIN SOLUTION\n",
    "area_file = a301_lib.data_share / \"pha/area_dict.json\"\n",
    "with open(area_file,'r') as infile:\n",
    "    area_dict = json.load(infile)\n",
    "\n",
    "pp.pprint(area_dict)   \n",
    "area_def = area_def_from_dict(area_dict)\n",
    "### END SOLUTION"
   ]
  },
  {
   "cell_type": "markdown",
   "id": "3966aba2",
   "metadata": {},
   "source": [
    "## Get the swat_def from the 1 km lons/lats"
   ]
  },
  {
   "cell_type": "code",
   "execution_count": null,
   "id": "daa462c3",
   "metadata": {
    "nbgrader": {
     "grade": true,
     "grade_id": "cell-7a13e107bd1d4c0d",
     "locked": false,
     "points": 1,
     "schema_version": 3,
     "solution": true,
     "task": false
    }
   },
   "outputs": [],
   "source": [
    "### BEGIN SOLUTION\n",
    "lat_1km = read_plainvar(geom_file_name,'Latitude')\n",
    "lon_1km = read_plainvar(geom_file_name,'Longitude')\n",
    "print(f\"{lat_1km.shape=},{lon_1km.shape=}\")\n",
    "swath_def = SwathDefinition(lon_1km, lat_1km)\n",
    "### END SOLUTION"
   ]
  },
  {
   "cell_type": "markdown",
   "id": "130c2eee",
   "metadata": {},
   "source": [
    "## Read in channel 31 and 32 resample using your `area_def` and `swath_def`\n",
    "\n",
    "* As in in the wv_resample notebook, use a fill_value of -9999. and replace those\n",
    "  missing values with np.nan"
   ]
  },
  {
   "cell_type": "code",
   "execution_count": null,
   "id": "adb1a08b",
   "metadata": {
    "nbgrader": {
     "grade": true,
     "grade_id": "cell-5fa681cc360d1db2",
     "locked": false,
     "points": 3,
     "schema_version": 3,
     "solution": true,
     "task": false
    }
   },
   "outputs": [],
   "source": [
    "### BEGIN SOLUTION\n",
    "ch31 = readband_lw(radiance_file_name,31)\n",
    "ch32 = readband_lw(radiance_file_name,32)\n",
    "fill_value = -9999.\n",
    "ch31_raster= kd_tree.resample_nearest(\n",
    "    swath_def,\n",
    "    ch31.ravel(),\n",
    "    area_def,\n",
    "    radius_of_influence=5000,\n",
    "    nprocs=2,\n",
    "    fill_value=fill_value,\n",
    ")\n",
    "ch31_raster[ch31_raster == -9999.0] = np.nan\n",
    "ch32_raster= kd_tree.resample_nearest(\n",
    "    swath_def,\n",
    "    ch32.ravel(),\n",
    "    area_def,\n",
    "    radius_of_influence=5000,\n",
    "    nprocs=2,\n",
    "    fill_value=fill_value,\n",
    ")\n",
    "ch32_raster[ch32_raster == -9999.0] = np.nan\n",
    "### END SOLUTION"
   ]
  },
  {
   "cell_type": "markdown",
   "id": "ca56435c",
   "metadata": {},
   "source": [
    "## Convert the resampled ch31 and ch32 rasters to brightness temperature\n",
    "\n",
    "- Remember that we have channel wavelenghts in `sat_lib.modischan_dict`\n",
    "- I used [radiance_invert](https://phaustin.github.io/a301_web/full_listing.html#rad_lib.radiation.radiance_invert) here"
   ]
  },
  {
   "cell_type": "code",
   "execution_count": null,
   "id": "f99004cb",
   "metadata": {
    "nbgrader": {
     "grade": true,
     "grade_id": "cell-e546d59afe09e896",
     "locked": false,
     "points": 3,
     "schema_version": 3,
     "solution": true,
     "task": false
    }
   },
   "outputs": [],
   "source": [
    "### BEGIN SOLUTION\n",
    "low31,hi31 = modischan_dict['31']['wavelength_um']\n",
    "center31=(low31 + hi31)/2.\n",
    "low32,hi32 = modischan_dict['32']['wavelength_um']\n",
    "center31=(low31 + hi31)/2.\n",
    "center32=(low32 + hi32)/2.\n",
    "Tbright31_raster = radiance_invert(center31*1.e-6,ch31_raster*1.e6)\n",
    "Tbright32_raster = radiance_invert(center32*1.e-6,ch32_raster*1.e6)\n",
    "### END SOLUTION"
   ]
  },
  {
   "cell_type": "markdown",
   "id": "801d1816",
   "metadata": {},
   "source": [
    "## Plot separate histograms of your Tbright31 and Tbright32 resampled rasters"
   ]
  },
  {
   "cell_type": "code",
   "execution_count": null,
   "id": "13b0345c",
   "metadata": {
    "nbgrader": {
     "grade": true,
     "grade_id": "cell-935a517202ab269c",
     "locked": false,
     "points": 3,
     "schema_version": 3,
     "solution": true,
     "task": false
    }
   },
   "outputs": [],
   "source": [
    "### BEGIN SOLUTION\n",
    "bins = np.arange(220,350,10)\n",
    "fig, ax = plt.subplots(1,1,figsize=(6,6))\n",
    "ax.hist(Tbright31_raster.flat,alpha=0.4,color='blue',label='ch31',bins=bins)\n",
    "ax.hist(Tbright32_raster.flat,alpha=0.4,color='red',label='ch32',bins=bins)\n",
    "ax.legend();\n",
    "### END SOLUTION"
   ]
  },
  {
   "cell_type": "markdown",
   "id": "e25fba0a",
   "metadata": {},
   "source": [
    "## make a scatterplot of (Tbright32 - Tbright31) vs. wv_image\n",
    "\n",
    "* Plot only those points which have a valid water vapor retrieval using\n",
    "a  mask like this:\n",
    "\n",
    "    hit = wv_image > 0\n",
    "    wv_image[hit], Tbright31_raster[hit], Tbright32_raster[hit]\n",
    "    \n",
    "* Put the MYD05 IR water vapor on x axis and the Tbright32 - Tbright31 brightness temperature\n",
    "  difference on the y axis\n",
    "  \n",
    "* Include a title and x and y axis labels with units"
   ]
  },
  {
   "cell_type": "code",
   "execution_count": null,
   "id": "b4eec389",
   "metadata": {
    "nbgrader": {
     "grade": true,
     "grade_id": "cell-de6c7c54956ad71c",
     "locked": false,
     "points": 3,
     "schema_version": 3,
     "solution": true,
     "task": false
    }
   },
   "outputs": [],
   "source": [
    "### BEGIN SOLUTION\n",
    "hit = wv_image > 0\n",
    "wv_good, Tb31good, Tb32good = wv_image[hit], Tbright31_raster[hit], Tbright32_raster[hit]\n",
    "fig, ax = plt.subplots(1,1,figsize=(8,8))\n",
    "ax.plot(wv_good, Tb32good - Tb31good,'r+')\n",
    "ax.set(title = 'water vapor vs. Chan 32 - Chan 31 BTD for MODIS', xlabel='water vapor (cm/m^2)',\n",
    "       ylabel = 'Channel 32 - Channel 31 BTD (K)');\n",
    "### END SOLUTION\n",
    "                "
   ]
  },
  {
   "cell_type": "markdown",
   "id": "a39a1eaa",
   "metadata": {
    "nbgrader": {
     "grade": false,
     "grade_id": "cell-cdafe0dcc98fb2b6",
     "locked": true,
     "schema_version": 3,
     "solution": false,
     "task": false
    }
   },
   "source": [
    "##  Comment on any correlation you see\n",
    "\n",
    "Answer in the cell below (convert to markdown instead of python)\n",
    "If you find a correlation, how does it compare with what you would expect for the dirty window?"
   ]
  },
  {
   "cell_type": "markdown",
   "id": "96d46adb",
   "metadata": {
    "nbgrader": {
     "grade": true,
     "grade_id": "cell-2fa687be02a858c6",
     "locked": false,
     "points": 3,
     "schema_version": 3,
     "solution": true,
     "task": false
    }
   },
   "source": [
    "Answer:  Channel 32 has more water vapor absorption, so increasing water vapor content increases the absorption in Channel 31.  Because the vapor is colder than the surface,'\n",
    "emission to space is reduced, and the channel 31 brightness temperature is lower than\n",
    "the surface temperature as seen in the clearer Channel 3..  This explains the negative values, and the fact that the negative magnitude becomes larger at large vapor concentrations.  There's a lot of scatter, however and the BTD rapidily becomes independent of water vapor for moister grid cells"
   ]
  }
 ],
 "metadata": {
  "celltoolbar": "Create Assignment",
  "jupytext": {
   "cell_metadata_filter": "all",
   "notebook_metadata_filter": "all,-language_info,-toc,-latex_envs",
   "text_representation": {
    "extension": ".md",
    "format_name": "myst",
    "format_version": 0.13,
    "jupytext_version": "1.14.4"
   }
  },
  "kernelspec": {
   "display_name": "Python 3 (ipykernel)",
   "language": "python",
   "name": "python3"
  },
  "source_map": [
   16,
   30,
   53,
   57,
   77,
   83,
   100,
   107,
   127,
   131,
   149,
   156,
   191,
   198,
   219,
   223,
   242,
   257,
   280,
   287
  ],
  "toc-autonumbering": true
 },
 "nbformat": 4,
 "nbformat_minor": 5
}