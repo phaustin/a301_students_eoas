{
 "cells": [
  {
   "cell_type": "markdown",
   "id": "8bdc9c3e",
   "metadata": {},
   "source": [
    "(assign2b_solution)=\n",
    "# Assignment 2b solutions: Drawing your satellite swath\n",
    "\n",
    "Adapt the code in the week4/cartopy_mapping_vancouver.md notebook to show the boundary of your Modis\n",
    "swath on a Lambert Azimuthal Equal Area map."
   ]
  },
  {
   "cell_type": "markdown",
   "id": "0cca2bea",
   "metadata": {},
   "source": [
    "## Edit this cell to fetch your granual"
   ]
  },
  {
   "cell_type": "code",
   "execution_count": null,
   "id": "a0b0dc5a",
   "metadata": {},
   "outputs": [],
   "source": [
    "import a301_lib\n",
    "import warnings\n",
    "warnings.filterwarnings('ignore')\n",
    "hdf4_dir = a301_lib.sat_data / \"pha\"\n",
    "granules = list(hdf4_dir.glob(\"MYD02*2105*hdf\"))\n",
    "print(granules[0])"
   ]
  },
  {
   "cell_type": "code",
   "execution_count": null,
   "id": "d46315fe",
   "metadata": {},
   "outputs": [],
   "source": [
    "from sat_lib.modismeta_read import parseMeta\n",
    "granules =list(hdf4_dir.glob(\"MYD02*2105*hdf\"))\n",
    "print(granules[0].is_file())\n",
    "meta_dict = parseMeta(granules[0])\n",
    "meta_dict"
   ]
  },
  {
   "cell_type": "markdown",
   "id": "a3e69e40",
   "metadata": {},
   "source": [
    "*  What's in the file?"
   ]
  },
  {
   "cell_type": "markdown",
   "id": "fe38cc9f",
   "metadata": {},
   "source": [
    "**This cell sets up the datum and the LAEA projection, with the tangent point at the center of your swath**"
   ]
  },
  {
   "cell_type": "code",
   "execution_count": null,
   "id": "0bf766ef",
   "metadata": {},
   "outputs": [],
   "source": [
    "import cartopy.crs as ccrs\n",
    "import matplotlib.pyplot as plt\n",
    "import cartopy\n",
    "import numpy as np\n",
    "#\n",
    "# Datum: radius of the earth in meters\n",
    "#\n",
    "radius = 6_371_228\n",
    "\n",
    "#\n",
    "# vancouver longitude, latitude indegrees\n",
    "#\n",
    "van_lon, van_lat = [-123.1207, 49.2827]\n",
    "#\n",
    "# use a simple sphere as the datum\n",
    "#\n",
    "globe = ccrs.Globe(ellipse=None, semimajor_axis=radius, semiminor_axis=radius)\n",
    "geodetic = ccrs.Geodetic()\n",
    "#\n",
    "# set up\n",
    "#\n",
    "projection = ccrs.LambertAzimuthalEqualArea(\n",
    "    central_latitude=meta_dict['lat_0'], central_longitude=meta_dict['lon_0'], globe=globe\n",
    ")\n",
    "print(f\"pro4 program params: {projection.proj4_params}\")"
   ]
  },
  {
   "cell_type": "markdown",
   "id": "71905ce3",
   "metadata": {},
   "source": [
    "## Problem 1a -- project your `lon_list` and `lat_list` corners\n",
    "\n",
    "In the cell below, get two new lists -- a list of x coordinates and a list of y coordinates\n",
    "that contain the projected coordinates of your swath corners from `meta_dict['lon_list']`\n",
    "and `meta_dict['lat_list']`\n",
    "\n",
    "I used a loop and projection.transform_point to transform from geodetic to the projection coordinates."
   ]
  },
  {
   "cell_type": "code",
   "execution_count": null,
   "id": "0692a75e",
   "metadata": {
    "nbgrader": {
     "grade": true,
     "grade_id": "cell-e33700dda7266e50",
     "locked": false,
     "points": 2,
     "schema_version": 3,
     "solution": true,
     "task": false
    }
   },
   "outputs": [],
   "source": [
    "### BEGIN SOLUTION\n",
    "out_x = []\n",
    "out_y = []\n",
    "for lon, lat in zip(meta_dict['lon_list'], meta_dict['lat_list']):\n",
    "    x, y = projection.transform_point(lon,lat,geodetic)\n",
    "    out_x.append(x)\n",
    "    out_y.append(y)\n",
    "out_x.append(out_x[0])\n",
    "out_y.append(out_y[0])\n",
    "### END SOLUTION\n",
    "\n",
    "out_x, out_y"
   ]
  },
  {
   "cell_type": "markdown",
   "id": "3d97ee43",
   "metadata": {},
   "source": [
    "### Bonus Vector version: projection.transform_points\n",
    "\n",
    "Here's a way to tranform arrays of points instead of looping over individual points.  It takes a crs,\n",
    "an np.array of lons, an np array of lats, and optionally an np.array of heights and returns a 2d numpy\n",
    "array with the xcoord,ycoord,zcoord for each point"
   ]
  },
  {
   "cell_type": "code",
   "execution_count": null,
   "id": "20145d04",
   "metadata": {},
   "outputs": [],
   "source": [
    "help(projection.transform_points)"
   ]
  },
  {
   "cell_type": "markdown",
   "id": "d7277ea4",
   "metadata": {},
   "source": [
    "Note you get the same answer as with `projection.transform_point`"
   ]
  },
  {
   "cell_type": "code",
   "execution_count": null,
   "id": "92d5fd05",
   "metadata": {},
   "outputs": [],
   "source": [
    "lons = np.array(meta_dict['lon_list'])\n",
    "lats = np.array(meta_dict['lat_list'])\n",
    "projection.transform_points(geodetic,lons,lats)"
   ]
  },
  {
   "cell_type": "markdown",
   "id": "3f714b2d",
   "metadata": {},
   "source": [
    "## Problem 1b -- find your ll_x, ll_y, ur_x and ur_y\n",
    "\n",
    "Find the lower left and upper right corners of your extent by finding the maximum and minimum y values.\n",
    "Save these in the variables ll_x, ll_y, ur_x, ur_y"
   ]
  },
  {
   "cell_type": "code",
   "execution_count": null,
   "id": "378e0620",
   "metadata": {
    "nbgrader": {
     "grade": true,
     "grade_id": "cell-9b7fdb2acda2f474",
     "locked": false,
     "points": 1,
     "schema_version": 3,
     "solution": true,
     "task": false
    }
   },
   "outputs": [],
   "source": [
    "### BEGΙΝ SOLUTION\n",
    "ll_x = min(out_x)\n",
    "ll_y = min(out_y)\n",
    "ur_x = max(out_x)\n",
    "ur_y = max(out_y)\n",
    "### END SOLUTION"
   ]
  },
  {
   "cell_type": "markdown",
   "id": "e8b17cf6",
   "metadata": {},
   "source": [
    "## Problem 2 -- make the map\n",
    "\n",
    "Following the cartopy plotting examples, set your map extent in the projected coordinates\n",
    "with `ax.set_extent` and make a map showing your swath outline as a red rectangle"
   ]
  },
  {
   "cell_type": "code",
   "execution_count": null,
   "id": "943d3777",
   "metadata": {
    "nbgrader": {
     "grade": true,
     "grade_id": "cell-84941f707ad5283f",
     "locked": false,
     "points": 3,
     "schema_version": 3,
     "solution": true,
     "task": false
    }
   },
   "outputs": [],
   "source": [
    "### BEGIN SOLUTION\n",
    "fig, ax = plt.subplots(1, 1, figsize=(10, 10), subplot_kw={\"projection\": projection})\n",
    "#\n",
    "# clip with 0,0 in the center:  [xleft, xright, ybot, ytop]\n",
    "#\n",
    "new_extent = [ll_x, ur_x, ll_y, ur_y]\n",
    "ax.set_extent(new_extent, projection)\n",
    "#\n",
    "# the simple lon,lat projection is called \"geodetic\"\n",
    "#\n",
    "ax.gridlines(linewidth=2)\n",
    "ax.add_feature(cartopy.feature.GSHHSFeature(scale=\"coarse\", levels=[1, 2, 3]))\n",
    "ax.plot(ll_x,ll_y,'ro',markersize=20)\n",
    "ax.plot(ur_x, ur_y,'ro',markersize=20)\n",
    "ax.plot(out_x,out_y,'r-',markersize=40)\n",
    "### END SOLUTION"
   ]
  },
  {
   "cell_type": "markdown",
   "id": "7045b738",
   "metadata": {},
   "source": [
    "## Bonus problem\n",
    "\n",
    "Put the location of `(min_lon,min_lat)` and `(max_lon, max_lat)` on the map as blue dots, with the corners\n",
    "of the extent we used above as red dots."
   ]
  },
  {
   "cell_type": "code",
   "execution_count": null,
   "id": "c06d2146",
   "metadata": {},
   "outputs": [],
   "source": [
    "ll_corner = (meta_dict['min_lon'], meta_dict['min_lat'])\n",
    "ur_corner = (meta_dict['max_lon'], meta_dict['max_lat'])\n",
    "newll_x, newll_y = projection.transform_point(ll_corner[0], ll_corner[1], geodetic)\n",
    "newur_x, newur_y = projection.transform_point(ur_corner[0], ur_corner[1], geodetic)\n",
    "fig, ax = plt.subplots(1, 1, figsize=(10, 10), subplot_kw={\"projection\": projection})\n",
    "#\n",
    "# enlarge the extent to show the max,min lat, lon points on the map\n",
    "#\n",
    "new_extent = [1.4*ll_x, 1.2*ur_x, 1.4*ll_y, 1.1*ur_y]\n",
    "ax.set_extent(new_extent, projection)\n",
    "#\n",
    "# the simple lon,lat projection is called \"geodetic\"\n",
    "#\n",
    "ax.gridlines(linewidth=2)\n",
    "ax.add_feature(cartopy.feature.GSHHSFeature(scale=\"coarse\", levels=[1, 2, 3]))\n",
    "ax.plot(ll_x,ll_y,'ro',markersize=20)\n",
    "ax.plot(ur_x, ur_y,'ro',markersize=20)\n",
    "ax.plot(ll_x,ur_y,'ro',markersize=20)\n",
    "ax.plot(ur_x, ll_y,'ro',markersize=20)\n",
    "\n",
    "\n",
    "ax.plot(out_x,out_y,'r-',markersize=40)\n",
    "\n",
    "#\n",
    "# now plot blue dots for the min,max lon/lats\n",
    "#\n",
    "ax.plot(newll_x,newll_y,'bo',markersize=20)\n",
    "ax.plot(newur_x,newur_y,'bo',markersize=20)\n",
    "ax.plot(newll_x,newur_y,'bo',markersize=20)\n",
    "ax.plot(newur_x,newll_y,'bo',markersize=20);"
   ]
  },
  {
   "cell_type": "markdown",
   "id": "a4a23764",
   "metadata": {},
   "source": [
    "The combination of the skewed swath and the curved longitude and latitude lines means that you get the wrong extent\n",
    "if you use min,max lon/lat to set your corners -- it will clip your swath at the bottom and the right side."
   ]
  }
 ],
 "metadata": {
  "celltoolbar": "Create Assignment",
  "jupytext": {
   "cell_metadata_filter": "all",
   "notebook_metadata_filter": "all,-language_info,-toc,-latex_envs",
   "text_representation": {
    "extension": ".md",
    "format_name": "myst",
    "format_version": 0.13,
    "jupytext_version": "1.14.4"
   }
  },
  "kernelspec": {
   "display_name": "Python 3 (ipykernel)",
   "language": "python",
   "name": "python3"
  },
  "source_map": [
   16,
   24,
   28,
   39,
   47,
   51,
   55,
   83,
   93,
   117,
   125,
   129,
   133,
   139,
   146,
   164,
   171,
   199,
   206,
   239
  ],
  "toc-autonumbering": true
 },
 "nbformat": 4,
 "nbformat_minor": 5
}