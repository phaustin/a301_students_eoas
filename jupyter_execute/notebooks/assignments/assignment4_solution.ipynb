{
 "cells": [
  {
   "cell_type": "markdown",
   "id": "c2852ff1",
   "metadata": {
    "tags": [],
    "user_expressions": []
   },
   "source": [
    "(assign4_solution)=\n",
    "# Assignment 4 -- solutions"
   ]
  },
  {
   "cell_type": "markdown",
   "id": "9ddf9a09",
   "metadata": {
    "tags": [],
    "user_expressions": []
   },
   "source": [
    "## Q1) midterm question 2 revisit  \n",
    "\n",
    "(6 points, for undergrads this will replace your midterm Q2 mark)\n",
    "\n",
    "Upload a notebook and a pdf scan of an analytic solution that solves Q2 in the {ref}`mid_2022t2_solutions` with this\n",
    "change:\n",
    "\n",
    "a) Instead of a constant temperature layer between 1 km and 6 km, use a temperature that\n",
    "varies  linearly with height:\n",
    "\n",
    "$$\n",
    "T(z) = 270 + (z -  3.5) \\Gamma_z\n",
    "$$\n",
    "where $z$ is the height in km and $\\Gamma$ is a (negative) constant (K/km).\n",
    "\n",
    "In a python notebook, make a plot of the blackbody monchromatic radiance $B_\\lambda$ at $\\lambda = 15\\ \\mu m$ versus transmittance $t$\n",
    "between z=1 and 6 km for three values of $\\Gamma_z$: $\\Gamma_z = 0$ (midterm case),  $\\Gamma_z = -10\\ K/km$\n",
    "(dry atmosphere),$\\Gamma_z = -6.5\\ K/km$ (cloudy tropical atmosphere)."
   ]
  },
  {
   "cell_type": "markdown",
   "id": "61efa5c7",
   "metadata": {
    "tags": [],
    "user_expressions": []
   },
   "source": [
    "### Q1a solution\n",
    "\n",
    "Approach -- use the [calc_radiance](https://phaustin.github.io/a301_web/full_listing.html#rad_lib.radiation.calc_radiance) to\n",
    "get the brightness temperature at 15 $\\mu m$ for a vector of temperatures.\n",
    "\n",
    "#### step 1: Blackbody profiles\n",
    "\n",
    "from the assignment I get the temperature profile and calculate the blackbody radiance for $\\Gamma_z$ = -6.5 K/km, -10 K/km and 0 K/km\n",
    "\n",
    " I'll call my 3 blackbody profiles for dT/dz = 0, -6.5 and =10 K/km: B_0, B_65, and B_10"
   ]
  },
  {
   "cell_type": "code",
   "execution_count": null,
   "id": "ef0cdbeb",
   "metadata": {},
   "outputs": [],
   "source": [
    "import numpy as np\n",
    "from copy import copy\n",
    "from matplotlib import pyplot as plt\n",
    "from rad_lib.radiation import calc_radiance\n",
    "\n",
    "#\n",
    "# simple function for the temperature profile\n",
    "#\n",
    "def temperature_profile(z, gamma_z):\n",
    "    temp = 270 + (z - 3500)*gamma_z\n",
    "    return temp\n",
    "\n",
    "#\n",
    "# I'll make two different z ranges from 1 to 6 km, one in meters\n",
    "# and one in km\n",
    "#\n",
    "z_layer_m = np.arange(1,6,0.0001)*1.e3\n",
    "#\n",
    "# calculate 3 different temperature profiles for the 3 slopes\n",
    "#\n",
    "gamma_z = -6.5e-3\n",
    "temp_z_layer_65 = temperature_profile(z_layer_m,gamma_z)\n",
    "gamma_z = -10e-3\n",
    "temp_z_layer_10 = temperature_profile(z_layer_m,gamma_z)\n",
    "gamma_z = 0\n",
    "temp_z_layer_0 = temperature_profile(z_layer_m,gamma_z)\n",
    "#\n",
    "# calculate 3 different blackbody radiance profiles\n",
    "#\n",
    "wavel=15.e-6\n",
    "B_65 = calc_radiance(wavel,temp_z_layer_65)\n",
    "B_10 = calc_radiance(wavel,temp_z_layer_10)\n",
    "B_0 = calc_radiance(wavel,temp_z_layer_0)"
   ]
  },
  {
   "cell_type": "markdown",
   "id": "17819105",
   "metadata": {
    "tags": [],
    "user_expressions": []
   },
   "source": [
    "#### Good idea to plot vs. height to check"
   ]
  },
  {
   "cell_type": "code",
   "execution_count": null,
   "id": "3d6e0f6e",
   "metadata": {},
   "outputs": [],
   "source": [
    "fig, ax = plt.subplots(1,1)\n",
    "m2km = 1.e-3  #meters to km\n",
    "ax.plot(temp_z_layer_65,z_layer_m*m2km,label=\"-6.5 K/km\")\n",
    "ax.plot(temp_z_layer_10,z_layer_m*m2km,label=\"-10 K/km\")\n",
    "ax.plot(temp_z_layer_0,z_layer_m*m2km,label=\"constant\")\n",
    "ax.grid(True)\n",
    "ax.set_title(\"Q1a solution:  Temp (K) vs. z (km))\")\n",
    "ax.legend();"
   ]
  },
  {
   "cell_type": "markdown",
   "id": "151dc5b8",
   "metadata": {
    "tags": [],
    "user_expressions": []
   },
   "source": [
    "#### step 2:  From the solution, get the functions for optical depth and transmissivity and calculate the transmissivity profile\n",
    "\n",
    "The next cell borrows the equations from the midterm solution to calculate\n",
    "$\\tau_T$, $\\tau$ and the transmisivity $t$"
   ]
  },
  {
   "cell_type": "code",
   "execution_count": null,
   "id": "ec52833a",
   "metadata": {},
   "outputs": [],
   "source": [
    "Hrho=9000.  # m\n",
    "ztop = 20.e3 # m\n",
    "k=0.15 # m^2/kg\n",
    "rho_air = 1.1 # kg/m^3\n",
    "rmix=4.e-4  #unitless\n",
    "\n",
    "def calc_tau(k,rmix,rho_air,Hrho,z):\n",
    "    \"\"\"\n",
    "    all units mks\n",
    "    \"\"\"\n",
    "    tau_z = k*rmix*rho_air*Hrho*(1 - np.exp(-(z/Hrho)))\n",
    "    return tau_z\n",
    "\n",
    "def calc_trans(k,rmix,rho_air,Hrho,z,ztop):\n",
    "    tau_tot = calc_tau(k,rmix,rho_air,Hrho,ztop)\n",
    "    tau_z = calc_tau(k,rmix,rho_air,Hrho,z)\n",
    "    trans_z = np.exp(-(tau_tot - tau_z))\n",
    "    return trans_z\n",
    "\n",
    "#\n",
    "# transmissivity from 1 - 6 km\n",
    "#\n",
    "trans_z_layer = calc_trans(k,rmix,rho_air,Hrho,z_layer_m,ztop)"
   ]
  },
  {
   "cell_type": "markdown",
   "id": "4b782047",
   "metadata": {
    "tags": [],
    "user_expressions": []
   },
   "source": [
    "From the midterm solution I know that the transmissivity should increase from 0-.63 to 0.79,\n",
    "which it does"
   ]
  },
  {
   "cell_type": "code",
   "execution_count": null,
   "id": "7fbfc30b",
   "metadata": {},
   "outputs": [],
   "source": [
    "fig,ax=plt.subplots(1,1)\n",
    "ax.plot(trans_z_layer,z_layer_m*m2km)\n",
    "ax.grid(True)\n",
    "ax.set_title(\"transmissivity vs height (km)\");"
   ]
  },
  {
   "cell_type": "markdown",
   "id": "b8604754",
   "metadata": {
    "tags": [],
    "user_expressions": []
   },
   "source": [
    "#### Q1a answer plot: plot the blackbody radiance vs transmissivity for the three slopes\n",
    "\n",
    "So puth this together to get the profile plot"
   ]
  },
  {
   "cell_type": "code",
   "execution_count": null,
   "id": "0c98dd1c",
   "metadata": {},
   "outputs": [],
   "source": [
    "fig, ax = plt.subplots(1,1)\n",
    "ax.plot(B_65,trans_z_layer,label=\"-6.5 K/km\")\n",
    "ax.plot(B_10,trans_z_layer,label=\"-10 K/km\")\n",
    "ax.plot(B_0,trans_z_layer,label=\"constant\")\n",
    "ax.grid(True)\n",
    "ax.set_title(\"Q1a solution:  B(t) ($W\\,m^{-2}\\,m^{-1}\\,sr^{-1}$) vs. t)\")\n",
    "ax.set_xlabel(\"blackbody radiance B ($W\\,m^{-2}\\,m^{-1}\\,sr^{-1}$)\")\n",
    "ax.set_ylabel(\"15 $\\mu m$ transmittance to top of atmosphere\")\n",
    "ax.legend();"
   ]
  },
  {
   "cell_type": "markdown",
   "id": "76910bd6",
   "metadata": {
    "tags": [],
    "user_expressions": []
   },
   "source": [
    "Use your plots to find values of $\\Gamma_t = \\frac{dB}{dt}$ that correspond to the three values of $\\Gamma_z$\n",
    "so that you can write an approximate linear function $B(t)$ that looks like:\n",
    "\n",
    "$$\n",
    "B(t) = B(t(3.5km)) + (t - t(3.5km))\\Gamma_t\n",
    "$$ (eq:planck)"
   ]
  },
  {
   "cell_type": "markdown",
   "id": "0128145e",
   "metadata": {
    "tags": [],
    "user_expressions": []
   },
   "source": [
    "#### Q1a answer for slope: slope_65=-13, slope_10=-20: units: $W\\,m^{-2}\\,sr^{-1}\\,\\mu m^{-1}$\n",
    "\n",
    "To find the slopes I need to calculate \"rise over run\"  for $\\Delta B$ and $\\Delta t$  between 1 km and 6 km\n",
    "\n",
    "Change the radiance units to $W\\,m^{-2}\\,sr^{-1}\\,\\mu m^{-1}$ to make it easier to write"
   ]
  },
  {
   "cell_type": "code",
   "execution_count": null,
   "id": "28e99187",
   "metadata": {},
   "outputs": [],
   "source": [
    "def find_slope(t,B):\n",
    "    #\n",
    "    # find the delta values last - first\n",
    "    #\n",
    "    delta_t = t[-1] - t[0]\n",
    "    delta_B = B[-1] - B[0]\n",
    "    slope = delta_B/delta_t\n",
    "    return slope\n",
    "\n",
    "meter2micron = 1.e-6\n",
    "slope_65 = find_slope(trans_z_layer,B_65*meter2micron)\n",
    "slope_10 = find_slope(trans_z_layer,B_10*meter2micron)\n",
    "print(f\"Slope Answer: {slope_65=:.0f} W/m2/sr/mum, {slope_10=:.0f} W/m^2/sr/micron\")"
   ]
  },
  {
   "cell_type": "markdown",
   "id": "f99da661",
   "metadata": {
    "tags": [],
    "user_expressions": []
   },
   "source": [
    "## Q1b numerical solution\n",
    "\n",
    "Since we have profiles for $t$ and $B$, we can use the approach of {ref}`week2:numint` to get the numerical integral as a check\n",
    "on our analytic answer\n",
    "\n",
    "The answer below for the three slopes:  B10integ=0.757, B65integ=0.748, B0integ=0.736 $W\\,m^{-2}\\,sr^{-1}\\,\\mu m^{-1}$"
   ]
  },
  {
   "cell_type": "code",
   "execution_count": null,
   "id": "58748675",
   "metadata": {},
   "outputs": [],
   "source": [
    "B10centers = (B_10[1:] + B_10[0:-1])/2.\n",
    "B65centers = (B_65[1:] + B_65[0:-1])/2\n",
    "B0centers = (B_0[1:] + B_0[0:-1])/2\n",
    "dt = np.diff(trans_z_layer)\n",
    "#\n",
    "# integrage and convert to W/m^2/sr/micron\n",
    "#\n",
    "B0integ = np.sum(B0centers*dt)*1.e-6\n",
    "B10integ = np.sum(B10centers*dt)*1.e-6\n",
    "B65integ = np.sum(B65centers*dt)*1.e-6\n",
    "print(f\"{B10integ=:.3f}, {B65integ=:.3f}, {B0integ=:.3f} W/m^2/micron/sr\")"
   ]
  },
  {
   "cell_type": "markdown",
   "id": "b29be5b6",
   "metadata": {
    "tags": [],
    "user_expressions": []
   },
   "source": [
    "## Q1b -- analytic solution"
   ]
  },
  {
   "cell_type": "markdown",
   "id": "1ad519ed",
   "metadata": {
    "tags": [],
    "user_expressions": []
   },
   "source": [
    "b) Given {eq}`eq:planck` derive an analytic solution for the radiance $L$ at 6 km coming from the air\n",
    "between 1 km and 6 km.  That is, solve the Schwartzchild integral:\n",
    "\n",
    "$$\n",
    "L(6km) = \\int_{1km}^{6km} B(t^\\prime) dt^\\prime\n",
    "$$ (eq:schwartz)\n",
    "\n",
    "as an equation."
   ]
  },
  {
   "cell_type": "markdown",
   "id": "56a5d5af",
   "metadata": {
    "tags": [],
    "user_expressions": []
   },
   "source": [
    "### Q1b solution -- equations\n",
    "\n",
    "Integrate {eq}`eq:schwartz` and get:\n",
    "\n",
    "$$\n",
    "\\begin{align}\n",
    "&\\int_{1km}^{6km} \\left ( B_0+\\Gamma_t t^\\prime \\right )dt^\\prime = \\\\\n",
    "&B_0(t_{6km} - t_{1km}) + \\left ( \\frac{t_{6km}^2}{2} - \\frac{t_{1km}^2}{2} \\right ) \\Gamma_t\n",
    "\\end{align}\n",
    "$$ (eq:solution)\n",
    "\n",
    "where $B_0$ is given by:"
   ]
  },
  {
   "cell_type": "markdown",
   "id": "5d3a37e1",
   "metadata": {
    "tags": [],
    "user_expressions": []
   },
   "source": [
    "$$\n",
    "\\begin{aligned}\n",
    "& B=B_{3.5 \\mathrm{~km}}+\\left(t-t_{3.5}\\right) \\Gamma_t \\\\\n",
    "& B=\\left(B_{3.5 \\mathrm{~km}}+\\Gamma_t\\left(-t_{3.5}\\right)\\right)+\\Gamma_t t \\\\\n",
    "& \\text{therefore} \\\\\n",
    "& B_0=B_{3.5 \\mathrm{~km}}-t_{3.5} \\Gamma_t\n",
    "\\end{aligned}\n",
    "$$ (eq:deriv2)"
   ]
  },
  {
   "cell_type": "markdown",
   "id": "ffa72ea4",
   "metadata": {
    "user_expressions": []
   },
   "source": [
    "In another cell in your notebook, calculate L(6km) for the three values of $\\Gamma_z$ using your solution to {eq}`eq:schwartz`.\n",
    "How much do they vary, in percent, from each other?"
   ]
  },
  {
   "cell_type": "markdown",
   "id": "cbd55360",
   "metadata": {
    "tags": [],
    "user_expressions": []
   },
   "source": [
    "### Q1b calculate $t_{3.5km}$ and $B(270 K)$\n",
    "\n",
    "To get numbers for {eq}`eq:solution`, I need to find $B_{3.5km}$ and $t_{3.5km}$"
   ]
  },
  {
   "cell_type": "code",
   "execution_count": null,
   "id": "4a2f00ef",
   "metadata": {},
   "outputs": [],
   "source": [
    "trans35 = calc_trans(k,rmix,rho_air,Hrho,3.5e3,ztop)\n",
    "B35 = calc_radiance(wavel,270)\n",
    "B35, trans35"
   ]
  },
  {
   "cell_type": "code",
   "execution_count": null,
   "id": "bb727ed7",
   "metadata": {},
   "outputs": [],
   "source": [
    "def calc_B0(B35,trans35,gamma_t):\n",
    "    B0 = B35 - trans35*gamma_t\n",
    "    return B0\n",
    "    \n",
    "def calc_L6km(B35,trans35, trans_z_layer ,gamma_t):\n",
    "    \"\"\"\n",
    "    all units are mks\n",
    "    \"\"\"\n",
    "    trans6km = trans_z_layer[-1]\n",
    "    trans1km = trans_z_layer[0]\n",
    "    delta_trans = trans6km - trans1km\n",
    "    B0 = calc_B0(B35,trans35,gamma_t)\n",
    "    term1 = B0*delta_trans\n",
    "    term2 = (trans6km**2.- trans1km**2.)/2.*gamma_t\n",
    "    answer = term1 + term2\n",
    "    return answer"
   ]
  },
  {
   "cell_type": "markdown",
   "id": "117e89ca",
   "metadata": {
    "tags": [],
    "user_expressions": []
   },
   "source": [
    "## Q1b: answer: L6km for 3 slopes\n",
    "\n",
    "Looks like the numerical solution is slightly off, but  within a couple tenths of a percent\n",
    "\n",
    "L6km_10=0.758, L6km_65=0.751, L6km_0=0.737 $W\\,m^{-2}\\,sr^{-1}\\,\\mu m^{-1}$"
   ]
  },
  {
   "cell_type": "code",
   "execution_count": null,
   "id": "80d7ead4",
   "metadata": {},
   "outputs": [],
   "source": [
    "L6km_65 = calc_L6km(B35,trans35,trans_z_layer,slope_65*1.e6)*meter2micron\n",
    "L6km_10 = calc_L6km(B35,trans35,trans_z_layer,slope_10*1.e6)*meter2micron\n",
    "L6km_0 = calc_L6km(B35,trans35,trans_z_layer,0.)*meter2micron\n",
    "print(f\"radiance at 6 km in W/m^2/micron/sr: {L6km_10=:0.3f}, {L6km_65=:0.3f}, {L6km_0=:0.3f}\")"
   ]
  },
  {
   "cell_type": "markdown",
   "id": "add1f4d1",
   "metadata": {
    "tags": [],
    "user_expressions": []
   },
   "source": [
    "## Fractional radiance change\n",
    "\n",
    "The radiance change between lapse rates of  -10 K/km to -6.5 K/km (0.758 - 0.737)/0.737 $\\approx$ 3%, so not much of a signal\n",
    "to work with for atmospheric sounding"
   ]
  },
  {
   "cell_type": "markdown",
   "id": "06d436ae",
   "metadata": {
    "tags": [],
    "user_expressions": []
   },
   "source": [
    "## Question 2 ndvi\n",
    "(6 points)\n",
    "\n",
    "Use the function [get_landsat_scene](https://phaustin.github.io/a301_web/full_listing.html#sat_lib.landsat_read.get_landsat_scene) to read\n",
    "in one of your landsat scenes and get back a dictionary containing the band4, band5 and Fmask channels.\n",
    "\n",
    "Write a function called `calc_ndvi` that takes this dictionary and returns a new rioxarray DataArray\n",
    "that contains the [normalized vegetation difference index](https://www.usgs.gov/landsat-missions/landsat-normalized-difference-vegetation-index) for each pixel in your scene.\n",
    "\n",
    "Hand in a notebook that:\n",
    "\n",
    "* calculates the ndvi index\n",
    "  (Make sure you\n",
    "  multply your ndvi array by the cloud mask to set all cloudy/water pixels to np.nan)\n",
    "* plots it in greyscale with a title that contains the image date.\n",
    "* writes the ndvi DataArray out as geotiff"
   ]
  },
  {
   "cell_type": "code",
   "execution_count": null,
   "id": "50a13dc3",
   "metadata": {},
   "outputs": [],
   "source": [
    "import os\n",
    "os.environ[\"GDAL_HTTP_COOKIEFILE\"] = \"./cookies.txt\"\n",
    "os.environ[\"GDAL_HTTP_COOKIEJAR\"] = \"./cookies.txt\""
   ]
  },
  {
   "cell_type": "code",
   "execution_count": null,
   "id": "e65bbfda",
   "metadata": {},
   "outputs": [],
   "source": [
    "import rioxarray\n",
    "from rasterio.windows import Window\n",
    "from sat_lib.landsat_read import get_landsat_scene\n",
    "from shapely.geometry import Point\n",
    "import a301_lib\n",
    "\n",
    "\n",
    "the_lon, the_lat = -123.2460, 49.2606\n",
    "location = Point(the_lon, the_lat)\n",
    "the_date = \"2015-06-14\""
   ]
  },
  {
   "cell_type": "code",
   "execution_count": null,
   "id": "e1029002",
   "metadata": {},
   "outputs": [],
   "source": [
    "the_window = Window(col_off=2671, row_off=1352, width=234, height=301)\n",
    "out_dict = get_landsat_scene(the_date,the_lon,the_lat,the_window)"
   ]
  },
  {
   "cell_type": "code",
   "execution_count": null,
   "id": "14771d5a",
   "metadata": {},
   "outputs": [],
   "source": [
    "out_dict.keys()"
   ]
  },
  {
   "cell_type": "markdown",
   "id": "a6785b3f",
   "metadata": {
    "user_expressions": []
   },
   "source": [
    "### the function"
   ]
  },
  {
   "cell_type": "code",
   "execution_count": null,
   "id": "e5810967",
   "metadata": {},
   "outputs": [],
   "source": [
    "def find_ndvi(out_dict):\n",
    "    band4 = out_dict['b4_ds']\n",
    "    band5 = out_dict['b5_ds']\n",
    "    fmask = out_dict['fmask_ds']\n",
    "    ndvi = (band5 - band4)/(band5 + band4)\n",
    "    ndvi = ndvi*fmask\n",
    "    return ndvi"
   ]
  },
  {
   "cell_type": "markdown",
   "id": "e098b940",
   "metadata": {
    "tags": [],
    "user_expressions": []
   },
   "source": [
    "### the plot\n",
    "\n",
    "Use a greyscale palette in the ndvi range 0-0.8"
   ]
  },
  {
   "cell_type": "code",
   "execution_count": null,
   "id": "e7b99dec",
   "metadata": {},
   "outputs": [],
   "source": [
    "ndvi = find_ndvi(out_dict)\n",
    "#\n",
    "# read the day from one of the dataArrays\n",
    "#\n",
    "day = out_dict['b5_ds'].day\n",
    "pal = copy(plt.get_cmap(\"Greys_r\"))\n",
    "pal.set_bad(\"0.75\")  # 75% grey for out-of-map cells\n",
    "pal.set_over(\"w\")  # color cells > vmax white\n",
    "pal.set_under(\"k\")  # color cells < vmin black\n",
    "vmin = 0.0  #anything under this is colored black\n",
    "vmax = 0.8  #anything over this is colored white\n",
    "from matplotlib.colors import Normalize\n",
    "the_norm = Normalize(vmin=vmin, vmax=vmax, clip=False)\n",
    "fig, ax = plt.subplots(1,1,figsize=(8,8*1.3))\n",
    "ndvi.plot(ax=ax,norm=the_norm,cmap = pal)\n",
    "ax.set(title = f\"Landsat ndvi for {day}\");"
   ]
  },
  {
   "cell_type": "markdown",
   "id": "c30e6d58",
   "metadata": {
    "user_expressions": []
   },
   "source": [
    "### write out the geotiff"
   ]
  },
  {
   "cell_type": "code",
   "execution_count": null,
   "id": "dd8d48ad",
   "metadata": {},
   "outputs": [],
   "source": [
    "outfile = a301_lib.data_share / \"pha/landsat/ndvi.tif\"\n",
    "ndvi.rio.to_raster(outfile)"
   ]
  }
 ],
 "metadata": {
  "jupytext": {
   "text_representation": {
    "extension": ".md",
    "format_name": "myst",
    "format_version": 0.13,
    "jupytext_version": "1.14.0"
   }
  },
  "kernelspec": {
   "display_name": "Python 3 (ipykernel)",
   "language": "python",
   "name": "python3"
  },
  "source_map": [
   14,
   19,
   40,
   53,
   89,
   93,
   104,
   111,
   137,
   142,
   149,
   155,
   167,
   176,
   184,
   200,
   209,
   223,
   227,
   238,
   253,
   264,
   269,
   275,
   281,
   300,
   308,
   315,
   322,
   341,
   347,
   360,
   365,
   369,
   373,
   383,
   389,
   408,
   412
  ]
 },
 "nbformat": 4,
 "nbformat_minor": 5
}