{
 "cells": [
  {
   "cell_type": "markdown",
   "id": "0d2b9fab",
   "metadata": {},
   "source": [
    "(assign3a_solution)=\n",
    "# Assignment 3a -- Solution\n",
    "\n",
    "Do these questions on paper and scan for upload a pdf created using one of these [scanning apps](https://help.gradescope.com/article/0chl25eed3-student-scan-mobile-device)"
   ]
  },
  {
   "cell_type": "markdown",
   "id": "4073e7c0",
   "metadata": {
    "tags": []
   },
   "source": [
    "## Q1: Flux from radiance  (8 points)\n",
    "\n",
    "Suppose a satellite is looking at the surface with the following field of view:\n",
    "\n",
    "<img src=\"figures/cone.png\" width=\"60%\">\n",
    "\n",
    "Where h = 800 km and r = 5 km\n",
    "\n",
    "We know from  {ref}`week2_flux_from_radiance` eq. 5 that the flux is given by:\n",
    "\n",
    "$$\n",
    "dE^\\prime = L \\cos \\theta^\\prime d \\omega^\\prime = L \\cos \\theta^\\prime \\sin \\theta^\\prime d \\theta^\\prime d\\phi^\\prime\n",
    "$$ \n",
    "\n",
    "so that if we interate for all angles $\\theta^\\prime$ within the cone's field of view we would get the total flux reaching the sensor:\n",
    "\n",
    "$$\n",
    "E = \\int dE = \\int_0^{2\\pi} \\int_0^{\\theta} \\cos \\theta^\\prime \\, L \\, d \\omega^\\prime =\\int_0^{2\\pi} \\int_0^{\\theta} L \\cos \\theta^\\prime  \\sin \\theta^\\prime \\, d\\theta^\\prime \\, d \\phi^\\prime \n",
    "$$"
   ]
  },
  {
   "cell_type": "markdown",
   "id": "620af7b6",
   "metadata": {},
   "source": [
    "## Q1a (2 points)\n",
    "\n",
    "Use the change of variables $\\mu^\\prime = \\cos \\theta^\\prime$ to change this integral into a integral with respect to $d\\mu^\\prime$ and $d\\phi^\\prime$"
   ]
  },
  {
   "cell_type": "markdown",
   "id": "0e1a9fa7",
   "metadata": {},
   "source": [
    "### Q1a Answer\n",
    "\n",
    "$$\n",
    "\\mu = \\cos \\theta \\\\\n",
    "d\\mu = -\\sin \\theta d\\theta \\\\\n",
    "E = \\int_0^{2\\pi} \\int_0^1 L \\mu^\\prime d\\mu^\\prime d\\phi^\\prime = 2 \\pi \\int_\\mu^1 L \\mu^\\prime d\\mu^\\prime d\\phi^\\prime = 2 \\pi \\; \\frac{\\mu^\\prime}{2} \n",
    "\\bigg \\rvert_\\mu^1 =   2 \\pi L \\left ( \\frac{1 - \\mu^2}{2} \\right )\n",
    "$$\n",
    "assuming that $L$ is constant over the limits of the integral"
   ]
  },
  {
   "cell_type": "markdown",
   "id": "8b557b83",
   "metadata": {},
   "source": [
    "## Q1b (2 points)\n",
    "\n",
    "Evaluate this intergral for the limit $\\theta$ appropriate for the h=800 km and r=5 km case mentioned above."
   ]
  },
  {
   "cell_type": "markdown",
   "id": "cde29168",
   "metadata": {},
   "source": [
    "$\\theta = \\arctan \\left ( \\frac{r}{h} \\right )$\n",
    "\n",
    "Evaluate using python:"
   ]
  },
  {
   "cell_type": "code",
   "execution_count": null,
   "id": "2f282217",
   "metadata": {},
   "outputs": [],
   "source": [
    "import numpy as np\n",
    "theta = np.arctan(5/800)\n",
    "the_mu = np.cos(theta)\n",
    "del_omega = 2*np.pi*(1 - (the_mu**2.))/2.\n",
    "print(f\"Q1b answer: {theta=:5.3f} rad, {the_mu=:9.6f}, {del_omega=:6.4g} sr\")"
   ]
  },
  {
   "cell_type": "markdown",
   "id": "57fea98a",
   "metadata": {},
   "source": [
    "## Q1c (2 points)\n",
    "\n",
    "Compare the answer you get from Q2a with the following simple approximation for the flux:\n",
    "\n",
    "$$\n",
    "E = L \\Delta \\omega\n",
    "$$\n",
    "\n",
    "where\n",
    "\n",
    "$$\n",
    "\\Delta \\omega = \\frac{Area}{h^2} = \\frac{\\pi r^2}{h^2}\n",
    "$$\n",
    "\n",
    "How accurate is this approximation compared to the exact integral?\n",
    "\n",
    "Python says:"
   ]
  },
  {
   "cell_type": "code",
   "execution_count": null,
   "id": "95f54461",
   "metadata": {},
   "outputs": [],
   "source": [
    "del_omega_approx = np.pi*5**2./800**2.\n",
    "print(f\"{del_omega_approx=:6.4g} sr\")"
   ]
  },
  {
   "cell_type": "code",
   "execution_count": null,
   "id": "daf45d3c",
   "metadata": {},
   "outputs": [],
   "source": [
    "accuracy = 100*(del_omega - del_omega_approx)/del_omega\n",
    "print(f\"Q1c answer: {accuracy=:6.4f} in percent\")"
   ]
  },
  {
   "cell_type": "markdown",
   "id": "69728603",
   "metadata": {},
   "source": [
    "## Q1d (2 points)\n",
    "\n",
    "Suppose $L = L_\\lambda \\Delta \\lambda$  where $L_\\lambda$ is the monochromatic planck blockbody radiance at a wavelength of 10 $\\mu m$ and a temperature of 300 K.  If the filter width\n",
    "$\\Delta \\lambda$ = 2 $\\mu m$, what is the flux $E$ reaching the satellite for this problem?"
   ]
  },
  {
   "cell_type": "markdown",
   "id": "603815c6",
   "metadata": {},
   "source": [
    "### Q1d Answer:\n",
    "\n",
    "We want to find $E=L_\\lambda \\Delta \\omega \\Delta \\lambda$\n",
    "\n",
    "Use python"
   ]
  },
  {
   "cell_type": "code",
   "execution_count": null,
   "id": "ac14349d",
   "metadata": {},
   "outputs": [],
   "source": [
    "from rad_lib.radiation import calc_radiance\n",
    "del_lambda = 2  # microns\n",
    "the_L = calc_radiance(10.e-6,300)*1.e-6  # W/m^2/micron/sr\n",
    "print(f\"{the_L=:8.3f} W/m^2/micron/sr\")\n",
    "the_E = the_L*del_omega*del_lambda\n",
    "print(f\"At the satellite {the_E=:8.4f} W/m^2\")"
   ]
  },
  {
   "cell_type": "markdown",
   "id": "219daccf",
   "metadata": {},
   "source": [
    "## Q2 (3 points)  Kirchoff's law for a gas\n",
    "\n",
    "In {ref}`week4_schwartz` we used the 2nd law to prove by contradiction for that\n",
    "absorptivity = emissivity for using two\n",
    "surfaces at the same temperature.   Make the same argument for a gas between\n",
    "two black plates -- i.e. show that if the emissivity and absorptivity of the\n",
    "gas are not equal you violate the second law of thermodynamics."
   ]
  },
  {
   "cell_type": "markdown",
   "id": "ac2a61b1",
   "metadata": {},
   "source": [
    "### Q2 answer:\n",
    "\n",
    "Suppose the gas is emtting with greybody emissivity $\\epsilon$ and absorbing with some different absorptivity $abs$. If the walls and the gas are at the same temperature, then the gas  is emitting $\\epsilon \\sigma T^4$ to both the right and left walls, and absorbing $abs \\; \\sigma T^4$ from both the left and the right wall.  Thus energy balance for the gas requires that\n",
    "$2 \\epsilon \\sigma T^4$ = $2 \\; abs\\; \\sigma T^4$.  If $epsilon \\neq abs$ then the gas would be either heating or cooling.  That would violate the second law of thermodynamics, which\n",
    "says that there can't be any temperature change in the system without the performance of work."
   ]
  },
  {
   "cell_type": "markdown",
   "id": "e5bda7cd",
   "metadata": {},
   "source": [
    "## Q3 (5 points)  Histogramming lats/long\n",
    "\n",
    "Write a program in pseudo-code (doesn't have to run) that would bin a list of lat/lon pairs into a regular lat/lon grid with 1 degree resolution from -180-180 degrees longitude and -90->90 degrees latitude.\n",
    "\n",
    "Given a list of tuples, of the form pixel_coords = [(lat1,lon1), (lat2, lon2)...],\n",
    "with latx = pixel latitude in the range [-90 -> 90) - and lonx = pixel longitude in the range [-180 -> 180]\n",
    "\n",
    "1) Initialize a variable to an empty list `pixel_indices` = []\n",
    "2) loop through the `pixel_coords` list:\n",
    "\n",
    "   * for each (lat, lon) pair:\n",
    "    \n",
    "      * find the integer lat bin index i between -90 -> 89 by truncating the lat value to an integer (i.e. `np.floor(lat)`)\n",
    "      * find the integer lon bin index j between -180 -> 179 by truncating the lon value to an integer (i.e. `np.floor(lon)`)\n",
    "      * append the indices as a tuple to the `pixel_indices` list:  `pixel_indices.append((i,j))`\n",
    "       \n",
    "How would you use the `pixel_indices` list?\n",
    "\n",
    "1) loop through the `pixel_indices` list, saving the index location of each place where a particular `(i,j)` pair occurred.  These are the pixels that belong in row i and column j in the lat/lon grid\n",
    "\n",
    "2) For a given radiance image, average together all the pixels that belong in the same (i, j) bin.  This will produce\n",
    "   the regridded image"
   ]
  }
 ],
 "metadata": {
  "jupytext": {
   "text_representation": {
    "extension": ".md",
    "format_name": "myst",
    "format_version": 0.13,
    "jupytext_version": "1.14.0"
   }
  },
  "kernelspec": {
   "display_name": "Python 3 (ipykernel)",
   "language": "python",
   "name": "python3"
  },
  "source_map": [
   12,
   23,
   45,
   51,
   63,
   69,
   75,
   81,
   101,
   106,
   109,
   116,
   124,
   131,
   141,
   149
  ]
 },
 "nbformat": 4,
 "nbformat_minor": 5
}