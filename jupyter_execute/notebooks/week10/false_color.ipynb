{
 "cells": [
  {
   "cell_type": "markdown",
   "id": "c3be35c4",
   "metadata": {
    "user_expressions": []
   },
   "source": [
    "(week10:false_color)=\n",
    "# Making color composite (\"false color\") images"
   ]
  },
  {
   "cell_type": "markdown",
   "id": "affeb5b2",
   "metadata": {
    "user_expressions": []
   },
   "source": [
    "## Definitions: \"24 bit color\", \"true color\", \"false color\"\n",
    "\n",
    "\n",
    "Up to now we have been showing images using \"8 bit color\", where pixel values are scaled from 0 to 255 and mapped to a palette with\n",
    "256 different color values.\n",
    "The finished images that we will create towards the end of this notebook will instead have three layers to drive the red, green and blue levels of a computer/phone display.  Each layer is an 8 bit unsigned integer that can take on $2^8$ = 256 different levels.  The whole image therefore takes\n",
    "$3 \\times 8$ = 24 bits per pixel, or \"24 bit color\". When the red, green and blue bands are mapped to red, green and blue levels, the image is\n",
    "called \"true color\".  When other bands are mapped to display red, green and blue levels the image is called \"false color\""
   ]
  },
  {
   "cell_type": "markdown",
   "id": "22e0e5e4",
   "metadata": {
    "jp-MarkdownHeadingCollapsed": true,
    "user_expressions": []
   },
   "source": [
    "## Introduction\n",
    "\n",
    "Color composite images are a useful tool in remote sensing. They map\n",
    "arbitrary image wavelengths to the primary colors (for example landsat 8 band 5 (near-ir, 0.86 microns) mapped to red,\n",
    "landsat 8 band 4 (red, 0.66 microns) mapped to blue, and landsat band 3 (green, 0.55 microns) mapped to blue).\n",
    "In such a \"color ir\" image, vegetation, which is very bright in the near-ir, will show up as bright red, while\n",
    "water, different types of soils, etc. will show up as other colors.  Here are some examples of [popular band combinations](https://www.usgs.gov/media/images/common-landsat-band-combinations) for the [landsat 8 bands](https://www.usgs.gov/faqs/what-are-best-landsat-spectral-bands-use-my-research)\n",
    "\n",
    "*Something to note:  one point of confusion is that the red, green and blue bands for landsat 8 are label band 4, band 3 and band\n",
    "2 respectively, so remember that an rgb landsat image is desiginated by the band combination 432.*\n",
    "\n",
    "\n",
    "In this notebook we will generate a \"color ir\" image from bands 5, 4, 3 using a clipped vancouver scene, reprocessing\n",
    "them into a false color composite.  The final\n",
    "format needs to follow the \"portable network graphics (png) truecolor\" standard: \n",
    "\n",
    "1) the pixels in each band have values between 0-255 (i.e. one 8 bit byte)\n",
    "2) the bands are packed into 3 dimensional array with shape [3,nrows,ncols]\n",
    "3) the band order needs to be red=index 0, blue=index 1 and green=index 2\n",
    "\n",
    "We will also need to rewrite the images so that each band makes use of all the available 255 levels.  This means we need to change\n",
    "the data values significantly, for the images below the reflectivities in bands 3 and 4 are below 0.2, which means if we\n",
    "just converted them to 0-255 we'd only be using 20% of the 255 levels.  Fixing this problem by redistributing the data is called \"stretching\".\n",
    "Below we'll show how to do a \"histogram stretch\".  Since the underlying data is changed in the image, false color composites are a qualitative, rather than a quantitative tool."
   ]
  },
  {
   "cell_type": "markdown",
   "id": "1e72a8c5",
   "metadata": {
    "user_expressions": []
   },
   "source": [
    "## Read in the clipped image\n",
    "\n",
    "We use numpy.squeeze() to squeeze out the band dimension, so arrays with 3 dimensions (1,nrows,ncols)\n",
    "become 2 dimensional with shape (nrows,ncols)"
   ]
  },
  {
   "cell_type": "code",
   "execution_count": null,
   "id": "7558337a",
   "metadata": {},
   "outputs": [],
   "source": [
    "import a301_lib\n",
    "import xarray\n",
    "import rioxarray\n",
    "from matplotlib import pyplot as plt\n",
    "import numpy as np\n",
    "import seaborn as sns\n",
    "from skimage import exposure, img_as_ubyte\n",
    "from IPython.display import Image"
   ]
  },
  {
   "cell_type": "code",
   "execution_count": null,
   "id": "35d2f4a1",
   "metadata": {},
   "outputs": [],
   "source": [
    "file_path = a301_lib.data_share / \"pha/landsat\"\n",
    "infile = file_path / \"vancouver_543_clipped.nc\"\n",
    "do_write=False\n",
    "if do_write:\n",
    "    bands_543.to_netcdf(infile, mode = 'w')\n",
    "else:\n",
    "    bands_543 = rioxarray.open_rasterio(infile, mask_and_scale=True)\n",
    "    bands_543 = bands_543.squeeze()\n",
    "bands_543"
   ]
  },
  {
   "cell_type": "markdown",
   "id": "b4b31dce",
   "metadata": {
    "user_expressions": []
   },
   "source": [
    "Here is the code that fetched the original dataset from NASA"
   ]
  },
  {
   "cell_type": "markdown",
   "id": "d2bd745e",
   "metadata": {
    "user_expressions": []
   },
   "source": [
    "```python\n",
    "import os\n",
    "os.environ[\"GDAL_HTTP_COOKIEFILE\"] = \"./cookies.txt\"\n",
    "os.environ[\"GDAL_HTTP_COOKIEJAR\"] = \"./cookies.txt\"\n",
    "\n",
    "\n",
    "date = \"2015-06-14\"\n",
    "lon, lat  = -123.2460, 49.2606\n",
    "do_write = True\n",
    "if do_write:\n",
    "    from rasterio.windows import Window\n",
    "    the_window = Window(col_off=2637, row_off=951, width=400, height=600)\n",
    "    bands_543 = get_landsat_dataset(date, lon, lat, the_window, bands=['B03','B04','B05']) \n",
    "\n",
    "bands_543 = bands_543.squeeze()\n",
    "bands_543.to_netcdf(infile, mode= 'w')\n",
    "```"
   ]
  },
  {
   "cell_type": "markdown",
   "id": "469c272c",
   "metadata": {
    "user_expressions": []
   },
   "source": [
    "Note the low reflectivity in band 3"
   ]
  },
  {
   "cell_type": "code",
   "execution_count": null,
   "id": "c8d55241",
   "metadata": {},
   "outputs": [],
   "source": [
    "fig, ax = plt.subplots(1,1)\n",
    "bands_543['B03'].plot.imshow(ax=ax);\n",
    "ax.set(title=\"band3 (green, 0.55 um)\");"
   ]
  },
  {
   "cell_type": "markdown",
   "id": "6fd5ae7a",
   "metadata": {
    "user_expressions": []
   },
   "source": [
    "## Apply the Fmask\n",
    "\n",
    "To show histograms of the data that exclude missing values we'll need to apply the\n",
    "Fmask.  We'll also generate a mask of zeros and ones (a boolean mask) for the\n",
    "histogram equalization routine below"
   ]
  },
  {
   "cell_type": "code",
   "execution_count": null,
   "id": "9d4f816f",
   "metadata": {},
   "outputs": [],
   "source": [
    "b3, b4, b5, Fmask = bands_543['B03'], bands_543['B04'], bands_543['B05'], bands_543['Fmask']"
   ]
  },
  {
   "cell_type": "code",
   "execution_count": null,
   "id": "1c4c1e35",
   "metadata": {},
   "outputs": [],
   "source": [
    "masked_b3 = b3*Fmask.data\n",
    "masked_b4 = b4*Fmask.data\n",
    "masked_b5 = b5*Fmask.data"
   ]
  },
  {
   "cell_type": "markdown",
   "id": "0e84e975",
   "metadata": {
    "user_expressions": []
   },
   "source": [
    "### Create a boolean mask\n",
    "\n",
    "Below we are going to also require a separate mask that is\n",
    "1 where the pixel is good, and 0 where the pixel is missing.\n",
    "Be sure you understand how we get this mask from the code below"
   ]
  },
  {
   "cell_type": "code",
   "execution_count": null,
   "id": "218c8aeb",
   "metadata": {},
   "outputs": [],
   "source": [
    "#\n",
    "# create an empty array with the same shape as Fmask\n",
    "#\n",
    "bool_mask = np.empty_like(Fmask,dtype = np.int8)\n",
    "#\n",
    "# Below is True for all nan pixels\n",
    "#\n",
    "nan_mask = np.isnan(Fmask)\n",
    "#\n",
    "# flip this with logical_not so good pixels \n",
    "# are flagged True\n",
    "#\n",
    "good_mask = np.logical_not(nan_mask)\n",
    "#\n",
    "# assign 0 to nans, 1 to good values\n",
    "#\n",
    "bool_mask[nan_mask] = 0\n",
    "bool_mask[good_mask] = 1\n",
    "bool_mask"
   ]
  },
  {
   "cell_type": "markdown",
   "id": "b078a6a7",
   "metadata": {
    "user_expressions": []
   },
   "source": [
    "## Plotting joint histograms"
   ]
  },
  {
   "cell_type": "markdown",
   "id": "8afe77cc",
   "metadata": {
    "user_expressions": []
   },
   "source": [
    "Below we plot some joint histograms of using [seaborn.jointplot](https://seaborn.pydata.org/generated/seaborn.jointplot.html).  This is\n",
    "a very powerful way to look for correlations between datasets, showing the both the 2-dimensional histogram (darker colors mean more pixels\n",
    "in the bin) and the band histograms.\n",
    "\n",
    "The plots show that bands 3 and 4 (green and red) have reflectivities below about 20%, while band 5 (near-ir) as expected is much brighter, with\n",
    "reflectivites up to about 50%.  The images are much more interesting if every band has reflectivities ranging\n",
    "between 0 and 1. When we plot using a color palette and 0-255 color values (8 bit color) we use Normalize with vmin and vmax to stretch\n",
    "the colors between a minimum and maximum and ignore low and high values. This is called a \"linear stretch\".  There is a more sophisticated way\n",
    "to assign color levels by manipulating the probability density distributions of the pixels, as described in the next section."
   ]
  },
  {
   "cell_type": "code",
   "execution_count": null,
   "id": "a67f23f9",
   "metadata": {},
   "outputs": [],
   "source": [
    "fig = sns.jointplot(\n",
    "    x=masked_b3.data.ravel(),\n",
    "    y=masked_b4.data.ravel(),\n",
    "    xlim=(0, 0.2),\n",
    "    ylim=(0.0, 0.2),\n",
    "    kind=\"hex\",\n",
    "    color=\"#4CB391\"\n",
    ")\n",
    "fig.fig.suptitle(\"green (band 3) vs red (band 4)\");\n",
    "axes = fig.fig.get_axes()\n",
    "axes[0].set(xlabel = \"band 3 reflectivity\",\n",
    "            ylabel = \"band 4 reflectivity\");"
   ]
  },
  {
   "cell_type": "code",
   "execution_count": null,
   "id": "97374e04",
   "metadata": {},
   "outputs": [],
   "source": [
    "fig = sns.jointplot(\n",
    "    x=masked_b4.data.ravel(),\n",
    "    y=masked_b5.data.ravel(),\n",
    "    kind=\"hex\",\n",
    "    xlim=(0, 0.2),\n",
    "    ylim=(0.0, 0.5),\n",
    "    color=\"#4CB391\",\n",
    ")\n",
    "fig.fig.suptitle(\"red (band 4) vs near ir (band 5)\");\n",
    "axes = fig.fig.get_axes()\n",
    "axes[0].set(xlabel = \"band 4 reflectivity\",\n",
    "            ylabel = \"band 5 reflectivity\");"
   ]
  },
  {
   "cell_type": "markdown",
   "id": "3747083d",
   "metadata": {
    "user_expressions": []
   },
   "source": [
    "## Histogram equalization\n",
    "\n",
    "Histogram equalization is a technique for changing the image data while preserving part of its character as represented\n",
    "in its histogram.  It uses the **cumulative distribution** which is defined as the cumulative sum of the histogram of the image.  That is,\n",
    "if the nuber of pixels with levels between $l^\\prime$ and $l^\\prime + dl^\\prime$ is $n(l^\\prime)\\,dl^\\prime$, then the cumulative\n",
    "distribution $N(l)$ is given by:\n",
    "\n",
    "$$\n",
    "N(l) = \\int_0^l n(l^\\prime) dl^\\prime\n",
    "$$\n",
    "In words, $N(l)$ is the number of pixels with level less than $l$L\n",
    "\n",
    "The idea is to change (\"stretch\") the histogram bins so that $N(l) \\approx$ constant for values of $l$ that contain most of the pixels.\n",
    "\n",
    "Here's the cumulative distribution for the pdf for a gaussian distribution (bell curve):"
   ]
  },
  {
   "cell_type": "code",
   "execution_count": null,
   "id": "018a2e2b",
   "metadata": {},
   "outputs": [],
   "source": [
    "x = np.random.randn(100000) # generate samples from normal distribution (discrete data)\n",
    "fig, ax = plt.subplots(1,1)\n",
    "#\n",
    "# cumulative distribution N(l)\n",
    "#\n",
    "ax.hist(x,bins=200,density=True, cumulative=True)\n",
    "#\n",
    "# probability density n(l)\n",
    "#\n",
    "ax.hist(x,bins=200,density=True)\n",
    "ax.set(title=\"gaussian pdf n(l) and cumulative distribution N(l)\",\n",
    "       xlabel=\"pixel level\",\n",
    "       ylabel = \"n(l) (#pixels/(bin width)) and N(l) (#pixels with level < l)\");"
   ]
  },
  {
   "cell_type": "markdown",
   "id": "09db7915",
   "metadata": {
    "user_expressions": []
   },
   "source": [
    "For this fake image, almost all the values are between -2 and 2, but the whole data range goes between -4 - 4.\n",
    "If we use the blue curve to map xaxis values between -2 and 2 to y axis values between 0.1-0.99, we are \"stretching\" the\n",
    "data to fill a range that is proportial to how many of these values actually occur in the image.  Values between -4 and -4 \n",
    "are still represented, but they only get levels between about 1% of the levels after the stetch, instead of 25%."
   ]
  },
  {
   "cell_type": "markdown",
   "id": "3585fc1c",
   "metadata": {
    "user_expressions": []
   },
   "source": [
    "### Here's the cumulative distribution for band 5\n",
    "\n",
    "If we stretch the band 5 values to this cumulative distribution, 50% of the data range (0-125) is going to get essentially\n",
    "100% of the levels between 0-1."
   ]
  },
  {
   "cell_type": "code",
   "execution_count": null,
   "id": "b5faa3ea",
   "metadata": {},
   "outputs": [],
   "source": [
    "from skimage import exposure\n",
    "#\n",
    "# want 256 levels from 0-255\n",
    "#\n",
    "bins=256\n",
    "img_cdf, bins = exposure.cumulative_distribution(b5.data.ravel(), bins)\n",
    "plt.plot(img_cdf)\n",
    "plt.grid(True);"
   ]
  },
  {
   "cell_type": "markdown",
   "id": "213bc758",
   "metadata": {
    "user_expressions": []
   },
   "source": [
    "### Stretching step 1: stretch the data in each band and save to a dictionary with the band name as key\n",
    "\n",
    "To do the histogram stretch we'll use  the [scikit-image equalization module](https://scikit-image.org/docs/dev/auto_examples/color_exposure/plot_equalize.html).  It uses our boolean mask\n",
    "to ignore np.nan values when it calculates the distribution."
   ]
  },
  {
   "cell_type": "code",
   "execution_count": null,
   "id": "448601a1",
   "metadata": {},
   "outputs": [],
   "source": [
    "stretched_dict = dict()\n",
    "keys = ['b3','b4','b5']\n",
    "images = [masked_b3, masked_b4, masked_b5]\n",
    "for key, image in zip(keys,images):\n",
    "    stretched_dict[key] = exposure.equalize_hist(image.data, mask = bool_mask )\n",
    "    #\n",
    "    # uncomment to try this without the mask\n",
    "    #\n",
    "    # stretched_dict[key] = exposure.equalize_hist(image.data)"
   ]
  },
  {
   "cell_type": "markdown",
   "id": "70ed14a2",
   "metadata": {
    "user_expressions": []
   },
   "source": [
    "### Before and after stretching\n",
    "\n",
    "Pretty dramatic difference"
   ]
  },
  {
   "cell_type": "code",
   "execution_count": null,
   "id": "db7e053e",
   "metadata": {},
   "outputs": [],
   "source": [
    "fig, (ax1, ax2) = plt.subplots(1,2)\n",
    "ax1.imshow(masked_b3);\n",
    "ax2.imshow(stretched_dict['b3']);"
   ]
  },
  {
   "cell_type": "markdown",
   "id": "3dcd1944",
   "metadata": {
    "user_expressions": []
   },
   "source": [
    "### Stretching step 2: check the stretched histograms\n",
    "\n",
    "Redo the histogram plots to show the stretched distributions.  Note that they still contain information\n",
    "about the correlation between bands, but the distributions are much broader than their unstretched versions.  Also note that\n",
    "in each of the joint plot there are clusters of pixels that share similar values in the two bands.  These clusters\n",
    "correspond to similar surface types (grass fields, golf courses, concrete pavement etc.)"
   ]
  },
  {
   "cell_type": "code",
   "execution_count": null,
   "id": "ba192ba2",
   "metadata": {},
   "outputs": [],
   "source": [
    "fig = sns.jointplot(\n",
    "    x=stretched_dict['b3'].ravel(),\n",
    "    y=stretched_dict['b4'].ravel(),\n",
    "    xlim=(0, 1),\n",
    "    ylim=(0.0, 1),\n",
    "    kind=\"hex\",\n",
    "    color=\"#4CB391\"\n",
    ")\n",
    "fig.fig.suptitle(\"stretched green (band 3) vs red (band 4)\");\n",
    "axes = fig.fig.get_axes()\n",
    "axes[0].set(xlabel = \"stretched band 3 reflectivity\",\n",
    "            ylabel = \"stretched band 4 reflectivity\");"
   ]
  },
  {
   "cell_type": "code",
   "execution_count": null,
   "id": "cd1fd9ea",
   "metadata": {},
   "outputs": [],
   "source": [
    "fig = sns.jointplot(\n",
    "    x=stretched_dict['b4'].ravel(),\n",
    "    y=stretched_dict['b5'].ravel(),\n",
    "    xlim=(0, 1),\n",
    "    ylim=(0.0, 1),\n",
    "    kind=\"hex\",\n",
    "    color=\"#4CB391\"\n",
    ")\n",
    "fig.fig.suptitle(\"stretched red (band 4) vs near ir (band 5)\");\n",
    "axes = fig.fig.get_axes()\n",
    "axes[0].set(xlabel = \"stretched band 4 reflectivity\",\n",
    "            ylabel = \"stretched band 5 reflectivity\");"
   ]
  },
  {
   "cell_type": "markdown",
   "id": "20931167",
   "metadata": {
    "user_expressions": []
   },
   "source": [
    "one byte## Write the false color image into 3-dimensional array called \"band_values\"\n",
    "\n",
    "We need to fill a new array of shape [3,nrows,ncols] and dtype=unsigned integer (byte)\n",
    "with the\n",
    "bands in the correct order -- red, blue, green.  The cell below does this\n",
    "using the `img_as_ubyte` function, which scales and converts the floating point reflectivities to \"unsigned bytes\"\n",
    "which are postive 8 bit numbers with range 0-255. The\n",
    "output array needs to have the same number of rows and columns as the original image. I'll use\n",
    "b3.shape to get those."
   ]
  },
  {
   "cell_type": "code",
   "execution_count": null,
   "id": "3507145f",
   "metadata": {},
   "outputs": [],
   "source": [
    "nrows, ncols = b3.shape\n",
    "band_values = np.empty([3, nrows, ncols], dtype=np.uint8)\n",
    "for index, key in enumerate(['b5', 'b4', 'b3']):\n",
    "    stretched = stretched_dict[key]\n",
    "    band_values[index, :, :] = img_as_ubyte(stretched)"
   ]
  },
  {
   "cell_type": "markdown",
   "id": "0f691adb",
   "metadata": {
    "user_expressions": []
   },
   "source": [
    "### Note that we've lost our missing values\n",
    "\n",
    "There's no way to write an np.nan as a missing value in a datatype that can only take on\n",
    "values between 0 and 255, so all missing values have been converted to 0"
   ]
  },
  {
   "cell_type": "code",
   "execution_count": null,
   "id": "23e0eb7f",
   "metadata": {},
   "outputs": [],
   "source": [
    "figt, ax = plt.subplots(1,1,figsize=(12,8))\n",
    "ax.imshow(band_values[0, :, :]);"
   ]
  },
  {
   "cell_type": "markdown",
   "id": "8bfb6441",
   "metadata": {
    "user_expressions": []
   },
   "source": [
    "### Create the dataArray\n",
    "\n",
    "Now that I have 3 bands scaled from 0-255, I can write them out as\n",
    "a png file, with new tags.  Recall from the {ref}`week8:zoom_landsat` that I need\n",
    "to supply the array, dimensions, coordinates and attributes.\n",
    "\n",
    "For the coordinate dictionary, I can borrow the 'x' and 'y' coordinates from band 3."
   ]
  },
  {
   "cell_type": "code",
   "execution_count": null,
   "id": "950124d5",
   "metadata": {},
   "outputs": [],
   "source": [
    "dims = ('band','y','x')\n",
    "coords={'band':('band',[5,4,3]),\n",
    "        'x': ('x',b3.x.data),\n",
    "        'y': ('y',b3.y.data)}"
   ]
  },
  {
   "cell_type": "markdown",
   "id": "84c66078",
   "metadata": {
    "user_expressions": []
   },
   "source": [
    "### Add attributes\n",
    "\n",
    "I'll keep some of the old attributes from the original `bands_543` dataset, and\n",
    "add two new ones: history and landsat_rgb_bands."
   ]
  },
  {
   "cell_type": "code",
   "execution_count": null,
   "id": "473712cd",
   "metadata": {},
   "outputs": [],
   "source": [
    "band_names=['B05','B04','B03']\n",
    "keep_attrs = ['cloud_cover','date','day','target_lat','target_lon']\n",
    "all_attrs = bands_543.attrs\n",
    "attr_dict = {key: value for key, value in all_attrs.items() if key in keep_attrs}\n",
    "attr_dict['history']=\"written by false_color.md\"\n",
    "attr_dict[\"landsat_rgb_bands\"] = band_names"
   ]
  },
  {
   "cell_type": "markdown",
   "id": "f07ad92a",
   "metadata": {
    "user_expressions": []
   },
   "source": [
    "### Create the falsecolor dataArray\n",
    "\n",
    "Just copy this from the `zoom_landsat` notebook"
   ]
  },
  {
   "cell_type": "code",
   "execution_count": null,
   "id": "76f7dd95",
   "metadata": {},
   "outputs": [],
   "source": [
    "false_color=xarray.DataArray(band_values,coords=coords,\n",
    "                            dims=dims,\n",
    "                            attrs=attr_dict)\n",
    "false_color.rio.write_crs(b3.rio.crs, inplace=True)\n",
    "false_color.rio.write_transform(b3.rio.transform(), inplace=True);"
   ]
  },
  {
   "cell_type": "code",
   "execution_count": null,
   "id": "77ed1d2e",
   "metadata": {},
   "outputs": [],
   "source": [
    "false_color"
   ]
  },
  {
   "cell_type": "markdown",
   "id": "036a1076",
   "metadata": {
    "user_expressions": []
   },
   "source": [
    "The final image -- the imshow function interprets any array with shape [3, nrows, ncols] as\n",
    "a false color image and presents it with rgb colors.  One striking thing about the image\n",
    "is how distinct the more undeveloped forest (dark green) is from the urban tree canopy.\n",
    "\n",
    "Question -- would it be useful to provide a mask for this image?"
   ]
  },
  {
   "cell_type": "code",
   "execution_count": null,
   "id": "2084fe4f",
   "metadata": {},
   "outputs": [],
   "source": [
    "false_color.plot.imshow(figsize=(6,9));"
   ]
  },
  {
   "cell_type": "markdown",
   "id": "a38c365c",
   "metadata": {
    "user_expressions": []
   },
   "source": [
    "### Save as a png file\n",
    "\n",
    "If the filename ends in png, rioxarray will save it in the standard png format."
   ]
  },
  {
   "cell_type": "code",
   "execution_count": null,
   "id": "7149446c",
   "metadata": {},
   "outputs": [],
   "source": [
    "png_filename = file_path / \"vancouver_543.png\"\n",
    "false_color.rio.to_raster(png_filename)"
   ]
  },
  {
   "cell_type": "markdown",
   "id": "990a0652",
   "metadata": {
    "user_expressions": []
   },
   "source": [
    "### Read it back in to check\n",
    "\n",
    "Here's the finished image -- read back in from the png file"
   ]
  },
  {
   "cell_type": "code",
   "execution_count": null,
   "id": "3199a549",
   "metadata": {},
   "outputs": [],
   "source": [
    "Image(filename=png_filename)"
   ]
  },
  {
   "cell_type": "markdown",
   "id": "9e396bd6",
   "metadata": {
    "user_expressions": []
   },
   "source": [
    "## Repeat with the raw reflectivities\n",
    "\n",
    "How much difference does the histogram stretch make?  Take a look at what the false color composite\n",
    "looks like when we use the masked images without stretching"
   ]
  },
  {
   "cell_type": "code",
   "execution_count": null,
   "id": "54692b4d",
   "metadata": {},
   "outputs": [],
   "source": [
    "#\n",
    "# fill an array with the unstretched data\n",
    "#\n",
    "nrows, ncols = b3.shape\n",
    "raw_values = np.empty([3, nrows, ncols], dtype=np.uint8)\n",
    "for index, raw_image in enumerate([masked_b5,masked_b4,masked_b3]):\n",
    "    raw_values[index, :, :] = img_as_ubyte(raw_image)"
   ]
  }
 ],
 "metadata": {
  "jupytext": {
   "notebook_metadata_filter": "all,-language_info,-toc,-latex_envs",
   "text_representation": {
    "extension": ".md",
    "format_name": "myst",
    "format_version": 0.13,
    "jupytext_version": "1.14.5"
   }
  },
  "kernelspec": {
   "display_name": "Python 3 (ipykernel)",
   "language": "python",
   "name": "python3"
  },
  "source_map": [
   15,
   20,
   31,
   58,
   65,
   76,
   88,
   92,
   112,
   116,
   122,
   130,
   134,
   140,
   148,
   170,
   174,
   186,
   201,
   216,
   234,
   250,
   257,
   264,
   275,
   282,
   294,
   300,
   306,
   315,
   330,
   345,
   357,
   365,
   372,
   377,
   387,
   394,
   401,
   410,
   416,
   424,
   428,
   436,
   440,
   446,
   451,
   457,
   461,
   468
  ]
 },
 "nbformat": 4,
 "nbformat_minor": 5
}