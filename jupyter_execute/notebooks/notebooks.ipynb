{
 "cells": [
  {
   "cell_type": "markdown",
   "id": "ac570244",
   "metadata": {},
   "source": [
    "# List of notebooks\n",
    "\n",
    "## Week 2\n",
    "\n",
    "* {ref}`sec:numpy`\n",
    "* {ref}`sec:planck`\n",
    "* {ref}`modis_level1b`\n",
    "* {ref}`sec:debugging`\n",
    "* {ref}`week2_beerslaw`\n",
    "\n",
    "## Week 3\n",
    "\n",
    "* {ref}`week3:basic_coords`\n",
    "* {ref}`week3:cartopy`\n",
    "* {ref}`week3:coords`\n",
    "* {ref}`week3:radiance_check`\n",
    "* {ref}`week3:files_paths`\n",
    "* {ref}`week3:modis_geom`\n",
    "\n",
    "## Week 4"
   ]
  },
  {
   "cell_type": "markdown",
   "id": "9bdc410b",
   "metadata": {},
   "source": [
    "* {ref}`week4:using_libraries`\n",
    "\n",
    "## Week 5\n",
    "\n",
    "* {ref}`week5:resample`\n",
    "* {ref}`week5:wv_resample`\n",
    "* {ref}`week5:longwave_resample`\n",
    "\n",
    "## Week 6\n",
    "\n",
    "* {ref}`week6:pandas_intro`\n",
    "* {ref}`week6:pandas_cheatsheet`\n",
    "* {ref}`week6:scale_heights`\n",
    "* {ref}`week6:weighting_funs`\n",
    "* {ref}`week6:geotiffs`\n",
    "\n",
    "## Week 7\n",
    "\n",
    "* {ref}`week7:geotiff_xarray`\n",
    "* {ref}`week7:hls`\n",
    "\n",
    "## Week 8\n",
    "\n",
    "* {ref}`mid_2022t2_solutions`\n",
    "* {ref}`week8:zoom_landsat`\n",
    "* {ref}`week8:fetch`\n",
    "* {ref}`week8:windowed`\n",
    "* {ref}`week8:test_landsat`\n",
    "* {ref}`week8:pandas_worksheet`\n",
    "\n",
    "## Week 9\n",
    "\n",
    "* {ref}`week9:datasets`\n",
    "* {ref}`week9:radar`\n",
    "* {ref}`week9:marshall`\n",
    "* {ref}`week9:cloudsat`\n",
    "* {ref}`week9:test_dataset`\n",
    "* {ref}`week9:cloudsat_ecmwf`\n",
    "\n",
    "## Week 10\n",
    "\n",
    "* {ref}`week10:temperature_perturb`\n",
    "* {ref}`week10:write_geotiff`\n",
    "* {ref}`week10:radar_micro`\n",
    "* {ref}`week10:false_color`\n",
    "\n",
    "## Week 11\n",
    "\n",
    "* {ref}`week11:cloudsat_heat`\n",
    "* {ref}`week11:diffuse_flux`\n",
    "* {ref}`week11:false_color_examples`\n",
    "* {ref}`week11:goes_true_color`\n",
    "\n",
    "## Week 12\n",
    "\n",
    "* {ref}`week12:goes_review`"
   ]
  }
 ],
 "metadata": {
  "jupytext": {
   "cell_metadata_filter": "-all",
   "notebook_metadata_filter": "-all",
   "text_representation": {
    "extension": ".md",
    "format_name": "myst",
    "format_version": 0.13,
    "jupytext_version": "1.14.0"
   }
  },
  "kernelspec": {
   "display_name": "Python 3 (ipykernel)",
   "language": "python",
   "name": "python3"
  },
  "source_map": [
   14,
   37
  ]
 },
 "nbformat": 4,
 "nbformat_minor": 5
}