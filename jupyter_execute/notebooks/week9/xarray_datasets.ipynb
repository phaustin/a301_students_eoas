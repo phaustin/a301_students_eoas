{
 "cells": [
  {
   "cell_type": "markdown",
   "id": "83a20dc9",
   "metadata": {
    "tags": [],
    "user_expressions": []
   },
   "source": [
    "(week9:datasets)=\n",
    "# xarray datasets"
   ]
  },
  {
   "cell_type": "markdown",
   "id": "954ac854",
   "metadata": {
    "user_expressions": []
   },
   "source": [
    "## Introduction"
   ]
  },
  {
   "cell_type": "markdown",
   "id": "29c78403",
   "metadata": {
    "tags": [],
    "user_expressions": []
   },
   "source": [
    "In this notebook, we take code from {ref}`week8:test_landsat` and use it to call a new function:\n",
    "[sat_lib.landsat_read.read_landsat_dataset](https://phaustin.github.io/a301_web/full_listing.html#sat_lib.landsat_read.get_landsat_dataset).  This is very similar\n",
    "to the `get_landsat_scene` function used in {ref}`week8:test_landsat`, with two improvements:\n",
    "\n",
    "1) It takes an optional list of bands in the form `['B01','B02',...]` with the default being `['B04','B05,'B06']`.  The\n",
    "   `Fmask` cloud mask is also returned.\n",
    "\n",
    "2) Instead of returning a dictionary it returns an [xarray.Dataset](https://foundations.projectpythia.org/core/xarray/xarray-intro.html#the-dataset-a-container-for-dataarrays-with-shared-coordinates) which is a collection of xarrays sharing \n",
    "the same coordinates (in this case x,y in the map projection).  Datasets have a variety of useful features, but the most\n",
    "important one for work in this class is the ability to write the Dataset to disk, via [xarray.Dataset.to_netcdf](https://docs.xarray.dev/en/stable/generated/xarray.Dataset.to_netcdf.html) -- demonstrated below.\n",
    "\n",
    "Below we repeat the plot from {ref}`week8:test_landsat` using the new function and saving all channels to disk in a file called `week9_landsat.nc`"
   ]
  },
  {
   "cell_type": "code",
   "execution_count": null,
   "id": "915967f8",
   "metadata": {},
   "outputs": [],
   "source": [
    "from matplotlib import pyplot as plt\n",
    "from sat_lib.landsat_read import get_landsat_dataset\n",
    "from rasterio.windows import Window\n",
    "import a301_lib"
   ]
  },
  {
   "cell_type": "markdown",
   "id": "56a1f790",
   "metadata": {
    "tags": [],
    "user_expressions": []
   },
   "source": [
    "## function arguments\n",
    "\n",
    "You can pass any combination of valid landsat/sentinel bands in as a list in the form \\\n",
    "['B01','B02',...] -- the default is for the ndvi bands 'B04','B05' plus the near-ir 'B06' with\n",
    "'Fmask' always included."
   ]
  },
  {
   "cell_type": "code",
   "execution_count": null,
   "id": "408719be",
   "metadata": {},
   "outputs": [],
   "source": [
    "help(get_landsat_dataset)"
   ]
  },
  {
   "cell_type": "markdown",
   "id": "63122dc2",
   "metadata": {
    "tags": [],
    "user_expressions": []
   },
   "source": [
    "## Reading the default bands"
   ]
  },
  {
   "cell_type": "code",
   "execution_count": null,
   "id": "ca91b02d",
   "metadata": {},
   "outputs": [],
   "source": [
    "import os\n",
    "os.environ[\"GDAL_HTTP_COOKIEFILE\"] = \"./cookies.txt\"\n",
    "os.environ[\"GDAL_HTTP_COOKIEJAR\"] = \"./cookies.txt\""
   ]
  },
  {
   "cell_type": "code",
   "execution_count": null,
   "id": "79771187",
   "metadata": {},
   "outputs": [],
   "source": [
    "date = \"2015-06-14\"\n",
    "lon, lat  = -123.2460, 49.2606\n",
    "the_window = Window(col_off=2671, row_off=1352, width=234, height=301)\n",
    "the_dataset = get_landsat_dataset(date, lon, lat, the_window) "
   ]
  },
  {
   "cell_type": "code",
   "execution_count": null,
   "id": "ab130326",
   "metadata": {},
   "outputs": [],
   "source": [
    "the_dataset"
   ]
  },
  {
   "cell_type": "markdown",
   "id": "ea743636",
   "metadata": {
    "tags": [],
    "user_expressions": []
   },
   "source": [
    "## Plotting the mask"
   ]
  },
  {
   "cell_type": "code",
   "execution_count": null,
   "id": "53d5b47c",
   "metadata": {},
   "outputs": [],
   "source": [
    "list(the_dataset.keys())"
   ]
  },
  {
   "cell_type": "code",
   "execution_count": null,
   "id": "9f5ff67f",
   "metadata": {},
   "outputs": [],
   "source": [
    "fig, ax = plt.subplots(1,1)\n",
    "#get the first 10 characters of the time attribute for the title\n",
    "the_date = the_dataset.attrs['day']\n",
    "the_dataset['Fmask'].plot()\n",
    "ax.set_title(f\"Land/cloud mask for Landsat {the_date}\");"
   ]
  },
  {
   "cell_type": "markdown",
   "id": "4def14b7",
   "metadata": {
    "tags": [],
    "user_expressions": []
   },
   "source": [
    "## Writing the dataset to disk\n",
    "\n",
    "Change the initials in outfile before you turn `do_write=True`"
   ]
  },
  {
   "cell_type": "code",
   "execution_count": null,
   "id": "c4c2444b",
   "metadata": {},
   "outputs": [],
   "source": [
    "do_write = False\n",
    "if do_write:\n",
    "    outfile = a301_lib.data_share / \"pha/week9_landsat.nc\"\n",
    "    the_dataset.to_netcdf(outfile)"
   ]
  },
  {
   "cell_type": "code",
   "execution_count": null,
   "id": "f6724346",
   "metadata": {},
   "outputs": [],
   "source": [
    "!ncdump -h ~/shared_files/pha/week9_landsat.nc"
   ]
  }
 ],
 "metadata": {
  "jupytext": {
   "text_representation": {
    "extension": ".md",
    "format_name": "myst",
    "format_version": 0.13,
    "jupytext_version": "1.14.0"
   }
  },
  "kernelspec": {
   "display_name": "Python 3 (ipykernel)",
   "language": "python",
   "name": "python3"
  },
  "source_map": [
   14,
   19,
   23,
   38,
   45,
   53,
   57,
   61,
   67,
   74,
   78,
   82,
   86,
   94,
   100,
   107
  ]
 },
 "nbformat": 4,
 "nbformat_minor": 5
}