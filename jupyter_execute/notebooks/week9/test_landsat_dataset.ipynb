{
 "cells": [
  {
   "cell_type": "markdown",
   "id": "16bc98be",
   "metadata": {
    "user_expressions": []
   },
   "source": [
    "(week9:test_dataset)=\n",
    "# Adding data to an image with xarray datasets\n",
    "\n",
    "This is a copy of {ref}`week8:test_landsat` that uses [get_landsat_dataset](https://phaustin.github.io/a301_web/full_listing.html#sat_lib.landsat_read.get_landsat_dataset) and saves the scene to\n",
    "a netcdf file for safekeeping.\n",
    "\n",
    "We change the plot to band5, and set up the axis so we can add a point to the plot to make sure we know where we are"
   ]
  },
  {
   "cell_type": "code",
   "execution_count": null,
   "id": "faea24e1",
   "metadata": {},
   "outputs": [],
   "source": [
    "from matplotlib import pyplot as plt\n",
    "from sat_lib.landsat_read import get_landsat_dataset\n",
    "from rasterio.windows import Window\n",
    "import cartopy.crs as ccrs\n",
    "import rioxarray\n",
    "import xarray\n",
    "import a301_lib"
   ]
  },
  {
   "cell_type": "code",
   "execution_count": null,
   "id": "643149f4",
   "metadata": {},
   "outputs": [],
   "source": [
    "import os\n",
    "os.environ[\"GDAL_HTTP_COOKIEFILE\"] = \"./cookies.txt\"\n",
    "os.environ[\"GDAL_HTTP_COOKIEJAR\"] = \"./cookies.txt\""
   ]
  },
  {
   "cell_type": "markdown",
   "id": "413f8682",
   "metadata": {
    "user_expressions": []
   },
   "source": [
    "## get three bands plus FMask and return as an xarray dataset\n",
    "\n",
    "To fetch a new image that hasn't been saved and write it to disk,\n",
    "set `doread=True`. Otherwise read the dataset from the netcdf file"
   ]
  },
  {
   "cell_type": "code",
   "execution_count": null,
   "id": "350befa9",
   "metadata": {},
   "outputs": [],
   "source": [
    "date = \"2015-06-14\"\n",
    "lon, lat  = -123.2460, 49.2606\n",
    "ncfile = a301_lib.data_share / \"pha/cloudsat/vancouver_ptgrey.nc\"\n",
    "#\n",
    "# set to True first time through\n",
    "#\n",
    "doread=False\n",
    "if doread:\n",
    "    the_window = Window(col_off=2671, row_off=1352, width=234, height=301)\n",
    "    scenes_data = get_landsat_dataset(date, lon, lat, the_window) \n",
    "    #\n",
    "    # write out the file for reuse\n",
    "    #\n",
    "    scenes_data.to_netcdf(ncfile)\n",
    "else:\n",
    "    scenes_data = xarray.open_dataset(ncfile)\n",
    "scenes_data"
   ]
  },
  {
   "cell_type": "markdown",
   "id": "8cab16ca",
   "metadata": {
    "user_expressions": []
   },
   "source": [
    "## Give the plotting routine the projection so we can add extra information in lon/lat coords\n",
    "\n",
    "We want to set up the xarray plot so we can add points like we did in {ref}`week9:cloudsat`.  That means\n",
    "creating the plotting axis with the map projection for the scene (which is saved as the xarray\n",
    "attribute cartopy_epsg_code), and passing the Geodetic transform to the plot command, so it\n",
    "knows that it needs to transform from lon/lat to map x,y"
   ]
  },
  {
   "cell_type": "markdown",
   "id": "5a90f771",
   "metadata": {
    "user_expressions": []
   },
   "source": [
    "### Find the map projection using the epsg code for UTM Zone 10"
   ]
  },
  {
   "cell_type": "code",
   "execution_count": null,
   "id": "75ab9c50",
   "metadata": {},
   "outputs": [],
   "source": [
    "band5 = scenes_data['B05']\n",
    "code = band5.cartopy_epsg_code\n",
    "projection = ccrs.epsg(code)\n",
    "projection"
   ]
  },
  {
   "cell_type": "markdown",
   "id": "287b0e90",
   "metadata": {
    "user_expressions": []
   },
   "source": [
    "### Create a plot axis with the projection and add a point for the EOAS building"
   ]
  },
  {
   "cell_type": "code",
   "execution_count": null,
   "id": "72f6a379",
   "metadata": {},
   "outputs": [],
   "source": [
    "from cartopy import feature as cfeature\n",
    "kw_dict = dict(projection=projection)\n",
    "#\n",
    "# pass the landsat projection to the axis\n",
    "#\n",
    "fig, ax = plt.subplots(1,1,figsize=(10,8),subplot_kw = kw_dict);\n",
    "band5.plot(ax=ax)\n",
    "#\n",
    "# tell the plot command that the points need to be transformed\n",
    "# from lon/lat\n",
    "#\n",
    "transform = ccrs.Geodetic()\n",
    "ax.plot(lon,lat,'bo',markersize=11,transform=transform)\n",
    "ax.add_feature(cfeature.COASTLINE,color='black')\n",
    "ax.set_title(f\"landsat band 5 on {band5.day}\");"
   ]
  }
 ],
 "metadata": {
  "jupytext": {
   "text_representation": {
    "extension": ".md",
    "format_name": "myst",
    "format_version": 0.13,
    "jupytext_version": "1.14.5"
   }
  },
  "kernelspec": {
   "display_name": "Python 3 (ipykernel)",
   "language": "python",
   "name": "python3"
  },
  "source_map": [
   14,
   24,
   34,
   40,
   47,
   67,
   76,
   80,
   87,
   91
  ]
 },
 "nbformat": 4,
 "nbformat_minor": 5
}