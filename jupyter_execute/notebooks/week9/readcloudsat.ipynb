{
 "cells": [
  {
   "cell_type": "markdown",
   "id": "088a9c03",
   "metadata": {},
   "source": [
    "(week9:cloudsat)=\n",
    "# Reading cloudsat data\n",
    "\n",
    "This notebook demonstrates how to read the radar reflectivity (GEOPROF-GRAΝULE) and the lidar layer top (GEOPROF-LIDAR-GRANULE)\n",
    "from cloudsat files.  We create two plots below: one showing the orbit with the location of a thundercloud, and one\n",
    "showing the reflectivity and cloudtop through the cloud transect."
   ]
  },
  {
   "cell_type": "code",
   "execution_count": null,
   "id": "432e68b9",
   "metadata": {},
   "outputs": [],
   "source": [
    "from matplotlib import pyplot as plt\n",
    "import numpy as np\n",
    "import matplotlib.pyplot as plt\n",
    "from pathlib import Path\n",
    "from sat_lib.cloudsat import read_cloudsat_var\n",
    "\n",
    "import a301_lib"
   ]
  },
  {
   "cell_type": "markdown",
   "id": "b477dc8b",
   "metadata": {},
   "source": [
    "## Find the radar and lidar files"
   ]
  },
  {
   "cell_type": "code",
   "execution_count": null,
   "id": "c281299e",
   "metadata": {},
   "outputs": [],
   "source": [
    "radar_dir = a301_lib.data_share / \"pha/cloudsat\"\n",
    "radar_file = list(radar_dir.glob(\"2008291*2B-GEOPROF_GR*hdf\"))[0].resolve()\n",
    "print(f\"{radar_file=}\")\n",
    "lidar_file = list(radar_dir.glob(\"2008291*2B-GEOPROF-LIDAR*GR*hdf\"))[0].resolve()\n",
    "print(f\"{lidar_file=}\")"
   ]
  },
  {
   "cell_type": "markdown",
   "id": "4e6db8cf",
   "metadata": {},
   "source": [
    "## Read the radar reflectivity dataset"
   ]
  },
  {
   "cell_type": "code",
   "execution_count": null,
   "id": "1c1c4b4b",
   "metadata": {},
   "outputs": [],
   "source": [
    "refl_ds = read_cloudsat_var('Radar_Reflectivity',radar_file)\n",
    "refl_ds"
   ]
  },
  {
   "cell_type": "markdown",
   "id": "4b2ac51b",
   "metadata": {},
   "source": [
    "## Get the radar reflectivity (dbZ)\n",
    "\n",
    "Note the difference between the height coordinate (1 dimensional, length 125, height bins of the first pulse) and the full heights\n",
    "of all pulses (the variable full height, which has shape (37082,15)"
   ]
  },
  {
   "cell_type": "code",
   "execution_count": null,
   "id": "68c13d3c",
   "metadata": {},
   "outputs": [],
   "source": [
    "refl_array = refl_ds['Radar_Reflectivity']\n",
    "dem_elevation = refl_ds['dem_elevation']\n",
    "distance_km = refl_ds['distance_km']\n",
    "longitude = refl_ds['longitude']\n",
    "latitude = refl_ds['latitude']\n",
    "height = refl_ds.coords['height']"
   ]
  },
  {
   "cell_type": "markdown",
   "id": "9d5a6ff5",
   "metadata": {},
   "source": [
    "## Get the lidar layer top height (highest cloud top, in meters)"
   ]
  },
  {
   "cell_type": "code",
   "execution_count": null,
   "id": "1db8015d",
   "metadata": {},
   "outputs": [],
   "source": [
    "lidar_ds = read_cloudsat_var('LayerTop',lidar_file)\n",
    "lidar_ds"
   ]
  },
  {
   "cell_type": "code",
   "execution_count": null,
   "id": "d6b961e9",
   "metadata": {},
   "outputs": [],
   "source": [
    "layer_top = lidar_ds['LayerTop']"
   ]
  },
  {
   "cell_type": "markdown",
   "id": "1abf5c4d",
   "metadata": {},
   "source": [
    "## Plot the orbit, with the location of a thunderstorm"
   ]
  },
  {
   "cell_type": "code",
   "execution_count": null,
   "id": "45c02ffe",
   "metadata": {},
   "outputs": [],
   "source": [
    "import cartopy.crs as ccrs\n",
    "start=21750  #seconds in orbit --this is storm starting point\n",
    "stop=22000\n",
    "projection=ccrs.Robinson()\n",
    "transform = ccrs.Geodetic()\n",
    "fig, ax = plt.subplots(1,1,figsize=(15,8), subplot_kw = {'projection': projection})\n",
    "# make the map global rather than have it zoom in to\n",
    "# the extents of any plotted data\n",
    "ax.set_global()\n",
    "ax.stock_img()\n",
    "ax.coastlines()\n",
    "ax.plot(longitude,latitude,'r',lw=5,transform =  transform);\n",
    "ax.plot(longitude[0],latitude[0],'go',markersize=20, transform=transform)\n",
    "ax.plot(longitude[-1],latitude[-1],'ro',markersize=20, transform=transform)\n",
    "ax.plot(longitude[start:stop],latitude[start:stop],\"k-\",lw=8,transform=transform);"
   ]
  },
  {
   "cell_type": "markdown",
   "id": "fc5caf71",
   "metadata": {},
   "source": [
    "## Plot the radar reflectivity and the cloud top height\n",
    "\n",
    "We need to transfrom from Geodetic (lon/lat) to Robinson (the cartopy map projection) each time\n",
    "we plot lon/lat values"
   ]
  },
  {
   "cell_type": "code",
   "execution_count": null,
   "id": "4c256570",
   "metadata": {},
   "outputs": [],
   "source": [
    "from matplotlib.colors import Normalize\n",
    "from copy import copy\n",
    "fig, axis1 =plt.subplots(1,1,figsize=(14,4))\n",
    "meters2km = 1.e-3\n",
    "storm_distance = distance_km[start:stop]\n",
    "storm_distance = storm_distance - storm_distance[0]\n",
    "vmin=-10\n",
    "vmax=20\n",
    "pal = copy(plt.get_cmap(\"viridis\"))\n",
    "pal.set_bad(\"0.2\")  # 75% grey for out-of-map cells\n",
    "pal.set_under(\"0.75\")\n",
    "pal.set_over(\"r\")  # color cells > vmax red\n",
    "the_norm = Normalize(vmin=vmin, vmax=vmax, clip=False)\n",
    "im=axis1.pcolor(storm_distance,height*meters2km,refl_array[start:stop,:].T,\n",
    "                norm=the_norm)\n",
    "axis1.set_xlabel('storm distance (km)')\n",
    "axis1.set_ylim([0,15])\n",
    "axis1.set_ylabel('height (km)')\n",
    "cb=fig.colorbar(im,ax=axis1)\n",
    "cb.set_label('reflectivity (dbZ)')\n",
    "\n",
    "axis1.plot(storm_distance,layer_top[start:stop]*meters2km,'r',lw=3)\n",
    "axis1.set_title(\"radar reflectivity and lidar cloud top (red line)\");"
   ]
  }
 ],
 "metadata": {
  "jupytext": {
   "cell_metadata_filter": "-all",
   "notebook_metadata_filter": "all,-language_info,-toc,-latex_envs",
   "text_representation": {
    "extension": ".md",
    "format_name": "myst",
    "format_version": 0.13,
    "jupytext_version": "1.14.5"
   }
  },
  "kernelspec": {
   "display_name": "Python 3 (ipykernel)",
   "language": "python",
   "name": "python3"
  },
  "source_map": [
   14,
   23,
   31,
   35,
   41,
   45,
   48,
   55,
   62,
   66,
   71,
   73,
   77,
   93,
   100
  ]
 },
 "nbformat": 4,
 "nbformat_minor": 5
}