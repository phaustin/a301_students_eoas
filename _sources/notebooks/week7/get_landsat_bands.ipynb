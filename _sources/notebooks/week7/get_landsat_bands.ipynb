{
 "cells": [
  {
   "cell_type": "markdown",
   "id": "0fa2eb61",
   "metadata": {
    "user_expressions": []
   },
   "source": [
    "(week7:hls)=\n",
    "# Dowloading Landsat and Sentinel data from NASA\n",
    "\n",
    "## Introduction\n",
    "\n",
    "This notebook goes over the procedure to locate and download 30 meter resolution\n",
    "Landsat and Sentinel data using NASA's Harmonized Landsat and Sentinel-2  dataset.\n",
    "These two satellites have very similar radiometer bands, fly in similar orbits and\n",
    "have similar resolutions and swath widths.  NASA (Landsat) and the European Space Agency (ESA)\n",
    "have collaborated on a common dataset that gives corrected surface reflectivity and brightness\n",
    "temperatures for the two satellites.\n",
    "\n",
    "In the first few sections, we'll go over how to select a Landsat scene for a particular place and range of dates, and look at the true-color browse image.  This image is available as jpg file  without having to\n",
    "authenticate with an earthdata id.  \n",
    "\n",
    "In the final section, we'll show how to download a Band 5 landsat geotiff, either on the a301hub (or for mac users) on your laptop.\n",
    "\n",
    "To use either the a301hub or your laptop to get a geotiff from Amazon, you'll need to get an [Earthdata Login](https://urs.earthdata.nasa.gov/).  Once you've got your username and password, go to the [a301hub](https://a301hub.eoasubc.xyz/) and open a terminal.  In the terminal, run this command:\n",
    "\n",
    "     set_nasa_password\n",
    "     \n",
    "At the prompts, enter your username and password.  You should see a file created called `~/.netrc` which NASA uses to authenticate you on their server.\n",
    "\n",
    "\n",
    "If you're working on a Mac latop, you'll also need to do:\n",
    "   \n",
    "    conda activate a301\n",
    "    mamba install pystac-client, shapely"
   ]
  },
  {
   "cell_type": "code",
   "execution_count": null,
   "id": "8f1da630",
   "metadata": {},
   "outputs": [],
   "source": [
    "import numpy\n",
    "from pathlib  import Path\n",
    "import inspect\n",
    "\n",
    "from matplotlib import pyplot as plt\n",
    "import numpy as np\n",
    "from copy import copy\n",
    "\n",
    "import rioxarray\n",
    "from pystac_client import Client\n",
    "from shapely.geometry import Point\n",
    "import a301_lib"
   ]
  },
  {
   "cell_type": "markdown",
   "id": "251679de",
   "metadata": {
    "user_expressions": []
   },
   "source": [
    "##  Doing an image search using pystac_client\n",
    "\n",
    "STAC is an acronym for \"Spatio-temporal asset catalog\", which is a standard way of cataloging\n",
    "GIS resources in the cloud.  A STAC catalog hold metadata, including web addresses, for geotiff\n",
    "files like those uploaded by the [NASA harmonized landsat-sentinel project](https://www.earthdata.nasa.gov/learn/articles/hls-cloud-efforts) (HLS) to Amazon Web Services."
   ]
  },
  {
   "cell_type": "markdown",
   "id": "89e96af5",
   "metadata": {
    "user_expressions": []
   },
   "source": [
    "We get the url for the stac catalog from the [NASA CMR page](https://nasa-openscapes.github.io/2021-Cloud-Hackathon/tutorials/02_Data_Discovery_CMR-STAC_API.html). The HLS project catalog is called \"LPCLOUD\"  (for land processes cloud and is available at [https://cmr.earthdata.nasa.gov/stac/LPCLOUD](https://cmr.earthdata.nasa.gov/stac/LPCLOUD).  This is called a \"stac endpoint\" and will receive\n",
    "and process requests sent to it by the pystac Client."
   ]
  },
  {
   "cell_type": "markdown",
   "id": "850c169b",
   "metadata": {
    "user_expressions": []
   },
   "source": [
    "We'll also need the [shapely](https://towardsdatascience.com/geospatial-adventures-step-1-shapely-e911e4f86361) library to specify a point on the earth that we want to be included in our search. In addition, we need to specify a date range to search."
   ]
  },
  {
   "cell_type": "code",
   "execution_count": null,
   "id": "7ff3a9ed",
   "metadata": {},
   "outputs": [],
   "source": [
    "van_lon, van_lat = -123.120, 49.2827\n",
    "vancouver = Point(van_lon, van_lat)\n",
    "june_2015 = \"2015-06-01/2015-06-30\""
   ]
  },
  {
   "cell_type": "code",
   "execution_count": null,
   "id": "9f7a048b",
   "metadata": {},
   "outputs": [],
   "source": [
    "# connect to the STAC endpoint\n",
    "cmr_api_url = \"https://cmr.earthdata.nasa.gov/stac/LPCLOUD\"\n",
    "client = Client.open(cmr_api_url)"
   ]
  },
  {
   "cell_type": "markdown",
   "id": "94140f00",
   "metadata": {
    "user_expressions": []
   },
   "source": [
    "### setup the search\n",
    "\n",
    "The client takes the search parameters as the following keywords:"
   ]
  },
  {
   "cell_type": "code",
   "execution_count": null,
   "id": "83db56b3",
   "metadata": {},
   "outputs": [],
   "source": [
    "search = client.search(\n",
    "    collections=[\"HLSL30.v2.0\"],\n",
    "    intersects=vancouver,\n",
    "    datetime= june_2015\n",
    ") \n",
    "search"
   ]
  },
  {
   "cell_type": "markdown",
   "id": "5d63ce8d",
   "metadata": {
    "user_expressions": []
   },
   "source": [
    "### get the metadata for search items\n",
    "\n",
    "This search should find 4 scenes -- 2 of which have 4% cloud cover."
   ]
  },
  {
   "cell_type": "code",
   "execution_count": null,
   "id": "1c1b8cfb",
   "metadata": {},
   "outputs": [],
   "source": [
    "items = search.get_all_items()\n",
    "for index, the_scene in enumerate(items):\n",
    "    print(f\"\\n\\n{index=}\\nproperties: {the_scene.properties}\")"
   ]
  },
  {
   "cell_type": "markdown",
   "id": "9b5b33da",
   "metadata": {
    "user_expressions": []
   },
   "source": [
    "### Get the assets for scene 1 (June 14, 2015)\n",
    "\n",
    "Once we decide on the scene, we can access its assets.  It contains the href (url) for\n",
    "each of the landsat bands (except Band 8) -- recall their wavelengths:  [Landsat Bands](https://landsat.gsfc.nasa.gov/satellites/landsat-8/landsat-8-bands/)\n",
    "\n",
    "There are also geotiffs for the \n",
    "\n",
    "- Solar Azimuth Angle (SAA) \n",
    "- Solar Zenith Angle (SZA)\n",
    "- Sensor Azimuth Angle (VAA)\n",
    "- Sensor Zenith Angle (VZA)\n",
    "\n",
    "and a jpg image file called 'browse' which is a 1000 x 1000 pixel true color image for the scene.\n",
    "\n",
    "The June 14 scene was taken by Landsat -- Landsat filenames begin with HLS.L30, Sentinel with HLS.S30."
   ]
  },
  {
   "cell_type": "code",
   "execution_count": null,
   "id": "e7e66d1f",
   "metadata": {},
   "outputs": [],
   "source": [
    "june14_scene = items[1]\n",
    "june14_scene.assets"
   ]
  },
  {
   "cell_type": "markdown",
   "id": "9ab835b7",
   "metadata": {
    "user_expressions": []
   },
   "source": [
    "### Download and display the true-color browse image\n",
    "\n",
    "You can see the browse image by clicking on the asset href above. We can also use rioxarray to download the browse image from its url"
   ]
  },
  {
   "cell_type": "code",
   "execution_count": null,
   "id": "0b94fe0c",
   "metadata": {},
   "outputs": [],
   "source": [
    "june14_browse = rioxarray.open_rasterio(june14_scene.assets['browse'].href)"
   ]
  },
  {
   "cell_type": "markdown",
   "id": "8156a835",
   "metadata": {
    "user_expressions": []
   },
   "source": [
    "and we can plot it using imshow"
   ]
  },
  {
   "cell_type": "code",
   "execution_count": null,
   "id": "2873f236",
   "metadata": {},
   "outputs": [],
   "source": [
    "fig, ax = plt.subplots(1,1,figsize=(10,10))\n",
    "june14_browse.plot.imshow(ax=ax, origin = 'upper')\n",
    "ax.set_title('June 14, 2015, Landsat 8');"
   ]
  },
  {
   "cell_type": "markdown",
   "id": "63312ca1",
   "metadata": {
    "user_expressions": []
   },
   "source": [
    "## Saving the Band5 geotiff\n",
    "\n",
    "Landsat Band5 in the near-infrared spans wavelengths between  0.845–0.885 $\\mu m$.  This is a wavelength region where vegetation is very reflective,\n",
    "because the leaves want to absorb red photons for photosynthesis and reflect slightly longer photons so they don't get absorbed and \n",
    "raise the leaf temperature.  This difference between red (Band4) and near-infrared (Band 5) is called the [\"red edge\"](https://agrio.app/Red-Edge-reflectance-monitoring-for-early-plant-stress-detection/).  \n",
    "\n",
    "If you have managed to get your earthdata login into the `~/.netrc` file you should be able to download and save band 5 as shown below:"
   ]
  },
  {
   "cell_type": "code",
   "execution_count": null,
   "id": "690e4fe6",
   "metadata": {},
   "outputs": [],
   "source": [
    "band_name=\"B05\"\n",
    "june14_scene.assets[band_name].href"
   ]
  },
  {
   "cell_type": "markdown",
   "id": "19264ac5",
   "metadata": {
    "user_expressions": []
   },
   "source": [
    "### set the cookiefile\n",
    "\n",
    "The nasa earthdata site will put an encrypted token into the file `cookies.txt` in the current directory"
   ]
  },
  {
   "cell_type": "code",
   "execution_count": null,
   "id": "2996a299",
   "metadata": {},
   "outputs": [],
   "source": [
    "import os\n",
    "os.environ[\"GDAL_HTTP_COOKIEFILE\"] = \"./cookies.txt\"\n",
    "os.environ[\"GDAL_HTTP_COOKIEJAR\"] = \"./cookies.txt\""
   ]
  },
  {
   "cell_type": "markdown",
   "id": "e1a82d97",
   "metadata": {
    "user_expressions": []
   },
   "source": [
    "### Read the band 5 raster\n",
    "\n",
    "The next cell reads in the raster.  By setting `masked=True` we are telling rasterio to look up the `_FillValue` tag in the\n",
    "geotiff, and replace all pixels that have that value to `np.nan`.\n",
    "\n",
    "After we've got the masked image, we create the raster by multiplying by the `scale_factor`"
   ]
  },
  {
   "cell_type": "code",
   "execution_count": null,
   "id": "fa9db0b7",
   "metadata": {},
   "outputs": [],
   "source": [
    "june14_band5 = rioxarray.open_rasterio(june14_scene.assets['B05'].href, masked=True)\n",
    "june14_raster = june14_band5.squeeze()\n",
    "june14_raster = june14_raster*june14_band5.scale_factor\n",
    "june14_raster"
   ]
  },
  {
   "cell_type": "markdown",
   "id": "cbb8b31e",
   "metadata": {
    "user_expressions": []
   },
   "source": [
    "Note that scaling the image removed all the attributes from the xarray.\n",
    "They are still there in the original, however"
   ]
  },
  {
   "cell_type": "code",
   "execution_count": null,
   "id": "9ec66ff5",
   "metadata": {},
   "outputs": [],
   "source": [
    "june14_band5"
   ]
  },
  {
   "cell_type": "markdown",
   "id": "37b5ca5f",
   "metadata": {
    "user_expressions": []
   },
   "source": [
    "### Histogram the raster\n",
    "\n",
    "Make sure the scaled band5 reflectance is in the range 0-1"
   ]
  },
  {
   "cell_type": "code",
   "execution_count": null,
   "id": "512667b1",
   "metadata": {},
   "outputs": [],
   "source": [
    "june14_raster.plot.hist();"
   ]
  },
  {
   "cell_type": "markdown",
   "id": "3171d6df",
   "metadata": {
    "user_expressions": []
   },
   "source": [
    "### Write out the raster as a geotiff\n",
    "\n",
    "Save the original"
   ]
  },
  {
   "cell_type": "code",
   "execution_count": null,
   "id": "d58cd883",
   "metadata": {},
   "outputs": [],
   "source": [
    "writeit=True\n",
    "if writeit:\n",
    "   landsat_dir = a301_lib.data_share / \"pha/landsat\"\n",
    "   landsat_dir.mkdir(exist_ok=True, parents=True)\n",
    "   outfile = landsat_dir / f\"vancouver_landsat8_{band_name}.tif\"\n",
    "   june14_band5.rio.to_raster(outfile)"
   ]
  },
  {
   "cell_type": "markdown",
   "id": "6f69e0b8",
   "metadata": {
    "user_expressions": []
   },
   "source": [
    "### Plot it using a grey palette"
   ]
  },
  {
   "cell_type": "code",
   "execution_count": null,
   "id": "b668e2c9",
   "metadata": {},
   "outputs": [],
   "source": [
    "pal = copy(plt.get_cmap(\"Greys_r\"))\n",
    "pal.set_bad(\"0.75\")  # 75% grey for out-of-map cells\n",
    "pal.set_over(\"w\")  # color cells > vmax red\n",
    "pal.set_under(\"k\")  # color cells < vmin black\n",
    "vmin = 0.0  #anything under this is colored black\n",
    "vmax = 0.8  #anything over this is colored red\n",
    "from matplotlib.colors import Normalize\n",
    "the_norm = Normalize(vmin=vmin, vmax=vmax, clip=False)"
   ]
  },
  {
   "cell_type": "code",
   "execution_count": null,
   "id": "c52f7e5e",
   "metadata": {},
   "outputs": [],
   "source": [
    "fig, ax = plt.subplots(1,1, figsize=(10,10))\n",
    "june14_raster.plot(ax=ax, cmap=pal, norm = the_norm)\n",
    "ax.set_title(f\"Landsat band {band_name}\");"
   ]
  },
  {
   "cell_type": "markdown",
   "id": "dd6c359b",
   "metadata": {
    "user_expressions": []
   },
   "source": [
    "## What's next"
   ]
  },
  {
   "cell_type": "markdown",
   "id": "59e42e2c",
   "metadata": {
    "user_expressions": []
   },
   "source": [
    "Now that we can get landsat and sentinel scenes, we need to be able to \n",
    "subset to a particular part of the image, apply the cloud mask to remove cloudy\n",
    "pixels and use channel ratios to infer surface properties.  That's the topic for the\n",
    "next few notebooks"
   ]
  }
 ],
 "metadata": {
  "jupytext": {
   "text_representation": {
    "extension": ".md",
    "format_name": "myst",
    "format_version": 0.13,
    "jupytext_version": "1.14.5"
   }
  },
  "kernelspec": {
   "display_name": "Python 3 (ipykernel)",
   "language": "python",
   "name": "python3"
  },
  "source_map": [
   14,
   45,
   60,
   68,
   73,
   77,
   83,
   89,
   95,
   104,
   110,
   116,
   134,
   139,
   145,
   149,
   153,
   159,
   169,
   174,
   180,
   186,
   195,
   202,
   207,
   211,
   217,
   221,
   227,
   236,
   240,
   251,
   257,
   261
  ]
 },
 "nbformat": 4,
 "nbformat_minor": 5
}