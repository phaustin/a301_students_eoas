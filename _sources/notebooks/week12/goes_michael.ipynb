{
 "cells": [
  {
   "cell_type": "markdown",
   "id": "4229d1e3",
   "metadata": {
    "user_expressions": []
   },
   "source": [
    "(week12:goes_review)=\n",
    "# GIS image processing review\n",
    "\n",
    "In this notebook we go over the steps needed to\n",
    "\n",
    "1) Download a GOES image as an xarray dataset\n",
    "2) Clip the image to isolate [Hurricane Michael on October 9, 2018](https://www.jpl.nasa.gov/images/pia22753-nasas-cloudsat-passes-over-hurricane-michael)\n",
    "3) Regrid the clipped image from a geostationary coordinate reference to UTΜ Ζone 16N\n",
    "4) Plot the cloudsat orbit on top of the image with cartopy\n",
    "6) Add a pair of study questions"
   ]
  },
  {
   "cell_type": "markdown",
   "id": "4ebcc33c",
   "metadata": {
    "user_expressions": []
   },
   "source": [
    "## Step 1 read in the GOES and Cloudsat files"
   ]
  },
  {
   "cell_type": "code",
   "execution_count": null,
   "id": "3794d368",
   "metadata": {},
   "outputs": [],
   "source": [
    "from goes2go.data import goes_nearesttime\n",
    "import rioxarray\n",
    "import xarray\n",
    "import a301_lib\n",
    "from datetime import datetime, timedelta\n",
    "from pathlib import Path\n",
    "import cartopy\n",
    "from pyresample.utils.cartopy import Projection\n",
    "import numpy as np\n",
    "\n",
    "import matplotlib.pyplot as plt\n",
    "from matplotlib import cm\n",
    "import cartopy.crs as ccrs\n",
    "import cartopy.feature as cfeature\n",
    "from pathlib import Path\n",
    "from sat_lib.cloudsat import read_cloudsat_var"
   ]
  },
  {
   "cell_type": "markdown",
   "id": "1ecf1ba9",
   "metadata": {
    "user_expressions": []
   },
   "source": [
    "### Read in cloudsat lats and lons\n",
    "\n",
    "Save the latitude and longitude for the orbit plot"
   ]
  },
  {
   "cell_type": "code",
   "execution_count": null,
   "id": "ecbbde18",
   "metadata": {},
   "outputs": [],
   "source": [
    "cloudsat_dir = a301_lib.data_share / \"pha/cloudsat\"\n",
    "rain_file = list(cloudsat_dir.glob(\"*2018*RAIN*hdf\"))[0]\n",
    "rain_ds = read_cloudsat_var('rain_rate',rain_file)\n",
    "cloudsat_lons = rain_ds['longitude']\n",
    "cloudsat_lats = rain_ds['latitude']"
   ]
  },
  {
   "cell_type": "markdown",
   "id": "ec79ed32",
   "metadata": {
    "user_expressions": []
   },
   "source": [
    "### Read in the GOES ConUS cloud moisture product for October 9, 2018, 19:13 UCT"
   ]
  },
  {
   "cell_type": "code",
   "execution_count": null,
   "id": "37c289ca",
   "metadata": {},
   "outputs": [],
   "source": [
    "g = goes_nearesttime(\n",
    "    datetime(2018, 10, 9, 19, 13), satellite=\"goes16\",product=\"ABI-L2-MCMIP\", domain='C', \n",
    "      return_as=\"xarray\"\n",
    ")"
   ]
  },
  {
   "cell_type": "markdown",
   "id": "c1a64b32",
   "metadata": {
    "user_expressions": []
   },
   "source": [
    "By default the files are written into a folder called `~/data`"
   ]
  },
  {
   "cell_type": "code",
   "execution_count": null,
   "id": "6c89d8bd",
   "metadata": {},
   "outputs": [],
   "source": [
    "full_path = Path.home() / \"data\" / g.path[0]\n",
    "full_path"
   ]
  },
  {
   "cell_type": "markdown",
   "id": "51dbe5da",
   "metadata": {
    "user_expressions": []
   },
   "source": [
    "### Open the GOES nc file with rioxarray\n",
    "\n",
    "Squeeze out the band dimension, since every variable has just 1 band"
   ]
  },
  {
   "cell_type": "code",
   "execution_count": null,
   "id": "fd846f8d",
   "metadata": {},
   "outputs": [],
   "source": [
    "rioC = rioxarray.open_rasterio(full_path,'r',mask_and_scale = True)\n",
    "rioC = rioC.squeeze()\n",
    "rioC"
   ]
  },
  {
   "cell_type": "markdown",
   "id": "9b71c166",
   "metadata": {
    "user_expressions": []
   },
   "source": [
    "## Make the cartopy crs projection\n",
    "\n",
    "This uses the `pyresample.utils.cartopy.Projection` helper function introduced in week8 to\n",
    "add the image extent in crs.  We also print out the crs in well-known-text\n",
    "format.  Note that it's \"unnamed\" which means that it doesn't have a standard\n",
    "[espsg](https://epsg.io/) code.  Below we'll regrid into a better known\n",
    "universal transferse mercator crs using rioxarray.reproject"
   ]
  },
  {
   "cell_type": "code",
   "execution_count": null,
   "id": "bc64220e",
   "metadata": {},
   "outputs": [],
   "source": [
    "ll_x, ll_y, ur_x, ur_y = rioC.rio.bounds()\n",
    "original_extent = (ll_x,ur_x, ll_y, ur_y)\n",
    "cartopy_crs = Projection(rioC.rio.crs, bounds=original_extent)\n",
    "cartopy_crs"
   ]
  },
  {
   "cell_type": "code",
   "execution_count": null,
   "id": "a730d053",
   "metadata": {},
   "outputs": [],
   "source": [
    "cartopy_crs.to_wkt()"
   ]
  },
  {
   "cell_type": "markdown",
   "id": "09311f32",
   "metadata": {
    "user_expressions": []
   },
   "source": [
    "## Get the pixel size from the transform\n",
    "\n",
    "Note the pixel size:  2004 meters x 2004 meters"
   ]
  },
  {
   "cell_type": "code",
   "execution_count": null,
   "id": "2b1c7f9f",
   "metadata": {},
   "outputs": [],
   "source": [
    "rioC.rio.transform()"
   ]
  },
  {
   "cell_type": "markdown",
   "id": "a4ef466e",
   "metadata": {
    "user_expressions": []
   },
   "source": [
    "## Cloud top temperature: band 13 (10.3 $\\mu m$) \n",
    "\n",
    "The thick clouds are radiating as blackbodies, and there isn't much vapor above the cloud\n",
    "top, so this is a good estimate of cloud top temperature."
   ]
  },
  {
   "cell_type": "code",
   "execution_count": null,
   "id": "0c557381",
   "metadata": {},
   "outputs": [],
   "source": [
    "rioC[\"CMI_C13\"].plot.imshow(cmap=cm.Greys);"
   ]
  },
  {
   "cell_type": "markdown",
   "id": "88cfd0e7",
   "metadata": {
    "user_expressions": []
   },
   "source": [
    "## Clip the image to the hurricane\n",
    "\n",
    "From the band 13 plot it looks like, in x,y coordinates, the\n",
    "hurricane is between 2.4e6 -> 3.e6 meters in the y dimension\n",
    "and -1.5e6 -> -0.5e6 meters in the x dimension.\n",
    "\n",
    "Use that to slice the dataset using isel"
   ]
  },
  {
   "cell_type": "code",
   "execution_count": null,
   "id": "14a8d7a2",
   "metadata": {},
   "outputs": [],
   "source": [
    "hit_x = np.logical_and(rioC.x > -1.5e6, rioC.x < -0.5e6)\n",
    "hit_y = np.logical_and(rioC.y > 2.4e6, rioC.y < 3.0e6)\n",
    "slice_michael = rioC.isel(indexers={'x':hit_x,'y':hit_y})\n",
    "slice_michael.dims"
   ]
  },
  {
   "cell_type": "markdown",
   "id": "b4b3ebe9",
   "metadata": {
    "user_expressions": []
   },
   "source": [
    "## Gamma correct band 1 (blue, 0.47 $\\mu m$) and check the new slice\n",
    "\n",
    "Here's a before and after plot of the slice showing the impact of the gamma correction.  The correction \n",
    "brightens the image at the expense of contrast."
   ]
  },
  {
   "cell_type": "code",
   "execution_count": null,
   "id": "ab1bf3a5",
   "metadata": {},
   "outputs": [],
   "source": [
    "fig1, ax1 = plt.subplots(1,1)\n",
    "slice_michael['CMI_C01'].plot.imshow(cmap=cm.Greys_r,ax=ax1)\n",
    "ax1.set(title = \"michael: no gamma correction\");"
   ]
  },
  {
   "cell_type": "code",
   "execution_count": null,
   "id": "3c8a3fbd",
   "metadata": {},
   "outputs": [],
   "source": [
    "#\n",
    "# stretch with gamma = 2.2\n",
    "#\n",
    "band1=slice_michael['CMI_C01'].data\n",
    "band1 = np.clip(band1,0,1)\n",
    "gamma=2.2\n",
    "band1_stretch = np.power(band1,1/gamma)\n",
    "slice_michael['CMI_C01'].data = band1_stretch"
   ]
  },
  {
   "cell_type": "code",
   "execution_count": null,
   "id": "25b97c0a",
   "metadata": {},
   "outputs": [],
   "source": [
    "fig2, ax2 = plt.subplots(1,1)\n",
    "slice_michael['CMI_C01'].plot.imshow(cmap = cm.Greys_r,ax = ax2)\n",
    "ax2.set(title=\"michael with gamma correction\");"
   ]
  },
  {
   "cell_type": "code",
   "execution_count": null,
   "id": "ccb5712a",
   "metadata": {},
   "outputs": [],
   "source": [
    "#help(slice_michael.rio)"
   ]
  },
  {
   "cell_type": "markdown",
   "id": "405d2b54",
   "metadata": {
    "user_expressions": []
   },
   "source": [
    "## Reproject from geostationary to UTM\n",
    "\n",
    "The geostationary crs is a little unusual -- in some cases (to compare with landsat or other satellites, mapping)\n",
    "we might want to reproject \n",
    "from that crs to something standard like universal transfer mercator.\n",
    "\n",
    "`rioxarray.estimate_utm_crs()` gives  you its best guess, based on the image corners, about which UTM zone we're in.  It correctly\n",
    "says that Michael is in [UTM zone 16N](https://epsg.io/32616)"
   ]
  },
  {
   "cell_type": "code",
   "execution_count": null,
   "id": "872fa9cf",
   "metadata": {},
   "outputs": [],
   "source": [
    "utm_crs = slice_michael.rio.estimate_utm_crs()\n",
    "utm_crs"
   ]
  },
  {
   "cell_type": "markdown",
   "id": "943ebfc0",
   "metadata": {
    "user_expressions": []
   },
   "source": [
    "## Reproject to UTM Zone 16N\n",
    "\n",
    "Reprojecting is much simpler that the resampling of ungridded lons/lats we did for the Modis swaths in week 5.  `rioxarray.rio.reproject` does it in a single step"
   ]
  },
  {
   "cell_type": "code",
   "execution_count": null,
   "id": "54eda324",
   "metadata": {},
   "outputs": [],
   "source": [
    "slice_utm16N = slice_michael.rio.reproject(utm_crs)\n",
    "slice_utm16N.dims"
   ]
  },
  {
   "cell_type": "markdown",
   "id": "f7719f57",
   "metadata": {
    "user_expressions": []
   },
   "source": [
    "Note that the reprojection has increased the pixel size to 2.3 km x 2.3 km and\n",
    "changed  the array shape to from 'x': 499, 'y': 299 to 'x': 491, 'y': 317\n",
    "\n",
    "As you'll see below, the clip we made of the GOES image isn't a perfect fit to \n",
    "the UTM grid box that is just big enough to contain it, so we need some extra\n",
    "space on the left and right."
   ]
  },
  {
   "cell_type": "code",
   "execution_count": null,
   "id": "d3cf80d2",
   "metadata": {},
   "outputs": [],
   "source": [
    "slice_utm16N.rio.transform()"
   ]
  },
  {
   "cell_type": "markdown",
   "id": "09abe1e2",
   "metadata": {
    "user_expressions": []
   },
   "source": [
    "### Mapping with the new projection\n",
    "\n",
    "Once again we'll use the `pyresample.utils.cartopy.Projection()` method to\n",
    "convert the rio crs to something that works with cartopy"
   ]
  },
  {
   "cell_type": "code",
   "execution_count": null,
   "id": "7a540fbd",
   "metadata": {},
   "outputs": [],
   "source": [
    "ll_x, ll_y, ur_x, ur_y = slice_utm16N.rio.bounds()\n",
    "original_extent = (ll_x,ur_x, ll_y, ur_y)\n",
    "cartopy_crs = Projection(slice_utm16N.rio.crs, bounds=original_extent)\n",
    "cartopy_crs"
   ]
  },
  {
   "cell_type": "code",
   "execution_count": null,
   "id": "e04d0ba9",
   "metadata": {},
   "outputs": [],
   "source": [
    "#set the figure size to match the rows/columns ration of 317/491\n",
    "fig3, ax3  = plt.subplots(figsize=(12, 7.8), subplot_kw={\"projection\": cartopy_crs})\n",
    "slice_utm16N['CMI_C01'].plot.imshow(\n",
    "    extent= original_extent,\n",
    "    transform=cartopy_crs,\n",
    "    interpolation=\"nearest\",\n",
    "    cmap=cm.Greys_r\n",
    ")\n",
    "ax3.coastlines(resolution=\"50m\", color=\"r\", linewidth=2)\n",
    "ax3.add_feature(ccrs.cartopy.feature.STATES)\n",
    "ax3.set_title(\"Hurricane Michael, band 01 normalized reflectance\")"
   ]
  },
  {
   "cell_type": "markdown",
   "id": "0d8ddfbd",
   "metadata": {
    "user_expressions": []
   },
   "source": [
    "## Add the Cloudsat ground track\n",
    "\n",
    "Finally, we need to convert the Cloudsat geodetic lons/lats to x,y in UTM16N.  We can do this\n",
    "with the `cartopy_crs.transform_points()` method."
   ]
  },
  {
   "cell_type": "code",
   "execution_count": null,
   "id": "8dd9cf35",
   "metadata": {},
   "outputs": [],
   "source": [
    "geodetic = ccrs.Geodetic()\n",
    "out = cartopy_crs.transform_points(geodetic,rain_ds['longitude'],rain_ds['latitude'])\n",
    "x = out[:,0]\n",
    "y = out[:,1]"
   ]
  },
  {
   "cell_type": "code",
   "execution_count": null,
   "id": "6839afb6",
   "metadata": {},
   "outputs": [],
   "source": [
    "#\n",
    "# make a blue line and redisplay\n",
    "#\n",
    "ax3.plot(x,y,'b-',lw=3)\n",
    "ax3.plot(x[0],y[0],'go',markersize=4)\n",
    "display(fig3)"
   ]
  },
  {
   "cell_type": "markdown",
   "id": "0d2f2e5a",
   "metadata": {
    "user_expressions": []
   },
   "source": [
    "## Study questions\n",
    "\n",
    "1) How could I use the affine transform to find the point at which cloudsat first enters the image, and denote it by a green dot?\n",
    "\n",
    "2) How could I find the GOES band01 reflectance (or cloudtop temperature, etc.) directly below the cloudsat track?\n",
    "\n",
    "Hint:  you'll need to use a `logical_and` on the x and y coordinates"
   ]
  }
 ],
 "metadata": {
  "jupytext": {
   "notebook_metadata_filter": "all,-language_info,-toc,-latex_envs",
   "text_representation": {
    "extension": ".md",
    "format_name": "myst",
    "format_version": 0.13,
    "jupytext_version": "1.14.5"
   }
  },
  "kernelspec": {
   "display_name": "Python 3 (ipykernel)",
   "language": "python",
   "name": "python3"
  },
  "source_map": [
   15,
   28,
   32,
   51,
   57,
   65,
   69,
   76,
   80,
   85,
   91,
   97,
   107,
   114,
   118,
   124,
   128,
   135,
   139,
   149,
   156,
   163,
   169,
   180,
   186,
   190,
   201,
   206,
   212,
   217,
   226,
   230,
   237,
   244,
   258,
   265,
   272,
   281
  ]
 },
 "nbformat": 4,
 "nbformat_minor": 5
}