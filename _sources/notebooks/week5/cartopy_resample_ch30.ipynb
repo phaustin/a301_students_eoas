{
 "cells": [
  {
   "cell_type": "markdown",
   "id": "25c664e7",
   "metadata": {},
   "source": [
    "(week5:resample)=\n",
    "# Use pyresample and cartopy to plot channel 30 radiances\n",
    "\n",
    "This notebook uses two hdf files: the MYD03 geom file containing pixel lats and lons at 1 km resolution\n",
    "and the Level 1B Modis MYD02 readiance file with the 36 channel radiances.\n",
    "\n",
    "The work is split into 5 sections:\n",
    "\n",
    "* **Section 1.1**:  Read the lats, lons, metadata and radiances into variables\n",
    "\n",
    "* **Section 1.2**: Set up the parameters for Lambert Azimuthal map projection centered on the scene center.  Using this projection\n",
    "  create a an instance of a [pyresample SwathDefinition](https://pyresample.readthedocs.io/en/latest/api/pyresample.html#pyresample.geometry.SwathDefinition)\n",
    "  which contains the pixel lats and lons.  With that information, create an [Area Definition](https://pyresample.readthedocs.io/en/latest/geometry_utils.html#areadefinition-creation) that\n",
    "specifies the resampled grid for the new resampled image.\n",
    "\n",
    "* **Section 1.3**: Resample the Channel 30 radiances into the pyresample `area_def`\n",
    "\n",
    "* **Section 1.4**: Plot the image using cartopy\n",
    "\n",
    "* **Section 1.5**: Write the image and the metadata out to disk"
   ]
  },
  {
   "cell_type": "code",
   "execution_count": null,
   "id": "1a7d2752",
   "metadata": {},
   "outputs": [],
   "source": [
    "import json\n",
    "from pathlib import Path\n",
    "import pprint\n",
    "pp = pprint.PrettyPrinter(indent=4)\n",
    "import warnings\n",
    "warnings.filterwarnings('ignore')\n",
    "\n",
    "\n",
    "import cartopy\n",
    "import cartopy.crs as ccrs\n",
    "import matplotlib.pyplot as plt\n",
    "import numpy as np\n",
    "import a301_lib\n",
    "from pyresample import kd_tree, SwathDefinition\n",
    "\n",
    "from sat_lib.modismeta_read import parseMeta\n",
    "from sat_lib.modischan_read import readband_lw, read_plainvar"
   ]
  },
  {
   "cell_type": "markdown",
   "id": "4328804b",
   "metadata": {},
   "source": [
    "## Read in the data\n",
    "\n",
    "### Find the files in the sat_data/pha folder"
   ]
  },
  {
   "cell_type": "code",
   "execution_count": null,
   "id": "0a68c619",
   "metadata": {},
   "outputs": [],
   "source": [
    "geom_filelist = list(a301_lib.sat_data.glob(\"pha/MYD03*2105*hdf\"))\n",
    "ch30_filelist = list(a301_lib.sat_data.glob(\"pha/MYD02*2105*hdf\"))"
   ]
  },
  {
   "cell_type": "code",
   "execution_count": null,
   "id": "9b956185",
   "metadata": {},
   "outputs": [],
   "source": [
    "geom_file_name = geom_filelist[0]\n",
    "print(geom_file_name)\n",
    "ch30_file_name = ch30_filelist[0]\n",
    "print(ch30_file_name)"
   ]
  },
  {
   "cell_type": "markdown",
   "id": "67f776c3",
   "metadata": {},
   "source": [
    "### Read the 1 km latitudes and longitudes\n",
    "\n",
    "Use the new `sat_lib` functions to get the data"
   ]
  },
  {
   "cell_type": "code",
   "execution_count": null,
   "id": "6e9d04c0",
   "metadata": {},
   "outputs": [],
   "source": [
    "lat_1km = read_plainvar(geom_file_name,'Latitude')\n",
    "lon_1km = read_plainvar(geom_file_name,'Longitude')\n",
    "print(f\"{lat_1km.shape=},{lon_1km.shape=}\")"
   ]
  },
  {
   "cell_type": "markdown",
   "id": "a6fe758f",
   "metadata": {},
   "source": [
    "### Read the channel 30 radiances"
   ]
  },
  {
   "cell_type": "code",
   "execution_count": null,
   "id": "98961de7",
   "metadata": {},
   "outputs": [],
   "source": [
    "\n",
    "ch30= readband_lw(ch30_file_name,30)\n",
    "ch30.shape"
   ]
  },
  {
   "cell_type": "markdown",
   "id": "822655b1",
   "metadata": {},
   "source": [
    "### Read the metadata"
   ]
  },
  {
   "cell_type": "code",
   "execution_count": null,
   "id": "2da8e26f",
   "metadata": {},
   "outputs": [],
   "source": [
    "metadata = parseMeta(ch30_file_name)"
   ]
  },
  {
   "cell_type": "markdown",
   "id": "eed159ef",
   "metadata": {},
   "source": [
    "## Create the SwathDefinition and AreaDefinition using a map projection and the lats and lons\n",
    "\n",
    "### Make a Lambert Azimuthal projection with the WGS84 datum\n",
    "\n",
    "pyresample needs proj4 map parameters to put together its grid.  These are\n",
    "returned by the get_proj_params file below."
   ]
  },
  {
   "cell_type": "code",
   "execution_count": null,
   "id": "17e3fe65",
   "metadata": {},
   "outputs": [],
   "source": [
    "def get_proj_params(metadata):\n",
    "    \"\"\"\n",
    "    given a metadata dictionary from parseMeta, return proj4 parameters\n",
    "    for use by cartopy or pyresample, assuming a laea projection\n",
    "    and WGS84 datum\n",
    "    \n",
    "    Parameters\n",
    "    ----------\n",
    "    \n",
    "    metadata:  dictionary\n",
    "       returned by parseMeta\n",
    "    \n",
    "    Returns\n",
    "    -------\n",
    "    (proj_params, globe): dict, cartopy.crs.Globe\n",
    "        projection params plus datum created by cartopy crs\n",
    "    \n",
    "    \"\"\"\n",
    "    \n",
    "\n",
    "    globe = ccrs.Globe(datum=\"WGS84\", ellipse=\"WGS84\")\n",
    "    projection = ccrs.LambertAzimuthalEqualArea(\n",
    "        central_latitude=metadata[\"lat_0\"],\n",
    "        central_longitude=metadata[\"lon_0\"],\n",
    "        globe=globe\n",
    "    )\n",
    "    \n",
    "    return projection"
   ]
  },
  {
   "cell_type": "markdown",
   "id": "01b9969b",
   "metadata": {},
   "source": [
    "### What is the `projection`?"
   ]
  },
  {
   "cell_type": "code",
   "execution_count": null,
   "id": "6073d914",
   "metadata": {},
   "outputs": [],
   "source": [
    "projection = get_proj_params(metadata)\n",
    "print(type(projection))"
   ]
  },
  {
   "cell_type": "markdown",
   "id": "a5415573",
   "metadata": {},
   "source": [
    "Source code for the [Lambert projection](https://scitools.org.uk/cartopy/docs/v0.15/_modules/cartopy/crs.html#LambertAzimuthalEqualArea)\n",
    "\n",
    "Use python's `dir` function to print the methods and attributes"
   ]
  },
  {
   "cell_type": "code",
   "execution_count": null,
   "id": "c8d4b88d",
   "metadata": {},
   "outputs": [],
   "source": [
    "print(dir(projection))"
   ]
  },
  {
   "cell_type": "code",
   "execution_count": null,
   "id": "3f63f1c6",
   "metadata": {},
   "outputs": [],
   "source": [
    "print(projection.to_dict())"
   ]
  },
  {
   "cell_type": "markdown",
   "id": "b814c886",
   "metadata": {},
   "source": [
    "### What is the `globe`"
   ]
  },
  {
   "cell_type": "code",
   "execution_count": null,
   "id": "0fd6840f",
   "metadata": {},
   "outputs": [],
   "source": [
    "print(type(projection.globe))"
   ]
  },
  {
   "cell_type": "markdown",
   "id": "b1bd7fe2",
   "metadata": {},
   "source": [
    "Man page for [cartopy.crs.Globe](https://scitools.org.uk/cartopy/docs/latest/reference/generated/cartopy.crs.Globe.html)"
   ]
  },
  {
   "cell_type": "code",
   "execution_count": null,
   "id": "81087500",
   "metadata": {},
   "outputs": [],
   "source": [
    "print(projection.globe.to_proj4_params())"
   ]
  },
  {
   "cell_type": "markdown",
   "id": "9061e1be",
   "metadata": {},
   "source": [
    "Wikipedia on [WGS84](https://en.wikipedia.org/wiki/World_Geodetic_System)"
   ]
  },
  {
   "cell_type": "code",
   "execution_count": null,
   "id": "2fb977a8",
   "metadata": {},
   "outputs": [],
   "source": [
    "proj_params =  projection.proj4_params\n",
    "print(proj_params)"
   ]
  },
  {
   "cell_type": "markdown",
   "id": "1609ef3a",
   "metadata": {},
   "source": [
    "### Create the SwathDefinition and make the `area_def`\n",
    "\n",
    "The SwathDefinition holds the original lat/lons, while the\n",
    "`area_def` holds the resampled grid, with its bounding box\n",
    "and the specification for the number of rows and columns,\n",
    "and the size of the resampled pixels."
   ]
  },
  {
   "cell_type": "code",
   "execution_count": null,
   "id": "038966a0",
   "metadata": {},
   "outputs": [],
   "source": [
    "swath_def = SwathDefinition(lon_1km, lat_1km)\n",
    "area_def = swath_def.compute_optimal_bb_area(proj_dict=proj_params)"
   ]
  },
  {
   "cell_type": "markdown",
   "id": "008ad69e",
   "metadata": {},
   "source": [
    "Here is the `area_def` we will be resampling into:"
   ]
  },
  {
   "cell_type": "code",
   "execution_count": null,
   "id": "80689f2b",
   "metadata": {},
   "outputs": [],
   "source": [
    "out = area_def.to_cartopy_crs()\n",
    "display(out);"
   ]
  },
  {
   "cell_type": "markdown",
   "id": "0f88ca74",
   "metadata": {},
   "source": [
    "### What is a `SwathDefinition`?"
   ]
  },
  {
   "cell_type": "code",
   "execution_count": null,
   "id": "59e72447",
   "metadata": {},
   "outputs": [],
   "source": [
    "print(type(swath_def))"
   ]
  },
  {
   "cell_type": "markdown",
   "id": "2efafa13",
   "metadata": {},
   "source": [
    "Man page for [SwathDefinition](https://pyresample.readthedocs.io/en/latest/geo_def.html#swathdefinition)"
   ]
  },
  {
   "cell_type": "code",
   "execution_count": null,
   "id": "5c858d1f",
   "metadata": {},
   "outputs": [],
   "source": [
    "print(dir(swath_def))"
   ]
  },
  {
   "cell_type": "code",
   "execution_count": null,
   "id": "6b538c68",
   "metadata": {},
   "outputs": [],
   "source": [
    "print(help(swath_def.compute_optimal_bb_area))"
   ]
  },
  {
   "cell_type": "markdown",
   "id": "8f93e86d",
   "metadata": {},
   "source": [
    "### What is an `AreaDefiniton`?"
   ]
  },
  {
   "cell_type": "code",
   "execution_count": null,
   "id": "ebcb390d",
   "metadata": {},
   "outputs": [],
   "source": [
    "print(type(area_def))"
   ]
  },
  {
   "cell_type": "markdown",
   "id": "5c1f2a50",
   "metadata": {},
   "source": [
    "Man page for [AreaDefinition](https://pyresample.readthedocs.io/en/latest/geo_def.html#areadefinition)"
   ]
  },
  {
   "cell_type": "code",
   "execution_count": null,
   "id": "4882293e",
   "metadata": {},
   "outputs": [],
   "source": [
    "print(dir(area_def))"
   ]
  },
  {
   "cell_type": "markdown",
   "id": "4a83c131",
   "metadata": {},
   "source": [
    "### Get the number of rows and columns in the regridded image\n",
    "\n",
    "Below we dump imformation about the `area_def` -- in particular `area_def.width, area_def.height, area_def.pixel_size_x, area_def.pixel_size_y`  Note that pyresample has increase the image size from the original 2040 x 1354 to the new 2244 x 2534.  This produces resampled pixels that are \"downscaled\" to higher resolution in the row direction, so that the new pixels are approximately square (1105 meters wide by 1088 meters high("
   ]
  },
  {
   "cell_type": "code",
   "execution_count": null,
   "id": "3c3abc3a",
   "metadata": {},
   "outputs": [],
   "source": [
    "print(f\"\\ndump area definition:\\n{area_def}\\n\")\n",
    "print(\n",
    "    (\n",
    "        f\"\\nx and y pixel dimensions in meters:\"\n",
    "        f\"\\n{area_def.pixel_size_x}\\n{area_def.pixel_size_y}\\n\"\n",
    "    )\n",
    ")"
   ]
  },
  {
   "cell_type": "markdown",
   "id": "ebb573e4",
   "metadata": {},
   "source": [
    "## resample ch30 on the `area_def` grid\n",
    "\n",
    "The `pyresample.kd_tree` samples data that is defined on the `swath_def` grid onto the new grid defined by the `area_def`.  It uses a [k-dimensional tree](https://en.wikipedia.org/wiki/K-d_tree) to organize the pixels so\n",
    "that a pixel's nearest neighbors can be rapidily found, and data from neighbors can be used to fill in any\n",
    "holes that appear when mapping to the new grid.  It uses a 5 km \"radius of influence\" to determine which pixels\n",
    "to use for hole filling."
   ]
  },
  {
   "cell_type": "code",
   "execution_count": null,
   "id": "3dc0bbc6",
   "metadata": {},
   "outputs": [],
   "source": [
    "fill_value = -9999.0\n",
    "area_name = \"modis swath 5min granule\"\n",
    "image_30 = kd_tree.resample_nearest(\n",
    "    swath_def,\n",
    "    ch30.ravel(),\n",
    "    area_def,\n",
    "    radius_of_influence=5000,\n",
    "    nprocs=2,\n",
    "    fill_value=fill_value,\n",
    ")"
   ]
  },
  {
   "cell_type": "markdown",
   "id": "0eeaa9a1",
   "metadata": {},
   "source": [
    "### What is `image_30`"
   ]
  },
  {
   "cell_type": "code",
   "execution_count": null,
   "id": "ceb6ee73",
   "metadata": {},
   "outputs": [],
   "source": [
    "print(type(image_30))\n",
    "print(image_30.shape)\n",
    "print(image_30.dtype)"
   ]
  },
  {
   "cell_type": "markdown",
   "id": "93df773e",
   "metadata": {},
   "source": [
    "### replace missing values = -9999. with floating point nan for mapping"
   ]
  },
  {
   "cell_type": "code",
   "execution_count": null,
   "id": "5329df01",
   "metadata": {},
   "outputs": [],
   "source": [
    "image_30[image_30 < -9000] = np.nan"
   ]
  },
  {
   "cell_type": "markdown",
   "id": "b453b47d",
   "metadata": {},
   "source": [
    "## Plot the image using cartopy\n",
    "\n",
    "### Create a palette\n",
    "\n",
    "We want to spread the colors over a limited range of values between 0.1 and 7 $W/m^2\\, \\mu m^{-1}\\,sr^{-1}$ so we\n",
    "will set over and under colors and normalize the data to this range"
   ]
  },
  {
   "cell_type": "code",
   "execution_count": null,
   "id": "aab2e977",
   "metadata": {},
   "outputs": [],
   "source": [
    "pal = plt.get_cmap(\"plasma\")\n",
    "pal.set_bad(\"0.75\")  # 75% grey for out-of-map cells\n",
    "pal.set_over(\"r\")  # color cells > vmax red\n",
    "pal.set_under(\"k\")  # color cells < vmin black\n",
    "vmin = 0.1  #anything under this is colored black\n",
    "vmax = 7.0  #anything over this is colored red\n",
    "from matplotlib.colors import Normalize\n",
    "\n",
    "the_norm = Normalize(vmin=vmin, vmax=vmax, clip=False)"
   ]
  },
  {
   "cell_type": "markdown",
   "id": "ccd3b329",
   "metadata": {},
   "source": [
    "### use the palette on the image_30 array"
   ]
  },
  {
   "cell_type": "code",
   "execution_count": null,
   "id": "476db9e5",
   "metadata": {},
   "outputs": [],
   "source": [
    "crs = area_def.to_cartopy_crs()\n",
    "fig, ax = plt.subplots(1, 1, figsize=(10, 10), subplot_kw={\"projection\": crs})\n",
    "ax.gridlines(linewidth=2)\n",
    "ax.add_feature(cartopy.feature.GSHHSFeature(scale=\"coarse\", levels=[1, 2, 3]))\n",
    "ax.set_extent(crs.bounds, crs)\n",
    "cs = ax.imshow(\n",
    "    image_30,\n",
    "    transform=crs,\n",
    "    extent=crs.bounds,\n",
    "    origin=\"upper\",\n",
    "    alpha=0.8,\n",
    "    cmap=pal,\n",
    "    norm=the_norm,\n",
    ")\n",
    "fig.colorbar(cs, extend=\"both\");"
   ]
  },
  {
   "cell_type": "markdown",
   "id": "78b0ff28",
   "metadata": {},
   "source": [
    "## write out all the projection information as a json file\n",
    "\n",
    "Make a new folder to hold the metadata and the npz file with the the resampled image."
   ]
  },
  {
   "cell_type": "code",
   "execution_count": null,
   "id": "2f2cf4cb",
   "metadata": {},
   "outputs": [],
   "source": [
    "do_write = True\n",
    "if do_write:\n",
    "    out_dict = {}\n",
    "    hdf_file = ch30_file_name\n",
    "    geom_file = geom_file_name\n",
    "    out_dict[\"extent\"] = crs.bounds\n",
    "    globe = projection.globe.to_proj4_params()\n",
    "    out_dict[\"globe\"] = dict(globe)\n",
    "    out_dict[\"area_def\"] = proj_params\n",
    "    out_dict[\"field_name\"] = \"ch30\"\n",
    "    out_dict[\"units\"] = \"W/m^2/sr/micron\"\n",
    "    out_dict[\"variable_description\"] = \"channel 30 radiance\"\n",
    "    out_dict[\"x_size\"] = area_def.x_size\n",
    "    out_dict[\"y_size\"] = area_def.y_size\n",
    "    out_dir_name = \"ch30_resample\"\n",
    "    out_dict[\"out_dir\"] = out_dir_name\n",
    "    out_dir = a301_lib.data_share / \"pha/ch30_resample\"\n",
    "    out_dir.mkdir(parents=True, exist_ok=True)\n",
    "    image_name = out_dir / Path(f\"{out_dir_name}.npz\")\n",
    "    json_name = out_dir / Path(f\"{out_dir_name}.json\")\n",
    "    np.savez(image_name, ch30_resample=image_30)\n",
    "    with open(json_name, \"w\") as f:\n",
    "        json.dump(out_dict, f, indent=4)"
   ]
  }
 ],
 "metadata": {
  "jupytext": {
   "cell_metadata_filter": "all",
   "notebook_metadata_filter": "all,-language_info,-toc,-latex_envs",
   "text_representation": {
    "extension": ".md",
    "format_name": "myst",
    "format_version": 0.13,
    "jupytext_version": "1.14.5"
   }
  },
  "kernelspec": {
   "display_name": "Python 3 (ipykernel)",
   "language": "python",
   "name": "python3"
  },
  "source_map": [
   17,
   40,
   60,
   66,
   73,
   80,
   86,
   92,
   96,
   102,
   106,
   110,
   119,
   150,
   154,
   159,
   165,
   171,
   175,
   179,
   183,
   187,
   191,
   195,
   200,
   209,
   214,
   218,
   223,
   227,
   231,
   235,
   241,
   245,
   249,
   253,
   257,
   261,
   267,
   277,
   286,
   299,
   303,
   309,
   313,
   317,
   326,
   338,
   342,
   360,
   366
  ],
  "toc-autonumbering": true,
  "toc-showmarkdowntxt": false,
  "toc-showtags": true
 },
 "nbformat": 4,
 "nbformat_minor": 5
}