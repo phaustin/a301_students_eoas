{
 "cells": [
  {
   "cell_type": "markdown",
   "id": "c84ca6af",
   "metadata": {},
   "source": [
    "(week5:longwave_resample)=\n",
    "# Resampling channel 31\n",
    "\n",
    "This notebook shows how to resample the 1 km MYD02 channel 31 radiance onto the 5 km `area_def`\n",
    "that we created in the `wv_resample.md` notebook.  Reuses code from `cartopy_resample_ch30.md`"
   ]
  },
  {
   "cell_type": "markdown",
   "id": "a24697c1",
   "metadata": {},
   "source": [
    "Thi notebook resamples the 5 km water vapor datasets onto a 5km area_def. Note how I adapted code from \n",
    "week5/cartopy_resample_ch30.md"
   ]
  },
  {
   "cell_type": "code",
   "execution_count": null,
   "id": "e5e559f4",
   "metadata": {},
   "outputs": [],
   "source": [
    "import warnings\n",
    "\n",
    "from matplotlib import pyplot as plt\n",
    "import numpy as np\n",
    "import json\n",
    "import cartopy.crs as ccrs\n",
    "import cartopy\n",
    "from pyresample import kd_tree, SwathDefinition\n",
    "import pprint\n",
    "pp = pprint.PrettyPrinter(indent=4)\n",
    "\n",
    "from sat_lib.modischan_read import sd_open_file, read_plainvar, readband_lw\n",
    "#\n",
    "# new function for week 5\n",
    "#\n",
    "from sat_lib.mapping import area_def_from_dict\n",
    "import a301_lib\n",
    "\n",
    "warnings.filterwarnings('ignore')\n",
    "hdf4_dir = a301_lib.sat_data / \"pha\"\n",
    "geom_file = list(hdf4_dir.glob(\"MYD03*2105*hdf\"))[0]\n",
    "print(geom_file)\n",
    "radiance_file = list(hdf4_dir.glob(\"MYD02*2105*hdf\"))[0]\n",
    "print(radiance_file)"
   ]
  },
  {
   "cell_type": "markdown",
   "id": "c5f6171d",
   "metadata": {},
   "source": [
    "## Get the 1 km lats and lons"
   ]
  },
  {
   "cell_type": "code",
   "execution_count": null,
   "id": "9f59bbf8",
   "metadata": {},
   "outputs": [],
   "source": [
    "lat_1km = read_plainvar(geom_file,'Latitude')\n",
    "lon_1km = read_plainvar(geom_file,'Longitude')\n",
    "print(f\"{lat_1km.shape=},{lon_1km.shape=}\")"
   ]
  },
  {
   "cell_type": "markdown",
   "id": "33a3088f",
   "metadata": {},
   "source": [
    "## Get the channel 31 calibrated radiances\n",
    "\n",
    "plot a histogram to make sure they are reasonable"
   ]
  },
  {
   "cell_type": "code",
   "execution_count": null,
   "id": "bf47fd29",
   "metadata": {},
   "outputs": [],
   "source": [
    "ch31 = readband_lw(radiance_file,31)\n",
    "ch31.shape"
   ]
  },
  {
   "cell_type": "code",
   "execution_count": null,
   "id": "7b3ca6f0",
   "metadata": {},
   "outputs": [],
   "source": [
    "fig, ax = plt.subplots(1,1)\n",
    "ax.hist(ch31.flat[:5000]);"
   ]
  },
  {
   "cell_type": "markdown",
   "id": "68b90f13",
   "metadata": {},
   "source": [
    "## Read in the `area_def` from the 5 km water vapor ir image"
   ]
  },
  {
   "cell_type": "code",
   "execution_count": null,
   "id": "421524e5",
   "metadata": {},
   "outputs": [],
   "source": [
    "areafile = a301_lib.data_share / \"pha/area_dict.json\"\n",
    "with open(areafile,\"r\") as infile:\n",
    "    area_dict = json.load(infile)\n",
    "    \n",
    "area_def = area_def_from_dict(area_dict)\n",
    "pp.pprint(area_dict)"
   ]
  },
  {
   "cell_type": "markdown",
   "id": "b390fe41",
   "metadata": {},
   "source": [
    "## Create the `swath_def` from the 1 km lons and lats"
   ]
  },
  {
   "cell_type": "code",
   "execution_count": null,
   "id": "8c5154ac",
   "metadata": {},
   "outputs": [],
   "source": [
    "swath_def = SwathDefinition(lon_1km, lat_1km)"
   ]
  },
  {
   "cell_type": "markdown",
   "id": "946ef8f9",
   "metadata": {},
   "source": [
    "## Now resample using the swath_def onto the 5 km area def"
   ]
  },
  {
   "cell_type": "code",
   "execution_count": null,
   "id": "f9c34a07",
   "metadata": {},
   "outputs": [],
   "source": [
    "fill_value = -9999.0\n",
    "area_name = \"channel 31 5 km resample\"\n",
    "image_31 = kd_tree.resample_nearest(\n",
    "    swath_def,\n",
    "    ch31.ravel(),\n",
    "    area_def,\n",
    "    radius_of_influence=5000,\n",
    "    nprocs=2,\n",
    "    fill_value=fill_value,\n",
    ")\n",
    "image_31[image_31 == -9999.0] = np.nan\n",
    "print(f\"resampled image shape: {image_31.shape}\")"
   ]
  },
  {
   "cell_type": "markdown",
   "id": "60dd1f41",
   "metadata": {},
   "source": [
    "## make a plot"
   ]
  },
  {
   "cell_type": "code",
   "execution_count": null,
   "id": "f7af30fe",
   "metadata": {},
   "outputs": [],
   "source": [
    "pal = plt.get_cmap(\"plasma\")\n",
    "pal.set_bad(\"0.6\")  # 75% grey for out-of-map cells\n",
    "pal.set_over(\"r\")  # color cells > vmax red\n",
    "pal.set_under(\"k\")  # color cells < vmin black\n",
    "vmin = 1  #anything under this is colored black\n",
    "vmax = 14  #anything over this is colored red\n",
    "from matplotlib.colors import Normalize\n",
    "the_norm = Normalize(vmin=vmin, vmax=vmax, clip=False)"
   ]
  },
  {
   "cell_type": "code",
   "execution_count": null,
   "id": "bd6cda14",
   "metadata": {},
   "outputs": [],
   "source": [
    "crs = area_def.to_cartopy_crs()\n",
    "fig, ax = plt.subplots(1, 1, figsize=(10, 10), subplot_kw={\"projection\": crs})\n",
    "ax.gridlines(linewidth=2)\n",
    "ax.add_feature(cartopy.feature.GSHHSFeature(scale=\"coarse\", levels=[1, 2, 3]))\n",
    "ax.set_extent(crs.bounds, crs)\n",
    "cs = ax.imshow(\n",
    "    image_31,\n",
    "    transform=crs,\n",
    "    extent=crs.bounds,\n",
    "    origin=\"upper\",\n",
    "    alpha=0.8,\n",
    "    cmap=pal,\n",
    "    norm=the_norm,\n",
    ")\n",
    "ax.set(title=\"modis channel 31 radiance (W/m^2/um/sr) 5km resolution for 2013.222.2105\")\n",
    "fig.colorbar(cs, extend=\"both\");\n",
    "outfile = a301_lib.data_share / \"pha/ch31_resampled.png\"\n",
    "fig.savefig(outfile)"
   ]
  },
  {
   "cell_type": "markdown",
   "id": "19353206",
   "metadata": {},
   "source": [
    "## For Assignment 3b by Friday"
   ]
  },
  {
   "cell_type": "markdown",
   "id": "f43aced1",
   "metadata": {},
   "source": [
    "1) In the cells below, get channel 32 and resample to the same area_def as channel 31\n",
    "2) Get the brightness temperature for both of the resampled images and the brightness tempereature difference \n",
    "   for ch32 - ch31\n",
    "3) Read in the wv_ir image you get by running the wv_resample notebook, and make a scatter plot of\n",
    "   ch32 - ch31 brightness temperature (in K) on the y axis and the column water vapor in cm on the x axis.  Note that\n",
    "   you will need to mask the brightness temperature pixels so that only pixels which also have column water vapor are\n",
    "   plotted\n",
    "4) comment on the correlation you see, if any"
   ]
  }
 ],
 "metadata": {
  "jupytext": {
   "cell_metadata_filter": "all",
   "notebook_metadata_filter": "all,-language_info,-toc,-latex_envs",
   "text_representation": {
    "extension": ".md",
    "format_name": "myst",
    "format_version": 0.13,
    "jupytext_version": "1.14.4"
   }
  },
  "kernelspec": {
   "display_name": "Python 3 (ipykernel)",
   "language": "python",
   "name": "python3"
  },
  "source_map": [
   17,
   25,
   30,
   57,
   61,
   67,
   73,
   80,
   85,
   89,
   98,
   102,
   106,
   110,
   125,
   129,
   142,
   163,
   167
  ],
  "toc-autonumbering": true,
  "toc-showmarkdowntxt": false,
  "toc-showtags": true
 },
 "nbformat": 4,
 "nbformat_minor": 5
}