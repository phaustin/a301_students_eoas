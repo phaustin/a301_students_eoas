{
 "cells": [
  {
   "cell_type": "markdown",
   "id": "efc64e2a",
   "metadata": {
    "user_expressions": []
   },
   "source": [
    "(week11:false_color_examples)=\n",
    "# Landsat 8 false color examples\n",
    "\n",
    "In the {ref}`week10:false_color` notebook we showed how to make a false color composite with Landsat 8 bands 5, 4, 3 mapped to \n",
    "red, blue and green (color infrared)\n",
    "\n",
    "In this notebook we move that code into a function called `make_false_color`, and show a Vancouver scene with some different band combinations"
   ]
  },
  {
   "cell_type": "code",
   "execution_count": null,
   "id": "5be5ef30",
   "metadata": {},
   "outputs": [],
   "source": [
    "import a301_lib\n",
    "import xarray\n",
    "import rioxarray\n",
    "from matplotlib import pyplot as plt\n",
    "import numpy as np\n",
    "import seaborn as sns\n",
    "from skimage import exposure, img_as_ubyte\n",
    "from IPython.display import Image\n",
    "from sat_lib.landsat_read import get_landsat_dataset\n",
    "from sat_lib.false_color import make_false_color"
   ]
  },
  {
   "cell_type": "code",
   "execution_count": null,
   "id": "d3b370d4",
   "metadata": {},
   "outputs": [],
   "source": [
    "help(make_false_color)"
   ]
  },
  {
   "cell_type": "markdown",
   "id": "89d46ca3",
   "metadata": {
    "user_expressions": []
   },
   "source": [
    "## Understanding Landsat band location\n",
    "\n",
    "The figure below shows average reflectances for various surface types. Compare some of thse\n",
    "reflectance values with the landsat band locations in microns\n",
    "\n",
    "1) coastal aerosol: 0.44, 2)  blue: 0.47, 3) green: 0.55, 4) red:  0.65, 5) near-ir:  0.86, 6) swir1  1.6, 7) swir2: 2.2"
   ]
  },
  {
   "cell_type": "markdown",
   "id": "d92f2a8c",
   "metadata": {
    "user_expressions": []
   },
   "source": [
    "```{figure} figures/hou_reflectance.png\n",
    ":name: fig:reflectance_spectra\n",
    ":width: 80%\n",
    "\n",
    "Reflectance spectra\n",
    "```"
   ]
  },
  {
   "cell_type": "markdown",
   "id": "4b5f7eab",
   "metadata": {
    "user_expressions": []
   },
   "source": [
    "## Landsat bands by surface type"
   ]
  },
  {
   "cell_type": "markdown",
   "id": "2a980bed",
   "metadata": {
    "user_expressions": []
   },
   "source": [
    "```{figure} figures/landsat8_bands.png\n",
    ":name: landsat_8_bands![landsat8_bands.png](attachment:9454ecea-8cba-488a-87ec-110fb2b5d57f.png)\n",
    ":width: 80%\n",
    "\n",
    "Landsat 8 band wavelengths\n",
    "```"
   ]
  },
  {
   "cell_type": "markdown",
   "id": "f29fd1c3",
   "metadata": {
    "user_expressions": []
   },
   "source": [
    "## Landsat false color combinations"
   ]
  },
  {
   "cell_type": "markdown",
   "id": "0bfd7605",
   "metadata": {
    "user_expressions": []
   },
   "source": [
    "```{figure} figures/arc_gis_bands.png\n",
    ":width: 80%\n",
    ":name: landsat_8_bands\n",
    "\n",
    "\n",
    "```"
   ]
  },
  {
   "cell_type": "markdown",
   "id": "48010661",
   "metadata": {
    "user_expressions": []
   },
   "source": [
    "## Show some of these below"
   ]
  },
  {
   "cell_type": "code",
   "execution_count": null,
   "id": "931485bc",
   "metadata": {
    "user_expressions": []
   },
   "outputs": [],
   "source": [
    "write_it = False\n",
    "file_path = a301_lib.data_share / \"pha/landsat\"\n",
    "infile = file_path / \"vancouver_6bands.nc\"\n",
    "if write_it:\n",
    "    \n",
    "    import os\n",
    "    os.environ[\"GDAL_HTTP_COOKIEFILE\"] = \"./cookies.txt\"\n",
    "    os.environ[\"GDAL_HTTP_COOKIEJAR\"] = \"./cookies.txt\"\n",
    "\n",
    "\n",
    "    date = \"2015-06-14\"\n",
    "    lon, lat  = -123.2460, 49.2606\n",
    "    do_write = True\n",
    "    if do_write:\n",
    "        from rasterio.windows import Window\n",
    "        the_window = Window(col_off=2637, row_off=951, width=400, height=600)\n",
    "        six_bands = get_landsat_dataset(date, lon, lat, the_window, bands=['B02','B03','B04','B05','B06','B07']) \n",
    "    six_bands.to_netcdf(infile, mode= 'w')"
   ]
  },
  {
   "cell_type": "code",
   "execution_count": null,
   "id": "274d0673",
   "metadata": {},
   "outputs": [],
   "source": [
    "if not write_it:\n",
    "    six_bands = rioxarray.open_rasterio(infile, mask_and_scale=True)\n",
    "six_bands"
   ]
  },
  {
   "cell_type": "markdown",
   "id": "83882c42",
   "metadata": {
    "user_expressions": []
   },
   "source": [
    "Here is the code that fetched the original dataset from NASA"
   ]
  },
  {
   "cell_type": "markdown",
   "id": "68a38804",
   "metadata": {
    "user_expressions": []
   },
   "source": [
    "## True color (red, green, blue)"
   ]
  },
  {
   "cell_type": "code",
   "execution_count": null,
   "id": "6521d0ca",
   "metadata": {},
   "outputs": [],
   "source": [
    "true_color = make_false_color(six_bands, band_names=[\"B04\",\"B03\",\"B02\"])\n",
    "fig1, ax1 = plt.subplots(1,1,figsize=(6,9))\n",
    "true_color.plot.imshow(ax=ax1);\n",
    "ax1.set(title=\"True color 432\");"
   ]
  },
  {
   "cell_type": "markdown",
   "id": "56838094",
   "metadata": {
    "user_expressions": []
   },
   "source": [
    "## Color infrared: near-ir, red, green\n",
    "\n",
    "Add the 5-4 red edge for vegetation, plus green (also vegetation). See [band543 detail](https://eos.com/make-an-analysis/color-infrared/)"
   ]
  },
  {
   "cell_type": "code",
   "execution_count": null,
   "id": "a33f2617",
   "metadata": {},
   "outputs": [],
   "source": [
    "color_ir = make_false_color(six_bands, band_names=[\"B05\",\"B04\",\"B03\"])\n",
    "fig2, ax2 = plt.subplots(1,1,figsize=(6,9))\n",
    "color_ir.plot.imshow(ax=ax2);\n",
    "ax2.set(title=\"color ir 543\");"
   ]
  },
  {
   "cell_type": "markdown",
   "id": "18782518",
   "metadata": {
    "user_expressions": []
   },
   "source": [
    "## Vegetation swir-1, near-ir, red\n",
    "\n",
    "Add swir-1 for moisture content, keep the 5-4 red edge. Less contrast for turbid/fresh water.  See [band654 detail](https://eos.com/make-an-analysis/vegetation-analysis/)"
   ]
  },
  {
   "cell_type": "code",
   "execution_count": null,
   "id": "66cc5c3e",
   "metadata": {},
   "outputs": [],
   "source": [
    "veg_ir = make_false_color(six_bands, band_names=[\"B06\",\"B05\",\"B04\"])\n",
    "fig3, ax3 = plt.subplots(1,1,figsize=(6,9))\n",
    "veg_ir.plot.imshow(ax=ax3);\n",
    "ax3.set(title=\"veg ir 654\");"
   ]
  },
  {
   "cell_type": "markdown",
   "id": "b8e3ede5",
   "metadata": {
    "user_expressions": []
   },
   "source": [
    "## Agriculture swir-1, near-ir, blue\n",
    "\n",
    "Swap out red for blue.  See [band652 detail](https://eos.com/make-an-analysis/agriculture-band/)"
   ]
  },
  {
   "cell_type": "code",
   "execution_count": null,
   "id": "419b3818",
   "metadata": {},
   "outputs": [],
   "source": [
    "agri = make_false_color(six_bands, band_names=[\"B06\",\"B05\",\"B02\"])\n",
    "fig4, ax4 = plt.subplots(1,1,figsize=(6,9))\n",
    "agri.plot.imshow(ax=ax4);\n",
    "ax4.set(title=\"Agri 652\");"
   ]
  },
  {
   "cell_type": "markdown",
   "id": "a25a7baa",
   "metadata": {
    "user_expressions": []
   },
   "source": [
    "## Urban swir-2, swir-1, red\n",
    "\n",
    "concreate and bare soil have approximately constant reflectivities between 1.6 and 2.2 microns,\n",
    "while vegetation reflects more in swir-1 than swir-2.  This combination distinguishes between\n",
    "types of urban development.  Less contrast for turbid/fresh water.  See: [band764 detail](https://eos.com/make-an-analysis/shortwave-infrared/)"
   ]
  },
  {
   "cell_type": "code",
   "execution_count": null,
   "id": "1e5670ae",
   "metadata": {},
   "outputs": [],
   "source": [
    "urban = make_false_color(six_bands, band_names=[\"B07\",\"B06\",\"B04\"])\n",
    "fig5, ax5 = plt.subplots(1,1,figsize=(6,9))\n",
    "urban.plot.imshow(ax=ax5);\n",
    "ax5.set(title=\"Urban 764\");"
   ]
  }
 ],
 "metadata": {
  "jupytext": {
   "notebook_metadata_filter": "all,-language_info,-toc,-latex_envs",
   "text_representation": {
    "extension": ".md",
    "format_name": "myst",
    "format_version": 0.13,
    "jupytext_version": "1.14.5"
   }
  },
  "kernelspec": {
   "display_name": "Python 3 (ipykernel)",
   "language": "python",
   "name": "python3"
  },
  "source_map": [
   15,
   25,
   38,
   42,
   51,
   60,
   64,
   73,
   77,
   86,
   90,
   113,
   119,
   123,
   127,
   134,
   140,
   147,
   153,
   160,
   166,
   173,
   181
  ]
 },
 "nbformat": 4,
 "nbformat_minor": 5
}