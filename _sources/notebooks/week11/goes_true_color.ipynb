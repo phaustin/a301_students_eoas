{
 "cells": [
  {
   "cell_type": "markdown",
   "id": "814e3fe9",
   "metadata": {
    "user_expressions": []
   },
   "source": [
    "(week11:goes_true_color)=\n",
    "# GOES-16: True Color Images from GOES ABI\n",
    "\n",
    "## Introduction\n",
    "\n",
    "This is a modified version of [Brian Blaylock's](http://home.chpc.utah.edu/~u0553130/Brian_Blaylock/home.html)\n",
    "[UCAR python gallery](https://unidata.github.io/python-gallery/examples/mapping_GOES16_TrueColor.html) notebook. \n",
    "Blaylock is the author of the GOES download package [goes2go](https://goes2go.readthedocs.io/en/latest/) used below.\n",
    "I've made some changes to the notebook to expand the explanations and to port to rioxarray.\n",
    "\n",
    "The notebook shows how to make a true color image from the GOES-16\n",
    "Advanced Baseline Imager (ABI) level 2 data. We will plot the image with\n",
    "matplotlib and Cartopy. The image can be displayed on any map projection after\n",
    "applying a transformation.\n",
    "\n",
    "Some background:  Take a look at the 16 channels described on page 230 of [Stull Chapter 8](https://www.eoas.ubc.ca/books/Practical_Meteorology/prmet102/Ch08-satellite_radar-v102b.pdf).  Note that\n",
    "unlike Modis or Landsat OLI, the ABI doesn't have a visible channel at green wavelengths, substituting\n",
    "the near-ir 0.846--0.885  $\\mu m$ wavelength range for green.  Since that channel is very responsive to\n",
    "plant chlorophyll it's possible to still  use that as part of a proxy for green as shown below.  As of this\n",
    "January, GOES 18 is now GOES West, and GOES 16 is GOES East, with GOES 17 moved into a parking position.\n",
    "For more background on GOES, see [NOAA's beginner guide to GOES](https://www.goes-r.gov/downloads/resources/documents/Beginners_Guide_to_GOES-R_Series_Data.pdf).  \n",
    "\n",
    "We will be using the [Advanced Baseline Imager Level 2 Cloud and Moisture Product](https://www.ncei.noaa.gov/access/metadata/landing-page/bin/iso?id=gov.noaa.ncdc:C01502) from the [Amazon AWS GOES repository](https://registry.opendata.aws/noaa-goes/).  The\n",
    "full list of available GOES products on AWS is [here](https://github.com/awslabs/open-data-docs/tree/main/docs/noaa/noaa-goes16).\n",
    "\n",
    "The file we'll download is the \"Cloud Moisture Imagery\" dataset -- abbreviated `ABI-L2-MCMIPC`\n",
    "which expands to \"Advanced Baseline Imager level 2 Cloud Moisture Imagery Product for the\n",
    "Continental US\".  It's  about 68 Mbytes, compared to the full disk file (`ABI-L2-MCMIPC`) which\n",
    "is about 305 Mbytes.  A folder called `~/data` will be created to hold the download."
   ]
  },
  {
   "cell_type": "markdown",
   "id": "f7b357a7",
   "metadata": {
    "user_expressions": []
   },
   "source": [
    "## Relationship to previous notebooks\n",
    "\n",
    "* For a review of working with mapping using the cartopy crs and an image: \n",
    "  - {ref}`week7:geotiff_xarray`\n",
    "  - {ref}`week9:test_dataset`\n",
    "  \n",
    "* For a review of using an indexer and xarray.isel to clip a dataset to a coordinate\n",
    "\n",
    "  - {ref}`week10:radar_micro`\n",
    "  \n",
    "* For a review of false color and image stacking\n",
    "\n",
    "  - {ref}`week10:false_color`"
   ]
  },
  {
   "cell_type": "markdown",
   "id": "2de17611",
   "metadata": {
    "user_expressions": []
   },
   "source": [
    "## Channels and workflow"
   ]
  },
  {
   "cell_type": "markdown",
   "id": "1802c15b",
   "metadata": {
    "user_expressions": []
   },
   "source": [
    "These are the channels that contribute to the true-color composite:\n",
    "\n",
    "\n",
    "|        --| Wavelength   | Channel | Description |\n",
    "|----------|:------------:|:-------:|:-----------:|\n",
    "| **Red**  | 0.64 &#181;m |    2    | Red Visible |\n",
    "| **Green**| 0.86 &#181;m |    3    | Veggie Near-IR|\n",
    "| **Blue** | 0.47 &#181;m |    1    | Blue Visible|\n",
    "\n",
    "\n",
    "The workflow for the notebook:\n",
    "\n",
    "0) Download a scene using [goes2go](https://goes2go.readthedocs.io/en/latest/)\n",
    "\n",
    "1) Read the metadata and channels into xarray datasets using xarray and rioxarray\n",
    "\n",
    "2) Create a cartopy crs for the scene using the crs and extent of the image\n",
    "\n",
    "3) Produce a weighted \"pseudo-green\" image using a weighted combination of the 3 bands\n",
    "\n",
    "4) Clip the band values to 0-1 and apply a \"gamma correction\" (an alternative to histogram equalization, we used\n",
    "in {ref}`week10:false_color`)\n",
    "\n",
    "5) Stack the 3 bands in rgb order using [numpy depth stacking](https://numpy.org/doc/stable/reference/generated/numpy.dstack.html)\n",
    "\n",
    "6) Plot the mapped image using cartopy\n",
    "\n",
    "7) Zoom the image by changing the axis extent"
   ]
  },
  {
   "cell_type": "code",
   "execution_count": null,
   "id": "c684bebc",
   "metadata": {},
   "outputs": [],
   "source": [
    "from goes2go.data import goes_nearesttime\n",
    "import rioxarray\n",
    "import xarray\n",
    "import a301_lib\n",
    "from datetime import datetime, timedelta\n",
    "from pathlib import Path\n",
    "import cartopy\n",
    "from pyresample.utils.cartopy import Projection\n",
    "import numpy as np\n",
    "\n",
    "import matplotlib.pyplot as plt\n",
    "import cartopy.crs as ccrs\n",
    "import cartopy.feature as cfeature\n",
    "from pathlib import Path"
   ]
  },
  {
   "cell_type": "markdown",
   "id": "00a57f22",
   "metadata": {
    "user_expressions": []
   },
   "source": [
    "## Read in the data\n",
    "\n",
    "We're going to need to read the data twice -- once with `xarray.open_dataset` to get all the channel wavelengths\n",
    "and once with `rioxarray.open_rasterio` to get the crs and transform.  The bands are labeled `CMI_C01`, `CMI_C02` etc.\n",
    "Each band has data quality flag file `DQF_C01`, `DQF_C02` etc."
   ]
  },
  {
   "cell_type": "code",
   "execution_count": null,
   "id": "49377040",
   "metadata": {},
   "outputs": [],
   "source": [
    "g = goes_nearesttime(\n",
    "    datetime(2020, 6, 25, 18), satellite=\"goes16\",product=\"ABI-L2-MCMIP\", domain='C', \n",
    "      return_as=\"xarray\"\n",
    ")"
   ]
  },
  {
   "cell_type": "markdown",
   "id": "926eda1c",
   "metadata": {
    "user_expressions": []
   },
   "source": [
    "By default the files are written into a folder called `~/data`"
   ]
  },
  {
   "cell_type": "code",
   "execution_count": null,
   "id": "5ab59013",
   "metadata": {},
   "outputs": [],
   "source": [
    "full_path = Path.home() / \"data\" / g.path[0]\n",
    "full_path"
   ]
  },
  {
   "cell_type": "markdown",
   "id": "58dcc060",
   "metadata": {
    "user_expressions": []
   },
   "source": [
    "This example uses the **level 2 _multiband_ formatted file for the continental US (C)\n",
    "domain** \n",
    "\n",
    "Here's the naming scheme for files\n",
    "\n",
    "    OR_ABI-L2-MCMIPC-M3_G16_s20181781922189_e20181781924562_c20181781925075.nc\n",
    "\n",
    "    OR     - Indicates the system is operational  \n",
    "    ABI    - Instrument type  \n",
    "    L2     - Level 2 Data  \n",
    "    MCMIP  - Multichannel Cloud and Moisture Imagery products  \n",
    "    C     - CONUS file (created every 5 minutes) or F (full disk)\n",
    "    M3     - Scan mode  \n",
    "    G16    - GOES-16  \n",
    "    s##### - Scan start: 4 digit year, 3 digit day of year (Julian day), hour, minute, second, tenth second  \n",
    "    e##### - Scan end  \n",
    "    c##### - File Creation  \n",
    "    .nc    - NetCDF file extension"
   ]
  },
  {
   "cell_type": "markdown",
   "id": "7ffdb8f8",
   "metadata": {
    "user_expressions": []
   },
   "source": [
    "Note that goesC has the `rio` has the `goes_imager_projection` variable, while\n",
    "`goesC` has many more variables.\n",
    "\n",
    "Open both rio and dataset verisons of the file"
   ]
  },
  {
   "cell_type": "code",
   "execution_count": null,
   "id": "60ac4e65",
   "metadata": {},
   "outputs": [],
   "source": [
    "goesC = xarray.open_dataset(full_path,mode = 'r',mask_and_scale = True)\n",
    "rioC = rioxarray.open_rasterio(full_path,'r',mask_and_scale = True)\n",
    "goesC = goesC.squeeze()\n",
    "rioC = rioC.squeeze()\n",
    "rioC"
   ]
  },
  {
   "cell_type": "code",
   "execution_count": null,
   "id": "7f9ac5eb",
   "metadata": {},
   "outputs": [],
   "source": [
    "goesC"
   ]
  },
  {
   "cell_type": "markdown",
   "id": "c386c339",
   "metadata": {
    "user_expressions": []
   },
   "source": [
    "### data crs\n",
    "\n",
    "This is the \"Geostationary Satellite\" projection, centered over the central US (where GOES 16 is stationed) at a longitude of -75 degrees"
   ]
  },
  {
   "cell_type": "code",
   "execution_count": null,
   "id": "2647ef76",
   "metadata": {},
   "outputs": [],
   "source": [
    "rioC.rio.crs"
   ]
  },
  {
   "cell_type": "code",
   "execution_count": null,
   "id": "d7a28136",
   "metadata": {},
   "outputs": [],
   "source": [
    "rioC['CMI_C01'].shape"
   ]
  },
  {
   "cell_type": "markdown",
   "id": "f909819e",
   "metadata": {
    "user_expressions": []
   },
   "source": [
    "## Get the extent and the crs, and create a cartopy crs\n",
    "\n",
    "The data projection is"
   ]
  },
  {
   "cell_type": "code",
   "execution_count": null,
   "id": "f67390bf",
   "metadata": {},
   "outputs": [],
   "source": [
    "ll_x, ll_y, ur_x, ur_y = rioC.rio.bounds()\n",
    "original_extent = (ll_x,ur_x, ll_y, ur_y)"
   ]
  },
  {
   "cell_type": "code",
   "execution_count": null,
   "id": "6e40014b",
   "metadata": {},
   "outputs": [],
   "source": [
    "cartopy_crs = Projection(rioC.rio.crs, bounds=original_extent)\n",
    "cartopy_crs"
   ]
  },
  {
   "cell_type": "code",
   "execution_count": null,
   "id": "ef9fba53",
   "metadata": {},
   "outputs": [],
   "source": [
    "cartopy_crs.bounds"
   ]
  },
  {
   "cell_type": "code",
   "execution_count": null,
   "id": "94f4f70c",
   "metadata": {},
   "outputs": [],
   "source": [
    "goesC.time_coverage_start"
   ]
  },
  {
   "cell_type": "markdown",
   "id": "92a16e62",
   "metadata": {
    "user_expressions": []
   },
   "source": [
    "## Get Date and Time Information\n",
    "\n",
    "Each file represents the data collected during one scan sequence for the\n",
    "domain. There are several different time stamps in this file, which are also\n",
    "found in the file's name."
   ]
  },
  {
   "cell_type": "code",
   "execution_count": null,
   "id": "26a6d469",
   "metadata": {},
   "outputs": [],
   "source": []
  },
  {
   "cell_type": "code",
   "execution_count": null,
   "id": "fefe866f",
   "metadata": {},
   "outputs": [],
   "source": [
    "# Scan's start time, converted to datetime object\n",
    "scan_start = datetime.strptime(goesC.time_coverage_start, \"%Y-%m-%dT%H:%M:%S.%fZ\")\n",
    "\n",
    "# Scan's end time, converted to datetime object\n",
    "scan_end = datetime.strptime(goesC.time_coverage_end, \"%Y-%m-%dT%H:%M:%S.%fZ\")\n",
    "\n",
    "# File creation time, convert to datetime object\n",
    "file_created = datetime.strptime(goesC.date_created, \"%Y-%m-%dT%H:%M:%S.%fZ\")\n",
    "#\n",
    "# arithmetic on datetime objects\n",
    "#\n",
    "duration = (scan_end - scan_start).seconds / 60\n",
    "midpoint = scan_start + timedelta(minutes = duration/2.)"
   ]
  },
  {
   "cell_type": "code",
   "execution_count": null,
   "id": "d822ba79",
   "metadata": {},
   "outputs": [],
   "source": [
    "print(f\"Scan Start    : {scan_start}\")\n",
    "print(f\"Scan End      : {scan_end}\")\n",
    "print(f\"File Created  :  {file_created}\")\n",
    "print(f\"Scan midpoint :  {midpoint}\")"
   ]
  },
  {
   "cell_type": "markdown",
   "id": "a501bf5f",
   "metadata": {
    "user_expressions": []
   },
   "source": [
    "## True Color Recipe\n",
    "\n",
    "### Gamma correction\n",
    "\n",
    "Color images are a Red-Green-Blue (RGB) composite of three different\n",
    "channels. We will assign the following channels as our RGB values:\n",
    "\n",
    "\n",
    "RGB values must be between 0 and 1, same as the range of values of the\n",
    "reflectance channels. A gamma correction is applied to control the brightness\n",
    "and make the image not look too dark, where for input and output values brightness values\n",
    "V the gamma correction is:\n",
    "\n",
    "$$\n",
    "V_{out} = V_{in}^{1/\\gamma}\n",
    "$$ (eq:gamma)\n",
    "\n",
    "This correction will enhance the distance between smaller values ov $V_{in}$ (i.e. more levels for darker colors)\n",
    "\n",
    "To see why this is, suppose $\\gamma = 2$, so $1/\\gamma$=0.5.  Take the derivative of {eq}`eq:gamma`:\n",
    "\n",
    "$$\n",
    "\\frac{dV_{out}}{dV_{in}} = \\frac{1}{\\gamma V_{in}^{0.5}} \n",
    "$$\n",
    "so the smaller the magnitude of $V_{in}$, the larger the difference between $dV_{out}$ and $dV_{in}$\n",
    "\n",
    "\n",
    "Most displays have a decoding gamma of 2.2.  See\n",
    "[wikipedia](https://en.wikipedia.org/wiki/Gamma_correction), and this\n",
    "[tutorial](https://www.cambridgeincolour.com/tutorials/gamma-correction.htm) if you'd like to know more."
   ]
  },
  {
   "cell_type": "markdown",
   "id": "48c48f3b",
   "metadata": {
    "user_expressions": []
   },
   "source": [
    "### Natural vs. veggie green\n",
    "\n",
    "The GREEN \"veggie\" channel on GOES-16 does not measure visible green\n",
    "light. Instead, it measures a near-infrared band sensitive to chlorophyll. We\n",
    "could use that channel in place of green, but it would make the green in our\n",
    "image appear too vibrant. Instead, we will tone-down the green channel by\n",
    "interpolating the value to simulate a natural green color.\n",
    "\n",
    "\\begin{equation}\n",
    "pseudoGreen = (0.48358168*RED) + (0.06038137*GREEN) + (0.45706946*BLUE)\n",
    "\\end{equation}\n",
    "\n",
    "or, a simple alternative ([CIMSS Natural True\n",
    "Color](http://cimss.ssec.wisc.edu/goes/OCLOFactSheetPDFs/ABIQuickGuide_CIMSSRGB_v2.pdf)):\n",
    "\n",
    "\\begin{equation}\n",
    "pseudoGreen = (0.45*RED) + (0.1*GREEN) + (0.45*BLUE)\n",
    "\\end{equation}\n",
    "\n",
    "The multiband formatted file we loaded is convenient because all the GOES\n",
    "channels are in the same NetCDF file. Next, we will assign our variables R, G,\n",
    "and B as the data for each channel."
   ]
  },
  {
   "cell_type": "markdown",
   "id": "f2c2634f",
   "metadata": {
    "user_expressions": []
   },
   "source": [
    "## Check the band wavelengths"
   ]
  },
  {
   "cell_type": "code",
   "execution_count": null,
   "id": "10feb73a",
   "metadata": {},
   "outputs": [],
   "source": [
    "# Confirm that each band is the wavelength we are interested in\n",
    "for band in [2, 3, 1]:\n",
    "    band_wavelength = f\"band_wavelength_C{band:02d}\"\n",
    "    long_name = goesC[band_wavelength].long_name\n",
    "    wavelength = goesC[band_wavelength].data\n",
    "    units = goesC[band_wavelength].units\n",
    "    print(f\"{long_name} is {wavelength:.2f} {units}\")"
   ]
  },
  {
   "cell_type": "markdown",
   "id": "4acdc35a",
   "metadata": {
    "user_expressions": []
   },
   "source": [
    "## Clip the bands and apply the gamma correction"
   ]
  },
  {
   "cell_type": "code",
   "execution_count": null,
   "id": "1c31295e",
   "metadata": {},
   "outputs": [],
   "source": [
    "######################################################################\n",
    "#\n",
    "\n",
    "# Load the three channels into appropriate R, G, and B variables\n",
    "R = goesC[\"CMI_C02\"].data\n",
    "G = goesC[\"CMI_C03\"].data\n",
    "B = goesC[\"CMI_C01\"].data\n",
    "\n",
    "######################################################################\n",
    "#\n",
    "\n",
    "# Apply range limits for each channel. RGB values must be between 0 and 1\n",
    "R = np.clip(R, 0, 1)\n",
    "G = np.clip(G, 0, 1)\n",
    "B = np.clip(B, 0, 1)\n",
    "\n",
    "######################################################################\n",
    "#\n",
    "\n",
    "# Apply a gamma correction to the image\n",
    "gamma = 2.2\n",
    "R = np.power(R, 1 / gamma)\n",
    "G = np.power(G, 1 / gamma)\n",
    "B = np.power(B, 1 / gamma)\n",
    "\n",
    "######################################################################"
   ]
  },
  {
   "cell_type": "markdown",
   "id": "4433bc57",
   "metadata": {
    "user_expressions": []
   },
   "source": [
    "## Make \"true\" green from the three bands"
   ]
  },
  {
   "cell_type": "code",
   "execution_count": null,
   "id": "6dba9ff0",
   "metadata": {},
   "outputs": [],
   "source": [
    "# Calculate the \"True\" Green\n",
    "G_true = 0.45 * R + 0.1 * G + 0.45 * B\n",
    "G_true = np.maximum(G_true, 0)\n",
    "G_true = np.minimum(G_true, 1)"
   ]
  },
  {
   "cell_type": "markdown",
   "id": "68592502",
   "metadata": {
    "user_expressions": []
   },
   "source": [
    "## Plot the raw images\n",
    "\n",
    "First, we plot each channel individually. The deeper the color means the\n",
    "satellite is observing more light in that channel. Clouds appear white becuase\n",
    "they reflect lots of red, green, and blue light. You will also notice that the\n",
    "land reflects a lot of \"green\" in the veggie channel becuase this channel is\n",
    "sensitive to the chlorophyll."
   ]
  },
  {
   "cell_type": "code",
   "execution_count": null,
   "id": "d44a146e",
   "metadata": {},
   "outputs": [],
   "source": [
    "fig, ([ax1, ax2, ax3, ax4]) = plt.subplots(1, 4, figsize=(16, 3))\n",
    "\n",
    "ax1.imshow(R, cmap=\"Reds\", vmax=1, vmin=0)\n",
    "ax1.set_title(\"Red\", fontweight=\"semibold\")\n",
    "ax1.axis(\"off\")\n",
    "\n",
    "ax2.imshow(G, cmap=\"Greens\", vmax=1, vmin=0)\n",
    "ax2.set_title(\"Veggie\", fontweight=\"semibold\")\n",
    "ax2.axis(\"off\")\n",
    "\n",
    "ax3.imshow(G_true, cmap=\"Greens\", vmax=1, vmin=0)\n",
    "ax3.set_title('\"True\" Green', fontweight=\"semibold\")\n",
    "ax3.axis(\"off\")\n",
    "\n",
    "ax4.imshow(B, cmap=\"Blues\", vmax=1, vmin=0)\n",
    "ax4.set_title(\"Blue\", fontweight=\"semibold\")\n",
    "ax4.axis(\"off\")\n",
    "\n",
    "plt.subplots_adjust(wspace=0.02)"
   ]
  },
  {
   "cell_type": "markdown",
   "id": "b1f6c943",
   "metadata": {
    "user_expressions": []
   },
   "source": [
    "## Stack the tree images using dstack\n",
    "\n",
    "Compare a stack with \"veggie green\" with  \"true green\" using false color images"
   ]
  },
  {
   "cell_type": "code",
   "execution_count": null,
   "id": "097fe445",
   "metadata": {},
   "outputs": [],
   "source": [
    "######################################################################\n",
    "# The addition of the three channels results in a color image. We combine the\n",
    "# three channels in a stacked array and display the image with `imshow` again.\n",
    "#\n",
    "\n",
    "# The RGB array with the raw veggie band\n",
    "RGB_veggie = np.dstack([R, G, B])\n",
    "\n",
    "# The RGB array for the true color image\n",
    "RGB = np.dstack([R, G_true, B])\n",
    "\n",
    "fig, (ax1, ax2) = plt.subplots(1, 2, figsize=(16, 6))\n",
    "\n",
    "# The RGB using the raw veggie band\n",
    "ax1.imshow(RGB_veggie)\n",
    "ax1.set_title(\"GOES-16 RGB Raw Veggie\", fontweight=\"semibold\", loc=\"left\", fontsize=12)\n",
    "ax1.set_title(\"%s\" % scan_start.strftime(\"%d %B %Y %H:%M UTC \"), loc=\"right\")\n",
    "ax1.axis(\"off\")\n",
    "\n",
    "# The RGB for the true color image\n",
    "ax2.imshow(RGB)\n",
    "ax2.set_title(\"GOES-16 RGB True Color\", fontweight=\"semibold\", loc=\"left\", fontsize=12)\n",
    "ax2.set_title(\"%s\" % scan_start.strftime(\"%d %B %Y %H:%M UTC \"), loc=\"right\")\n",
    "ax2.axis(\"off\");"
   ]
  },
  {
   "cell_type": "markdown",
   "id": "981cbb2a",
   "metadata": {
    "user_expressions": []
   },
   "source": [
    "## Plot the mapped image using cartopy"
   ]
  },
  {
   "cell_type": "code",
   "execution_count": null,
   "id": "6ed792f2",
   "metadata": {},
   "outputs": [],
   "source": [
    "fig = plt.figure(figsize=(15, 12))\n",
    "\n",
    "ax = fig.add_subplot(1, 1, 1, projection=cartopy_crs)\n",
    "\n",
    "ax.imshow(\n",
    "    RGB,\n",
    "    origin=\"upper\",\n",
    "    extent= original_extent,\n",
    "    transform=cartopy_crs,\n",
    "    interpolation=\"nearest\",\n",
    "    vmin=162.0,\n",
    "    vmax=330.0,\n",
    ")\n",
    "ax.coastlines(resolution=\"50m\", color=\"black\", linewidth=2)\n",
    "ax.add_feature(ccrs.cartopy.feature.STATES)\n",
    "\n",
    "plt.title(\"GOES-16 True Color\", loc=\"left\", fontweight=\"semibold\", fontsize=15)\n",
    "plt.title(\"%s\" % scan_start.strftime(\"%d %B %Y %H:%M UTC \"), loc=\"right\");"
   ]
  },
  {
   "cell_type": "markdown",
   "id": "fd768049",
   "metadata": {
    "user_expressions": []
   },
   "source": [
    "## Changing the map projection and plot extent\n",
    "\n",
    "The next two cells show how to change the plotting crs and boundaries (extent) on a plot\n",
    "\n",
    "The plot below changes the crs to [LambertConformal](https://scitools.org.uk/cartopy/docs/v0.15/crs/projections.html#lambertconformal)\n",
    "and sets the plotting extent to between -130- -60 deg lon and 10 - 65 deg lat"
   ]
  },
  {
   "cell_type": "code",
   "execution_count": null,
   "id": "5a114c50",
   "metadata": {},
   "outputs": [],
   "source": [
    "fig = plt.figure(figsize=(15, 12))\n",
    "\n",
    "lc = ccrs.LambertConformal(central_longitude=-97.5)\n",
    "\n",
    "ax = fig.add_subplot(1, 1, 1, projection=lc)\n",
    "#\n",
    "# lat/lons are given in \"flat-square\" projection\n",
    "#\n",
    "ax.set_extent([-135, -60, 10, 65], crs=ccrs.PlateCarree())\n",
    "\n",
    "ax.imshow(\n",
    "    RGB,\n",
    "    origin=\"upper\",\n",
    "    extent=original_extent,\n",
    "    transform=cartopy_crs,\n",
    "    interpolation=\"none\",\n",
    ")\n",
    "ax.coastlines(resolution=\"50m\", color=\"black\", linewidth=1)\n",
    "ax.add_feature(ccrs.cartopy.feature.STATES)\n",
    "\n",
    "plt.title(\"GOES-16 True Color\", loc=\"left\", fontweight=\"semibold\", fontsize=15)\n",
    "plt.title(\"%s\" % scan_start.strftime(\"%d %B %Y %H:%M UTC \"), loc=\"right\");"
   ]
  },
  {
   "cell_type": "markdown",
   "id": "a9beb70f",
   "metadata": {
    "user_expressions": []
   },
   "source": [
    "## Change the axis extent (not the original image extent)\n",
    "\n",
    "We can zoom the map to a lon/lat box by specifying a new extent for the axis\n",
    "between -114.5 - -108.25 deg Lon and 36-43 deg Lat  -- Salt Lake City, Utah\n",
    "The map crs is switched to PlateCarree, which is ok at the small scale (where the lat/lon parallels are basically straight lines)"
   ]
  },
  {
   "cell_type": "code",
   "execution_count": null,
   "id": "1d980b24",
   "metadata": {},
   "outputs": [],
   "source": [
    "fig = plt.figure(figsize=(8, 8))\n",
    "\n",
    "#\n",
    "# GOES \n",
    "#\n",
    "pc = ccrs.PlateCarree()\n",
    "\n",
    "ax = fig.add_subplot(1, 1, 1, projection=pc)\n",
    "#\n",
    "# utah\n",
    "#\n",
    "ax.set_extent([-114.75, -108.25, 36, 43], crs=pc)\n",
    "\n",
    "ax.imshow(RGB, \n",
    "          origin='upper',\n",
    "          extent=original_extent,\n",
    "          transform=cartopy_crs,\n",
    "          interpolation='none')\n",
    "\n",
    "ax.coastlines(resolution='50m', color='black', linewidth=1)\n",
    "ax.add_feature(ccrs.cartopy.feature.STATES)\n",
    "\n",
    "plt.title('GOES-16 True Color', loc='left', fontweight='bold', fontsize=15)\n",
    "plt.title('{}'.format(scan_start.strftime('%d %B %Y %H:%M UTC ')), loc='right');"
   ]
  },
  {
   "cell_type": "markdown",
   "id": "e295756b",
   "metadata": {
    "user_expressions": []
   },
   "source": [
    "## Practice questions (takehome)"
   ]
  },
  {
   "cell_type": "markdown",
   "id": "64fb1369",
   "metadata": {
    "user_expressions": []
   },
   "source": [
    "### Practice question 1\n",
    "\n",
    "Use a seaborn jointplot to compare the channel 1 (blue) histogram before and after the gamma correction"
   ]
  },
  {
   "cell_type": "markdown",
   "id": "c8fc5429",
   "metadata": {
    "user_expressions": []
   },
   "source": [
    "### Practice question 2\n",
    "\n",
    "Use xarray.isel to clip just the portion of the abi scene that's in the [-114.75, -108.25, 36, 43] lon/lat bounding\n",
    "box and save it to disk as a netcdf file with the correct affine transform and crs"
   ]
  },
  {
   "cell_type": "markdown",
   "id": "565dc746",
   "metadata": {
    "user_expressions": []
   },
   "source": [
    "### Practice question 3\n",
    "\n",
    "Change the map projection in from lambert to azimuthal equal area -- does it look less weird?"
   ]
  }
 ],
 "metadata": {
  "jupytext": {
   "notebook_metadata_filter": "all,-language_info,-toc,-latex_envs",
   "text_representation": {
    "extension": ".md",
    "format_name": "myst",
    "format_version": 0.13,
    "jupytext_version": "1.14.5"
   }
  },
  "kernelspec": {
   "display_name": "Python 3 (ipykernel)",
   "language": "python",
   "name": "python3"
  },
  "source_map": [
   15,
   47,
   63,
   67,
   98,
   115,
   123,
   130,
   134,
   139,
   160,
   167,
   175,
   179,
   185,
   189,
   193,
   199,
   204,
   209,
   213,
   217,
   225,
   229,
   245,
   252,
   285,
   310,
   314,
   324,
   328,
   357,
   361,
   368,
   378,
   400,
   406,
   433,
   437,
   458,
   467,
   492,
   500,
   527,
   531,
   537,
   544
  ]
 },
 "nbformat": 4,
 "nbformat_minor": 5
}