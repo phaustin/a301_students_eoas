{
 "cells": [
  {
   "cell_type": "markdown",
   "id": "35b187e1",
   "metadata": {
    "tags": [],
    "user_expressions": []
   },
   "source": [
    "(assign5)=\n",
    "# Assignment 5 Handin\n",
    "\n",
    "Hand in this notebook with answers to the 3 questions (2 Landsat, 1 Marshall Palmer)"
   ]
  },
  {
   "cell_type": "markdown",
   "id": "1f305d1e",
   "metadata": {
    "tags": [],
    "user_expressions": []
   },
   "source": [
    "## Preliminaries\n",
    "\n",
    "There are two Landsat questions below with cells to place your code and comments.  Before you do that, you'll need to run the {ref}`week10:write_geotiff` notebook\n",
    "to download your windowed landsat scenes into a folder.\n",
    "\n",
    "There is a third question that can be uploaded as a handwritten pdf, with a cell to do the numerical integration"
   ]
  },
  {
   "cell_type": "code",
   "execution_count": null,
   "id": "b753c37e",
   "metadata": {},
   "outputs": [],
   "source": [
    "import numpy\n",
    "from pathlib  import Path\n",
    "\n",
    "from matplotlib import pyplot as plt\n",
    "import numpy as np\n",
    "from copy import copy\n",
    "import datetime\n",
    "\n",
    "import rioxarray\n",
    "import xarray\n",
    "import a301_lib\n",
    "\n",
    "from sat_lib.landsat_read import get_landsat_dataset"
   ]
  },
  {
   "cell_type": "code",
   "execution_count": null,
   "id": "aeeaa013",
   "metadata": {},
   "outputs": [],
   "source": [
    "geotiff_dir = a301_lib.data_share / \"pha/landsat/ndvi_geotiffs\"\n",
    "all_files = list(geotiff_dir.glob(\"*nc\"))"
   ]
  },
  {
   "cell_type": "markdown",
   "id": "3b46be16",
   "metadata": {
    "tags": [],
    "user_expressions": []
   },
   "source": [
    "## Headstart: use this function to add masked ndvi to the dataset\n",
    "\n",
    "Since I had some issues writing a robust ndvi function,\n",
    "I've provided a working version in the cell below, with comments explaining the \n",
    "trouble points"
   ]
  },
  {
   "cell_type": "code",
   "execution_count": null,
   "id": "a6966d7e",
   "metadata": {},
   "outputs": [],
   "source": [
    "def calc_ndvi(the_ds):\n",
    "    #\n",
    "    # xarray was unhappy with the extra third dimension\n",
    "    # for the landsat bands:  [1, nrows, ncols]\n",
    "    # so squeeze it out\n",
    "    #\n",
    "    the_ds = the_ds.squeeze()\n",
    "    fmask = the_ds['Fmask']\n",
    "    band_5 = the_ds['B05']*fmask.data\n",
    "    band_4 = the_ds['B04']*fmask.data\n",
    "    ndvi  = (band_5 - band_4)/(band_5 + band_4)\n",
    "    #\n",
    "    # Fmask doesn't find every bad pixel, so go ahead\n",
    "    # and set pixels to np.nan for any ndvi not between 0-1\n",
    "    #\n",
    "    ndvi.data[ndvi.data < 0] = np.nan\n",
    "    ndvi.data[ndvi.data > 1] = np.nan\n",
    "    #\n",
    "    # Make a new dataArray \n",
    "    #\n",
    "    ndvi_array = xarray.DataArray(data = ndvi, dims = [\"y\",\"x\"])\n",
    "    #\n",
    "    # you'll get nan conversion errors unless you specifiy nan as\n",
    "    # your missing value\n",
    "    #\n",
    "    ndvi_array.rio.write_nodata(np.nan, inplace=True)\n",
    "    #\n",
    "    # copy the crs and affine transform from band 4\n",
    "    #\n",
    "    ndvi_array.rio.write_crs(band_4.rio.crs, inplace=True)\n",
    "    ndvi_array.rio.write_transform(band_4.rio.transform(), inplace=True)\n",
    "    #\n",
    "    # add some attributes\n",
    "    #\n",
    "    ndvi_array = ndvi_array.assign_attrs({'day':the_ds.day,\n",
    "                                          'band_name':'ndvi',\n",
    "                                          'history':'written by write_ndvi notebook'})\n",
    "    #\n",
    "    # add the ndvi_array to the dataset and return\n",
    "    #\n",
    "    ndvi_dataset = the_ds.assign(variables = {'ndvi' : ndvi_array})\n",
    "    return ndvi_dataset"
   ]
  },
  {
   "cell_type": "markdown",
   "id": "213ea369",
   "metadata": {
    "tags": [],
    "user_expressions": []
   },
   "source": [
    "## Housekeeping: separate your input and output directories\n",
    "\n",
    "It's a good idea to avoid clobbering your original data.  Since the files aren't huge,\n",
    "it doesn't hurt to add the ndvi to the dataset and then write the new dataset into\n",
    "an output folder, called `out_dir` in the sell below.  You've now got duplicate data for bands 4,5,6, and Fmask, \n",
    "but if you avoid the risk of stepping on your original files.\n",
    "\n",
    "The `in_dir` is the directory holding your 39 downloaded \n",
    "ncfiles  written by `get_landsat_dataset`\n",
    "\n",
    "The `out_dir` is the directory that holds the new nc files\n",
    "that contain the original bands + Fmask and the ndvi dataArray\n",
    "added by calc_ndvi.  I use the same name, which pathlilib provides\n",
    "as the `filepath.name` attribute below.\n",
    "\n",
    "**Note that sometimes you'll get permission and dimension errors when you try to overwrite\n",
    "files in `output_dir` -- just delete the folder and rerun**"
   ]
  },
  {
   "cell_type": "code",
   "execution_count": null,
   "id": "34df3de1",
   "metadata": {},
   "outputs": [],
   "source": [
    "#\n",
    "# my 39 geotiffs are in the folder \"ndvi_geotiffs\"\n",
    "#\n",
    "in_dir = a301_lib.data_share / \"pha/landsat/ndvi_geotiffs\"\n",
    "#\n",
    "#  I'll write my new datasets to ndvi_geotiffs_output\n",
    "#\n",
    "out_dir = a301_lib.data_share / \"pha/landsat/ndvi_geotiffs_output\"\n",
    "in_dir.mkdir(exist_ok = True, parents=True)\n",
    "out_dir.mkdir(exist_ok = True, parents=True)\n",
    "\n",
    "write_it = True\n",
    "if write_it:\n",
    "    in_files = list(in_dir.glob(\"*nc\"))\n",
    "    for the_file in in_files:\n",
    "        the_ds = rioxarray.open_rasterio(the_file,mode = 'r',mask_and_scale = True)\n",
    "        #\n",
    "        # Give the file the same name, but put it in the new folder\n",
    "        #\n",
    "        out_file = out_dir / the_file.name\n",
    "        new_ds = calc_ndvi(the_ds)\n",
    "        new_ds.to_netcdf(out_file)"
   ]
  },
  {
   "cell_type": "markdown",
   "id": "1d25cb7c",
   "metadata": {
    "tags": [],
    "user_expressions": []
   },
   "source": [
    "## Question 1: Calculate the average ndvi\n",
    "\n",
    "In the cell below write a function takes a dataset with an ndvi array and returns\n",
    "the area average ndvi (consult the docs for `xarray.DataArray.mean`)\n",
    "\n",
    "Use it to loop through all of the datasets and create two dictionaries,\n",
    "one holding the datasets (with the datetime date as the key) and one holding the\n",
    "ndvi average for that dataset (also with the datetime date as the key).\n",
    "\n",
    "Recall from the write_geotiffs notebook that you can convert the `dataset.day` attribute\n",
    "to a datetime object using `strptime`:\n",
    "\n",
    "```python\n",
    "the_date = datetime.datetime.strptime(x,\"%Y-%m-%d\")\n",
    "```\n",
    "\n",
    "Don't forget to open your files with `mask_and_scale = True` so you get floating point\n",
    "values with np.nan for missing pixels\n",
    "\n",
    "```python\n",
    "the_ds = rioxarray.open_rasterio(a_file,'r',mask_and_scale = True)\n",
    "```"
   ]
  },
  {
   "cell_type": "code",
   "execution_count": null,
   "id": "892af4f5",
   "metadata": {},
   "outputs": [],
   "source": [
    "# Question 1 answer here"
   ]
  },
  {
   "cell_type": "markdown",
   "id": "8c80b5d3",
   "metadata": {
    "tags": [],
    "user_expressions": []
   },
   "source": [
    "## Question 2: Plot the ndvi time series\n",
    "\n",
    "In the cell below, extract your dates from your ndvi dictionary into a list and sort them.  Then use those dates as\n",
    "keys to loop over your `ndvi_avg_dict` and construct a corresponding list of ndvi values.\n",
    "\n",
    "Plot the ndvi values as a function of date, and comment on what you see:  is there any trend?  Do the peaks\n",
    "and troughs occur when you would expect them to?  Is the seasonal variablity smaller or larger than the\n",
    "annual variablity?"
   ]
  },
  {
   "cell_type": "code",
   "execution_count": null,
   "id": "32ad62dd",
   "metadata": {},
   "outputs": [],
   "source": [
    "# Question 2 answer here"
   ]
  },
  {
   "cell_type": "markdown",
   "id": "af00f306",
   "metadata": {},
   "source": [
    "##  Question 3Marshall-Palmer question\n",
    "\n",
    "2) Integrate $Z=\\int D^6 n(D) dD$ on paper, assuming a Marshall Palmer size distribution and show that it integrates to:\n",
    "\n",
    "$$\n",
    "Z \\approx 300 RR^{1.5}\n",
    "$$\n",
    "\n",
    "with Z in $mm^6\\,m^{-3}$ and RR in mm/hr.  It's helpful to know that:\n",
    "\n",
    "$$\n",
    "\\int^\\infty_0 x^n \\exp( -a x) dx = n! / a^{n+1}\n",
    "$$\n",
    "\n",
    "2) Repeat using numerical integration in python (i.e. np.diff and np.sum) and show that the\n",
    "   the result agrees."
   ]
  },
  {
   "cell_type": "code",
   "execution_count": null,
   "id": "e9e3a94b",
   "metadata": {},
   "outputs": [],
   "source": [
    "# Marshall Palmer numerical integration here"
   ]
  }
 ],
 "metadata": {
  "jupytext": {
   "text_representation": {
    "extension": ".md",
    "format_name": "myst",
    "format_version": 0.13,
    "jupytext_version": "1.14.0"
   }
  },
  "kernelspec": {
   "display_name": "Python 3 (ipykernel)",
   "language": "python",
   "name": "python3"
  },
  "numbering": {
   "heading_2": true,
   "heading_3": true
  },
  "source_map": [
   18,
   25,
   36,
   52,
   57,
   65,
   110,
   130,
   155,
   180,
   184,
   195,
   197,
   216
  ],
  "toc-autonumbering": true
 },
 "nbformat": 4,
 "nbformat_minor": 5
}