{
 "cells": [
  {
   "cell_type": "markdown",
   "id": "8127a31a",
   "metadata": {},
   "source": [
    "(assign1_solution)=\n",
    "# Assignment 1 solution-- brightness temperatures\n",
    "\n",
    "Upload this notebook to canvas by 11:59pm Friday January 27.\n",
    "\n",
    "In addition, upload your MYD02 hdf file, your `chan30_31.npz` file \n",
    "and your `lonlat.npz` file (described below) to a folder that has your initials in the `sat_data` folder\n",
    "in the a301hub."
   ]
  },
  {
   "cell_type": "markdown",
   "id": "9ca15252",
   "metadata": {},
   "source": [
    "## Problem 1 -- lat/lon scatter plot\n",
    "\n",
    "In the cell below, delete the text, and replace it with code that reads in your `lonlat.npz` file \n",
    "and makes a plot that shows the individual lat/lon points for the first 50 rows and columns of your Modis\n",
    "granule.\n",
    "\n",
    "\n",
    "To do this first modify `modis_level1b_read.md` to add a cell to dump these latitudes to a numpy npz file called `lonlat.npz`  \n",
    "(you don't have to hand in the modified md file).\n",
    "\n",
    "Then in this notebook, read in the lat/lon arrays from the `lonlat.npz` file \n",
    "and plot them.\n",
    "\n",
    "Here is an excerpt of my code for the `modis_level1b_read.md`:\n",
    "         \n",
    "         # get the latitude variable\n",
    "         latitude = the_file.select(\"Latitude\")\n",
    "         ...\n",
    "         #read the first 50 rows and columns into a numpy array\n",
    "         latitude = latitude_data[:50,:50]\n",
    "         ...\n",
    "         #save them to a npz file\n",
    "         np.savez('lonlat.npz',longitude=longitude,latitude=latitude)\n",
    "         \n",
    "4 points for a correctly labeled plot with lat lon data and a title"
   ]
  },
  {
   "cell_type": "code",
   "execution_count": null,
   "id": "34f91dac",
   "metadata": {
    "nbgrader": {
     "grade": true,
     "grade_id": "cell-616c10d44f60728d",
     "locked": false,
     "points": 4,
     "schema_version": 3,
     "solution": true,
     "task": false
    }
   },
   "outputs": [],
   "source": [
    "### BEGIN SOLUTION\n",
    "import numpy as np\n",
    "import a301_lib\n",
    "from matplotlib import pyplot as plt\n",
    "sat_data = a301_lib.sat_data / \"pha\"\n",
    "lat_lon = list(sat_data.glob(\"lonlat.npz\"))[0]\n",
    "lat_lon_data = np.load(lat_lon)\n",
    "longitude = lat_lon_data['longitude']\n",
    "latitude = lat_lon_data['latitude']\n",
    "fig, ax = plt.subplots(1, 1, figsize=(8, 6))\n",
    "ax.plot(longitude,latitude,'k+')\n",
    "ax.set(title=\"lat/lons for first 50 rows and columns\",\n",
    "       xlabel = \"longitude (degrees east)\",ylabel=\"latitude (degrees north)\");\n",
    "### END SOLUTION"
   ]
  },
  {
   "cell_type": "markdown",
   "id": "55c8091e",
   "metadata": {},
   "source": [
    "## Problem 2\n",
    "\n",
    "In the cell below, remove the text and replace it\n",
    "with a function that takes an array of MODIS radiances (MKS) and inverts each array value for the \"brightness temperature.`\n",
    "\n",
    "i.e. the top of the cell should look like:\n",
    "\n",
    "```python\n",
    "def radiance_invert(wavelength, L):\n",
    "   etc.\n",
    "   return Btemp\n",
    "```\n",
    "\n",
    "where L is an array of observed radiances (W/m^2/m/sr), wavelength (m) is the central wavelength of that \n",
    "satellite channel and  the function returns Btemp (K), the temperature\n",
    "that a blackbody would have to have to emit that observed radiance (the brightness temperature) at each pixel.\n",
    "\n",
    "NOTE!!-- my autograder doesn't work with `%%writefile`, so make sure you don't have that line in the cell.\n",
    "\n",
    "I'll test the `radiance_invert` function you defined above by roundtripping it with a blackbody radiance for a particular \n",
    "temperature.\n",
    "\n",
    "4 points for a correct function that documents the input parameters and the return value, including units."
   ]
  },
  {
   "cell_type": "code",
   "execution_count": null,
   "id": "b1331b55",
   "metadata": {
    "nbgrader": {
     "grade": false,
     "grade_id": "cell-1f6fd5bf5abc209f",
     "locked": false,
     "schema_version": 3,
     "solution": true,
     "task": false
    }
   },
   "outputs": [],
   "source": [
    "### BEGIN SOLUTION \n",
    "import numpy as np\n",
    "\n",
    "\n",
    "def radiance_invert(wavel, Lstar):\n",
    "    \"\"\"\n",
    "    Calculate the brightness temperature\n",
    "    \n",
    "    Parameters\n",
    "    ----------\n",
    "\n",
    "      wavel: float\n",
    "           wavelength (meters)\n",
    "\n",
    "      Lstar: float or array\n",
    "           Blackbody radiance (W/m^2/m/sr)\n",
    "    Returns\n",
    "    -------\n",
    "\n",
    "    Tbright:  float or arr\n",
    "           brightness temperature (K)\n",
    "    \"\"\"\n",
    "    c, h, k = 299792458.0, 6.62607004e-34, 1.38064852e-23\n",
    "    c1 = 2.0 * h * c ** 2.0\n",
    "    c2 = h * c / k\n",
    "    sigma = 2.0 * np.pi ** 5.0 * k ** 4.0 / (15 * h ** 3.0 * c ** 2.0)\n",
    "    Tbright = c2 / (wavel * np.log(c1 / (wavel ** 5.0 * Lstar) + 1.0))\n",
    "    return Tbright\n",
    "### END SOLUTION"
   ]
  },
  {
   "cell_type": "code",
   "execution_count": null,
   "id": "0541d780",
   "metadata": {
    "nbgrader": {
     "grade": true,
     "grade_id": "cell-5b689bd47ff974c3",
     "locked": true,
     "points": 4,
     "schema_version": 3,
     "solution": false,
     "task": false
    }
   },
   "outputs": [],
   "source": [
    "from radiation import Elambda\n",
    "wavel=10.e-6  #10 micron wavelength\n",
    "the_temp = 300  #temp in K\n",
    "the_flux = Elambda(wavel,the_temp)\n",
    "the_radiance = the_flux/np.pi  #E = L/pi\n",
    "the_new_temp = radiance_invert(wavel,the_radiance)\n",
    "np.allclose(the_temp,the_new_temp);"
   ]
  },
  {
   "cell_type": "markdown",
   "id": "17518260",
   "metadata": {
    "jp-MarkdownHeadingCollapsed": true,
    "tags": []
   },
   "source": [
    "## Getting the channel 30 and 31 radiance\n",
    "\n",
    "Next, go back to {ref}`modis_level1b:function` and call the readband function again with\n",
    "channel 31 to get the calibrated channel 31 radiances.  Use np.savez in the modis notebook to write\n",
    "a new file with the first 50 rows and first 50 columns of the chan30 and chan31\n",
    "radiances and name it `chan30_31.npz`."
   ]
  },
  {
   "cell_type": "markdown",
   "id": "b05d9f8f",
   "metadata": {},
   "source": [
    "## Problem 3\n",
    "\n",
    "Read in the radiances for channel 30 and channel 31 from the file `chan30_31.npz`\n",
    "you created above.\n",
    "In cell below use your `radiance_invert function` from  problem 2 to turn the calibrated\n",
    "radiances (W/m^2/m/sr) into brightness temperatures\n",
    "in Kelvins.  According to the [modis channel listings](https://modis.gsfc.nasa.gov/about/specifications.php)\n",
    "the central wavelength for channel 30 is 9.73 $\\mu m$ and for channel 31 it's 11.03 $\\mu m$.\n",
    "\n",
    "Make 3 plots of the temperature as an image, using a colorbar as in {ref}`modis_level1b:plot`.\n",
    "\n",
    "* First plot:  channel 30 temperatures\n",
    "* Second plot: channel 31 temperatures\n",
    "* Third plot: channel 31 - channel 30 temperatures\n",
    "\n",
    "Discuss: What is the sign of channel 31 - channel 30?  Why do you think the temperatures\n",
    "are different in the two channels?\n",
    "\n",
    "6 points for the three plots and a brief discussion."
   ]
  },
  {
   "cell_type": "code",
   "execution_count": null,
   "id": "b963db8f",
   "metadata": {
    "nbgrader": {
     "grade": true,
     "grade_id": "cell-0650c5eadd5c26ec",
     "locked": false,
     "points": 6,
     "schema_version": 3,
     "solution": true,
     "task": false
    },
    "scrolled": false
   },
   "outputs": [],
   "source": [
    "from planck_invert import radiance_invert\n",
    "import a301_lib\n",
    "from matplotlib import pyplot as plt\n",
    "\n",
    "chan_file = list(sat_data.glob(\"chan30_31.npz\"))[0]\n",
    "chan_data = np.load(chan_file)\n",
    "list(chan_data.keys())\n",
    "chan30 = chan_data['chan30']\n",
    "chan31 = chan_data['chan31']\n",
    "\n",
    "wavel = 9.73e-6  # wavelength in meters from Modis channel table\n",
    "ch30_radiances = chan30 * 1.0e6  # convert to W/m^2/m/sr\n",
    "# # convert radiance to MKS\n",
    "ch30_Tbright = radiance_invert(wavel, ch30_radiances)\n",
    "wavel = 11.03e-6\n",
    "ch31_radiances = chan31 * 1.0e6  #convert to W/m^2/m/sr\n",
    "ch31_Tbright = radiance_invert(wavel, ch31_radiances)\n",
    "\n",
    "\n",
    "fig, ax = plt.subplots(1, 1, figsize=(8, 6))\n",
    "CS = ax.imshow(ch30_Tbright)\n",
    "cax = fig.colorbar(CS)\n",
    "ax.set_title(\"channel 30 brightness temperature\")\n",
    "out = cax.ax.set_ylabel(\"Chan 30 Tbright (K)\")\n",
    "out.set_verticalalignment(\"bottom\")\n",
    "out.set_rotation(270)\n",
    "\n",
    "fig, ax = plt.subplots(1, 1, figsize=(8, 6))\n",
    "CS = ax.imshow(ch31_Tbright)\n",
    "cax = fig.colorbar(CS)\n",
    "ax.set_title(\"channel 31 brightness temperature\")\n",
    "out = cax.ax.set_ylabel(\"Chan 31 Tbright (K)\")\n",
    "out.set_verticalalignment(\"bottom\")\n",
    "out.set_rotation(270)\n",
    "\n",
    "fig, ax = plt.subplots(1, 1, figsize=(8, 6))\n",
    "CS = ax.imshow(ch31_Tbright - ch30_Tbright)\n",
    "cax = fig.colorbar(CS)\n",
    "ax.set_title(\"ch31 - ch30 \")\n",
    "out = cax.ax.set_ylabel(\"Chan 31 - 30 Tbright difference (K)\")\n",
    "out.set_verticalalignment(\"bottom\")\n",
    "out.set_rotation(270)\n",
    "\n",
    "fig, ax = plt.subplots(1, 1, figsize=(8, 6))\n",
    "CS = ax.imshow((ch31_Tbright - ch30_Tbright)/(ch31_Tbright + ch30_Tbright))\n",
    "cax = fig.colorbar(CS)\n",
    "ax.set_title(\"normalized difference\")\n",
    "out = cax.ax.set_ylabel(\"(ch31 - ch30)/(ch31 + ch30)\")\n",
    "out.set_verticalalignment(\"bottom\")\n",
    "out.set_rotation(270)"
   ]
  }
 ],
 "metadata": {
  "celltoolbar": "Create Assignment",
  "jupytext": {
   "cell_metadata_filter": "all",
   "notebook_metadata_filter": "all,-language_info,-toc,-latex_envs",
   "text_representation": {
    "extension": ".md",
    "format_name": "myst",
    "format_version": 0.13,
    "jupytext_version": "1.14.0"
   }
  },
  "kernelspec": {
   "display_name": "Python 3 (ipykernel)",
   "language": "python",
   "name": "python3"
  },
  "source_map": [
   15,
   26,
   55,
   80,
   112,
   153,
   173,
   182,
   204
  ]
 },
 "nbformat": 4,
 "nbformat_minor": 5
}