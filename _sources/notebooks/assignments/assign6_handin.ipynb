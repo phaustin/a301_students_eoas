{
 "cells": [
  {
   "cell_type": "markdown",
   "id": "25e397a1",
   "metadata": {
    "tags": [],
    "user_expressions": []
   },
   "source": [
    "(assign6)=\n",
    "# Assignment 6: Hurricane case study, Due Thursday, April 13 11:59pm\n",
    "\n",
    "This notebook consolidates the following plots from the cloudsat notebook series into a case study for a hurricane.\n",
    "\n",
    "Below, you are asked to recompute the following 4 plots, starting with the hdf files you've downloaded from the CDC:\n",
    "\n",
    "1) hurricane location:  {ref}`week9:cloudsat`\n",
    "1) Radar reflectivity with lidar cloudtop height (if the lidar was operating during your hurricane): {ref}`week9:cloudsat`\n",
    "1) Temperature perturbation: {ref}`week10:temperature_perturb`\n",
    "1) Horizontal windspeed: {ref}`week10:temperature_perturb`\n",
    "\n",
    "and add the following 2 new plots:\n",
    "\n",
    "1) ECMWF horizontal wind direction -- using the u and v components from the windspeed plot\n",
    "1) ECMWF `Surface_pressure` and `rain_rate`\n",
    "\n",
    "**For all plots include a title and axis labels**\n",
    "\n",
    "\n",
    "I've made a fix in `read_cloudsat_var` to solve the problem of \n",
    "the missing radar bin heights at the start of some cloudsat orbits.  Do\n",
    "\n",
    "```python\n",
    "pip install -r requirements.txt --upgrade\n",
    "```\n",
    "to pick up this change.  You see a version greater than 0.6.0 when you do\n",
    "\n",
    "```python\n",
    "hdf4_inspect --version\n",
    "```"
   ]
  },
  {
   "cell_type": "markdown",
   "id": "880bb89d",
   "metadata": {
    "tags": []
   },
   "source": [
    "Your're asked to provide a brief discussion of the features as part of each plotting question.\n",
    "\n",
    "\n",
    "All the packages you need should be imported in the cell below."
   ]
  },
  {
   "cell_type": "code",
   "execution_count": null,
   "id": "df6fd45f",
   "metadata": {},
   "outputs": [],
   "source": [
    "import numpy as np\n",
    "import datetime as dt\n",
    "from matplotlib import pyplot as plt\n",
    "from matplotlib import cm\n",
    "import pandas as pd\n",
    "import a301_lib\n",
    "import cartopy.crs as ccrs\n",
    "from sat_lib.cloudsat import add_storm_distance\n",
    "from sat_lib.cloudsat import read_cloudsat_var\n",
    "from sat_lib.utils.plotting import make_cmap"
   ]
  },
  {
   "cell_type": "markdown",
   "id": "adc6735c",
   "metadata": {
    "tags": [],
    "user_expressions": []
   },
   "source": [
    "## Read and process the data to be used in the plots\n",
    "\n",
    "### Question 1: Save all the variables you'll need for the plots in a dictionary\n",
    "\n",
    "To make the data-processing part of the notebook as compact as possible, in the cell below\n",
    "create a dictionary called `var_dict` that contains all your variables.  I did this by zipping together\n",
    "my variable name list with a list of the file path for that variable, calling `read_cloudsat_var` on \n",
    "each `(path, varname)` pair, and saving the dataset in `var_dict` with the varname as key.  To see an example of\n",
    "how this works, take a look at [the false color notebook](https://eoasubc.xyz/a301_2022/notebooks/week10/false_color.html#stretching-step-1-stretch-the-data-in-each-band-and-save-to-a-dictionary-with-the-band-name-as-key)\n",
    "\n",
    "The 8 variables and their files:\n",
    "\n",
    "- Radar_Reflectivity (from GEOPROF_GRANULE)\n",
    "- LayerTop   (from GEOPROF_LIDAR if available)\n",
    "- rain_rate   (from  RAΙΝ)\n",
    "- Temperature  (from ECMWF-AUX)\n",
    "- U_velocity   (from ECMWF-AUX)\n",
    "- V_velocity   (from ECMWF-AUX)\n",
    "- Surface_pressure (from ECMWF-AUX)\n",
    "- rain_rate (from ECMWF-AUX)\n",
    "\n",
    "**Note: `read_cloudsat_var` returns a dataset, not a dataArray.  To get the dataArray, you need to index by the \n",
    "variable name like this:**\n",
    "\n",
    "```python\n",
    "var_dict[varname]=read_cloudsat_var(varname,filepath)[varname]\n",
    "```\n",
    "\n",
    "Add the longitude and latitude to the dictionary.  These are available in the full dataset for any of the variables\n",
    "so save them once using an arbitrary variable. Also save the day and granule_id attributes\n",
    "so you can use them in titles below.\n",
    "\n",
    "```python\n",
    "the_var = read_cloudsat_var(varname,filepath)\n",
    "var_dict['longitude'] = the_var['longitude']\n",
    "var_dict['latitude'] = the_var['latitude']\n",
    "day = the_var.day\n",
    "granule_id = the_var.granule_id\n",
    "```"
   ]
  },
  {
   "cell_type": "code",
   "execution_count": null,
   "id": "67ddf89e",
   "metadata": {
    "tags": []
   },
   "outputs": [],
   "source": [
    "#\n",
    "# Question 1 code here\n",
    "#"
   ]
  },
  {
   "cell_type": "markdown",
   "id": "6c76bf6e",
   "metadata": {
    "tags": []
   },
   "source": [
    "### Question 2: clip to the storm times and add the storm distance coordinate\n",
    "\n",
    "In the cell below, find the `time_hit` logical vector that is true only for the times between the start\n",
    "and end time of your hurricane.  Using that vector, loop over your variable dictionary, and use\n",
    "`xarray.isel` to 1) clip the datasets to the storm times, and 2) call `add_storm_distance` to add a new\n",
    "cooridinate (see {ref}`week11:cloudsat_heat` for an example).  You can use the `.time` coordinate\n",
    "from any of your variables to get the  all the timepoints for the orbit."
   ]
  },
  {
   "cell_type": "code",
   "execution_count": null,
   "id": "3ac0081c",
   "metadata": {},
   "outputs": [],
   "source": [
    "#\n",
    "# Question 2 code here\n",
    "#"
   ]
  },
  {
   "cell_type": "markdown",
   "id": "281c0ff4",
   "metadata": {
    "tags": []
   },
   "source": [
    "## Plots"
   ]
  },
  {
   "cell_type": "markdown",
   "id": "dc3ca043",
   "metadata": {
    "tags": []
   },
   "source": [
    "### Question 3: Huricane location, granule_id and date\n",
    "\n",
    "Copy the code from the {ref}`week9:cloudsat` notebook.  You won't have the full orbit since you clipped it\n",
    "to the hurricane times, so just plot green and red markers for the start and stop location.  Add a title with\n",
    "the name of the storm, the date and the granule id"
   ]
  },
  {
   "cell_type": "code",
   "execution_count": null,
   "id": "4b5f3fd6",
   "metadata": {},
   "outputs": [],
   "source": [
    "#\n",
    "# Question 3 code here\n",
    "#"
   ]
  },
  {
   "cell_type": "markdown",
   "id": "5de1b61c",
   "metadata": {
    "tags": []
   },
   "source": [
    "### Question 4: Plot `Radar_Reflectivity` and `LayerTop` (if available)\n",
    "\n",
    "Label the x and y axis, and include a title with  date and granule id\n",
    "\n",
    "Hint: I used `make_cmap` in my pcolormesh plots to save some lines of code setting my normalization and colormap for these figures.\n",
    "\n",
    "**Add a brief discussion: what is the maximum radar reflectivity according to cloudsat?  How does the structure you see compare to the\n",
    "idealized tropical cyclone structure of Stull Figure  16.5?  Is the radar missing significant cloud amounts that the lidar sees?**"
   ]
  },
  {
   "cell_type": "code",
   "execution_count": null,
   "id": "079cedcb",
   "metadata": {},
   "outputs": [],
   "source": [
    "#\n",
    "# Question 4 code here, plus markdown cell for discussion\n",
    "#"
   ]
  },
  {
   "cell_type": "markdown",
   "id": "c0d022df",
   "metadata": {
    "tags": []
   },
   "source": [
    "### Question 5 -- Plot the temperture perturbation with title and axis labels\n",
    "\n",
    "Use the `cm.coolwarm` colormap to plot the temperture perturbation from the ECMWF-AUX model data.\n",
    "\n",
    "**Add a brief discussion:  Does the hurricane appear to affect the model temperture profile?  Does the location\n",
    "of the minimum and maximum perturbation correspond to features in the radar reflectivity or the idealized picture of a hurricane?***"
   ]
  },
  {
   "cell_type": "code",
   "execution_count": null,
   "id": "821d7d21",
   "metadata": {
    "tags": []
   },
   "outputs": [],
   "source": [
    "#\n",
    "# Question 5 code here, plus markdown code for discussion\n",
    "#"
   ]
  },
  {
   "cell_type": "markdown",
   "id": "c3441752",
   "metadata": {
    "tags": []
   },
   "source": [
    "### Question 6: Plot the windspeed with title and axis labels\n",
    "\n",
    "**Add a brief discussion: what is the maximum windspeed?  Does the horizontal/vertical structure aggee with the other fields above**"
   ]
  },
  {
   "cell_type": "code",
   "execution_count": null,
   "id": "19f861c6",
   "metadata": {
    "tags": []
   },
   "outputs": [],
   "source": [
    "#\n",
    "# Question 6 code here, plus markdown code for discussion\n",
    "#"
   ]
  },
  {
   "cell_type": "markdown",
   "id": "90231f51",
   "metadata": {
    "tags": []
   },
   "source": [
    "### Question 7: Plot the horizontal wind direction (degrees)\n",
    "\n",
    "Plot the wind direction along the track.\n",
    "\n",
    "**Brief discsussion:  Can you see any evidence of\n",
    "cyclonic circulation in the plot?**\n",
    "\n",
    "#### Question 7 Details\n",
    "\n",
    "\n",
    "Make a xarray.plot.pcolormesh plot of the horizontal wind direction in degrees (not radians), using the [numpy arctan2](https://numpy.org/doc/stable/reference/generated/numpy.arctan2.html), i.e.\n",
    "\n",
    "```python\n",
    "wind_direction = np.arctan2(v,u)\n",
    "```\n",
    "\n",
    "\n",
    "\n",
    "The regular trigonometric angle returned by `arctan2` is not the the compass wind heading used in meteorology. \n",
    "As explained in class, these two angles are out of phase by 270 degrees.\n",
    "To convert to the meteorological direction you need to adjust the phase:\n",
    "$$\n",
    "windangle_{met} = 270 - windangle_{trig}\n",
    "$$\n",
    "with the additional step that you also need to subtract 360 degrees from all $windangle_{met}$ angles larger than 360 degrees.\n",
    "\n",
    "The table below shows how this works for the 4 principal compass points"
   ]
  },
  {
   "cell_type": "markdown",
   "id": "1ff0ce9d",
   "metadata": {
    "tags": []
   },
   "source": [
    "##### Wind direction table examples\n",
    "\n",
    "\n",
    "| wind from | v,u wind vector  | compass heading |\n",
    "| --------- | ---------------- | --------------- |\n",
    "| north     | (-1,0): -90 deg  | 0 deg, 360 deg  |\n",
    "| east      | (0,-1): -180 deg | +90             |\n",
    "| west      | (0,1): 0 deg     | +270 deg        |\n",
    "| south     | (1,0): +90 deg   | +180 deg        |"
   ]
  },
  {
   "cell_type": "code",
   "execution_count": null,
   "id": "90f25522",
   "metadata": {
    "tags": []
   },
   "outputs": [],
   "source": [
    "#\n",
    "# Question 7 code here, plus markdown cell for discussion\n",
    "#"
   ]
  },
  {
   "cell_type": "markdown",
   "id": "f7f4f41a",
   "metadata": {
    "tags": []
   },
   "source": [
    "### Question 8: Plot the Surface_pressure and rain_rate\n",
    "\n",
    "Make a 2-row plot of the Surface_pressure and rain_rate variables, i.e. create subplots that look like\n",
    "\n",
    "```python\n",
    "fig6, (ax6,ax7) = plt.subplots(2,1,figsize=(14,4))\n",
    "```\n",
    "\n",
    "\n",
    "**Add a brief discussion: Do you see any features in these plot consistent with the hurricane structure?**"
   ]
  },
  {
   "cell_type": "code",
   "execution_count": null,
   "id": "33275323",
   "metadata": {
    "tags": []
   },
   "outputs": [],
   "source": [
    "#\n",
    "# Question 8 code here, plus markdown code for discussion\n",
    "# "
   ]
  }
 ],
 "metadata": {
  "anaconda-cloud": {},
  "jupytext": {
   "notebook_metadata_filter": "all,-language_info,-toc,-latex_envs",
   "text_representation": {
    "extension": ".md",
    "format_name": "myst",
    "format_version": 0.13,
    "jupytext_version": "1.14.0"
   }
  },
  "kernelspec": {
   "display_name": "Python 3 (ipykernel)",
   "language": "python",
   "name": "python3"
  },
  "source_map": [
   16,
   50,
   57,
   70,
   112,
   120,
   130,
   136,
   140,
   148,
   154,
   165,
   171,
   180,
   188,
   194,
   202,
   232,
   244,
   252,
   265
  ]
 },
 "nbformat": 4,
 "nbformat_minor": 5
}