{
 "cells": [
  {
   "cell_type": "markdown",
   "id": "fa90d6e5",
   "metadata": {
    "user_expressions": []
   },
   "source": [
    "(week8:zoom_landsat)=\n",
    "# Clipping and saving landsat scenes\n",
    "\n",
    "In this notebook we read in the large (3660 x 3660 pixel) landsat band5 file we downloaded \n",
    "in the {ref}`week7:hls` notebook from week7.  That file is 14 Mbytes, and if we want a couple\n",
    "dozen landsat scenes over the course of a decade, it would be good to reduce the file size\n",
    "by a factor of 3-4 if possible.  One way to do that is to clip only that part of the scene\n",
    "we're interested in, and write the clipped region out as a smaller geoiff.  That's what this notebook does, using the `rioxarray.rio.clip_box` method."
   ]
  },
  {
   "cell_type": "code",
   "execution_count": null,
   "id": "963ab1ca",
   "metadata": {},
   "outputs": [],
   "source": [
    "import numpy\n",
    "from pathlib  import Path\n",
    "from matplotlib import pyplot as plt\n",
    "import numpy as np\n",
    "from copy import copy\n",
    "import rioxarray\n",
    "import xarray\n",
    "import a301_lib"
   ]
  },
  {
   "cell_type": "markdown",
   "id": "a7023e68",
   "metadata": {
    "user_expressions": []
   },
   "source": [
    "## Open the band 5 image and read it in to a DataArray"
   ]
  },
  {
   "cell_type": "code",
   "execution_count": null,
   "id": "2907a83b",
   "metadata": {},
   "outputs": [],
   "source": [
    "band_name = 'B05'\n",
    "infile = a301_lib.sat_data / f\"pha/landsat/vancouver_landsat8_{band_name}.tif\"\n",
    "the_band = rioxarray.open_rasterio(infile,masked=True) \n",
    "the_band"
   ]
  },
  {
   "cell_type": "markdown",
   "id": "0935220d",
   "metadata": {
    "user_expressions": []
   },
   "source": [
    "## Scale and histogram the scene using the `scale_factor`\n",
    "\n",
    "The data are stored as integer values, we need to divide by 10,000 to convert\n",
    "to surface reflectivities.  Make sure the band 5 values look reasonable"
   ]
  },
  {
   "cell_type": "code",
   "execution_count": null,
   "id": "cc247666",
   "metadata": {},
   "outputs": [],
   "source": [
    "the_band.scale_factor"
   ]
  },
  {
   "cell_type": "code",
   "execution_count": null,
   "id": "d363b9e3",
   "metadata": {},
   "outputs": [],
   "source": [
    "scaled_band = the_band*the_band.scale_factor\n",
    "masked_band = scaled_band"
   ]
  },
  {
   "cell_type": "code",
   "execution_count": null,
   "id": "84da4f65",
   "metadata": {},
   "outputs": [],
   "source": [
    "fig, ax = plt.subplots(1,1)\n",
    "masked_band.plot.hist(ax = ax)\n",
    "ax.set(title=\"band 5 reflectivities\");"
   ]
  },
  {
   "cell_type": "markdown",
   "id": "ba8cb424",
   "metadata": {
    "user_expressions": []
   },
   "source": [
    "### Use imshow to make a grayscale image\n",
    "\n",
    "Looks familiar"
   ]
  },
  {
   "cell_type": "code",
   "execution_count": null,
   "id": "a0800f7c",
   "metadata": {},
   "outputs": [],
   "source": [
    "pal = copy(plt.get_cmap(\"Greys_r\"))\n",
    "pal.set_bad(\"0.75\")  # 75% grey for out-of-map cells\n",
    "pal.set_over(\"w\")  # color cells > vmax red\n",
    "pal.set_under(\"k\")  # color cells < vmin black\n",
    "vmin = 0.0  #anything under this is colored black\n",
    "vmax = 0.8  #anything over this is colored red\n",
    "from matplotlib.colors import Normalize\n",
    "the_norm = Normalize(vmin=vmin, vmax=vmax, clip=False)"
   ]
  },
  {
   "cell_type": "code",
   "execution_count": null,
   "id": "3712c1eb",
   "metadata": {},
   "outputs": [],
   "source": [
    "fig, ax = plt.subplots(1,1, figsize=(10,10))\n",
    "masked_band.plot(ax=ax, cmap=pal, norm = the_norm)\n",
    "ax.set_title(f\"Landsat band {band_name}\")"
   ]
  },
  {
   "cell_type": "markdown",
   "id": "44618f49",
   "metadata": {
    "user_expressions": []
   },
   "source": [
    "## Create the cartopy map projection\n",
    "\n",
    "As in {ref}`week7:hls` we're going to need to add the image bounds to the cartopy crs"
   ]
  },
  {
   "cell_type": "code",
   "execution_count": null,
   "id": "7428291a",
   "metadata": {},
   "outputs": [],
   "source": [
    "from pyresample.utils.cartopy import Projection\n",
    "cartopy_crs = Projection(the_band.rio.crs, the_band.rio.bounds())\n",
    "cartopy_crs"
   ]
  },
  {
   "cell_type": "markdown",
   "id": "550385e1",
   "metadata": {
    "user_expressions": []
   },
   "source": [
    "## Clip the raster to a 7 x 8 $km^2$ region centered on UBC\n",
    "\n",
    "In the cells below we get the x,y corners of subset of the scene that\n",
    "is centered on ubc and extends 8 km north/south and 7 km east/west.  To do this\n",
    "we transform the lon,lat coordinate into map coordinates, which are given in meters."
   ]
  },
  {
   "cell_type": "code",
   "execution_count": null,
   "id": "fc120dc9",
   "metadata": {},
   "outputs": [],
   "source": [
    "import cartopy.crs as ccrs\n",
    "import cartopy"
   ]
  },
  {
   "cell_type": "code",
   "execution_count": null,
   "id": "a928be8b",
   "metadata": {},
   "outputs": [],
   "source": [
    "#van_lon, van_lat = [-123.1207, 49.2827]\n",
    "ubc_lon, ubc_lat = -123.2460, 49.2606\n",
    "van_x, van_y = cartopy_crs.transform_point(ubc_lon,ubc_lat,ccrs.Geodetic())\n",
    "van_x, van_y"
   ]
  },
  {
   "cell_type": "markdown",
   "id": "77e7a95f",
   "metadata": {
    "user_expressions": []
   },
   "source": [
    "### make the bounding box\n",
    "\n",
    "crop this big scene so that we've got mostly Point Grey in the image.  We make a box that extends\n",
    "2 km west, 5 km east, 3 km north and 5 km sounth of the center of UBC"
   ]
  },
  {
   "cell_type": "code",
   "execution_count": null,
   "id": "6d70fe97",
   "metadata": {},
   "outputs": [],
   "source": [
    "ll_x = van_x - 2000\n",
    "ll_y = van_y - 6000\n",
    "ur_x = van_x + 5000\n",
    "ur_y = van_y + 3000"
   ]
  },
  {
   "cell_type": "code",
   "execution_count": null,
   "id": "d81b0498",
   "metadata": {},
   "outputs": [],
   "source": [
    "bounding_box = ll_x, ll_y, ur_x, ur_y"
   ]
  },
  {
   "cell_type": "markdown",
   "id": "dbfed79b",
   "metadata": {
    "user_expressions": []
   },
   "source": [
    "### use a list expansion (*bounding_box) to pass the box\n",
    "\n",
    "Recall in week 5 we went over [list expansion](https://note.nkmk.me/en/python-argument-expand/).\n",
    "Use it here to pass 4 expanded list members to the `clip_box` function\n",
    "\n",
    "The bounding box clipping takes the image size down from 3660 rows x 3660 columns\n",
    "to 301 rows x 234 columns"
   ]
  },
  {
   "cell_type": "code",
   "execution_count": null,
   "id": "09b37c6c",
   "metadata": {},
   "outputs": [],
   "source": [
    "ubc = masked_band.rio.clip_box(*bounding_box)\n",
    "ubc"
   ]
  },
  {
   "cell_type": "markdown",
   "id": "8e5d011d",
   "metadata": {
    "user_expressions": []
   },
   "source": [
    "### Check the xarray to see if it's correct\n",
    "\n",
    "Use rioxarray to make quick check on the clipped scene"
   ]
  },
  {
   "cell_type": "code",
   "execution_count": null,
   "id": "ddbad436",
   "metadata": {},
   "outputs": [],
   "source": [
    "fig, ax = plt.subplots(1,1, figsize=(10,10))\n",
    "ubc.plot(ax=ax, cmap=pal, norm = the_norm)\n",
    "ax.set_title(f\"Landsat band {band_name}\");"
   ]
  },
  {
   "cell_type": "markdown",
   "id": "c489700a",
   "metadata": {
    "user_expressions": []
   },
   "source": [
    "## Write a new geotiff\n",
    "\n",
    "To write the clipped image as a geotiff, we need to construct a new xarray DataArray, with data, dims, coords and attrs.\n",
    "After that is constructed we can use rioxarray to add the affine transform and the crs."
   ]
  },
  {
   "cell_type": "markdown",
   "id": "22eeb187",
   "metadata": {
    "user_expressions": []
   },
   "source": [
    "### Step 1: Construct the new affine transform\n",
    "\n",
    "Recall how we constructed the  [affine transform](http://www.perrygeo.com/python-affine-transforms.html) in {ref}`week6:geotiffs`.  The pixel size\n",
    "remains the same, but we've changed the upper left corner of the image, and so we need new corner coordinates for the uperleft corner values c and f of the transform.  Since the image is rectangular in map coords, we can just use the lower left and upper right coordinates of the bounding box\n",
    "for the upper left corner."
   ]
  },
  {
   "cell_type": "code",
   "execution_count": null,
   "id": "4e8fc724",
   "metadata": {},
   "outputs": [],
   "source": [
    "from affine import Affine\n",
    "orig = the_band.rio.transform()\n",
    "a,b,d,e = orig.a, orig.b, orig.d, orig.e\n",
    "c = ll_x  # upper left x\n",
    "f = ur_y  # uper left y\n",
    "new_transform = Affine(a,b,c,d,e,f)\n",
    "new_transform"
   ]
  },
  {
   "cell_type": "markdown",
   "id": "162f6993",
   "metadata": {
    "user_expressions": []
   },
   "source": [
    "### Step 2: Construct the new coords\n",
    "\n",
    "We need the map coordinates for the pixel x and y dimensions.  We could get these using the affine transform,\n",
    "but rioxarray has a utility function that does this, called `affine_to_coords`.  It takes the affine transform\n",
    "and the height and width of the clipped raster image and figures out the pixel coordinates."
   ]
  },
  {
   "cell_type": "code",
   "execution_count": null,
   "id": "980a0587",
   "metadata": {},
   "outputs": [],
   "source": [
    "from rioxarray.rioxarray import affine_to_coords\n",
    "help(affine_to_coords)"
   ]
  },
  {
   "cell_type": "code",
   "execution_count": null,
   "id": "8ba921d2",
   "metadata": {},
   "outputs": [],
   "source": [
    "band, height, width = ubc.data.shape\n",
    "coords = affine_to_coords(new_transform,width,height)"
   ]
  },
  {
   "cell_type": "markdown",
   "id": "db2b7746",
   "metadata": {
    "user_expressions": []
   },
   "source": [
    "### Step 3: create the data array\n",
    "\n",
    "Make the xarray DataArray -- for the attrs, copy the full set of attributes that are attached to the `the_band` xarray."
   ]
  },
  {
   "cell_type": "code",
   "execution_count": null,
   "id": "1b684f82",
   "metadata": {},
   "outputs": [],
   "source": [
    "clipped_ds=xarray.DataArray(ubc.data,coords=coords,\n",
    "                            dims=ubc.dims,\n",
    "                            attrs=the_band.attrs)"
   ]
  },
  {
   "cell_type": "code",
   "execution_count": null,
   "id": "34521f5a",
   "metadata": {},
   "outputs": [],
   "source": [
    "clipped_ds"
   ]
  },
  {
   "cell_type": "markdown",
   "id": "86d3fbb9",
   "metadata": {
    "user_expressions": []
   },
   "source": [
    "### Step 4: add the crs and transform\n",
    "\n",
    "`inplace=True` means overwrite the `clipped_ds` xarray instead of returning a new array.  This can\n",
    "save memory for large arrays."
   ]
  },
  {
   "cell_type": "code",
   "execution_count": null,
   "id": "444d6384",
   "metadata": {},
   "outputs": [],
   "source": [
    "clipped_ds.rio.write_crs(the_band.rio.crs, inplace=True)\n",
    "clipped_ds.rio.write_transform(new_transform, inplace=True);"
   ]
  },
  {
   "cell_type": "markdown",
   "id": "f23aa28d",
   "metadata": {
    "user_expressions": []
   },
   "source": [
    "### Write out the geotiff\n",
    "\n",
    "Once we've got the full DataArray, we can write the geotiff out in one line"
   ]
  },
  {
   "cell_type": "code",
   "execution_count": null,
   "id": "a2c7f6ad",
   "metadata": {},
   "outputs": [],
   "source": [
    "outfile = a301_lib.sat_data / \"pha/week8_clipped_vancouver.tif\"\n",
    "clipped_ds.rio.to_raster(outfile)"
   ]
  },
  {
   "cell_type": "markdown",
   "id": "9edb92f7",
   "metadata": {
    "user_expressions": []
   },
   "source": [
    "## Read in the geotiff and plot to check\n",
    "\n",
    "Double check to make sure we can open the cipped file and read it back in"
   ]
  },
  {
   "cell_type": "code",
   "execution_count": null,
   "id": "3be72e23",
   "metadata": {},
   "outputs": [],
   "source": [
    "test_ds = rioxarray.open_rasterio(outfile)\n",
    "fig, ax= plt.subplots(1,1, figsize=(10,10))\n",
    "test_ds.plot(ax=ax, norm=the_norm, cmap=pal)\n",
    "ax.set(title=\"wv ir 5km using rioxarray\");"
   ]
  },
  {
   "cell_type": "code",
   "execution_count": null,
   "id": "42c05d80",
   "metadata": {},
   "outputs": [],
   "source": [
    "test_ds.rio.bounds()"
   ]
  }
 ],
 "metadata": {
  "jupytext": {
   "text_representation": {
    "extension": ".md",
    "format_name": "myst",
    "format_version": 0.13,
    "jupytext_version": "1.14.0"
   }
  },
  "kernelspec": {
   "display_name": "Python 3 (ipykernel)",
   "language": "python",
   "name": "python3"
  },
  "source_map": [
   14,
   25,
   36,
   40,
   47,
   54,
   58,
   63,
   69,
   75,
   86,
   92,
   98,
   104,
   112,
   117,
   124,
   131,
   138,
   142,
   152,
   157,
   163,
   169,
   176,
   184,
   194,
   202,
   207,
   212,
   218,
   224,
   228,
   235,
   240,
   246,
   251,
   257,
   264
  ]
 },
 "nbformat": 4,
 "nbformat_minor": 5
}