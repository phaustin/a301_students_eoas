{
 "cells": [
  {
   "cell_type": "markdown",
   "id": "8381d8a9",
   "metadata": {
    "user_expressions": []
   },
   "source": [
    "(week8:pandas_worksheet)=\n",
    "# Week8 worksheet -- using pandas \n",
    "\n",
    "## Introduction\n",
    "\n",
    "Feel free to work in groups or individually on this.  For each of the three questions below, the idea\n",
    "is to figure out what the code is doing and explain it.  Upload the notebook with answers to the `~/shared_files/your_initials` folder on a301hub\n",
    "\n",
    "To produce your own version of my \"vancouver_search.csv\" file, rerun the current version of {ref}`week8:fetch`\n",
    "with your own lat/lon point.  You can stick with mine for this tutorial or use your own.\n",
    "\n",
    "The notebook, groups all the satellite scenes by year and season, then goes over all the grouped dataframes,\n",
    "finding the scene in each season with the smallest cloud fraction, and builds a new dataframe with\n",
    "just those scenes."
   ]
  },
  {
   "cell_type": "code",
   "execution_count": null,
   "id": "98570c0d",
   "metadata": {},
   "outputs": [],
   "source": [
    "import numpy\n",
    "from pathlib  import Path\n",
    "import inspect\n",
    "\n",
    "from matplotlib import pyplot as plt\n",
    "import numpy as np\n",
    "from copy import copy\n",
    "\n",
    "import rioxarray\n",
    "import pandas as pd\n",
    "import a301_lib"
   ]
  },
  {
   "cell_type": "markdown",
   "id": "75029256",
   "metadata": {
    "user_expressions": []
   },
   "source": [
    "## Read in the dataframe\n",
    "\n",
    "We saved the dataframe from {ref}`week8:fetch` as a csv file.  We'll set the dataframe index to the scene column\n",
    "to make it easier to locate particular scenes"
   ]
  },
  {
   "cell_type": "code",
   "execution_count": null,
   "id": "34d9de2a",
   "metadata": {},
   "outputs": [],
   "source": [
    "csv_filename = a301_lib.data_share / \"pha/landsat/vancouver_search.csv\"\n",
    "the_df = pd.read_csv(csv_filename)\n",
    "the_df = the_df.set_index('scene', drop=False)\n",
    "the_df.head()"
   ]
  },
  {
   "cell_type": "markdown",
   "id": "0524504a",
   "metadata": {
    "user_expressions": []
   },
   "source": [
    "## Question 1:  What does \"drop\" do in the cell above?\n",
    "\n",
    "`\n",
    "\n",
    "\n",
    "\n",
    "\n",
    "`"
   ]
  },
  {
   "cell_type": "markdown",
   "id": "5bf58414",
   "metadata": {
    "user_expressions": []
   },
   "source": [
    "## Find the low-cloud scenes\n",
    "\n",
    "We don't have a huge number of scenes, so accept any that have less than 50% cloud cover and hope that UBC isn't under a cloud"
   ]
  },
  {
   "cell_type": "code",
   "execution_count": null,
   "id": "41ed0094",
   "metadata": {},
   "outputs": [],
   "source": [
    "clear_df = the_df[the_df['cloud_cover'] < 50]\n",
    "len(clear_df)"
   ]
  },
  {
   "cell_type": "markdown",
   "id": "1563acc4",
   "metadata": {
    "user_expressions": []
   },
   "source": [
    "## Separate the seasons with groupby\n",
    "\n",
    "Below we use the [pandas groupby operator](https://realpython.com/pandas-groupby/)\n",
    "to produce a new set of dataframes that all have the same season"
   ]
  },
  {
   "cell_type": "code",
   "execution_count": null,
   "id": "f07cb87e",
   "metadata": {},
   "outputs": [],
   "source": [
    "season_groups = clear_df.groupby(['year','season'])\n",
    "#\n",
    "# season_groups is a set of dataframes, each also having a tuple giving their year and season\n",
    "# we can read them into a list, and then turn that list into a dictionary of dataframes\n",
    "#\n",
    "season_dict = dict(list(season_groups))\n",
    "season_dict.keys()"
   ]
  },
  {
   "cell_type": "markdown",
   "id": "36139db1",
   "metadata": {
    "user_expressions": []
   },
   "source": [
    "Uncomment the code below to dump the full dictionary"
   ]
  },
  {
   "cell_type": "code",
   "execution_count": null,
   "id": "d031c158",
   "metadata": {},
   "outputs": [],
   "source": [
    "# for the_key, a_df in season_dict.items():\n",
    "#     print(the_key, a_df)"
   ]
  },
  {
   "cell_type": "markdown",
   "id": "5c4bd6ce",
   "metadata": {
    "user_expressions": []
   },
   "source": [
    "## Find the \"most interesting\" scene for each season"
   ]
  },
  {
   "cell_type": "code",
   "execution_count": null,
   "id": "ee34c1e2",
   "metadata": {},
   "outputs": [],
   "source": [
    "def find_min(a_df):\n",
    "    \"\"\"\n",
    "    What does this function do?\n",
    "    \"\"\"\n",
    "    min_row = a_df['cloud_cover'].argmin()\n",
    "    return min_row\n",
    "\n",
    "#\n",
    "# explain this loop\n",
    "#\n",
    "out_list = []\n",
    "for the_key, a_df in season_dict.items():\n",
    "    min_row = find_min(a_df)\n",
    "    min_scene = a_df.iloc[min_row]\n",
    "    the_series = pd.Series(min_scene)\n",
    "    out_list.append(the_series)\n",
    "    \n",
    "new_frame = pd.DataFrame.from_records(out_list, index='scene')\n",
    "\n",
    "new_frame.head()"
   ]
  },
  {
   "cell_type": "markdown",
   "id": "70d8da2c",
   "metadata": {
    "user_expressions": []
   },
   "source": [
    "## Question 2: Explain in words what is happening in the for loop above\n",
    "`\n",
    "\n",
    "\n",
    "\n",
    "\n",
    "\n",
    "\n",
    "\n",
    "\n",
    "`"
   ]
  },
  {
   "cell_type": "code",
   "execution_count": null,
   "id": "523c4c67",
   "metadata": {},
   "outputs": [],
   "source": [
    "def sort_col(row):\n",
    "    sort_dict = {'djf':1,'mam':2,'jja':3,'son':4}\n",
    "    sort_key = sort_dict[row['season']]\n",
    "    row['sort_key'] = sort_key\n",
    "    return row\n",
    "\n",
    "sort_frame = new_frame.apply(sort_col,axis=1)\n",
    "\n",
    "    "
   ]
  },
  {
   "cell_type": "code",
   "execution_count": null,
   "id": "c6ee2751",
   "metadata": {},
   "outputs": [],
   "source": [
    "sorted_df = sort_frame.sort_values(by=['year','sort_key'])\n",
    "sorted_df.drop('sort_key',axis=1,inplace=True)\n",
    "sorted_df.head()"
   ]
  },
  {
   "cell_type": "markdown",
   "id": "ae579da3",
   "metadata": {
    "user_expressions": []
   },
   "source": [
    "## Question 3: describe how the sorting works in the two cells above\n",
    "\n",
    "Also, why is the scene index now out of chronological order?\n",
    "`\n",
    "\n",
    "\n",
    "\n",
    "\n",
    "\n",
    "\n",
    "`\n",
    "\n",
    "`"
   ]
  },
  {
   "cell_type": "code",
   "execution_count": null,
   "id": "5682d897",
   "metadata": {},
   "outputs": [],
   "source": []
  }
 ],
 "metadata": {
  "jupytext": {
   "text_representation": {
    "extension": ".md",
    "format_name": "myst",
    "format_version": 0.13,
    "jupytext_version": "1.14.5"
   }
  },
  "kernelspec": {
   "display_name": "Python 3 (ipykernel)",
   "language": "python",
   "name": "python3"
  },
  "source_map": [
   14,
   31,
   45,
   52,
   59,
   70,
   76,
   81,
   88,
   98,
   102,
   107,
   111,
   134,
   148,
   160,
   166,
   182
  ]
 },
 "nbformat": 4,
 "nbformat_minor": 5
}