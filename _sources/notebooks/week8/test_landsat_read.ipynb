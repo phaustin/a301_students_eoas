{
 "cells": [
  {
   "cell_type": "markdown",
   "id": "1d21010c",
   "metadata": {},
   "source": [
    "(week8:test_landsat)=\n",
    "# simple test of `get_landsat_scene`\n",
    "\n",
    "See [landsat_read source code](https://phaustin.github.io/a301_web/full_listing.html#sat_lib.landsat_read.get_landsat_scene)\n",
    "for details"
   ]
  },
  {
   "cell_type": "code",
   "execution_count": null,
   "id": "de24e4bd",
   "metadata": {},
   "outputs": [],
   "source": [
    "from matplotlib import pyplot as plt\n",
    "from sat_lib.landsat_read import get_landsat_scene\n",
    "from rasterio.windows import Window"
   ]
  },
  {
   "cell_type": "code",
   "execution_count": null,
   "id": "d3fcffdb",
   "metadata": {},
   "outputs": [],
   "source": [
    "import os\n",
    "os.environ[\"GDAL_HTTP_COOKIEFILE\"] = \"./cookies.txt\"\n",
    "os.environ[\"GDAL_HTTP_COOKIEJAR\"] = \"./cookies.txt\""
   ]
  },
  {
   "cell_type": "code",
   "execution_count": null,
   "id": "8bc83f85",
   "metadata": {},
   "outputs": [],
   "source": [
    "date = \"2015-06-14\"\n",
    "lon, lat  = -123.2460, 49.2606\n",
    "the_window = Window(col_off=2671, row_off=1352, width=234, height=301)\n",
    "scenes_dict = get_landsat_scene(date, lon, lat, the_window) "
   ]
  },
  {
   "cell_type": "code",
   "execution_count": null,
   "id": "b851e4fa",
   "metadata": {},
   "outputs": [],
   "source": [
    "fig, ax = plt.subplots(1,1)\n",
    "#get the first 10 characters of the time attribute for the title\n",
    "the_date = scenes_dict['fmask_ds'].attrs['day']\n",
    "scenes_dict['fmask_ds'].plot()\n",
    "ax.set_title(f\"Land/cloud mask for Landsat {the_date}\");"
   ]
  }
 ],
 "metadata": {
  "jupytext": {
   "text_representation": {
    "extension": ".md",
    "format_name": "myst",
    "format_version": 0.13,
    "jupytext_version": "1.14.5"
   }
  },
  "kernelspec": {
   "display_name": "Python 3 (ipykernel)",
   "language": "python",
   "name": "python3"
  },
  "source_map": [
   14,
   22,
   28,
   34,
   41
  ]
 },
 "nbformat": 4,
 "nbformat_minor": 5
}