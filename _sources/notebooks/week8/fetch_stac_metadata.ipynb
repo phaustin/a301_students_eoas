{
 "cells": [
  {
   "cell_type": "markdown",
   "id": "b5dfff02",
   "metadata": {
    "user_expressions": []
   },
   "source": [
    "(week8:fetch)=\n",
    "# Getting multiple scenes using stac\n",
    "\n",
    "## Introduction\n",
    "\n",
    "In this notebook we construct a set of pandas dataframes that contains a list\n",
    "of all low-cloudcover satellite scenes for ubc, along with their datetime,\n",
    "month, and season (winter, spring, summer, fall).  Before starting on this\n",
    "notebook, it would be good to review {ref}`week6:pandas_intro`.\n",
    "\n",
    "\n",
    "March 17, 2023:  introduced \"season_year\" column to account for the fact that winter begins december but\n",
    "continues into the next year."
   ]
  },
  {
   "cell_type": "code",
   "execution_count": null,
   "id": "dd1222ee",
   "metadata": {},
   "outputs": [],
   "source": [
    "import numpy\n",
    "from pathlib  import Path\n",
    "import inspect\n",
    "\n",
    "from matplotlib import pyplot as plt\n",
    "import numpy as np\n",
    "from copy import copy\n",
    "\n",
    "import rioxarray\n",
    "from pystac_client import Client\n",
    "from shapely.geometry import Point\n",
    "import a301_lib"
   ]
  },
  {
   "cell_type": "markdown",
   "id": "07e6345c",
   "metadata": {
    "user_expressions": []
   },
   "source": [
    "## Ask for all UBC scenes from 2013 to 2022"
   ]
  },
  {
   "cell_type": "code",
   "execution_count": null,
   "id": "c933965c",
   "metadata": {},
   "outputs": [],
   "source": [
    "the_lon, the_lat = -123.2460, 49.2606\n",
    "location = Point(the_lon, the_lat)\n",
    "date_range = \"2013-01-01/2022-12-31\"\n",
    "#\n",
    "# filename to save the dataframe for future analysis\n",
    "#\n",
    "csv_filename = a301_lib.data_share / \"pha/landsat/vancouver_search.csv\""
   ]
  },
  {
   "cell_type": "code",
   "execution_count": null,
   "id": "66e9cf90",
   "metadata": {},
   "outputs": [],
   "source": [
    "# connect to the STAC endpoint\n",
    "cmr_api_url = \"https://cmr.earthdata.nasa.gov/stac/LPCLOUD\"\n",
    "client = Client.open(cmr_api_url)"
   ]
  },
  {
   "cell_type": "markdown",
   "id": "95e6b08c",
   "metadata": {
    "user_expressions": []
   },
   "source": [
    "## Start the search\n",
    "\n",
    "The client takes the search parameters as the following keywords:"
   ]
  },
  {
   "cell_type": "code",
   "execution_count": null,
   "id": "d1747e02",
   "metadata": {},
   "outputs": [],
   "source": [
    "search = client.search(\n",
    "    collections=[\"HLSL30.v2.0\"],\n",
    "    intersects=location,\n",
    "    datetime= date_range\n",
    ") \n",
    "search"
   ]
  },
  {
   "cell_type": "markdown",
   "id": "2722feb3",
   "metadata": {
    "user_expressions": []
   },
   "source": [
    "### get the metadata for search items\n",
    "\n",
    "This search should find 388 scenes that contain UBC"
   ]
  },
  {
   "cell_type": "code",
   "execution_count": null,
   "id": "04ed3862",
   "metadata": {},
   "outputs": [],
   "source": [
    "items = search.get_all_items()\n",
    "print(len(items))"
   ]
  },
  {
   "cell_type": "markdown",
   "id": "388fccb3",
   "metadata": {
    "user_expressions": []
   },
   "source": [
    "### Put the results into a list of scenes\n",
    "\n",
    "In this cell, we go over the properties for each scene\n",
    "and store them in a dict -- converting the datetime\n",
    "(which is retrieved as a string of characters) into\n",
    "a python datetime object using the `str_to_datetime` function"
   ]
  },
  {
   "cell_type": "code",
   "execution_count": null,
   "id": "61a8c6fb",
   "metadata": {},
   "outputs": [],
   "source": [
    "import pystac\n",
    "scene_list = []\n",
    "for index, value in enumerate(items):\n",
    "    props = value.properties\n",
    "    the_date = pystac.utils.str_to_datetime(props['datetime'])\n",
    "    scene_dict = dict(scene = index,\n",
    "                      cloud_cover = props['eo:cloud_cover'],\n",
    "                      datetime = the_date \n",
    "                       )\n",
    "    scene_list.append(scene_dict)\n",
    "    "
   ]
  },
  {
   "cell_type": "code",
   "execution_count": null,
   "id": "e3548cbc",
   "metadata": {},
   "outputs": [],
   "source": [
    "scene_list[0]"
   ]
  },
  {
   "cell_type": "markdown",
   "id": "8a1fd039",
   "metadata": {
    "user_expressions": []
   },
   "source": [
    "## Creating the dataframe\n",
    "\n",
    "We can make a dataframe from a list of dictionaries, using the `from_records` constructor"
   ]
  },
  {
   "cell_type": "code",
   "execution_count": null,
   "id": "38d0ab12",
   "metadata": {},
   "outputs": [],
   "source": [
    "import pandas as pd\n",
    "the_df = pd.DataFrame.from_records(scene_list)\n",
    "the_df.head()"
   ]
  },
  {
   "cell_type": "markdown",
   "id": "cf6e4634",
   "metadata": {
    "user_expressions": []
   },
   "source": [
    "## Add seasons and month columns to the clear_df\n",
    "\n",
    "The `make_seasoncol` function finds the season for each scene\n",
    "by using the month number -- January-December are months 1-12"
   ]
  },
  {
   "cell_type": "code",
   "execution_count": null,
   "id": "85fdaad8",
   "metadata": {},
   "outputs": [],
   "source": [
    "def make_seasoncol(row):\n",
    "    seasons = {'djf':[12,1,2],\n",
    "               'mam':[3,4,5],\n",
    "               'jja':[6,7,8],\n",
    "               'son':[9,10,11]}\n",
    "    for season,months in seasons.items():\n",
    "        month = row['datetime'].month\n",
    "        year = row['datetime'].year\n",
    "        if month in months:\n",
    "            #\n",
    "            # the winter of 2013 begins in\n",
    "            # december 2012.  So the year of the\n",
    "            # scene and the year of the season diverge\n",
    "            #\n",
    "            if month == 12:\n",
    "                row['season_year'] = year + 1\n",
    "            else:\n",
    "                row['season_year'] = year\n",
    "            row['season']=season\n",
    "            row['year']= year\n",
    "            row['month']= month\n",
    "            row['day']= row['datetime'].day\n",
    "    return row\n",
    "\n",
    "new_df = the_df.apply(make_seasoncol,axis=1)\n",
    "new_df = new_df[['scene','cloud_cover','season','year','season_year','month','day']]\n",
    "new_df.head()"
   ]
  },
  {
   "cell_type": "code",
   "execution_count": null,
   "id": "69d08085",
   "metadata": {},
   "outputs": [],
   "source": [
    "new_df.to_csv(csv_filename,index=False)"
   ]
  },
  {
   "cell_type": "markdown",
   "id": "902c9405",
   "metadata": {
    "user_expressions": []
   },
   "source": [
    "## Find the low-cloud scenes\n",
    "\n",
    "We don't have a huge number of scenes, so accept any that have less than 50% cloud cover and hope that UBC isn't under a cloud"
   ]
  },
  {
   "cell_type": "code",
   "execution_count": null,
   "id": "ee22c24a",
   "metadata": {},
   "outputs": [],
   "source": [
    "clear_df = the_df[the_df['cloud_cover'] < 50]\n",
    "len(clear_df)"
   ]
  },
  {
   "cell_type": "markdown",
   "id": "a1a70086",
   "metadata": {
    "user_expressions": []
   },
   "source": [
    "## Separate the seasons with groupby\n",
    "\n",
    "Below we use the pandas groupby operator https://realpython.com/pandas-groupby/\n",
    "to produce a new set of dataframes that all have the same season"
   ]
  },
  {
   "cell_type": "code",
   "execution_count": null,
   "id": "bfc97b56",
   "metadata": {},
   "outputs": [],
   "source": [
    "season_df = new_df.groupby(['season_year','season'])\n",
    "season_dict = dict(list(season_df))\n",
    "season_dict"
   ]
  },
  {
   "cell_type": "markdown",
   "id": "eaadb287",
   "metadata": {
    "user_expressions": []
   },
   "source": [
    "## Storing the dataframe as a csv file\n",
    "\n",
    "Since it takes a while to do this search, we'll save a copy of the dataframe for future reference"
   ]
  },
  {
   "cell_type": "code",
   "execution_count": null,
   "id": "b7d0745b",
   "metadata": {},
   "outputs": [],
   "source": [
    "csv_filename = a301_lib.data_share / \"pha/landsat/vancouver_search.csv\"\n",
    "the_df.to_csv(csv_filename,index=False)"
   ]
  },
  {
   "cell_type": "code",
   "execution_count": null,
   "id": "99a774be",
   "metadata": {},
   "outputs": [],
   "source": [
    "season_dict"
   ]
  },
  {
   "cell_type": "code",
   "execution_count": null,
   "id": "7ae9b2f5",
   "metadata": {},
   "outputs": [],
   "source": [
    "season_dict[(2014,'jja')]['cloud_cover']\n",
    "season_dict[(2014,'jja')].iloc[2]"
   ]
  }
 ],
 "metadata": {
  "jupytext": {
   "text_representation": {
    "extension": ".md",
    "format_name": "myst",
    "format_version": 0.13,
    "jupytext_version": "1.14.5"
   }
  },
  "kernelspec": {
   "display_name": "Python 3 (ipykernel)",
   "language": "python",
   "name": "python3"
  },
  "source_map": [
   14,
   30,
   45,
   49,
   59,
   65,
   71,
   80,
   86,
   91,
   100,
   114,
   118,
   124,
   130,
   137,
   167,
   171,
   177,
   182,
   189,
   195,
   201,
   206,
   210
  ]
 },
 "nbformat": 4,
 "nbformat_minor": 5
}