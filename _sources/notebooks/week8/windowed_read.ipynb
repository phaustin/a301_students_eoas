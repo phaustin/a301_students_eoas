{
 "cells": [
  {
   "cell_type": "markdown",
   "id": "8427542e",
   "metadata": {
    "user_expressions": []
   },
   "source": [
    "(week8:windowed)=\n",
    "# Reading landsat data with a rasterio window\n",
    "\n",
    "## Introduction\n",
    "\n",
    "In this notebook we demonstrate a new function called `get_landsat_scene` that\n",
    "takes a geometry lon/lat, a date, and a rasterio window and creates a dictionary\n",
    "with 3 DataArrays:  band4_ds, band5_ds and fmask_ds.  The fmask_ds DataArray is\n",
    "processed with a new function called `get_clear_mask` that is filled with\n",
    "1 where the pixel is underneath clear sky and on land, and np.nan if cloudy or over water.\n",
    "\n",
    "In the first part we show how to create a window using our original full image and clipped image\n",
    "from {ref}`week8:zoom_landsat`.  We check the window offsets by using it to make row and\n",
    "column indexes for  the\n",
    "raster and showing that it returns the clipped region.  Once we've got the window, we\n",
    "can use it to clip from the origin scene with `rio.isel_window`\n",
    "\n",
    "In the final part, we write `get_landsat_scene` and use it to download just the windowed\n",
    "DataArrays for band4, band5 and the Fmask."
   ]
  },
  {
   "cell_type": "code",
   "execution_count": null,
   "id": "b50f5967",
   "metadata": {},
   "outputs": [],
   "source": [
    "import numpy\n",
    "from pathlib  import Path\n",
    "import inspect\n",
    "\n",
    "from matplotlib import pyplot as plt\n",
    "import numpy as np\n",
    "from copy import copy\n",
    "\n",
    "import rioxarray\n",
    "from pystac_client import Client\n",
    "from shapely.geometry import Point\n",
    "import a301_lib\n",
    "\n",
    "from rasterio.windows import Window"
   ]
  },
  {
   "cell_type": "markdown",
   "id": "ab78f5f8",
   "metadata": {
    "user_expressions": []
   },
   "source": [
    "## Find the rasterio window\n",
    "\n",
    "From {ref}`week8:zoom_landsat` we've got a new clipped geotiff over a much smaller area of Point Grey.  We can teach rioxarray to only fetch data that fitis into this clipped\n",
    "window by using a [rasterio.window](https://rasterio.readthedocs.io/en/latest/topics/windowed-rw.html) which uses row and column offsets to specify the location of our\n",
    "window on the original raster."
   ]
  },
  {
   "cell_type": "markdown",
   "id": "0c068139",
   "metadata": {
    "user_expressions": []
   },
   "source": [
    "### Step 1: read in the original image and the clipped image"
   ]
  },
  {
   "cell_type": "code",
   "execution_count": null,
   "id": "97ccfc1a",
   "metadata": {},
   "outputs": [],
   "source": [
    "import a301_lib"
   ]
  },
  {
   "cell_type": "code",
   "execution_count": null,
   "id": "1758f4b0",
   "metadata": {},
   "outputs": [],
   "source": [
    "#\n",
    "# big original\n",
    "#\n",
    "landsat_dir = a301_lib.data_share / \"pha/landsat\"\n",
    "orig_file = landsat_dir / f\"vancouver_landsat8_B05.tif\"\n",
    "orig_ds = rioxarray.open_rasterio(orig_file,mask_and_scale=True)\n",
    "orig_transform = orig_ds.rio.transform()\n",
    "\n",
    "#\n",
    "# Point Grey clipped region\n",
    "#\n",
    "clipped_file = a301_lib.data_share / \"pha/week8_clipped_vancouver.tif\"\n",
    "clipped_ds = rioxarray.open_rasterio(clipped_file, mask_and_scale=True)\n",
    "clipped_transform = clipped_ds.rio.transform()\n",
    "clipped_bounds = clipped_ds.rio.bounds()"
   ]
  },
  {
   "cell_type": "code",
   "execution_count": null,
   "id": "0ae87335",
   "metadata": {},
   "outputs": [],
   "source": [
    "orig_transform"
   ]
  },
  {
   "cell_type": "markdown",
   "id": "c215659f",
   "metadata": {
    "user_expressions": []
   },
   "source": [
    "### Step 2: check the orig and clipped transforms\n",
    "\n",
    "Note that the upper left clipped window corner is east (480 km  instead of 399 km)\n",
    "and south (5459 km  instead of 5500 km) of the original upper left corner, as expected"
   ]
  },
  {
   "cell_type": "code",
   "execution_count": null,
   "id": "a69f7330",
   "metadata": {},
   "outputs": [],
   "source": [
    "orig_transform"
   ]
  },
  {
   "cell_type": "code",
   "execution_count": null,
   "id": "0c3d3dbb",
   "metadata": {},
   "outputs": [],
   "source": [
    "clipped_transform"
   ]
  },
  {
   "cell_type": "code",
   "execution_count": null,
   "id": "8026383e",
   "metadata": {},
   "outputs": [],
   "source": [
    "clipped_bounds"
   ]
  },
  {
   "cell_type": "markdown",
   "id": "8b63f4b5",
   "metadata": {
    "user_expressions": []
   },
   "source": [
    "### Step 3: turn the clipped image bounds into a rasterio window\n",
    "\n",
    "Windows are constructed by passing row and column offests, the raster width and the raster\n",
    "height, all in pixel counts.\n",
    "\n",
    "We can use a rasterio utility function [rasterio.windows_from_bounds](https://rasterio.readthedocs.io/en/stable/api/rasterio.windows.html#rasterio.windows.from_bounds)\n",
    "to create a window from the clipped region coordinates\n",
    "and the original image transform"
   ]
  },
  {
   "cell_type": "code",
   "execution_count": null,
   "id": "4d73f060",
   "metadata": {},
   "outputs": [],
   "source": [
    "import rasterio\n",
    "the_window = rasterio.windows.from_bounds(*clipped_bounds, \n",
    "                                        transform=orig_transform)\n",
    "the_window"
   ]
  },
  {
   "cell_type": "markdown",
   "id": "8cbe3115",
   "metadata": {
    "user_expressions": []
   },
   "source": [
    "rasterio is telling us that our clipped window starts 2761 columns to the right\n",
    "and 1352 rows down from the upper left corner of the original raster."
   ]
  },
  {
   "cell_type": "markdown",
   "id": "b66b2b82",
   "metadata": {
    "user_expressions": []
   },
   "source": [
    "### Step 4: make sure the window column and row offsets give us back our region"
   ]
  },
  {
   "cell_type": "markdown",
   "id": "12075c03",
   "metadata": {
    "user_expressions": []
   },
   "source": [
    "Here is a quick way to check that our offsets make sense.\n",
    "\n",
    "First turn row and column  offsets, the width and the height into integers using\n",
    "[window.round_offsets](https://rasterio.readthedocs.io/en/latest/api/rasterio.windows.html#rasterio.windows.Window.round_offsets)\n",
    "and [window.round_lengths](https://rasterio.readthedocs.io/en/latest/api/rasterio.windows.html#rasterio.windows.Window.round_lengths)"
   ]
  },
  {
   "cell_type": "code",
   "execution_count": null,
   "id": "c90cc468",
   "metadata": {},
   "outputs": [],
   "source": [
    "the_window = the_window.round_lengths()\n",
    "the_window = the_window.round_offsets()\n",
    "the_window"
   ]
  },
  {
   "cell_type": "markdown",
   "id": "44ee1a22",
   "metadata": {
    "user_expressions": []
   },
   "source": [
    "Next turn these into array slices using [windows.toslices](https://rasterio.readthedocs.io/en/latest/api/rasterio.windows.html#rasterio.windows.Window.toslices)\n",
    "\n",
    "A python slice object allows us to pass around index ranges like `1353:1673` as objects\n",
    "like `slice(1352, 1653, None)` and use them to index arrays.  The three values of\n",
    "a slice object are `start,stop,step`, and `None` is the same as a stepsize of +1"
   ]
  },
  {
   "cell_type": "code",
   "execution_count": null,
   "id": "410c71db",
   "metadata": {},
   "outputs": [],
   "source": [
    "row_slice, col_slice = the_window.toslices()\n",
    "row_slice, col_slice"
   ]
  },
  {
   "cell_type": "markdown",
   "id": "16c5f8dc",
   "metadata": {
    "user_expressions": []
   },
   "source": [
    "And finally use these slice objects to index the full landsat scene and see if we get our windowed\n",
    "image back:"
   ]
  },
  {
   "cell_type": "code",
   "execution_count": null,
   "id": "62ca9506",
   "metadata": {},
   "outputs": [],
   "source": [
    "check_window = orig_ds[0,row_slice,col_slice]  #same as orig_ds[0,1352:1652,2671:2905]\n",
    "check_window.plot();"
   ]
  },
  {
   "cell_type": "markdown",
   "id": "f7c89154",
   "metadata": {
    "user_expressions": []
   },
   "source": [
    "So it looks like the window is correct."
   ]
  },
  {
   "cell_type": "markdown",
   "id": "f40be941",
   "metadata": {
    "user_expressions": []
   },
   "source": [
    "## Reading data using the window"
   ]
  },
  {
   "cell_type": "markdown",
   "id": "2849a16a",
   "metadata": {
    "user_expressions": []
   },
   "source": [
    "The payoff for defining the window region is that you can use it to reduce the landsat band to your clipped region with a single line of code. \n",
    "\n",
    "Here is how to use [rioxarray.isel_window](https://corteva.github.io/rioxarray/html/rioxarray.html#rioxarray.rioxarray.XRasterBase.isel_window)\n",
    "to clip an image -- it's pretty simple:"
   ]
  },
  {
   "cell_type": "code",
   "execution_count": null,
   "id": "2d34cb2a",
   "metadata": {},
   "outputs": [],
   "source": [
    "new_clip = orig_ds.rio.isel_window(the_window)\n",
    "new_clip"
   ]
  },
  {
   "cell_type": "markdown",
   "id": "4164f309",
   "metadata": {
    "user_expressions": []
   },
   "source": [
    "## Wrapping things up in functions\n",
    "\n",
    "This is now getting complicated enough to write a function to encapsulate it and add to sat_lib.\n",
    "Below we define `get_landsat_scene` which takes a string date,lon, lat and a rasterio window\n",
    "and returns a dictionary with clipped landsat bands 4, 5 and a mask that identifies all the\n",
    "clear pixels over land"
   ]
  },
  {
   "cell_type": "markdown",
   "id": "2e2fae6b",
   "metadata": {
    "user_expressions": []
   },
   "source": [
    "The cell below has to be run before fetching scenes from NASA"
   ]
  },
  {
   "cell_type": "code",
   "execution_count": null,
   "id": "1acee608",
   "metadata": {},
   "outputs": [],
   "source": [
    "import os\n",
    "os.environ[\"GDAL_HTTP_COOKIEFILE\"] = \"./cookies.txt\"\n",
    "os.environ[\"GDAL_HTTP_COOKIEJAR\"] = \"./cookies.txt\""
   ]
  },
  {
   "cell_type": "markdown",
   "id": "23213bd2",
   "metadata": {
    "user_expressions": []
   },
   "source": [
    "### Function to mark all clear pixels over land\n",
    "\n",
    "This function takes the fmask DataArray and returns a new array of the\n",
    "same shape, but with 1 where there is no cloud over land and np.nan\n",
    "otherwise"
   ]
  },
  {
   "cell_type": "code",
   "execution_count": null,
   "id": "b3e6d9d2",
   "metadata": {},
   "outputs": [],
   "source": [
    "import copy\n",
    "def get_clear_mask(fmask_ds):\n",
    "    \"\"\"\n",
    "    return a DataArray copy of fmask_ds but with the pixel values set to\n",
    "    1 where there is both no cloud and pixel is land, and np.nan where there is cloud\n",
    "    or the pixel is water\n",
    "    \n",
    "    The bit patterns from the HSL QA mask are:\n",
    "     \n",
    "    Bits are listed from the MSB (bit 7) to the LSB (bit 0): \n",
    "    7-6    aerosol:\n",
    "           00 - climatology\n",
    "           01 - low\n",
    "           10 - average\n",
    "           11 - high\n",
    "    5      water\n",
    "    4      snow/ice\n",
    "    3      cloud shadow\n",
    "    2      adjacent to cloud\n",
    "    1      cloud\n",
    "    0      cirrus cloud\n",
    "    \n",
    "    so a bit mask of 0b00100011 when anded with a QA value\n",
    "    will return non-zero when there is water, a cloud, or a cirrus cloud\n",
    "    \"\"\"\n",
    "    #\n",
    "    # convert float32 to unsigned 8 bit integer\n",
    "    #\n",
    "    bit_mask = fmask_ds.data.astype(np.uint8)\n",
    "    ref_mask = np.zeros_like(bit_mask)\n",
    "    #\n",
    "    # don't destroy original fmask DataArray\n",
    "    #\n",
    "    clearmask_ds = copy.deepcopy(fmask_ds)\n",
    "    #\n",
    "    # work with unsigned 8 bit values instead of\n",
    "    # base 10 floats\n",
    "    #\n",
    "    bit_mask = fmask_ds.data.astype(np.uint8)\n",
    "    #\n",
    "    # create a reference mask that will select\n",
    "    # bits 5, 1 and 0, which we want tocheck\n",
    "    #\n",
    "    ref_mask = np.zeros_like(bit_mask)\n",
    "    ref_mask[...] = 0b00100011  #find water (bit 5), cloud (bit 1) , cirrus (bit 0)\n",
    "    #\n",
    "    # if all three of those bits are 0, then bitwise_and will return 0\n",
    "    # otherwise it will return either a value greater than 0\n",
    "    #\n",
    "    cloudy_values = np.bitwise_and(bit_mask,ref_mask)\n",
    "    cloudy_values[cloudy_values>0]=1  #cloud or water\n",
    "    cloudy_values[cloudy_values==0]=0 #rest of scene\n",
    "    #\n",
    "    # now invert this, writing np.nan where there is \n",
    "    # cloud or water.  Go back to float32 so we can use np.nan\n",
    "    #\n",
    "    clear_mask = cloudy_values.astype(np.float32)\n",
    "    clear_mask[cloudy_values == 1]=np.nan\n",
    "    clear_mask[cloudy_values == 0]=1\n",
    "    clearmask_ds.data = clear_mask\n",
    "    return clearmask_ds\n",
    "    "
   ]
  },
  {
   "cell_type": "markdown",
   "id": "df99acc7",
   "metadata": {
    "user_expressions": []
   },
   "source": [
    "### Function to get band 4, band 5 and fmask from NASA"
   ]
  },
  {
   "cell_type": "code",
   "execution_count": null,
   "id": "b8d11e93",
   "metadata": {},
   "outputs": [],
   "source": [
    "from pystac_client import Client\n",
    "from shapely.geometry import Point\n",
    "from rasterio.windows import Window\n",
    "\n",
    "def get_landsat_scene(date, lon, lat, window):\n",
    "    \"\"\"\n",
    "    retrieve windowed band4, band5 and Fmask for a given day and save\n",
    "    the clipped geotiffs into three DataArrays, returned\n",
    "    in a dictionary\n",
    "    \n",
    "    Parameters\n",
    "    ----------\n",
    "    \n",
    "    date: str\n",
    "       date in the form yyy-mm-yy\n",
    "    lon: float\n",
    "       longitude of point in the scene (degrees E)\n",
    "    lat: \n",
    "        latitude of point in the scene (degrees N)\n",
    "    window: rasterio.Window\n",
    "        window for clipping the scene to a subscene\n",
    "  \n",
    "    Returns\n",
    "    -------\n",
    "    out_dict: dict\n",
    "       dictionary with three xarray DataArraysband4, band5, Fmask: rioxarrays with the data\n",
    "    \"\"\"\n",
    "    #\n",
    "    # set up the search -- we are looking for only 1 scene per date\n",
    "    #\n",
    "    the_point = Point(lon, lat)\n",
    "    cmr_api_url = \"https://cmr.earthdata.nasa.gov/stac/LPCLOUD\"\n",
    "    client = Client.open(cmr_api_url)\n",
    "    \n",
    "    search = client.search(\n",
    "        collections=[\"HLSL30.v2.0\"],\n",
    "        intersects=the_point,\n",
    "        datetime= date\n",
    "    )\n",
    "    items = search.get_all_items()\n",
    "    print(f\"found {len(items)} item\")\n",
    "    #\n",
    "    # get the metadata and add date, cloud_cover and band_name to the new DataArrays\n",
    "    #\n",
    "    props = items[0].properties\n",
    "    out_dict = {}\n",
    "    chan_names = ['B04','B05','Fmask']\n",
    "    array_names = ['b4_ds','b5_ds','fmask_ds']\n",
    "    for chan,array_name in zip(chan_names, array_names):\n",
    "        print(f\"inside get_landsat_scene: reading {chan} into {array_name}\")\n",
    "        href = items[0].assets[chan].href\n",
    "        lazy_ds = rioxarray.open_rasterio(href,mask_and_scale=True)\n",
    "        #\n",
    "        # now read the window\n",
    "        #\n",
    "        clipped_ds = lazy_ds.rio.isel_window(window)\n",
    "        #\n",
    "        # add some custom attributes\n",
    "        #\n",
    "        clipped_ds.attrs['date'] = props['datetime'] #date and time\n",
    "        clipped_ds.attrs['cloud_cover'] = props['eo:cloud_cover']\n",
    "        clipped_ds.attrs['band_name'] = chan\n",
    "        utm_zone = clipped_ds.attrs['HORIZONTAL_CS_NAME'][-3:].strip()\n",
    "        clipped_ds.attrs['cartopy_epsg_code'] = find_epsg_code(utm_zone)\n",
    "        clipped_ds.attrs['day']=props['datetime'][:10]  #yyyy-mm-dd\n",
    "        out_dict[array_name] = clipped_ds\n",
    "    #\n",
    "    # convert the mask to 1=no cloud over land, np.nan=otherwise\n",
    "    #\n",
    "    out_dict['fmask_ds'] = get_clear_mask(out_dict['fmask_ds'])\n",
    "    return out_dict\n",
    "\n",
    "from pyproj import CRS\n",
    "def find_epsg_code(utm_zone, south=False):\n",
    "    \"\"\"\n",
    "    https://gis.stackexchange.com/questions/365584/convert-utm-zone-into-epsg-code\n",
    "    \n",
    "    cartopy wants crs names as epsg codes, i.e. UTM zone 10N is EPSG:32610, 10S is EPSG:32710\n",
    "    \"\"\"\n",
    "    crs = CRS.from_dict({'proj': 'utm', 'zone': utm_zone, 'south': south})\n",
    "    epsg, code = crs.to_authority()\n",
    "    cartopy_epsg_code = code\n",
    "    return cartopy_epsg_code"
   ]
  },
  {
   "cell_type": "markdown",
   "id": "a8673fac",
   "metadata": {
    "user_expressions": []
   },
   "source": [
    "## Fetch a date from NASA"
   ]
  },
  {
   "cell_type": "markdown",
   "id": "acf776af",
   "metadata": {
    "user_expressions": []
   },
   "source": [
    "### Add secret key file to environment"
   ]
  },
  {
   "cell_type": "code",
   "execution_count": null,
   "id": "6301afb6",
   "metadata": {},
   "outputs": [],
   "source": [
    "import os\n",
    "os.environ[\"GDAL_HTTP_COOKIEFILE\"] = \"./cookies.txt\"\n",
    "os.environ[\"GDAL_HTTP_COOKIEJAR\"] = \"./cookies.txt\""
   ]
  },
  {
   "cell_type": "markdown",
   "id": "f86e00c8",
   "metadata": {
    "user_expressions": []
   },
   "source": [
    "### download for a date, lon/lat and window"
   ]
  },
  {
   "cell_type": "code",
   "execution_count": null,
   "id": "7abf9407",
   "metadata": {},
   "outputs": [],
   "source": [
    "from sat_lib.landsat_read import get_landsat_scene"
   ]
  },
  {
   "cell_type": "code",
   "execution_count": null,
   "id": "0154bfda",
   "metadata": {},
   "outputs": [],
   "source": [
    "date = \"2015-06-14\"\n",
    "#date = \"2019-04-29\"\n",
    "lon, lat  = -123.2460, 49.2606\n",
    "the_window = Window(col_off=2671, row_off=1352, width=234, height=301)\n",
    "scenes_dict = get_landsat_scene(date, lon, lat, the_window)\n",
    "    "
   ]
  },
  {
   "cell_type": "markdown",
   "id": "20d96f2e",
   "metadata": {
    "user_expressions": []
   },
   "source": [
    "### Check fmask \n",
    "\n",
    "Looks like the land pixels are correctly identified, and there are no clouds\n",
    "in the scene"
   ]
  },
  {
   "cell_type": "code",
   "execution_count": null,
   "id": "57b76dc2",
   "metadata": {},
   "outputs": [],
   "source": [
    "fig, ax = plt.subplots(1,1)\n",
    "#get the first 10 characters of the time attribute for the title\n",
    "the_date = scenes_dict['fmask_ds'].attrs['day']\n",
    "scenes_dict['fmask_ds'].plot()\n",
    "ax.set_title(f\"Land/cloud mask for Landsat {the_date}\");"
   ]
  },
  {
   "cell_type": "code",
   "execution_count": null,
   "id": "ab9a81c1",
   "metadata": {},
   "outputs": [],
   "source": [
    "scenes_dict['fmask_ds']"
   ]
  }
 ],
 "metadata": {
  "jupytext": {
   "text_representation": {
    "extension": ".md",
    "format_name": "myst",
    "format_version": 0.13,
    "jupytext_version": "1.14.0"
   }
  },
  "kernelspec": {
   "display_name": "Python 3 (ipykernel)",
   "language": "python",
   "name": "python3"
  },
  "source_map": [
   14,
   36,
   53,
   61,
   65,
   69,
   87,
   91,
   98,
   102,
   106,
   110,
   121,
   128,
   133,
   137,
   145,
   151,
   159,
   164,
   169,
   174,
   178,
   182,
   189,
   194,
   203,
   207,
   213,
   221,
   286,
   290,
   376,
   380,
   384,
   390,
   394,
   398,
   407,
   414,
   422
  ]
 },
 "nbformat": 4,
 "nbformat_minor": 5
}