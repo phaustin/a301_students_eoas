{
 "cells": [
  {
   "cell_type": "markdown",
   "id": "b3534a3f",
   "metadata": {},
   "source": [
    "# Week 8\n",
    "\n",
    "## Learning goals\n",
    "\n",
    "- Review midterm solution\n",
    "\n",
    "- Learn how to subset regions of Landsat images\n",
    "\n",
    "- Use pandas to sort and to analysis on a large number of landsat scenes\n",
    "\n",
    "- Use the normalized vegetation difference index to track changes in vegetation from 2013-2022\n",
    "\n",
    "## At the start of class\n",
    "\n",
    "* `conda activate a301`\n",
    "\n",
    "* fetch and reset\n",
    "\n",
    "          git status\n",
    "          git fetch\n",
    "          git reset --hard origin/main\n",
    "          \n",
    "\n",
    "* Check to see whether your library version is up to date by comparing [the latest tag](https://github.com/phaustin/a301_students_eoas/tags) with the output of `hdf4_inspect --version`\n",
    "\n",
    "  * If needed, update the libraries with `pip install -r requirements.txt`\n",
    "\n",
    "## Week 8 topics for Monday\n",
    "\n",
    "### Midterm solution\n",
    "\n",
    "* {ref}`mid_2022t2_solutions`\n",
    "\n",
    "### Zooming a landsat image\n",
    "\n",
    "* {ref}`week8:zoom_landsat`\n",
    "\n",
    "### Using `pystac` to fetch 9 years of landsat images\n",
    "\n",
    "* {ref}`week6:pandas_intro`\n",
    "* {ref}`week6:pandas_cheatsheet`\n",
    "* {ref}`week8:fetch`\n",
    "\n",
    "## Week 8 topics for Wednesday\n",
    "\n",
    "* Midterm handback/midterm takehome problem\n",
    "* {ref}`assign4_solution`\n",
    "* fetching a windowed landsat scene with {ref}`week8:windowed`\n",
    "* test the library code with {ref}`week8:test_landsat`\n",
    "\n",
    "## Week 8 topics for Friday\n",
    "\n",
    "* Do the {ref}`week8:pandas_worksheet`\n",
    "\n",
    "## For Monday\n",
    "\n",
    "* Read [Stull Chapter 8 pp. 240-248](https://www.eoas.ubc.ca/books/Practical_Meteorology/) on weather radar\n",
    "* Read this article on [Cloudsat](https://journals.ametsoc.org/view/journals/bams/96/4/bams-d-13-00282.1.xml) to get ready for our next set of satellite data"
   ]
  }
 ],
 "metadata": {
  "jupytext": {
   "cell_metadata_filter": "-all",
   "notebook_metadata_filter": "-all",
   "text_representation": {
    "extension": ".md",
    "format_name": "myst",
    "format_version": 0.13,
    "jupytext_version": "1.14.0"
   }
  },
  "kernelspec": {
   "display_name": "Python 3 (ipykernel)",
   "language": "python",
   "name": "python3"
  },
  "source_map": [
   14
  ]
 },
 "nbformat": 4,
 "nbformat_minor": 5
}