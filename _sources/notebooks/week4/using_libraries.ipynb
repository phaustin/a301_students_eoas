{
 "cells": [
  {
   "cell_type": "markdown",
   "id": "ed5f3f1b",
   "metadata": {},
   "source": [
    "(week4:using_libraries)=\n",
    "# Working with libraries"
   ]
  },
  {
   "cell_type": "markdown",
   "id": "2d2b1068",
   "metadata": {},
   "source": [
    "We have been starting our notebooks with this command:"
   ]
  },
  {
   "cell_type": "code",
   "execution_count": null,
   "id": "7fbdc1f6",
   "metadata": {},
   "outputs": [],
   "source": [
    "import a301_lib"
   ]
  },
  {
   "cell_type": "markdown",
   "id": "1a7d8fd5",
   "metadata": {},
   "source": [
    "This brings in code from [this file](https://github.com/phaustin/a301_students_eoas/blob/main/a301_libraries/a301_lib/src/a301_lib/__init__.py) which sets the path for a301_lib.sat_data etc."
   ]
  },
  {
   "cell_type": "markdown",
   "id": "b2ef69ed",
   "metadata": {},
   "source": [
    "## New modules"
   ]
  },
  {
   "cell_type": "markdown",
   "id": "6ab3eabf",
   "metadata": {},
   "source": [
    "I've added two new libraries:\n",
    "\n",
    "* [rad_lib](https://github.com/phaustin/a301_students_eoas/tree/main/a301_libraries/rad_lib/src/rad_lib)\n",
    "\n",
    "* [sat_lib](https://github.com/phaustin/a301_students_eoas/tree/main/a301_libraries/sat_lib/src/sat_lib)\n",
    "\n",
    "With functions that are listed at [https://phaustin.github.io/a301_web/index.html](https://phaustin.github.io/a301_web/index.html)"
   ]
  },
  {
   "cell_type": "markdown",
   "id": "3e76f7a7",
   "metadata": {},
   "source": [
    "## Installation"
   ]
  },
  {
   "cell_type": "markdown",
   "id": "f41c05b5",
   "metadata": {},
   "source": [
    "To install, open a terminal and activate a301, then:\n",
    "\n",
    "           cd ~/repos/a301_students_eoas\n",
    "           pip install -r requirements.txt --upgrade"
   ]
  },
  {
   "cell_type": "markdown",
   "id": "8a8fb930",
   "metadata": {},
   "source": [
    "## Command line program"
   ]
  },
  {
   "cell_type": "markdown",
   "id": "91d904ea",
   "metadata": {},
   "source": [
    "To use the `meta_read` command line function to read metadata, open\n",
    "a terminal, do `conda activate a301` then \n",
    "\n",
    "           cd ~/sat_data/your_initials\n",
    "           meta_read --help\n",
    "           meta_read MYD*hdf"
   ]
  },
  {
   "cell_type": "markdown",
   "id": "6470d468",
   "metadata": {},
   "source": [
    "## To use within a program"
   ]
  },
  {
   "cell_type": "code",
   "execution_count": null,
   "id": "61fbde87",
   "metadata": {},
   "outputs": [],
   "source": [
    "import a301_lib\n",
    "from pathlib import Path\n",
    "from sat_lib.modismeta_read import parseMeta\n",
    "the_path = a301_lib.sat_data / \"pha\"\n",
    "granules =list(the_path.glob(\"*hdf\"))\n",
    "parseMeta(granules[0])"
   ]
  }
 ],
 "metadata": {
  "jupytext": {
   "text_representation": {
    "extension": ".md",
    "format_name": "myst",
    "format_version": 0.13,
    "jupytext_version": "1.14.4"
   }
  },
  "kernelspec": {
   "display_name": "Python 3 (ipykernel)",
   "language": "python",
   "name": "python3"
  },
  "source_map": [
   12,
   17,
   21,
   23,
   27,
   31,
   41,
   45,
   52,
   56,
   65,
   69
  ]
 },
 "nbformat": 4,
 "nbformat_minor": 5
}