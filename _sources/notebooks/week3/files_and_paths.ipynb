{
 "cells": [
  {
   "cell_type": "markdown",
   "id": "3d3f42f9",
   "metadata": {},
   "source": [
    "(week3:files_paths)=\n",
    "# Course folders on a301hub and your laptop\n",
    "\n",
    "## a301hub\n",
    "\n",
    "The jupyterhub at  [https://a301hub.eoasubc.xyz](https://a301hub.eoasubc.xyz) launches a container for each user\n",
    "that has four folders:\n",
    "\n",
    "1. `/home/jovyan/course_notebooks`  -- this is a read only copy of the files in [github repository](https://github.com/phaustin/a301_students_eoas/tree/main/notebooks) \n",
    "that are used to build the [course website](https://eoasubc.xyz/a301_2022/notebooks/index.html)\n",
    "\n",
    "2. `/home/jovyan/sat_data` -- this is a shared folder where you should put your\n",
    "   hdf and npz files that are needed by your notebook.  Because it is shared,\n",
    "   you should make a folder with your initials, e.g.`~/sat_data/pha` (remember\n",
    "   that `~` here means the home directory of user jovyan) to keep\n",
    "   your files separate.  The initials don't matter but they should be unique for this\n",
    "   class.\n",
    "   \n",
    "3. `/home/jovyan/shared_files` -- this is a place to put material you want to share\n",
    "   with either myself or the class -- for example a notebook that is exhibiting\n",
    "   what you think is a bug.  \n",
    "   \n",
    "4. `/home/jovyan/work` -- this is a folder that is inside your individual container,\n",
    "   and that only you can see.  This is where your assignments should go, at least\n",
    "   before they are due and the answers have been posted.\n",
    "   \n",
    "## Your laptop\n",
    "\n",
    "To keep things consistent, you need to make a folder on your laptop to hold the\n",
    "satellite data that is identical to the a301hub location, so you can run exactly \n",
    "the same notebook on your laptop and on the hub.  Here is the way to use\n",
    "the [pathlib](https://realpython.com/python-pathlib) module to create the folder, using the `a301_lib.sat_data` path that I defined in [a301_lib](https://github.com/phaustin/a301_students_eoas/blob/main/src/a301_lib/a301_lib/__init__.py)"
   ]
  },
  {
   "cell_type": "code",
   "execution_count": null,
   "id": "c31ef12a",
   "metadata": {},
   "outputs": [],
   "source": [
    "from pathlib import Path\n",
    "import a301_lib\n",
    "print(f\"the path to the data is {a301_lib.sat_data}\")"
   ]
  },
  {
   "cell_type": "markdown",
   "id": "6c1f66f7",
   "metadata": {},
   "source": [
    "### Make a folder (could also do this with finder/explorer)"
   ]
  },
  {
   "cell_type": "code",
   "execution_count": null,
   "id": "0c11c8f4",
   "metadata": {},
   "outputs": [],
   "source": [
    "sat_folder = a301_lib.sat_data / \"pha\"\n",
    "sat_folder.mkdir(exist_ok=True,parents=True)"
   ]
  },
  {
   "cell_type": "markdown",
   "id": "ff18de3b",
   "metadata": {},
   "source": [
    "### Open this folder to read satellite data files\n",
    "\n",
    "If you open your data using the `sat_folder` path above, then it will work both on\n",
    "your laptop, and on a301hub where I'll run the autograder.  Here's how to find an hdf file \n",
    "and open it, assuming that your hdf file also has the date/time string `2013222.2150`"
   ]
  },
  {
   "cell_type": "code",
   "execution_count": null,
   "id": "3e5e250f",
   "metadata": {},
   "outputs": [],
   "source": [
    "my_data = a301_lib.sat_data / \"pha\"\n",
    "print(my_data)\n",
    "the_files = list(my_data.glob(\"*2013222.2105*hdf\"))\n",
    "print(\"here is the list of files (should be only 1 file)\")\n",
    "print(the_files)\n",
    "print(\"here is the file extracted from the list\")\n",
    "print(the_files[0])"
   ]
  },
  {
   "cell_type": "markdown",
   "id": "8b019ec8",
   "metadata": {},
   "source": [
    "If the filename is simple, you can just hardcode it:"
   ]
  },
  {
   "cell_type": "code",
   "execution_count": null,
   "id": "8d1a09f5",
   "metadata": {},
   "outputs": [],
   "source": [
    "my_latlons = a301_lib.sat_data / \"pha/lonlat.npz\""
   ]
  },
  {
   "cell_type": "markdown",
   "id": "a91c8ce1",
   "metadata": {},
   "source": [
    "### Why do we need to wrap in a list()\n",
    "\n",
    "`pathlib.glob` could potentially return a list with thousands of files,\n",
    "using up memory.  To avoid this, python made this method an *iterator*, which means that it returns its contents one item at a time, unless\n",
    "you turn it into a list.  Creating a list with an iterator drains the\n",
    "iterator of its contents and puts them into the new variable."
   ]
  }
 ],
 "metadata": {
  "jupytext": {
   "cell_metadata_filter": "-all",
   "notebook_metadata_filter": "-all",
   "text_representation": {
    "extension": ".md",
    "format_name": "myst",
    "format_version": 0.13,
    "jupytext_version": "1.14.0"
   }
  },
  "kernelspec": {
   "display_name": "Python 3 (ipykernel)",
   "language": "python",
   "name": "python3"
  },
  "source_map": [
   14,
   50,
   54,
   58,
   61,
   69,
   77,
   81,
   83
  ]
 },
 "nbformat": 4,
 "nbformat_minor": 5
}