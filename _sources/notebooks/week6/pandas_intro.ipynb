{
 "cells": [
  {
   "cell_type": "markdown",
   "id": "c1bbdd5e",
   "metadata": {},
   "source": [
    "<center><img src=\"https://github.com/pandas-dev/pandas/raw/main/web/pandas/static/img/pandas.svg\" alt=\"pandas Logo\" style=\"width: 800px;\"/></center>\n",
    "\n",
    "(week6:pandas_intro)=\n",
    "# Introduction to Pandas\n",
    "\n",
    "The notebook is copied from [Project Pythia](https://foundations.projectpythia.org/core/pandas.html).  The source code is [here](https://github.com/ProjectPythia/pythia-foundations/tree/main/core/pandas)\n",
    "---"
   ]
  },
  {
   "cell_type": "markdown",
   "id": "80a8ff57",
   "metadata": {},
   "source": [
    "## Overview\n",
    "1. Introduction to pandas data structures\n",
    "1. How to slice and dice pandas dataframes and dataseries\n",
    "1. How to use pandas for exploratory data analysis\n",
    "\n",
    "## Prerequisites\n",
    "\n",
    "| Concepts | Importance | Notes |\n",
    "| --- | --- | --- |\n",
    "| [Python Quickstart](https://foundations.projectpythia.org/foundations/quickstart.html) | Necessary | Intro to `dict` |\n",
    "| [Numpy Basics](https://foundations.projectpythia.org/core/numpy/numpy-basics.html) | Necessary | |\n",
    "\n",
    "* **Time to learn**: 60 minutes"
   ]
  },
  {
   "cell_type": "markdown",
   "id": "2d5785d2",
   "metadata": {},
   "source": [
    "---"
   ]
  },
  {
   "cell_type": "markdown",
   "id": "adbf89aa",
   "metadata": {},
   "source": [
    "## Imports"
   ]
  },
  {
   "cell_type": "markdown",
   "id": "c95a84ab",
   "metadata": {},
   "source": [
    "You will often see the nickname `pd` used as an abbreviation for pandas in the import statement, just like `numpy` is often imported as `np`. Here we will also be importing `pythia_datasets`, our tool for accessing example data we provide for our materials."
   ]
  },
  {
   "cell_type": "code",
   "execution_count": null,
   "id": "e758e396",
   "metadata": {},
   "outputs": [],
   "source": [
    "import pandas as pd\n",
    "from pythia_datasets import DATASETS"
   ]
  },
  {
   "cell_type": "markdown",
   "id": "16dd5edc",
   "metadata": {},
   "source": [
    "## The pandas [`DataFrame`](https://pandas.pydata.org/docs/user_guide/dsintro.html#dataframe)...\n",
    "... is a **labeled**, two dimensional columnal structure similar to a table, spreadsheet, or the R `data.frame`.\n",
    "\n",
    "![dataframe schematic](https://github.com/pandas-dev/pandas/raw/main/doc/source/_static/schemas/01_table_dataframe.svg \"Schematic of a pandas DataFrame\")\n",
    "\n",
    "The `columns` that make up our `DataFrame` can be lists, dictionaries, NumPy arrays, pandas `Series`, or more. Within these `columns` our data can be any texts, numbers, dates and times, or many other data types you may have encountered in Python and NumPy. Shown here on the left in dark gray, our very first `column`  is uniquely referrred to as an `Index`, and this contains information characterizing each row of our `DataFrame`. Similar to any other `column`, the `index` can label our rows by text, numbers, `datetime`s (a popular one!), or more.\n",
    "\n",
    "Let's take a look by reading in some `.csv` data, which comes from the NCDC teleconnections database, including various El Niño Southern Oscillation (ENSO) indices! [[ref](https://www.ncdc.noaa.gov/teleconnections/enso/indicators/sst/)]."
   ]
  },
  {
   "cell_type": "markdown",
   "id": "27acbabf",
   "metadata": {},
   "source": [
    "<div class=\"admonition alert alert-info\">\n",
    "    <p class=\"admonition-title\" style=\"font-weight:bold\">Info</p>\n",
    "    Here we're getting the data from Project Pythia's custom library of example data, which we already imported above with <code>from pythia_datasets import DATASETS</code>. The <code>DATASETS.fetch()</code> method will automatically download and cache our example data file <code>enso_data.csv</code> locally.\n",
    "</div>"
   ]
  },
  {
   "cell_type": "code",
   "execution_count": null,
   "id": "8e8d548d",
   "metadata": {},
   "outputs": [],
   "source": [
    "filepath = DATASETS.fetch('enso_data.csv')"
   ]
  },
  {
   "cell_type": "markdown",
   "id": "33d1ea08",
   "metadata": {},
   "source": [
    "Once we have a valid path to a data file that Pandas knows how to read, we can open it like this:"
   ]
  },
  {
   "cell_type": "code",
   "execution_count": null,
   "id": "2f3e39de",
   "metadata": {},
   "outputs": [],
   "source": [
    "df = pd.read_csv(filepath)"
   ]
  },
  {
   "cell_type": "markdown",
   "id": "d8782c66",
   "metadata": {},
   "source": [
    "If we print out our dataframe, you will notice that is text based, which is okay, but not the \"best\" looking output"
   ]
  },
  {
   "cell_type": "code",
   "execution_count": null,
   "id": "c7f64a48",
   "metadata": {},
   "outputs": [],
   "source": [
    "print(df)"
   ]
  },
  {
   "cell_type": "markdown",
   "id": "e3af2e22",
   "metadata": {},
   "source": [
    "Instead, if we just use the pandas dataframe itself (without wrapping it in `print`), we have a nicely rendered table which is native to pandas and Jupyter Notebooks. See how much nicer that looks?"
   ]
  },
  {
   "cell_type": "code",
   "execution_count": null,
   "id": "8298dd17",
   "metadata": {},
   "outputs": [],
   "source": [
    "df"
   ]
  },
  {
   "cell_type": "markdown",
   "id": "0936ab2d",
   "metadata": {},
   "source": [
    "The `index` within pandas is essentially a list of the unique row IDs, which by default, is a list of sequential integers which start at 0"
   ]
  },
  {
   "cell_type": "code",
   "execution_count": null,
   "id": "a8c24c7b",
   "metadata": {},
   "outputs": [],
   "source": [
    "df.index"
   ]
  },
  {
   "cell_type": "markdown",
   "id": "3416bd81",
   "metadata": {},
   "source": [
    "Our indexing column isn't particularly helpful currently. Pandas is clever! A few optional keyword arguments later, and..."
   ]
  },
  {
   "cell_type": "code",
   "execution_count": null,
   "id": "2d1657a8",
   "metadata": {},
   "outputs": [],
   "source": [
    "df = pd.read_csv(filepath, index_col=0, parse_dates=True)\n",
    "\n",
    "df"
   ]
  },
  {
   "cell_type": "code",
   "execution_count": null,
   "id": "d0228090",
   "metadata": {},
   "outputs": [],
   "source": [
    "df.index"
   ]
  },
  {
   "cell_type": "markdown",
   "id": "0da4a5ad",
   "metadata": {},
   "source": [
    "... now we have our data helpfully organized by a proper `datetime`-like object. Each of our multiple columns of data can now be referenced by their date! This sneak preview at the pandas `DatetimeIndex` also unlocks for us much of pandas most useful time series functionality. Don't worry, we'll get there. What are the actual columns of data we've read in here?"
   ]
  },
  {
   "cell_type": "code",
   "execution_count": null,
   "id": "15c318f4",
   "metadata": {},
   "outputs": [],
   "source": [
    "df.columns"
   ]
  },
  {
   "cell_type": "markdown",
   "id": "dc780afb",
   "metadata": {},
   "source": [
    "## The pandas [`Series`](https://pandas.pydata.org/docs/user_guide/dsintro.html#series)...\n",
    "\n",
    "... is essentially any one of the columns of our `DataFrame`, with its accompanying `Index` to provide a label for each value in our column.\n",
    "\n",
    "![pandas Series](https://github.com/pandas-dev/pandas/raw/main/doc/source/_static/schemas/01_table_series.svg \"Schematic of a pandas Series\")\n",
    "\n",
    "The pandas `Series` is a fast and capable 1-dimensional array of nearly any data type we could want, and it can behave very similarly to a NumPy `ndarray` or a Python `dict`. You can take a look at any of the `Series` that make up your `DataFrame` with its label and the Python `dict` notation, or with dot-shorthand:"
   ]
  },
  {
   "cell_type": "code",
   "execution_count": null,
   "id": "ae9a4380",
   "metadata": {},
   "outputs": [],
   "source": [
    "df[\"Nino34\"]"
   ]
  },
  {
   "cell_type": "markdown",
   "id": "7b3c1bfd",
   "metadata": {},
   "source": [
    "<div class=\"alert alert-block alert-info\">\n",
    "<b>Tip:</b> You can also use the `.` (dot) notation, as seen below, but this is moreso a \"convenience feature\", which for the most part is interchangeable with the dictionary notation above, except when the column name is not a valid Python object (ex. column names beginning with a number or a space)</div>"
   ]
  },
  {
   "cell_type": "code",
   "execution_count": null,
   "id": "c580b4fd",
   "metadata": {},
   "outputs": [],
   "source": [
    "df.Nino34"
   ]
  },
  {
   "cell_type": "markdown",
   "id": "b19f53fa",
   "metadata": {},
   "source": [
    "## Slicing and Dicing the `DataFrame` and `Series`\n",
    "\n",
    "We will expand on what you just saw, soon! Importantly,\n",
    "\n",
    "> **Everything in pandas can be accessed with its label**,\n",
    "\n",
    "no matter how your data is organized."
   ]
  },
  {
   "cell_type": "markdown",
   "id": "4d446536",
   "metadata": {},
   "source": [
    "### Indexing a `Series`\n",
    "\n",
    "Let's back up a bit here. Once more, let's pull out one `Series` from our `DataFrame` using its column label, and we'll start there."
   ]
  },
  {
   "cell_type": "code",
   "execution_count": null,
   "id": "c330ef5f",
   "metadata": {},
   "outputs": [],
   "source": [
    "nino34_series = df[\"Nino34\"]\n",
    "\n",
    "nino34_series"
   ]
  },
  {
   "cell_type": "markdown",
   "id": "fcda68b9",
   "metadata": {},
   "source": [
    "`Series` can be indexed, selected, and subset as both `ndarray`-like,"
   ]
  },
  {
   "cell_type": "code",
   "execution_count": null,
   "id": "a2554143",
   "metadata": {},
   "outputs": [],
   "source": [
    "nino34_series[3]"
   ]
  },
  {
   "cell_type": "markdown",
   "id": "4d8efd5a",
   "metadata": {},
   "source": [
    "and `dict`-like, using labels"
   ]
  },
  {
   "cell_type": "code",
   "execution_count": null,
   "id": "191f2c5a",
   "metadata": {},
   "outputs": [],
   "source": [
    "nino34_series[\"1982-04-01\"]"
   ]
  },
  {
   "cell_type": "markdown",
   "id": "2ebe93d1",
   "metadata": {},
   "source": [
    "These two can be extended in ways that you might expect,"
   ]
  },
  {
   "cell_type": "code",
   "execution_count": null,
   "id": "8d701529",
   "metadata": {},
   "outputs": [],
   "source": [
    "nino34_series[0:12]"
   ]
  },
  {
   "cell_type": "markdown",
   "id": "79b7fdde",
   "metadata": {},
   "source": [
    "<div class=\"admonition alert alert-info\">\n",
    "    <p class=\"admonition-title\" style=\"font-weight:bold\">Info</p>\n",
    "    Index-based slices are <b>exclusive</b> of the final value, similar to Python's usual indexing rules.\n",
    "</div>"
   ]
  },
  {
   "cell_type": "markdown",
   "id": "22f02511",
   "metadata": {},
   "source": [
    "as well as potentially unexpected ways,"
   ]
  },
  {
   "cell_type": "code",
   "execution_count": null,
   "id": "c5a689c5",
   "metadata": {},
   "outputs": [],
   "source": [
    "nino34_series[\"1982-01-01\":\"1982-12-01\"]"
   ]
  },
  {
   "cell_type": "markdown",
   "id": "dd325d83",
   "metadata": {},
   "source": [
    "That's right, label-based slicing! Pandas will do the work under the hood for you to find this range of values according to your labels."
   ]
  },
  {
   "cell_type": "markdown",
   "id": "c879657f",
   "metadata": {},
   "source": [
    "<div class=\"admonition alert alert-info\">\n",
    "    <p class=\"admonition-title\" style=\"font-weight:bold\">Info</p>\n",
    "    label-based slices are <b>inclusive</b> of the final value, different from above!\n",
    "</div>"
   ]
  },
  {
   "cell_type": "markdown",
   "id": "eebec970",
   "metadata": {},
   "source": [
    "If you are familiar with [xarray](https://foundations.projectpythia.org/core/xarray/xarray-intro.html), you might also already have a comfort with creating your own `slice` objects by hand, and that works here!"
   ]
  },
  {
   "cell_type": "code",
   "execution_count": null,
   "id": "a9f42e08",
   "metadata": {},
   "outputs": [],
   "source": [
    "nino34_series[slice(\"1982-01-01\", \"1982-12-01\")]"
   ]
  },
  {
   "cell_type": "markdown",
   "id": "6928d48b",
   "metadata": {},
   "source": [
    "### Using `.iloc` and `.loc` to index\n",
    "\n",
    "Let's introduce pandas-preferred ways to access your data by label, `.loc`, or by index, `.iloc`. They behave similarly to the notation introduced above, but provide more speed, security, and rigor in your value selection, as well as help you avoid [chained assignment warnings](https://pandas.pydata.org/docs/user_guide/indexing.html#returning-a-view-versus-a-copy) within pandas."
   ]
  },
  {
   "cell_type": "code",
   "execution_count": null,
   "id": "ae073209",
   "metadata": {},
   "outputs": [],
   "source": [
    "nino34_series.iloc[3]"
   ]
  },
  {
   "cell_type": "code",
   "execution_count": null,
   "id": "e9b7b08e",
   "metadata": {},
   "outputs": [],
   "source": [
    "nino34_series.iloc[0:12]"
   ]
  },
  {
   "cell_type": "code",
   "execution_count": null,
   "id": "7becb7c7",
   "metadata": {},
   "outputs": [],
   "source": [
    "nino34_series.loc[\"1982-04-01\"]"
   ]
  },
  {
   "cell_type": "code",
   "execution_count": null,
   "id": "bc4edea1",
   "metadata": {},
   "outputs": [],
   "source": [
    "nino34_series.loc[\"1982-01-01\":\"1982-12-01\"]"
   ]
  },
  {
   "cell_type": "markdown",
   "id": "e0aaf27f",
   "metadata": {},
   "source": [
    "### Extending to the `DataFrame`\n",
    "\n",
    "These capabilities extend back to our original `DataFrame`, as well!"
   ]
  },
  {
   "cell_type": "code",
   "execution_count": null,
   "id": "fdce794a",
   "metadata": {
    "tags": [
     "raises-exception"
    ]
   },
   "outputs": [],
   "source": [
    "df[\"1982-01-01\"]"
   ]
  },
  {
   "cell_type": "markdown",
   "id": "373ecffb",
   "metadata": {},
   "source": [
    "<div class=\"admonition alert alert-danger\">\n",
    "    <p class=\"admonition-title\" style=\"font-weight:bold\">Danger</p>\n",
    "    Or do they?\n",
    "</div>"
   ]
  },
  {
   "cell_type": "markdown",
   "id": "4217f9b4",
   "metadata": {},
   "source": [
    "They do! Importantly however, indexing a `DataFrame` can be more strict, and pandas will try not to too heavily assume what you are looking for. So, by default we can't pull out a row within `df` by its label alone, and **instead labels are for identifying columns within `df`**,"
   ]
  },
  {
   "cell_type": "code",
   "execution_count": null,
   "id": "8a5333e5",
   "metadata": {},
   "outputs": [],
   "source": [
    "df[\"Nino34\"]"
   ]
  },
  {
   "cell_type": "markdown",
   "id": "2bc9344d",
   "metadata": {},
   "source": [
    "and integer indexing will similarly get us nothing,"
   ]
  },
  {
   "cell_type": "code",
   "execution_count": null,
   "id": "5b3cbb82",
   "metadata": {
    "tags": [
     "raises-exception"
    ]
   },
   "outputs": [],
   "source": [
    "df[0]"
   ]
  },
  {
   "cell_type": "markdown",
   "id": "07cc5718",
   "metadata": {},
   "source": [
    "Knowing now that we can pull out one of our columns as a series with its label, and using our experience interacting with the `Series` `df[\"Nino34\"]`, we can chain our brackets to pull out any value from any of our columns in `df`."
   ]
  },
  {
   "cell_type": "code",
   "execution_count": null,
   "id": "697d065c",
   "metadata": {},
   "outputs": [],
   "source": [
    "df[\"Nino34\"][\"1982-04-01\"]"
   ]
  },
  {
   "cell_type": "code",
   "execution_count": null,
   "id": "886f1100",
   "metadata": {},
   "outputs": [],
   "source": [
    "df[\"Nino34\"][3]"
   ]
  },
  {
   "cell_type": "markdown",
   "id": "4ad2c56c",
   "metadata": {},
   "source": [
    "However, this is not a pandas-preferred way to index and subset our data, and has limited capabilities for us. As we touched on before, `.loc` and `.iloc` give us more to work with, and their functionality grows further for `df`."
   ]
  },
  {
   "cell_type": "code",
   "execution_count": null,
   "id": "9c79ec19",
   "metadata": {},
   "outputs": [],
   "source": [
    "df.loc[\"1982-04-01\", \"Nino34\"]"
   ]
  },
  {
   "cell_type": "markdown",
   "id": "8f55b784",
   "metadata": {},
   "source": [
    "<div class=\"admonition alert alert-info\">\n",
    "    <p class=\"admonition-title\" style=\"font-weight:bold\">Info</p>\n",
    "    Note the <code>[<i>row</i>, <i>column</i>]</code> ordering!\n",
    "</div>"
   ]
  },
  {
   "cell_type": "markdown",
   "id": "04fb2dd7",
   "metadata": {},
   "source": [
    "These allow us to pull out entire rows of `df`,"
   ]
  },
  {
   "cell_type": "code",
   "execution_count": null,
   "id": "fe083e9e",
   "metadata": {},
   "outputs": [],
   "source": [
    "df.loc[\"1982-04-01\"]"
   ]
  },
  {
   "cell_type": "code",
   "execution_count": null,
   "id": "23c4433b",
   "metadata": {},
   "outputs": [],
   "source": [
    "df.loc[\"1982-01-01\":\"1982-12-01\"]"
   ]
  },
  {
   "cell_type": "code",
   "execution_count": null,
   "id": "62694dbf",
   "metadata": {},
   "outputs": [],
   "source": [
    "df.iloc[3]"
   ]
  },
  {
   "cell_type": "code",
   "execution_count": null,
   "id": "07edac59",
   "metadata": {},
   "outputs": [],
   "source": [
    "df.iloc[0:12]"
   ]
  },
  {
   "cell_type": "markdown",
   "id": "7cb6164f",
   "metadata": {},
   "source": [
    "Even further,"
   ]
  },
  {
   "cell_type": "code",
   "execution_count": null,
   "id": "bd407552",
   "metadata": {},
   "outputs": [],
   "source": [
    "df.loc[\n",
    "    \"1982-01-01\":\"1982-12-01\",  # slice of rows\n",
    "    [\"Nino12\", \"Nino3\", \"Nino4\", \"Nino34\"],  # list of columns\n",
    "]"
   ]
  },
  {
   "cell_type": "markdown",
   "id": "d34d0c94",
   "metadata": {},
   "source": [
    "<div class=\"admonition alert alert-info\">\n",
    "    <p class=\"admonition-title\" style=\"font-weight:bold\">Info</p>\n",
    "    For a more comprehensive explanation, which includes additional examples, limitations, and compares indexing methods between DataFrame and Series see <a href=\"https://pandas.pydata.org/docs/user_guide/indexing.html\">pandas' rules for indexing.</a>\n",
    "</div>"
   ]
  },
  {
   "cell_type": "markdown",
   "id": "af87711b",
   "metadata": {},
   "source": [
    "## Exploratory Data Analysis\n",
    "\n",
    "### Get a Quick Look at the Beginning/End of your `Dataframe`\n",
    "Pandas also gives you a few shortcuts to quickly investigate entire `DataFrame`s."
   ]
  },
  {
   "cell_type": "code",
   "execution_count": null,
   "id": "9c40364c",
   "metadata": {},
   "outputs": [],
   "source": [
    "df.head()"
   ]
  },
  {
   "cell_type": "code",
   "execution_count": null,
   "id": "bbfc5917",
   "metadata": {},
   "outputs": [],
   "source": [
    "df.tail()"
   ]
  },
  {
   "cell_type": "markdown",
   "id": "b696677e",
   "metadata": {},
   "source": [
    "### Quick Plots of Your Data\n",
    "A good way to explore your data is by making a simple plot. Pandas allows you to plot without even calling `matplotlib`! Here, we are interested in the `Nino34` series. Check this out..."
   ]
  },
  {
   "cell_type": "code",
   "execution_count": null,
   "id": "0ed039a4",
   "metadata": {},
   "outputs": [],
   "source": [
    "df.Nino34.plot();"
   ]
  },
  {
   "cell_type": "markdown",
   "id": "70b41244",
   "metadata": {},
   "source": [
    "Before, we called `.plot()` which generated a single line plot. This is helpful, but there are other plots which can also help with understanding your data! Let's try using a histogram to understand distributions...\n",
    "\n",
    "The only part that changes here is we are subsetting for just two `Nino` indices, and after `.plot`, we include `.hist()` which stands for histogram"
   ]
  },
  {
   "cell_type": "code",
   "execution_count": null,
   "id": "51ba99b4",
   "metadata": {},
   "outputs": [],
   "source": [
    "df[['Nino12', 'Nino34']].plot.hist();"
   ]
  },
  {
   "cell_type": "markdown",
   "id": "e70569cb",
   "metadata": {},
   "source": [
    "We can see some clear differences in the distributions, which is helpful! Another plot one might like to use would be a `boxplot`. Here, we replace `hist` with `box`"
   ]
  },
  {
   "cell_type": "code",
   "execution_count": null,
   "id": "e52ec4a0",
   "metadata": {},
   "outputs": [],
   "source": [
    "df[['Nino12', 'Nino34']].plot.box();"
   ]
  },
  {
   "cell_type": "markdown",
   "id": "b0308049",
   "metadata": {},
   "source": [
    "Here, we again see a clear difference in the distributions. These are not the only plots you can use within pandas! For more examples of plotting choices, check out [the pandas plot documentation](https://pandas.pydata.org/docs/reference/api/pandas.DataFrame.plot.html)"
   ]
  },
  {
   "cell_type": "markdown",
   "id": "61939174",
   "metadata": {},
   "source": [
    "#### Customize your Plot\n",
    "These `plot()` methods are just wrappers to matplotlib, so with a little more work the plots can be customized just like any matplotlib figure."
   ]
  },
  {
   "cell_type": "code",
   "execution_count": null,
   "id": "e07e3602",
   "metadata": {},
   "outputs": [],
   "source": [
    "df.Nino34.plot(\n",
    "    color='black',\n",
    "    linewidth=2,\n",
    "    xlabel='Year',\n",
    "    ylabel='ENSO34 Index (degC)',\n",
    "    figsize=(8, 6),\n",
    ");"
   ]
  },
  {
   "cell_type": "markdown",
   "id": "8cebc5ba",
   "metadata": {},
   "source": [
    "This can be a great way to take a quick look at your data, but what if you wanted a more ***quantitative*** perspective? We can use the `describe` method on our `DataFrame`; this returns a table of summary statistics for all columns in the `DataFrame`\n",
    "\n",
    "### Basic Statistics\n",
    "\n",
    "By using the `describe` method, we see some general statistics! Notice how calling this on the dataframe returns a table with all the `Series`"
   ]
  },
  {
   "cell_type": "code",
   "execution_count": null,
   "id": "65f39f8f",
   "metadata": {},
   "outputs": [],
   "source": [
    "df.describe()"
   ]
  },
  {
   "cell_type": "markdown",
   "id": "11737735",
   "metadata": {},
   "source": [
    "You can look at specific statistics too, such as mean! Notice how the output is a `Series` (column) now"
   ]
  },
  {
   "cell_type": "code",
   "execution_count": null,
   "id": "f6ce8068",
   "metadata": {},
   "outputs": [],
   "source": [
    "df.mean()"
   ]
  },
  {
   "cell_type": "markdown",
   "id": "ae794dc3",
   "metadata": {},
   "source": [
    "If you are interested in a single column mean, subset for that and use `.mean`"
   ]
  },
  {
   "cell_type": "code",
   "execution_count": null,
   "id": "df7ef161",
   "metadata": {},
   "outputs": [],
   "source": [
    "df.Nino34.mean()"
   ]
  },
  {
   "cell_type": "markdown",
   "id": "c03cade5",
   "metadata": {},
   "source": [
    "### Subsetting Using the Datetime Column\n",
    "\n",
    "You can use techniques besides slicing to subset a `DataFrame`. Here, we provide examples of using a couple other options.\n",
    "\n",
    "Say you only want the month of January - you can use `df.index.month` to query for which month you are interested in (in this case, 1 for the month of January)"
   ]
  },
  {
   "cell_type": "code",
   "execution_count": null,
   "id": "8b4ab391",
   "metadata": {},
   "outputs": [],
   "source": [
    "# Uses the datetime column\n",
    "df[df.index.month == 1]"
   ]
  },
  {
   "cell_type": "markdown",
   "id": "fea63de7",
   "metadata": {},
   "source": [
    "You could even assign this month to a new column!"
   ]
  },
  {
   "cell_type": "code",
   "execution_count": null,
   "id": "79850618",
   "metadata": {},
   "outputs": [],
   "source": [
    "df['month'] = df.index.month"
   ]
  },
  {
   "cell_type": "markdown",
   "id": "23e4aa85",
   "metadata": {},
   "source": [
    "Now that it is its own column (`Series`), we can use `groupby` to group by the month, then taking the average, to determine average monthly values over the dataset"
   ]
  },
  {
   "cell_type": "code",
   "execution_count": null,
   "id": "5911dfc2",
   "metadata": {},
   "outputs": [],
   "source": [
    "df.groupby('month').mean().plot();"
   ]
  },
  {
   "cell_type": "markdown",
   "id": "b935fb1c",
   "metadata": {},
   "source": [
    "### Investigating Extreme Values"
   ]
  },
  {
   "cell_type": "markdown",
   "id": "a456fa64",
   "metadata": {},
   "source": [
    "You can also use ***conditional indexing***, such that you can search where rows meet a certain criteria. In this case, we are interested in where the Nino34 anomaly is greater than 2"
   ]
  },
  {
   "cell_type": "code",
   "execution_count": null,
   "id": "91fce73f",
   "metadata": {},
   "outputs": [],
   "source": [
    "df[df.Nino34anom > 2]"
   ]
  },
  {
   "cell_type": "markdown",
   "id": "38259e79",
   "metadata": {},
   "source": [
    "You can also sort columns based on the values!"
   ]
  },
  {
   "cell_type": "code",
   "execution_count": null,
   "id": "a527f953",
   "metadata": {},
   "outputs": [],
   "source": [
    "df.sort_values('Nino34anom')"
   ]
  },
  {
   "cell_type": "markdown",
   "id": "6af738ee",
   "metadata": {},
   "source": [
    "Let's change the way that is ordered..."
   ]
  },
  {
   "cell_type": "code",
   "execution_count": null,
   "id": "4b2ad054",
   "metadata": {},
   "outputs": [],
   "source": [
    "df.sort_values('Nino34anom', ascending=False)"
   ]
  },
  {
   "cell_type": "markdown",
   "id": "8af0eb89",
   "metadata": {},
   "source": [
    "### Resampling\n",
    "Here, we are trying to resample the timeseries such that the signal does not appear as noisy. This can helpfule when working with timeseries data! In this case, we resample to a yearly average (`1Y`) instead of monthly values"
   ]
  },
  {
   "cell_type": "code",
   "execution_count": null,
   "id": "d295b8a9",
   "metadata": {},
   "outputs": [],
   "source": [
    "df.Nino34.plot();"
   ]
  },
  {
   "cell_type": "code",
   "execution_count": null,
   "id": "ce6d34d5",
   "metadata": {},
   "outputs": [],
   "source": [
    "df.Nino34.resample('1Y').mean().plot();"
   ]
  },
  {
   "cell_type": "markdown",
   "id": "5f969aee",
   "metadata": {},
   "source": [
    "### Applying operations to a dataframe\n",
    "\n",
    "Often times, people are interested in applying calculations to data within pandas `DataFrame`s. Here, we setup a function to convert from degrees Celsius to Kelvin"
   ]
  },
  {
   "cell_type": "code",
   "execution_count": null,
   "id": "4d9dc90e",
   "metadata": {},
   "outputs": [],
   "source": [
    "def convert_degc_to_kelvin(temperature_degc):\n",
    "    \"\"\"\n",
    "    Converts from degrees celsius to Kelvin\n",
    "    \"\"\"\n",
    "\n",
    "    return temperature_degc + 273.15"
   ]
  },
  {
   "cell_type": "markdown",
   "id": "b2cd6c16",
   "metadata": {},
   "source": [
    "Now, this function accepts and returns a single value"
   ]
  },
  {
   "cell_type": "code",
   "execution_count": null,
   "id": "321c1323",
   "metadata": {},
   "outputs": [],
   "source": [
    "# Convert a single value\n",
    "convert_degc_to_kelvin(0)"
   ]
  },
  {
   "cell_type": "markdown",
   "id": "527c6c43",
   "metadata": {},
   "source": [
    "But what if we want to apply this to our dataframe? We can subset for Nino34, which is in degrees Celsius"
   ]
  },
  {
   "cell_type": "code",
   "execution_count": null,
   "id": "94cb4701",
   "metadata": {},
   "outputs": [],
   "source": [
    "nino34_series"
   ]
  },
  {
   "cell_type": "markdown",
   "id": "a62ea925",
   "metadata": {},
   "source": [
    "Notice how the object type is a pandas series"
   ]
  },
  {
   "cell_type": "code",
   "execution_count": null,
   "id": "7ae1683f",
   "metadata": {},
   "outputs": [],
   "source": [
    "type(df.Nino12[0:10])"
   ]
  },
  {
   "cell_type": "markdown",
   "id": "60f93235",
   "metadata": {},
   "source": [
    "If you call `.values`, the object type is now a numpy array. Pandas `Series` values include numpy arrays, and calling `.values` returns the series as a numpy array!"
   ]
  },
  {
   "cell_type": "code",
   "execution_count": null,
   "id": "a723bba7",
   "metadata": {},
   "outputs": [],
   "source": [
    "type(df.Nino12.values[0:10])"
   ]
  },
  {
   "cell_type": "markdown",
   "id": "2eda1e72",
   "metadata": {},
   "source": [
    "Let's apply this calculation to this `Series`; this returns another `Series` object."
   ]
  },
  {
   "cell_type": "code",
   "execution_count": null,
   "id": "866e0b47",
   "metadata": {},
   "outputs": [],
   "source": [
    "convert_degc_to_kelvin(nino34_series)"
   ]
  },
  {
   "cell_type": "markdown",
   "id": "a3f5f5e6",
   "metadata": {},
   "source": [
    "If we include `.values`, it returns a `numpy array`"
   ]
  },
  {
   "cell_type": "markdown",
   "id": "d6b34d9e",
   "metadata": {},
   "source": [
    "<div class=\"admonition alert alert-warning\">\n",
    "    <p class=\"admonition-title\" style=\"font-weight:bold\">Warning</p>\n",
    "    We don't usually recommend converting to NumPy arrays unless you need to - once you convert to NumPy arrays, the helpful label information is lost... so beware! \n",
    "</div>"
   ]
  },
  {
   "cell_type": "code",
   "execution_count": null,
   "id": "60b32c76",
   "metadata": {},
   "outputs": [],
   "source": [
    "convert_degc_to_kelvin(nino34_series.values)"
   ]
  },
  {
   "cell_type": "markdown",
   "id": "95239138",
   "metadata": {},
   "source": [
    "We can now assign our pandas `Series` with the converted temperatures to a new column in our dataframe!"
   ]
  },
  {
   "cell_type": "code",
   "execution_count": null,
   "id": "70e5a814",
   "metadata": {},
   "outputs": [],
   "source": [
    "df['Nino34_degK'] = convert_degc_to_kelvin(nino34_series)"
   ]
  },
  {
   "cell_type": "code",
   "execution_count": null,
   "id": "efa312b6",
   "metadata": {},
   "outputs": [],
   "source": [
    "df.Nino34_degK"
   ]
  },
  {
   "cell_type": "markdown",
   "id": "afe6fb7b",
   "metadata": {},
   "source": [
    "Now that our analysis is done, we can save our data to a `csv` for later - or share with others!"
   ]
  },
  {
   "cell_type": "code",
   "execution_count": null,
   "id": "ba2fc814",
   "metadata": {},
   "outputs": [],
   "source": [
    "df.to_csv('nino_analyzed_output.csv')"
   ]
  },
  {
   "cell_type": "code",
   "execution_count": null,
   "id": "ab0583ba",
   "metadata": {},
   "outputs": [],
   "source": [
    "pd.read_csv('nino_analyzed_output.csv', index_col=0, parse_dates=True)"
   ]
  },
  {
   "cell_type": "markdown",
   "id": "e3aa3366",
   "metadata": {},
   "source": [
    "---\n",
    "## Summary\n",
    "* Pandas is a very powerful tool for working with tabular (i.e. spreadsheet-style) data\n",
    "* There are multiple ways of subsetting your pandas dataframe or series\n",
    "* Pandas allows you to refer to subsets of data by label, which generally makes code more readable and more robust\n",
    "* Pandas can be helpful for exploratory data analysis, including plotting and basic statistics\n",
    "* One can apply calculations to pandas dataframes and save the output via `csv` files\n",
    "\n",
    "### What's Next?\n",
    "In the next notebook, we will look more into using pandas for more in-depth data analysis.\n",
    "\n",
    "## Resources and References\n",
    "1. [NOAA NCDC ENSO Dataset Used in this Example](https://www.ncdc.noaa.gov/teleconnections/enso/indicators/sst/)\n",
    "1. [Getting Started with Pandas](https://pandas.pydata.org/docs/getting_started/index.html#getting-started)\n",
    "1. [Pandas User Guide](https://pandas.pydata.org/docs/user_guide/index.html#user-guide)"
   ]
  },
  {
   "cell_type": "code",
   "execution_count": null,
   "id": "d90555e6",
   "metadata": {},
   "outputs": [],
   "source": []
  }
 ],
 "metadata": {
  "jupytext": {
   "text_representation": {
    "extension": ".md",
    "format_name": "myst",
    "format_version": 0.13,
    "jupytext_version": "1.14.5"
   }
  },
  "kernelspec": {
   "display_name": "Python 3 (ipykernel)",
   "language": "python",
   "name": "python3"
  },
  "source_map": [
   12,
   22,
   38,
   42,
   46,
   50,
   53,
   64,
   71,
   73,
   77,
   79,
   83,
   85,
   89,
   91,
   95,
   97,
   101,
   107,
   109,
   113,
   115,
   125,
   127,
   132,
   134,
   144,
   150,
   154,
   158,
   160,
   164,
   166,
   170,
   172,
   179,
   183,
   185,
   189,
   196,
   200,
   202,
   208,
   212,
   216,
   220,
   222,
   228,
   232,
   239,
   243,
   245,
   249,
   253,
   257,
   261,
   263,
   267,
   269,
   276,
   280,
   284,
   288,
   292,
   294,
   298,
   303,
   310,
   317,
   321,
   323,
   328,
   330,
   336,
   338,
   342,
   344,
   348,
   353,
   361,
   369,
   371,
   375,
   377,
   381,
   383,
   391,
   394,
   398,
   400,
   404,
   406,
   410,
   414,
   416,
   420,
   422,
   426,
   428,
   433,
   437,
   439,
   445,
   452,
   456,
   459,
   463,
   465,
   469,
   471,
   475,
   477,
   481,
   483,
   487,
   494,
   496,
   500,
   504,
   506,
   510,
   514,
   516,
   534
  ]
 },
 "nbformat": 4,
 "nbformat_minor": 5
}