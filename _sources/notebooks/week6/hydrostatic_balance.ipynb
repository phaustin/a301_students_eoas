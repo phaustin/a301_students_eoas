{
 "cells": [
  {
   "cell_type": "markdown",
   "id": "b8fa5542",
   "metadata": {},
   "source": [
    "(week6:scale_heights)=\n",
    "# Scale heights for typical atmospheric soundings"
   ]
  },
  {
   "cell_type": "markdown",
   "id": "c297224b",
   "metadata": {},
   "source": [
    "## Plot McClatchey's US Standard Atmospheres\n",
    "\n",
    "There are five different average profiles for the tropics, subarctic summer, subarctic winter, midlatitude summer, midlatitude winter.  These are called the US Standard Atmospheres.  This notebook shows how to read and plot the soundings, and calculate the pressure and density scale heights."
   ]
  },
  {
   "cell_type": "code",
   "execution_count": null,
   "id": "7baf6ba7",
   "metadata": {},
   "outputs": [],
   "source": [
    "from matplotlib import pyplot as plt\n",
    "import matplotlib.ticker as ticks\n",
    "import numpy as np\n",
    "import a301_lib\n",
    "from pathlib import Path\n",
    "import pandas as pd\n",
    "import pprint"
   ]
  },
  {
   "cell_type": "code",
   "execution_count": null,
   "id": "1cca10ba",
   "metadata": {},
   "outputs": [],
   "source": [
    "soundings_folder=  Path('./soundings')\n",
    "sounding_files = list(soundings_folder.glob(\"*csv\"))\n",
    "print(sounding_files)"
   ]
  },
  {
   "cell_type": "markdown",
   "id": "aa98c392",
   "metadata": {},
   "source": [
    "### Reading the soundings files into pandas\n",
    "\n",
    "There are five soundings.\n",
    "The soundings have six columns and 33 rows (i.e. 33 height levels).  The variables are\n",
    " z, press, temp, rmix, den, o3den -- where rmix is the mixing ratio of water vapor, den is the dry air density and o3den is the ozone density.  The units are \n",
    " m, pa, K, kg/kg, kg/m^3, kg/m^3\n",
    " \n",
    " I will read the 6 column soundings into a [pandas (panel data) DataFrame](http://pandas.pydata.org/pandas-docs/stable/dsintro.html), which is like a matrix except the columns can be accessed by column name in addition to column number.  The main advantage for us is that it's easier to keep track of which variables we're plotting"
   ]
  },
  {
   "cell_type": "code",
   "execution_count": null,
   "id": "beb54900",
   "metadata": {},
   "outputs": [],
   "source": [
    "name_dict=dict()\n",
    "sound_dict=dict()\n",
    "for item in sounding_files:\n",
    "    name_dict[item.stem]=item\n",
    "pprint.pprint(name_dict)\n",
    "\n",
    "for item in sounding_files:\n",
    "    sound_dict[item.stem]=pd.read_csv(item)"
   ]
  },
  {
   "cell_type": "markdown",
   "id": "9bcfff74",
   "metadata": {},
   "source": [
    "### Use pd.DataFrame.head to see first 5 lines"
   ]
  },
  {
   "cell_type": "code",
   "execution_count": null,
   "id": "b630ff63",
   "metadata": {},
   "outputs": [],
   "source": [
    "for key,value in sound_dict.items():\n",
    "    print(f\"sounding: {key}\\n{sound_dict[key].head()}\")"
   ]
  },
  {
   "cell_type": "markdown",
   "id": "439b153d",
   "metadata": {},
   "source": [
    "We use these keys to get a dataframe with 6 columns, and 33 levels.  Here's an example for the midsummer sounding"
   ]
  },
  {
   "cell_type": "code",
   "execution_count": null,
   "id": "473ea967",
   "metadata": {},
   "outputs": [],
   "source": [
    "midsummer=sound_dict['midsummer']\n",
    "print(midsummer.head())\n",
    "list(midsummer.columns)"
   ]
  },
  {
   "cell_type": "markdown",
   "id": "6c9207c6",
   "metadata": {},
   "source": [
    "### Plot  temp and vapor mixing ratio rmix ($\\rho_{H2O}/\\rho_{air}$)"
   ]
  },
  {
   "cell_type": "code",
   "execution_count": null,
   "id": "481ca9c6",
   "metadata": {},
   "outputs": [],
   "source": [
    "plt.style.use('ggplot')\n",
    "meters2km=1.e-3\n",
    "plt.close('all')\n",
    "fig,(ax1,ax2)=plt.subplots(1,2,figsize=(11,8))\n",
    "for a_name,df in sound_dict.items():\n",
    "    ax1.plot(df['temp'],df['z']*meters2km,label=a_name)\n",
    "    ax1.set(ylim=(0,40),title='Temp soundings',ylabel='Height (km)',\n",
    "       xlabel='Temperature (K)')\n",
    "\n",
    "    ax2.plot(df['rmix']*1.e3,df['z']*meters2km,label=a_name)\n",
    "    ax2.set(ylim=(0,8),title='Vapor soundings',ylabel='Height (km)',\n",
    "       xlabel='vapor mixing ratio (g/kg)')\n",
    "ax1.legend();"
   ]
  },
  {
   "cell_type": "markdown",
   "id": "2a01f1e4",
   "metadata": {},
   "source": [
    "## Calculating scale heights for temperature and air density"
   ]
  },
  {
   "cell_type": "markdown",
   "id": "7e843eb1",
   "metadata": {},
   "source": [
    "Here is equation 1 of the {ref}`hydro` notebook:"
   ]
  },
  {
   "cell_type": "markdown",
   "id": "0b521d5e",
   "metadata": {},
   "source": [
    "$$\\frac{ 1}{\\overline{H_p}} =  \\overline{ \\left ( \\frac{1 }{H} \\right )} = \\frac{\\int_{0 }^{z}\\!\\frac{1}{H} dz^\\prime  }{z-0} $$\n",
    "\n",
    "where\n",
    "\n",
    "$$H=R_d T/g$$"
   ]
  },
  {
   "cell_type": "markdown",
   "id": "fa5b34fb",
   "metadata": {},
   "source": [
    "and here is the Python code to do that integral:"
   ]
  },
  {
   "cell_type": "code",
   "execution_count": null,
   "id": "3bc2b4e1",
   "metadata": {},
   "outputs": [],
   "source": [
    "g=9.8  #don't worry about g(z) for this exercise\n",
    "Rd=287.  #kg/m^3\n",
    "def calcScaleHeight(T,p,z):\n",
    "    \"\"\"\n",
    "    Calculate the pressure scale height H_p\n",
    "    \n",
    "    Parameters\n",
    "    ----------\n",
    "    \n",
    "    T: vector (float)\n",
    "      temperature (K)\n",
    "      \n",
    "    p: vector (float) of len(T)\n",
    "      pressure (pa)\n",
    "      \n",
    "    z: vector (float) of len(T\n",
    "      height (m)\n",
    "      \n",
    "    Returns\n",
    "    -------\n",
    "    \n",
    "    Hbar: vector (float) of len(T)\n",
    "      pressure scale height (m)\n",
    "    \n",
    "    \"\"\"\n",
    "    dz=np.diff(z)\n",
    "    TLayer=(T[1:] + T[0:-1])/2.\n",
    "    oneOverH=g/(Rd*TLayer)\n",
    "    Zthick=z[-1] - z[0]\n",
    "    oneOverHbar=np.sum(oneOverH*dz)/Zthick\n",
    "    Hbar = 1/oneOverHbar\n",
    "    return Hbar"
   ]
  },
  {
   "cell_type": "markdown",
   "id": "c0ebf276",
   "metadata": {},
   "source": [
    "Similarly, equation (5) of the {ref}`hydro` notes\n",
    "is:\n",
    "\n",
    "$$\\frac{d\\rho }{\\rho} = - \\left ( \\frac{1 }{H} + \n",
    "                   \\frac{1 }{T} \\frac{dT }{dz} \\right ) dz \\equiv - \\frac{dz }{H_\\rho} $$\n",
    "                   \n",
    "Which leads to \n",
    "\n",
    "$$\\frac{ 1}{\\overline{H_\\rho}}  = \\frac{\\int_{0 }^{z}\\!\\left [ \\frac{1}{H} + \\frac{1 }{T} \\frac{dT }{dz} \\right ] dz^\\prime  }{z-0} $$\n",
    "\n",
    "and the following python function:"
   ]
  },
  {
   "cell_type": "code",
   "execution_count": null,
   "id": "53a2c416",
   "metadata": {},
   "outputs": [],
   "source": [
    "def calcDensHeight(T,p,z):\n",
    "    \"\"\"\n",
    "    Calculate the density scale height H_rho\n",
    "    \n",
    "    Parameters\n",
    "    ----------\n",
    "    \n",
    "    T: vector (float)\n",
    "      temperature (K)\n",
    "      \n",
    "    p: vector (float) of len(T)\n",
    "      pressure (pa)\n",
    "      \n",
    "    z: vector (float) of len(T\n",
    "      height (m)\n",
    "      \n",
    "    Returns\n",
    "    -------\n",
    "    \n",
    "    Hbar: vector (float) of len(T)\n",
    "      density scale height (m)\n",
    "    \"\"\"\n",
    "    dz=np.diff(z)\n",
    "    TLayer=(T[1:] + T[0:-1])/2.\n",
    "    dTdz=np.diff(T)/np.diff(z)\n",
    "    oneOverH=g/(Rd*TLayer) + (1/TLayer*dTdz)\n",
    "    Zthick=z[-1] - z[0]\n",
    "    oneOverHbar=np.sum(oneOverH*dz)/Zthick\n",
    "    Hbar = 1/oneOverHbar\n",
    "    return Hbar"
   ]
  },
  {
   "cell_type": "markdown",
   "id": "f69b72d8",
   "metadata": {},
   "source": [
    "### How do $\\overline{H_p}$ and $\\overline{H_\\rho}$ compare for the tropical sounding?"
   ]
  },
  {
   "cell_type": "code",
   "execution_count": null,
   "id": "d8ba6e73",
   "metadata": {},
   "outputs": [],
   "source": [
    "sounding='tropics'\n",
    "#\n",
    "# grab the dataframe and get the sounding columns\n",
    "#\n",
    "df=sound_dict[sounding]\n",
    "z=df['z'].values\n",
    "Temp=df['temp'].values\n",
    "press=df['press'].values"
   ]
  },
  {
   "cell_type": "code",
   "execution_count": null,
   "id": "8baec94d",
   "metadata": {},
   "outputs": [],
   "source": [
    "#\n",
    "# limit calculation to bottom 10 km\n",
    "#\n",
    "hit=z<10000.\n",
    "zL,pressL,TempL=(z[hit],press[hit],Temp[hit])\n",
    "rhoL=pressL/(Rd*TempL)\n",
    "Hbar= calcScaleHeight(TempL,pressL,zL)\n",
    "Hrho= calcDensHeight(TempL,pressL,zL)\n",
    "print(\"pressure scale height for the {} sounding is {:5.2f} km\".format(sounding,Hbar*1.e-3))\n",
    "print(\"density scale height for the {} is {:5.2f} km\".format(sounding,Hrho*1.e-3))"
   ]
  },
  {
   "cell_type": "markdown",
   "id": "c0aafeac",
   "metadata": {},
   "source": [
    "### How well do these average values represent the pressure and density profiles?"
   ]
  },
  {
   "cell_type": "code",
   "execution_count": null,
   "id": "f1a0f15b",
   "metadata": {},
   "outputs": [],
   "source": [
    "theFig,theAx=plt.subplots(1,1)\n",
    "theAx.semilogy(Temp,press/100.)\n",
    "#\n",
    "# need to flip the y axis since pressure decreases with height\n",
    "#\n",
    "theAx.invert_yaxis()\n",
    "tickvals=[1000,800, 600, 400, 200, 100, 50,1]\n",
    "theAx.set_yticks(tickvals)\n",
    "majorFormatter = ticks.FormatStrFormatter('%d')\n",
    "theAx.yaxis.set_major_formatter(majorFormatter)\n",
    "theAx.set_yticklabels(tickvals)\n",
    "theAx.set_ylim([1000.,50.])\n",
    "theAx.set_title('{} temperature profile'.format(sounding))\n",
    "theAx.set_xlabel('Temperature (K)')\n",
    "theAx.set_ylabel('pressure (hPa)');"
   ]
  },
  {
   "cell_type": "markdown",
   "id": "f7ce3825",
   "metadata": {},
   "source": [
    "Now check the hydrostatic approximation by plotting the pressure column against\n",
    "\n",
    "$$p(z) = p_0 \\exp \\left (-z/\\overline{H_p} \\right )$$\n",
    "\n",
    "vs. the actual sounding p(T):"
   ]
  },
  {
   "cell_type": "code",
   "execution_count": null,
   "id": "9e007166",
   "metadata": {},
   "outputs": [],
   "source": [
    "fig,theAx=plt.subplots(1,1)\n",
    "hydroPress=pressL[0]*np.exp(-zL/Hbar)\n",
    "theAx.plot(pressL/100.,zL/1000.,label='sounding')\n",
    "theAx.plot(hydroPress/100.,zL/1000.,label='hydrostat approx')\n",
    "theAx.set_title('height vs. pressure for tropics')\n",
    "theAx.set_xlabel('pressure (hPa)')\n",
    "theAx.set_ylabel('height (km)')\n",
    "theAx.set_xlim([500,1000])\n",
    "theAx.set_ylim([0,5])\n",
    "tickVals=[500, 600, 700, 800, 900, 1000]\n",
    "theAx.set_xticks(tickVals)\n",
    "theAx.set_xticklabels(tickVals)\n",
    "theAx.legend(loc='best');"
   ]
  },
  {
   "cell_type": "markdown",
   "id": "f87d96d7",
   "metadata": {},
   "source": [
    "Again plot the hydrostatic approximation\n",
    "\n",
    "$$\\rho(z) = \\rho_0 \\exp \\left (-z/\\overline{H_\\rho} \\right )$$\n",
    "\n",
    "vs. the actual sounding $\\rho(z)$:"
   ]
  },
  {
   "cell_type": "code",
   "execution_count": null,
   "id": "635784e4",
   "metadata": {},
   "outputs": [],
   "source": [
    "fig,theAx=plt.subplots(1,1)\n",
    "hydroDens=rhoL[0]*np.exp(-zL/Hrho)\n",
    "theAx.plot(rhoL,zL/1000.,label='sounding')\n",
    "theAx.plot(hydroDens,zL/1000.,label='hydrostat approx')\n",
    "theAx.set_title('height vs. density for the tropics')\n",
    "theAx.set_xlabel('density ($kg\\,m^{-3}$)')\n",
    "theAx.set_ylabel('height (km)')\n",
    "theAx.set_ylim([0,5])\n",
    "theAx.legend(loc='best');"
   ]
  },
  {
   "cell_type": "markdown",
   "id": "a1eaf138",
   "metadata": {},
   "source": [
    "<a name=\"oct7assign\"></a>\n",
    "\n",
    "## Assignment4 -- (preview)\n",
    "\n",
    "Add cells to this notebook to:\n",
    "\n",
    "1\\.  Print out the density and pressure scale heights for each of the five soundings\n",
    "\n",
    "2\\.  Define a function that takes a sounding dataframe and returns the \"total precipitable water\", which is defined as:\n",
    "\n",
    "$$W = \\int_0^{z_{top}} \\rho_v dz $$\n",
    "\n",
    "Do a change of units to convert $kg\\,m^{-2}$ to $cm\\,m^{-2}$ using the density of liquid water (1000 $kg\\,m^{-3}$) -- that is, turn the kg of water in the 1 square meter column into cubic meters and turn that into $cm/m^{-2}$\n",
    "\n",
    "3\\.  Use your function to print out W for all five soundings"
   ]
  }
 ],
 "metadata": {
  "jupytext": {
   "text_representation": {
    "extension": ".md",
    "format_name": "myst",
    "format_version": 0.13,
    "jupytext_version": "1.14.4"
   }
  },
  "kernelspec": {
   "display_name": "Python 3 (ipykernel)",
   "language": "python",
   "name": "python3"
  },
  "source_map": [
   12,
   17,
   23,
   33,
   37,
   48,
   57,
   61,
   64,
   69,
   73,
   77,
   91,
   95,
   99,
   107,
   111,
   144,
   158,
   189,
   193,
   204,
   215,
   219,
   235,
   243,
   257,
   265,
   275
  ]
 },
 "nbformat": 4,
 "nbformat_minor": 5
}