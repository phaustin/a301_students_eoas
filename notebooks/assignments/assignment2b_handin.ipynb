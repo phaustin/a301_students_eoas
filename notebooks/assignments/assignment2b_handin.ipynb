{
 "cells": [
  {
   "cell_type": "markdown",
   "id": "ff916bb3",
   "metadata": {},
   "source": [
    "(week4:coords)=\n",
    "# Drawing your satellite swath\n",
    "\n",
    "Adapt the code in the week4/cartopy_mapping_vancouver.md notebook to show the boundary of your Modis\n",
    "swath on a Lambert Azimuthal Equal Area map.\n",
    "\n"
   ]
  },
  {
   "cell_type": "markdown",
   "id": "78ff80b5",
   "metadata": {},
   "source": [
    "## Edit this cell to fetch your granual"
   ]
  },
  {
   "cell_type": "code",
   "execution_count": null,
   "id": "8ec87aee",
   "metadata": {},
   "outputs": [],
   "source": [
    "import a301_lib\n",
    "import warnings\n",
    "warnings.filterwarnings('ignore')\n",
    "hdf4_dir = a301_lib.sat_data / \"pha\"\n",
    "granules = list(hdf4_dir.glob(\"MYD02*2105*hdf\"))\n",
    "print(granules[0])"
   ]
  },
  {
   "cell_type": "code",
   "execution_count": null,
   "id": "c465741c",
   "metadata": {},
   "outputs": [],
   "source": [
    "from sat_lib.modismeta_read import parseMeta\n",
    "granules =list(hdf4_dir.glob(\"MYD02*2105*hdf\"))\n",
    "print(granules[0].is_file())\n",
    "meta_dict = parseMeta(granules[0])\n",
    "meta_dict"
   ]
  },
  {
   "cell_type": "markdown",
   "id": "4af1603c",
   "metadata": {},
   "source": [
    "*  What's in the file?"
   ]
  },
  {
   "cell_type": "markdown",
   "id": "7f382be6",
   "metadata": {},
   "source": [
    "**This cell sets up the datum and the LAEA projection, with the tangent point at the center of your swath**"
   ]
  },
  {
   "cell_type": "code",
   "execution_count": null,
   "id": "d2cc63bc",
   "metadata": {},
   "outputs": [],
   "source": [
    "import cartopy.crs as ccrs\n",
    "import matplotlib.pyplot as plt\n",
    "import cartopy\n",
    "import numpy as np\n",
    "#\n",
    "# Datum: radius of the earth in meters\n",
    "#\n",
    "radius = 6_371_228\n",
    "\n",
    "#\n",
    "# vancouver longitude, latitude indegrees\n",
    "#\n",
    "van_lon, van_lat = [-123.1207, 49.2827]\n",
    "#\n",
    "# use a simple sphere as the datum\n",
    "#\n",
    "globe = ccrs.Globe(ellipse=None, semimajor_axis=radius, semiminor_axis=radius)\n",
    "geodetic = ccrs.Geodetic()\n",
    "#\n",
    "# set up\n",
    "#\n",
    "projection = ccrs.LambertAzimuthalEqualArea(\n",
    "    central_latitude=meta_dict['lat_0'], central_longitude=meta_dict['lon_0'], globe=globe\n",
    ")\n",
    "print(f\"pro4 program params: {projection.proj4_params}\")"
   ]
  },
  {
   "cell_type": "markdown",
   "id": "c05eec2b",
   "metadata": {},
   "source": [
    "## Problem 1a -- project your `lon_list` and `lat_list` corners\n",
    "\n",
    "In the cell below, get two new lists -- a list of x coordinates and a list of y coordinates\n",
    "that contain the projected coordinates of your swath corners from `meta_dict['lon_list']`\n",
    "and `meta_dict['lat_list']`\n",
    "\n",
    "I used a loop and projection.transform_point to transform from geodetic to the projection coordinates."
   ]
  },
  {
   "cell_type": "code",
   "execution_count": null,
   "id": "b5312080-e964-4420-b6df-bc601b58e7ab",
   "metadata": {
    "deletable": false,
    "nbgrader": {
     "cell_type": "code",
     "checksum": "3bbfe139cf1218e9f1586d8bd11c71e8",
     "grade": true,
     "grade_id": "cell-e33700dda7266e50",
     "locked": false,
     "points": 2,
     "schema_version": 3,
     "solution": true,
     "task": false
    }
   },
   "outputs": [],
   "source": [
    "# YOUR CODE HERE\n",
    "raise NotImplementedError()"
   ]
  },
  {
   "cell_type": "markdown",
   "id": "944f2ef5",
   "metadata": {},
   "source": [
    "### Problem 1b -- find your ll_x, ll_y, ur_x and ur_y\n",
    "\n",
    "Find the lower left and upper right corners of your extent by finding the maximum and minimum y values.\n",
    "Save these in the variables ll_x, ll_y, ur_x, ur_y"
   ]
  },
  {
   "cell_type": "code",
   "execution_count": null,
   "id": "fd358bc4-3471-44ed-9b9a-c63a96093ee6",
   "metadata": {
    "deletable": false,
    "nbgrader": {
     "cell_type": "code",
     "checksum": "aecd26fe0c73025c45a522904bf76cb3",
     "grade": true,
     "grade_id": "cell-9b7fdb2acda2f474",
     "locked": false,
     "points": 1,
     "schema_version": 3,
     "solution": true,
     "task": false
    }
   },
   "outputs": [],
   "source": [
    "# YOUR CODE HERE\n",
    "raise NotImplementedError()"
   ]
  },
  {
   "cell_type": "markdown",
   "id": "a4b7ff87",
   "metadata": {},
   "source": [
    "## Problem 2 -- make the map\n",
    "\n",
    "Following the cartopy plotting examples, set your map extent in the projected coordinates\n",
    "with `ax.set_extent` and make a map showing your swath outline as a red rectangle"
   ]
  },
  {
   "cell_type": "code",
   "execution_count": null,
   "id": "a33580fa",
   "metadata": {
    "deletable": false,
    "nbgrader": {
     "cell_type": "code",
     "checksum": "b983dfb057b61d3b7aa47cf5b5212a7b",
     "grade": true,
     "grade_id": "cell-84941f707ad5283f",
     "locked": false,
     "points": 3,
     "schema_version": 3,
     "solution": true,
     "task": false
    }
   },
   "outputs": [],
   "source": [
    "# YOUR CODE HERE\n",
    "raise NotImplementedError()"
   ]
  }
 ],
 "metadata": {
  "jupytext": {
   "cell_metadata_filter": "all",
   "notebook_metadata_filter": "all,-language_info,-toc,-latex_envs"
  },
  "kernelspec": {
   "display_name": "Python 3 (ipykernel)",
   "language": "python",
   "name": "python3"
  },
  "language_info": {
   "codemirror_mode": {
    "name": "ipython",
    "version": 3
   },
   "file_extension": ".py",
   "mimetype": "text/x-python",
   "name": "python",
   "nbconvert_exporter": "python",
   "pygments_lexer": "ipython3",
   "version": "3.11.0"
  }
 },
 "nbformat": 4,
 "nbformat_minor": 5
}
