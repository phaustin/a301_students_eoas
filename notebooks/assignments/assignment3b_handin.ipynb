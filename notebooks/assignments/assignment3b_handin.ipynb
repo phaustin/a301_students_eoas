{
 "cells": [
  {
   "cell_type": "code",
   "execution_count": null,
   "id": "3069e3fe",
   "metadata": {},
   "outputs": [],
   "source": [
    "import json\n",
    "from pathlib import Path\n",
    "import pprint\n",
    "pp = pprint.PrettyPrinter(indent=4)\n",
    "import warnings\n",
    "warnings.filterwarnings('ignore')\n",
    "import json\n",
    "\n",
    "\n",
    "import matplotlib.pyplot as plt\n",
    "import numpy as np\n",
    "import a301_lib\n",
    "from pyresample import kd_tree, SwathDefinition\n",
    "\n",
    "import sat_lib\n",
    "from sat_lib.modischan_read import readband_lw, read_plainvar\n",
    "from sat_lib import modischan_dict\n",
    "from rad_lib.radiation import radiance_invert\n",
    "\n",
    "from sat_lib.mapping import area_def_from_dict"
   ]
  },
  {
   "cell_type": "markdown",
   "id": "bab0483e",
   "metadata": {},
   "source": [
    "(assign3b)=\n",
    "# Assignment 3b -- Due Wednesday, Feb. 22 midnight\n",
    "\n",
    "(This notebook will be replaced by the official handin notebook on Tuesday)\n",
    "\n",
    "1) In the cells below, get channel 32 and resample to the same area_def as channel 31\n",
    "2) Get the brightness temperature for both of the resampled images and the brightness tempereature difference \n",
    "   for ch32 - ch31\n",
    "3) Read in the wv_ir image you get by running the wv_resample notebook, and make a scatter plot of\n",
    "   ch32 - ch31 brightness temperature (in K) on the y axis and the column water vapor in cm on the x axis.  Note that\n",
    "   you will need to mask the brightness temperature pixels so that only pixels which also have column water vapor are\n",
    "   plotted\n",
    "4) comment on the correlation you see, if any"
   ]
  },
  {
   "cell_type": "markdown",
   "id": "5079f9be",
   "metadata": {},
   "source": [
    "## Read in the channel 31 and 32 radiances and the 1 km MYD03 lons/lats"
   ]
  },
  {
   "cell_type": "code",
   "execution_count": null,
   "id": "3bde88ab",
   "metadata": {
    "deletable": false,
    "nbgrader": {
     "cell_type": "code",
     "checksum": "b48ca64bed3db6e588ce7da422c98a45",
     "grade": true,
     "grade_id": "cell-72f81cf1d97e3cf1",
     "locked": false,
     "points": 0,
     "schema_version": 3,
     "solution": true,
     "task": false
    }
   },
   "outputs": [],
   "source": [
    "# YOUR CODE HERE\n",
    "raise NotImplementedError()"
   ]
  },
  {
   "cell_type": "markdown",
   "id": "4e7006a1",
   "metadata": {},
   "source": [
    "## Read in the `wv_image` raster you stored in `wv_5km_resampled.npz`\n",
    "\n",
    "- this is the file you created in week5/wv_resample.md"
   ]
  },
  {
   "cell_type": "code",
   "execution_count": null,
   "id": "c00fbfac",
   "metadata": {
    "deletable": false,
    "nbgrader": {
     "cell_type": "code",
     "checksum": "013a55ffe70671bd85e83ea044fba572",
     "grade": true,
     "grade_id": "cell-1e0c4a33927abff3",
     "locked": false,
     "points": 0,
     "schema_version": 3,
     "solution": true,
     "task": false
    }
   },
   "outputs": [],
   "source": [
    "# YOUR CODE HERE\n",
    "raise NotImplementedError()"
   ]
  },
  {
   "cell_type": "markdown",
   "id": "ea57130c",
   "metadata": {},
   "source": [
    "## Recreate the area_def saved in your area_def json file \n",
    "\n",
    "- use `area_dict.json` for the 5km resample you created in\n",
    "   week5/wv_resample.md and used in week5/longwave_resample.md"
   ]
  },
  {
   "cell_type": "code",
   "execution_count": null,
   "id": "d74d5631",
   "metadata": {
    "deletable": false,
    "nbgrader": {
     "cell_type": "code",
     "checksum": "668396b3b28031fb9d293c8056c28356",
     "grade": true,
     "grade_id": "cell-4153b9a1ac404277",
     "locked": false,
     "points": 0,
     "schema_version": 3,
     "solution": true,
     "task": false
    }
   },
   "outputs": [],
   "source": [
    "# YOUR CODE HERE\n",
    "raise NotImplementedError()"
   ]
  },
  {
   "cell_type": "markdown",
   "id": "130fe2c6",
   "metadata": {},
   "source": [
    "## Get the swat_def from the 1 km lons/lats"
   ]
  },
  {
   "cell_type": "code",
   "execution_count": null,
   "id": "6fdbc2c0",
   "metadata": {
    "deletable": false,
    "nbgrader": {
     "cell_type": "code",
     "checksum": "32b13f1093aee27c8962e48be1db862e",
     "grade": true,
     "grade_id": "cell-7a13e107bd1d4c0d",
     "locked": false,
     "points": 1,
     "schema_version": 3,
     "solution": true,
     "task": false
    }
   },
   "outputs": [],
   "source": [
    "1 point\n",
    "# YOUR CODE HERE\n",
    "raise NotImplementedError()"
   ]
  },
  {
   "cell_type": "markdown",
   "id": "8e50f73c",
   "metadata": {},
   "source": [
    "## Read in channel 31 and 32 resample using your `area_def` and `swath_def`\n",
    "\n",
    "* As in in the wv_resample notebook, use a fill_value of -9999. and replace those\n",
    "  missing values with np.nan"
   ]
  },
  {
   "cell_type": "code",
   "execution_count": null,
   "id": "0459f136",
   "metadata": {
    "deletable": false,
    "nbgrader": {
     "cell_type": "code",
     "checksum": "208dae603d396c52f90094c4148ec941",
     "grade": true,
     "grade_id": "cell-5fa681cc360d1db2",
     "locked": false,
     "points": 3,
     "schema_version": 3,
     "solution": true,
     "task": false
    }
   },
   "outputs": [],
   "source": [
    "3 points\n",
    "# YOUR CODE HERE\n",
    "raise NotImplementedError()"
   ]
  },
  {
   "cell_type": "markdown",
   "id": "13e37c40",
   "metadata": {},
   "source": [
    "## Convert the resampled ch31 and ch32 rasters to brightness temperature\n",
    "\n",
    "- Remember that we have channel wavelenghts in `sat_lib.modischan_dict`\n",
    "- I used [radiance_invert](https://phaustin.github.io/a301_web/full_listing.html#rad_lib.radiation.radiance_invert) here"
   ]
  },
  {
   "cell_type": "code",
   "execution_count": null,
   "id": "2390405c",
   "metadata": {
    "deletable": false,
    "nbgrader": {
     "cell_type": "code",
     "checksum": "7f7d33f5f86eab1f3cd963df4d10848e",
     "grade": true,
     "grade_id": "cell-e546d59afe09e896",
     "locked": false,
     "points": 3,
     "schema_version": 3,
     "solution": true,
     "task": false
    }
   },
   "outputs": [],
   "source": [
    "3 points\n",
    "# YOUR CODE HERE\n",
    "raise NotImplementedError()"
   ]
  },
  {
   "cell_type": "markdown",
   "id": "bc42622c",
   "metadata": {},
   "source": [
    "## Plot separate histograms of your Tbright31 and Tbright32 resampled rasters"
   ]
  },
  {
   "cell_type": "code",
   "execution_count": null,
   "id": "b0d472c5",
   "metadata": {
    "deletable": false,
    "nbgrader": {
     "cell_type": "code",
     "checksum": "67c2c1b7c6e0fdea4d24ca51680e594b",
     "grade": true,
     "grade_id": "cell-935a517202ab269c",
     "locked": false,
     "points": 3,
     "schema_version": 3,
     "solution": true,
     "task": false
    }
   },
   "outputs": [],
   "source": [
    "3 points\n",
    "# YOUR CODE HERE\n",
    "raise NotImplementedError()"
   ]
  },
  {
   "cell_type": "markdown",
   "id": "2d4321ca",
   "metadata": {},
   "source": [
    "## make a scatterplot of (Tbright32 - Tbright31) vs. wv_image\n",
    "\n",
    "* Plot only those points which have a valid water vapor retrieval using\n",
    "a  mask like this:\n",
    "\n",
    "    hit = wv_image > 0\n",
    "    wv_image[hit], Tbright31_raster[hit], Tbright32_raster[hit]\n",
    "    \n",
    "* Put the MYD05 IR water vapor on x axis and the Tbright32 - Tbright31 brightness temperature\n",
    "  difference on the y axis\n",
    "  \n",
    "* Include a title and x and y axis labels with units"
   ]
  },
  {
   "cell_type": "code",
   "execution_count": null,
   "id": "c924371c",
   "metadata": {
    "deletable": false,
    "nbgrader": {
     "cell_type": "code",
     "checksum": "eb26166b3eb8b08f1084bdfcd2c5de79",
     "grade": true,
     "grade_id": "cell-de6c7c54956ad71c",
     "locked": false,
     "points": 3,
     "schema_version": 3,
     "solution": true,
     "task": false
    }
   },
   "outputs": [],
   "source": [
    "3 points\n",
    "# YOUR CODE HERE\n",
    "raise NotImplementedError()\n",
    "                "
   ]
  },
  {
   "cell_type": "markdown",
   "id": "c4019933",
   "metadata": {
    "deletable": false,
    "editable": false,
    "nbgrader": {
     "cell_type": "markdown",
     "checksum": "2aca1b852c92ef3b9a147a858318aff3",
     "grade": false,
     "grade_id": "cell-cdafe0dcc98fb2b6",
     "locked": true,
     "schema_version": 3,
     "solution": false,
     "task": false
    }
   },
   "source": [
    "##  Comment on any correlation you see\n",
    "\n",
    "Answer in the cell below (convert to markdown instead of python)\n",
    "If you find a correlation, how does it compare with what you would expect for the dirty window?"
   ]
  },
  {
   "cell_type": "code",
   "execution_count": null,
   "id": "4bef8c35",
   "metadata": {
    "deletable": false,
    "nbgrader": {
     "cell_type": "code",
     "checksum": "7bea80f8c3253533d6fc72e2970b020e",
     "grade": true,
     "grade_id": "cell-2fa687be02a858c6",
     "locked": false,
     "points": 3,
     "schema_version": 3,
     "solution": true,
     "task": false
    }
   },
   "outputs": [],
   "source": [
    "# YOUR CODE HERE\n",
    "raise NotImplementedError()"
   ]
  }
 ],
 "metadata": {
  "jupytext": {
   "cell_metadata_filter": "all",
   "notebook_metadata_filter": "all,-language_info,-toc,-latex_envs"
  },
  "kernelspec": {
   "display_name": "Python 3 (ipykernel)",
   "language": "python",
   "name": "python3"
  },
  "language_info": {
   "codemirror_mode": {
    "name": "ipython",
    "version": 3
   },
   "file_extension": ".py",
   "mimetype": "text/x-python",
   "name": "python",
   "nbconvert_exporter": "python",
   "pygments_lexer": "ipython3",
   "version": "3.11.0"
  },
  "toc-autonumbering": true
 },
 "nbformat": 4,
 "nbformat_minor": 5
}
